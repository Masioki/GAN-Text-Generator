{
  "nbformat": 4,
  "nbformat_minor": 0,
  "metadata": {
    "colab": {
      "name": "Text generator.ipynb",
      "provenance": [],
      "collapsed_sections": [],
      "include_colab_link": true
    },
    "kernelspec": {
      "display_name": "Python 3",
      "name": "python3"
    },
    "language_info": {
      "name": "python"
    },
    "accelerator": "GPU"
  },
  "cells": [
    {
      "cell_type": "markdown",
      "metadata": {
        "id": "view-in-github",
        "colab_type": "text"
      },
      "source": [
        "<a href=\"https://colab.research.google.com/github/Masioki/GAN-Text-Generator/blob/main/Text_generator.ipynb\" target=\"_parent\"><img src=\"https://colab.research.google.com/assets/colab-badge.svg\" alt=\"Open In Colab\"/></a>"
      ]
    },
    {
      "cell_type": "markdown",
      "metadata": {
        "id": "wkMuANZMTCy8"
      },
      "source": [
        "**GAN based random text generator**\n",
        "\n",
        "GAN is well known for it's non-discrete data generation abilities.<br>\n",
        "In this notebook I'll adapt and train GAN for text generation(based on [LaText GAN](https://arxiv.org/pdf/1810.06640.pdf)). "
      ]
    },
    {
      "cell_type": "markdown",
      "metadata": {
        "id": "fFVYyRiViSt3"
      },
      "source": [
        "First, let's create data loader with tokenizer."
      ]
    },
    {
      "cell_type": "code",
      "metadata": {
        "id": "HdrcxxmKIz_g"
      },
      "source": [
        "import re\n",
        "from tensorflow.keras.utils import to_categorical\n",
        "import numpy as np\n",
        "import pandas as pd\n",
        "from keras.preprocessing.sequence import pad_sequences\n",
        "from keras.preprocessing.text import Tokenizer\n",
        "\n",
        "\n",
        "class DataLoader:\n",
        "\n",
        "    def __init__(self, src_csv=\"\", src_column='', sentence_len=100, num_words=10000):\n",
        "        self.__src_csv = src_csv  # source csv file with test data\n",
        "        self.__src_column = src_column # column name in source file\n",
        "        self.__sentence_len = sentence_len  # max sentence length\n",
        "        self.__num_words = num_words  # number of most frequent words to keep\n",
        "        self.__tokenizer = None # tokenizer\n",
        "        self.sentences = []  # text data\n",
        "        self.sequences = np.array([])  # indexed data from tokenizer\n",
        "\n",
        "    def __load_file(self):\n",
        "        df = pd.read_csv(self.__src_csv, keep_default_na=False) \n",
        "        self.sentences = [re.sub(r\"<.*?>\", \" \", x) for x in df['review']]  # remove html tags\n",
        "        self.sentences = [s.replace('.', ' .') for s in self.sentences] # let's keep period\n",
        "        # rest of data cleaning is done by tokenizer\n",
        "\n",
        "    def __init_tokenizer(self):\n",
        "        # Tokenization\n",
        "        # splitted by space\n",
        "        # filters = default - period sign\n",
        "        # unknown word set to <OOV>\n",
        "        # lower case\n",
        "        # saves only __num_words most frequent words\n",
        "        self.tokenizer = Tokenizer(num_words=self.__num_words, lower=True, split=' ', oov_token='<OOV>', filters='!\"#$%&()*+,-/:;<=>?@[\\\\]^_`{|}~\\t\\n')\n",
        "        self.tokenizer.fit_on_texts(self.sentences) # fit on text data\n",
        "        \n",
        "    def __init_sequences(self):\n",
        "        if self.sequences.size < 1:\n",
        "            self.__load_file()\n",
        "            self.__init_tokenizer()\n",
        "            self.sequences = self.tokenizer.texts_to_sequences(self.sentences) # text to tokenizer indexes\n",
        "            self.sequences = pad_sequences(self.sequences, maxlen=self.__sentence_len, dtype='float32', padding='post') # padding \n",
        "            \n",
        "\n",
        "    def get(self):\n",
        "        self.__init_sequences()\n",
        "        return self.sequences"
      ],
      "execution_count": 10,
      "outputs": []
    },
    {
      "cell_type": "markdown",
      "metadata": {
        "id": "G3t0VXj-j99h"
      },
      "source": [
        "Define all parameters and paths."
      ]
    },
    {
      "cell_type": "code",
      "metadata": {
        "id": "adWjSLnSJPOA"
      },
      "source": [
        "SOURCE_FILE = \"drive/MyDrive/Colab Notebooks/IMDB Dataset.csv\" # test data file path (here IMDB reviews)\n",
        "AE_MODEL_PATH=\"drive/MyDrive/Colab Notebooks/AEmodel_lstm_4500_cce_dd\" # autoencoder path\n",
        "PLOT_PATH=\"drive/MyDrive/Colab Notebooks/plots/{}.png\" # plots path\n",
        "HISTORY_PATH=\"drive/MyDrive/Colab Notebooks/history/{}.csv\" # learning history path\n",
        "EMBEDDING_PATH=\"drive/MyDrive/Colab Notebooks/model.txt\" # path to prepared word embedding\n",
        "EMBEDDING_MATRIX_PATH=\"embedding_matrix.npy\" # path to embedding matrix\n",
        "\n",
        "MAX_WORD_NUM = 4500 # max number of most frequent words to save\n",
        "MAX_SEQUENCE_LEN = 20 # max sentence length\n",
        "ENCODED_VECTOR_LEN = 300 # enoded sentence length\n",
        "EMBEDDING_SIZE = 300 # embedding vector length"
      ],
      "execution_count": 11,
      "outputs": []
    },
    {
      "cell_type": "markdown",
      "metadata": {
        "id": "heLX0RZJki3b"
      },
      "source": [
        "Load our data."
      ]
    },
    {
      "cell_type": "code",
      "metadata": {
        "colab": {
          "base_uri": "https://localhost:8080/"
        },
        "id": "KG2O2g4-kgB9",
        "outputId": "a9a27612-be33-4dbd-9491-4b839cd9984e"
      },
      "source": [
        "dataLoader = DataLoader(SOURCE_FILE, sentence_len=MAX_SEQUENCE_LEN, num_words=MAX_WORD_NUM)\n",
        "data = dataLoader.get()\n",
        "\n",
        "np.random.seed(2137)\n",
        "np.random.shuffle(data) \n",
        "\n",
        "data.shape"
      ],
      "execution_count": 12,
      "outputs": [
        {
          "output_type": "execute_result",
          "data": {
            "text/plain": [
              "(50000, 20)"
            ]
          },
          "metadata": {},
          "execution_count": 12
        }
      ]
    },
    {
      "cell_type": "markdown",
      "metadata": {
        "id": "acNTOu_Wk0Qa"
      },
      "source": [
        "Now, we need to create embedding matrix (saved in EMBEDDING_MATRIX_PATH). To do this already trained word embedding model is necessary. Embedding matrix will keep vectors for words from vocabulary/tokenizer.\n",
        "\n",
        "\n",
        "\n",
        "Word embedding model is meant to represent complex relationships between words (i.e. 'female', 'girl', 'woman' - similar concept, but completly different spelling) by placing each word in some N dimensional space.\n",
        "\n",
        "Here I use 300 dimensional model only for english.\n"
      ]
    },
    {
      "cell_type": "code",
      "metadata": {
        "colab": {
          "base_uri": "https://localhost:8080/"
        },
        "id": "GqEig4XTY6dh",
        "outputId": "75e5b842-1e3e-4988-a26b-30c0bbc7aac4"
      },
      "source": [
        "# read word embedding model\n",
        "# each line consist of word and X normalized values\n",
        "embeddings_index = {}\n",
        "f = open(EMBEDDING_PATH, 'r')\n",
        "for line in f:\n",
        "    values = line.split()\n",
        "    word = values[0]\n",
        "    try:\n",
        "        coefs = np.asarray(values[1:], dtype='float32')\n",
        "    except ValueError:\n",
        "        continue\n",
        "    embeddings_index[word] = coefs\n",
        "f.close()\n",
        "\n",
        "# build embedding matrix\n",
        "num_words = min(MAX_WORD_NUM, len(dataLoader.tokenizer.word_index))\n",
        "embedding_matrix = np.zeros((num_words, EMBEDDING_SIZE))\n",
        "for word, i in dataLoader.tokenizer.word_index.items():\n",
        "    if i >= MAX_WORD_NUM:\n",
        "        continue\n",
        "    embedding_vector = embeddings_index.get(word)\n",
        "    if embedding_vector is not None:\n",
        "        embedding_matrix[i] = embedding_vector.astype('float32')   \n",
        "    else:\n",
        "        embedding_matrix[i] = np.random.normal(-0.25, 0.25, EMBEDDING_SIZE)\n",
        "\n",
        "np.save(EMBEDDING_MATRIX_PATH, embedding_matrix) # save matrix\n",
        "embedding_matrix.shape"
      ],
      "execution_count": 13,
      "outputs": [
        {
          "output_type": "execute_result",
          "data": {
            "text/plain": [
              "(4500, 300)"
            ]
          },
          "metadata": {},
          "execution_count": 13
        }
      ]
    },
    {
      "cell_type": "markdown",
      "metadata": {
        "id": "vkKBvcdnnw7W"
      },
      "source": [
        "In case of hardware limitations You might want to use this simple data generator.\n",
        "\n",
        "Autoencoder(explained below) produces data in one-hot encoding, that's why we need to convert y_train.\n",
        "\n",
        "Standard encoding:<br>\n",
        "[0, 3]\n",
        "\n",
        "one-hot:<br>\n",
        "[<br>\n",
        "     &ensp;  [1, 0, 0, 0],<br>\n",
        "    &ensp;     [0, 0, 0, 1]<br>\n",
        "]\n",
        "\n"
      ]
    },
    {
      "cell_type": "code",
      "metadata": {
        "id": "H7u80HMfOtz8"
      },
      "source": [
        "from tensorflow.keras.utils import Sequence\n",
        "from tensorflow.keras.utils import to_categorical\n",
        "\n",
        "# if you need to convert sequence to word embedding form\n",
        "embedding_matrix = np.load(EMBEDDING_MATRIX_PATH) \n",
        "def get_embedding(seq):\n",
        "    return np.array([embedding_matrix[int(w)] for w in seq])\n",
        "\n",
        "class Mygenerator(Sequence):\n",
        "    def __init__(self, data, batch_size):\n",
        "        self.data = data # in/out data\n",
        "        self.batch_size = batch_size\n",
        "    \n",
        "    def on_epoch_end(self): \n",
        "        # shuffling each epoch\n",
        "        np.random.shuffle(self.data) \n",
        "\n",
        "    def __len__(self):\n",
        "        return int(np.ceil(len(self.data) / float(self.batch_size))) # number of batches\n",
        "\n",
        "    def __getitem__(self, idx):\n",
        "        batch_x = self.data[idx * self.batch_size:(idx + 1) * self.batch_size] # batch\n",
        "        x = batch_x\n",
        "        y = np.array([to_categorical(seq, num_classes=MAX_WORD_NUM) for seq in batch_x]) # y data in one-hot\n",
        "        return x, y"
      ],
      "execution_count": 14,
      "outputs": []
    },
    {
      "cell_type": "markdown",
      "metadata": {
        "id": "H5wSmDjWsnbn"
      },
      "source": [
        "**AUTOENCODER**\n",
        "\n",
        "Autoencoder is a pair of two networks - encoder and decoder - connected with 'bottleneck'. Encoder is meant to represent each sequence in compressed form(i.e. 20 seq with 300D embedding requires 6000 values, this encoder will compress it to 300), while decoder decompresses it.\n",
        "\n",
        "This autoencoder takes whole sequence and outputs whole sequence at once!\n",
        "\n",
        "<br>\n",
        "Encoder: <br>\n",
        "&ensp; input - sequences of indexes from tokenizer<br>\n",
        "&ensp; output - compressed vector \n",
        "\n",
        "<br>\n",
        "Decoder: <br>\n",
        "&ensp; input - compressed vector<br>\n",
        "&ensp; output - sequences of indexes in one-hot encoding\n",
        "\n"
      ]
    },
    {
      "cell_type": "code",
      "metadata": {
        "colab": {
          "base_uri": "https://localhost:8080/"
        },
        "id": "Oy_6mpABJI1C",
        "outputId": "be132f30-dc7f-4e0d-c4b0-adabe3ac38e0"
      },
      "source": [
        "import keras.backend as K\n",
        "from keras.layers import *\n",
        "from keras.models import *\n",
        "from keras.callbacks import ModelCheckpoint\n",
        "\n",
        "# ENCODER\n",
        "# 1D input of indexes from tokenizer\n",
        "inputs = Input(shape=(MAX_SEQUENCE_LEN,), dtype='int32')\n",
        "\n",
        "# this layer converts indexes to embedding form using prepared embedding_matrix\n",
        "e = Embedding(MAX_WORD_NUM, EMBEDDING_SIZE, weights=[embedding_matrix], input_length=MAX_SEQUENCE_LEN, trainable=False)(inputs)\n",
        "\n",
        "# stacked LSTM layers\n",
        "# depending on your parametrs you might want to stack more LSTMs\n",
        "encoded = Bidirectional(LSTM(ENCODED_VECTOR_LEN, return_sequences=True, name=\"encoder_bi_lstm\"), name=\"encoder_bi\")(e)\n",
        "# encoder output in form of compressed 1D vector\n",
        "encoded = LSTM(ENCODED_VECTOR_LEN, name=\"encoder\")(encoded)\n",
        "\n",
        "\n",
        "# DECODER\n",
        "# decoder input repeats compressed vector to decode whole sequence\n",
        "decode_input = RepeatVector(MAX_SEQUENCE_LEN, name=\"decoder_input\")(encoded)\n",
        "\n",
        "# stacked LSTM layers\n",
        "decode_input = LSTM(EMBEDDING_SIZE, return_sequences=True, name=\"decoder_lstm\")(decode_input)\n",
        "decoded = Bidirectional(LSTM(EMBEDDING_SIZE, return_sequences=True, name=\"decoder_bi_lstm\"), name=\"decoder_bi\")(decode_input)\n",
        "\n",
        "# TimeDistributed allows to apply Dense to each word in sequence\n",
        "# tests showed that another dense layer is necessary for good validation set accuracy on big vocabulary (92% without on 3250 50 epochs, around 97% with on 4500 30 epochs)\n",
        "decoded = TimeDistributed(Dense(MAX_WORD_NUM / 2), name=\"decoder_dense_half\")(decoded)\n",
        "\n",
        "# one-hot encoding mapping\n",
        "decoded = TimeDistributed(Dense(MAX_WORD_NUM, activation='softmax'), name=\"decoder\")(decoded)\n",
        "\n",
        "autoencoder = Model(inputs, decoded) \n",
        "\n",
        "# categorical crossentropy is great to use with one-hot encoding\n",
        "autoencoder.compile(optimizer='adam', loss='categorical_crossentropy', metrics=['accuracy'])  \n",
        "autoencoder.summary() \n",
        "\n",
        "autoencoder.save(AE_MODEL_PATH) # save untrained model"
      ],
      "execution_count": 17,
      "outputs": [
        {
          "output_type": "stream",
          "name": "stdout",
          "text": [
            "Model: \"model_2\"\n",
            "_________________________________________________________________\n",
            " Layer (type)                Output Shape              Param #   \n",
            "=================================================================\n",
            " input_3 (InputLayer)        [(None, 20)]              0         \n",
            "                                                                 \n",
            " embedding_2 (Embedding)     (None, 20, 300)           1350000   \n",
            "                                                                 \n",
            " encoder_bi (Bidirectional)  (None, 20, 600)           1442400   \n",
            "                                                                 \n",
            " encoder (LSTM)              (None, 300)               1081200   \n",
            "                                                                 \n",
            " decoder_input (RepeatVector  (None, 20, 300)          0         \n",
            " )                                                               \n",
            "                                                                 \n",
            " decoder_lstm (LSTM)         (None, 20, 300)           721200    \n",
            "                                                                 \n",
            " decoder_bi (Bidirectional)  (None, 20, 600)           1442400   \n",
            "                                                                 \n",
            " decoder_dense_half (TimeDis  (None, 20, 2250)         1352250   \n",
            " tributed)                                                       \n",
            "                                                                 \n",
            " decoder (TimeDistributed)   (None, 20, 4500)          10129500  \n",
            "                                                                 \n",
            "=================================================================\n",
            "Total params: 17,518,950\n",
            "Trainable params: 16,168,950\n",
            "Non-trainable params: 1,350,000\n",
            "_________________________________________________________________\n"
          ]
        },
        {
          "output_type": "stream",
          "name": "stderr",
          "text": [
            "WARNING:absl:Found untraced functions such as lstm_cell_43_layer_call_fn, lstm_cell_43_layer_call_and_return_conditional_losses, lstm_cell_44_layer_call_fn, lstm_cell_44_layer_call_and_return_conditional_losses, lstm_cell_41_layer_call_fn while saving (showing 5 of 30). These functions will not be directly callable after loading.\n"
          ]
        },
        {
          "output_type": "stream",
          "name": "stdout",
          "text": [
            "INFO:tensorflow:Assets written to: drive/MyDrive/Colab Notebooks/AEmodel_lstm_4500_cce_dd/assets\n"
          ]
        },
        {
          "output_type": "stream",
          "name": "stderr",
          "text": [
            "INFO:tensorflow:Assets written to: drive/MyDrive/Colab Notebooks/AEmodel_lstm_4500_cce_dd/assets\n",
            "WARNING:absl:<keras.layers.recurrent.LSTMCell object at 0x7f925355ea90> has the same name 'LSTMCell' as a built-in Keras object. Consider renaming <class 'keras.layers.recurrent.LSTMCell'> to avoid naming conflicts when loading with `tf.keras.models.load_model`. If renaming is not possible, pass the object in the `custom_objects` parameter of the load function.\n",
            "WARNING:absl:<keras.layers.recurrent.LSTMCell object at 0x7f9250324950> has the same name 'LSTMCell' as a built-in Keras object. Consider renaming <class 'keras.layers.recurrent.LSTMCell'> to avoid naming conflicts when loading with `tf.keras.models.load_model`. If renaming is not possible, pass the object in the `custom_objects` parameter of the load function.\n",
            "WARNING:absl:<keras.layers.recurrent.LSTMCell object at 0x7f930edccc90> has the same name 'LSTMCell' as a built-in Keras object. Consider renaming <class 'keras.layers.recurrent.LSTMCell'> to avoid naming conflicts when loading with `tf.keras.models.load_model`. If renaming is not possible, pass the object in the `custom_objects` parameter of the load function.\n",
            "WARNING:absl:<keras.layers.recurrent.LSTMCell object at 0x7f928cb201d0> has the same name 'LSTMCell' as a built-in Keras object. Consider renaming <class 'keras.layers.recurrent.LSTMCell'> to avoid naming conflicts when loading with `tf.keras.models.load_model`. If renaming is not possible, pass the object in the `custom_objects` parameter of the load function.\n",
            "WARNING:absl:<keras.layers.recurrent.LSTMCell object at 0x7f92921f0050> has the same name 'LSTMCell' as a built-in Keras object. Consider renaming <class 'keras.layers.recurrent.LSTMCell'> to avoid naming conflicts when loading with `tf.keras.models.load_model`. If renaming is not possible, pass the object in the `custom_objects` parameter of the load function.\n",
            "WARNING:absl:<keras.layers.recurrent.LSTMCell object at 0x7f9293fa7650> has the same name 'LSTMCell' as a built-in Keras object. Consider renaming <class 'keras.layers.recurrent.LSTMCell'> to avoid naming conflicts when loading with `tf.keras.models.load_model`. If renaming is not possible, pass the object in the `custom_objects` parameter of the load function.\n"
          ]
        }
      ]
    },
    {
      "cell_type": "code",
      "metadata": {
        "id": "3F-eGgJ7Yaqu"
      },
      "source": [
        "from keras.models import load_model\n",
        "from keras.callbacks import ModelCheckpoint, CSVLogger\n",
        "\n",
        "# split data\n",
        "# if you just want to create autoencoder there's no need for validation set\n",
        "# here I take small batch for validation to see how well autoencoder responds to unseen data, which will be produced by GAN\n",
        "split_ind = int(len(data) * 0.95) \n",
        "data_train = data[:split_ind,:]\n",
        "data_val = data[split_ind:,:]\n",
        "print(data_val.shape)\n",
        "\n",
        "autoencoder = load_model(AE_MODEL_PATH) # load model\n",
        "autoencoder.summary()\n",
        "\n",
        "csv_logger = CSVLogger(HISTORY_PATH.format(\"AE\"), append=True) # log history to file\n",
        "checkpoint = ModelCheckpoint(filepath=AE_MODEL_PATH, save_best_only=True) # save best model for unseen data\n",
        "\n",
        "# 64 might be optimal\n",
        "batch_size = 32\n",
        "\n",
        "# 90% on training set after around 5 epochs\n",
        "# 50 epochs is enough to maximize results\n",
        "# depending on vocab size, sentence length etc. I achieved\n",
        "# >99% on training set, >97 % on unseen data from same set\n",
        "history = autoencoder.fit(x=Mygenerator(data_train, batch_size), epochs=50, validation_data=Mygenerator(data_val, batch_size), callbacks=[checkpoint, csv_logger])"
      ],
      "execution_count": null,
      "outputs": []
    },
    {
      "cell_type": "code",
      "metadata": {
        "id": "B38ussjDYhkF",
        "colab": {
          "base_uri": "https://localhost:8080/",
          "height": 573
        },
        "outputId": "ababb39a-98f0-49d2-cb66-87b990a70fbc"
      },
      "source": [
        "from matplotlib import pyplot as plt\n",
        "\n",
        "# plot loss and accuracy and save them\n",
        "def plot_training(loss, val_loss, acc, val_acc):\n",
        "  plt.plot(acc) \n",
        "  plt.plot(val_acc)\n",
        "  plt.title('model accuracy')\n",
        "  plt.ylabel('accuracy')\n",
        "  plt.xlabel('epoch')\n",
        "  plt.legend(['train', 'val'], loc='upper left')\n",
        "  plt.savefig(PLOT_PATH.format('AE_accuracy'))\n",
        "  plt.show()\n",
        "\n",
        "  plt.plot(loss)\n",
        "  plt.plot(val_loss)\n",
        "  plt.title('model loss')\n",
        "  plt.ylabel('loss')\n",
        "  plt.xlabel('epoch')\n",
        "  plt.legend(['train', 'val'], loc='upper left')\n",
        "  plt.savefig(PLOT_PATH.format('AE_loss'))\n",
        "  plt.show()\n",
        "\n",
        "df = pd.read_csv(HISTORY_PATH.format(\"AE\"), keep_default_na=False) \n",
        "plot_training(df.iloc[:,2], df.iloc[:,4], df.iloc[:,1], df.iloc[:,3])"
      ],
      "execution_count": 33,
      "outputs": [
        {
          "output_type": "display_data",
          "data": {
            "image/png": "[encoded data removed]",
            "text/plain": [
              "<Figure size 432x288 with 1 Axes>"
            ]
          },
          "metadata": {
            "needs_background": "light"
          }
        },
        {
          "output_type": "display_data",
          "data": {
            "image/png": "[encoded data removed]",
            "text/plain": [
              "<Figure size 432x288 with 1 Axes>"
            ]
          },
          "metadata": {
            "needs_background": "light"
          }
        }
      ]
    },
    {
      "cell_type": "markdown",
      "metadata": {
        "id": "6kdz8gqkaUmG"
      },
      "source": [
        "As we can see, training data accuracy is fine, but validation accuracy is relatively low (97%).\n",
        "<br><br>\n",
        "\n",
        "In GAN training we are mostly interested in generator generating values similar to training set so, if its working well, decoding accuracy of generated samples might be closer to training set accuracy (>99%)\n",
        "<br>\n",
        "For purposes of this excercise this is enough, but retraining for couple more epochs might improve results."
      ]
    },
    {
      "cell_type": "markdown",
      "metadata": {
        "id": "I2SWYFZ3xYiX"
      },
      "source": [
        "**Autoencoder test**"
      ]
    },
    {
      "cell_type": "code",
      "metadata": {
        "id": "NDIOZHGuft8D"
      },
      "source": [
        "from keras import *\n",
        "import keras.backend as K\n",
        "from keras.layers import *\n",
        "from keras.models import load_model\n",
        "\n",
        "# load model\n",
        "def load_autoencoder(path):\n",
        "      model = load_model(path)\n",
        "\n",
        "      # split into encoder and decoder\n",
        "      encoder = Model(model.input, model.get_layer('encoder').output)\n",
        "      decoder = Model(model.get_layer('decoder_input').input, model.get_layer('decoder').output)\n",
        "\n",
        "      # add Argmax layer to decoder to convert results to real one-hot encoding\n",
        "      one_hot_to_index = Lambda(lambda x: K.cast(K.argmax(x), dtype='float32'))(decoder.output)\n",
        "      decoder = Model(decoder.input, one_hot_to_index)\n",
        "      return (encoder, decoder, model)\n",
        "\n",
        "(enc, dec, model) = load_autoencoder(AE_MODEL_PATH)"
      ],
      "execution_count": 34,
      "outputs": []
    },
    {
      "cell_type": "markdown",
      "metadata": {
        "id": "PG2BWybRN2dl"
      },
      "source": [
        "As You can see below, autoencoder works pretty well.<br>\n",
        "There are some OOV tokens which implies too small vocabulary size.\n",
        "<br>\n",
        "Increasing vocabulary impacts learning abilities so we might need to deepen AE architecture.\n"
      ]
    },
    {
      "cell_type": "code",
      "metadata": {
        "id": "mQJHBIUxfzbT",
        "colab": {
          "base_uri": "https://localhost:8080/"
        },
        "outputId": "09530225-86cd-4f55-9310-6a9e15086e66"
      },
      "source": [
        "from tensorflow.keras.utils import to_categorical\n",
        "\n",
        "# prints input and predicted sentence\n",
        "def print_test(seq):\n",
        "    seq = seq.reshape(1, 20)\n",
        "    predicted = model.predict(seq)\n",
        "    predicted = np.argmax(predicted, axis=2) # convert one-hot to standard encoding\n",
        "    \n",
        "    print(\"IN SENTENCE         {}\".format(' '.join(dataLoader.tokenizer.sequences_to_texts(seq))))\n",
        "    print(\"PREDICTED SENTENCE  {}\".format(' '.join(dataLoader.tokenizer.sequences_to_texts(predicted))))\n",
        "    print(\"----------------------------\")\n",
        "\n",
        "print_test(data[0])\n",
        "print_test(data[11])\n",
        "print_test(data[15])\n",
        "print_test(data[29])\n",
        "print_test(data[25])\n",
        "print_test(data[40075])\n",
        "print_test(data[40055])\n",
        "print_test(data[49995]) # validation set\n",
        "print_test(data[49986])"
      ],
      "execution_count": 36,
      "outputs": [
        {
          "output_type": "stream",
          "name": "stdout",
          "text": [
            "IN SENTENCE         related <OOV> . but perhaps these days being ordinary is <OOV> . on the whole almost entirely without merit .\n",
            "PREDICTED SENTENCE  related <OOV> . but perhaps these days being ordinary is <OOV> . on the whole almost entirely without merit .\n",
            "----------------------------\n",
            "IN SENTENCE         think i could recommend this film to anyone . i would recommend the ones that i just mention above .\n",
            "PREDICTED SENTENCE  think i could recommend this film to anyone . i would recommend the ones that i just mention above .\n",
            "----------------------------\n",
            "IN SENTENCE         the audience and their reaction is perhaps what any of our reactions might be . highly recommended . 10 10\n",
            "PREDICTED SENTENCE  the audience and their reaction is perhaps what any of our reactions might be . highly recommended . 10 10\n",
            "----------------------------\n",
            "IN SENTENCE         rush and is truly awful . this is a <OOV> film and a waste of your movie going time .\n",
            "PREDICTED SENTENCE  rush and is truly awful . this is a <OOV> film and a waste of your movie going time .\n",
            "----------------------------\n",
            "IN SENTENCE         <OOV> really stood out to me as a charismatic actor and i hope to see him in more films .\n",
            "PREDICTED SENTENCE  <OOV> really stood out to me as a charismatic actor and i hope to see him in more films .\n",
            "----------------------------\n",
            "IN SENTENCE         own in <OOV> steps to <OOV> yet they all look way too old to be believable in the role .\n",
            "PREDICTED SENTENCE  own in <OOV> steps to <OOV> yet they all look way too old to be believable in the role .\n",
            "----------------------------\n",
            "IN SENTENCE         lot of movies and watched a lot of great movies your review will probably similar to mine . 1 10\n",
            "PREDICTED SENTENCE  lot of movies and watched a lot of great movies your review will probably similar to mine . 1 10\n",
            "----------------------------\n",
            "IN SENTENCE         bit aside from the first 5 <OOV> its one of the worst films ever made . utter utter nonsense .\n",
            "PREDICTED SENTENCE  bit aside from the first 5 <OOV> its one of the worst films ever made . utter utter nonsense .\n",
            "----------------------------\n",
            "IN SENTENCE         i think is an outstanding read for any child . i can't give the same <OOV> to this movie .\n",
            "PREDICTED SENTENCE  i think is an outstanding read for any child . i can't give the same <OOV> to this movie .\n",
            "----------------------------\n"
          ]
        }
      ]
    }
  ]
}