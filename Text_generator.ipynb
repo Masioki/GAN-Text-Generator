{
  "nbformat": 4,
  "nbformat_minor": 0,
  "metadata": {
    "accelerator": "GPU",
    "colab": {
      "name": "Text generator.ipynb",
      "provenance": [],
      "collapsed_sections": []
    },
    "kernelspec": {
      "display_name": "Python 3",
      "name": "python3"
    },
    "language_info": {
      "name": "python"
    }
  },
  "cells": [
    {
      "cell_type": "markdown",
      "metadata": {
        "id": "wkMuANZMTCy8"
      },
      "source": [
        "**GAN based random text generator**\n",
        "\n",
        "GAN is well known for it's non-discrete data generation abilities.<br>\n",
        "In this notebook I'll adapt and train GAN for text generation(based on [LaText GAN](https://arxiv.org/pdf/1810.06640.pdf)). "
      ]
    },
    {
      "cell_type": "markdown",
      "metadata": {
        "id": "fFVYyRiViSt3"
      },
      "source": [
        "First, let's create data loader with tokenizer."
      ]
    },
    {
      "cell_type": "code",
      "metadata": {
        "id": "HdrcxxmKIz_g"
      },
      "source": [
        "import re\n",
        "from tensorflow.keras.utils import to_categorical\n",
        "import numpy as np\n",
        "import pandas as pd\n",
        "from keras.preprocessing.sequence import pad_sequences\n",
        "from keras.preprocessing.text import Tokenizer\n",
        "\n",
        "\n",
        "class DataLoader:\n",
        "\n",
        "    def __init__(self, src_csv=\"\", src_column='', sentence_len=100, num_words=10000):\n",
        "        self.__src_csv = src_csv  # source csv file with test data\n",
        "        self.__src_column = src_column # column name in source file\n",
        "        self.__sentence_len = sentence_len  # max sentence length\n",
        "        self.__num_words = num_words  # number of most frequent words to keep\n",
        "        self.__tokenizer = None # tokenizer\n",
        "        self.sentences = []  # text data\n",
        "        self.sequences = np.array([])  # indexed data from tokenizer\n",
        "\n",
        "    def __load_file(self):\n",
        "        df = pd.read_csv(self.__src_csv, keep_default_na=False) \n",
        "        self.sentences = [re.sub(r\"<.*?>\", \" \", x) for x in df['review']]  # remove html tags\n",
        "        self.sentences = [s.replace('.', ' .') for s in self.sentences] # let's keep period\n",
        "        # rest of data cleaning is done by tokenizer\n",
        "\n",
        "    def __init_tokenizer(self):\n",
        "        # Tokenization\n",
        "        # splitted by space\n",
        "        # filters = default - period sign\n",
        "        # unknown word set to <OOV>\n",
        "        # lower case\n",
        "        # saves only __num_words most frequent words\n",
        "        self.tokenizer = Tokenizer(num_words=self.__num_words, lower=True, split=' ', oov_token='<OOV>', filters='!\"#$%&()*+,-/:;<=>?@[\\\\]^_`{|}~\\t\\n')\n",
        "        self.tokenizer.fit_on_texts(self.sentences) # fit on text data\n",
        "        \n",
        "    def __init_sequences(self):\n",
        "        if self.sequences.size < 1:\n",
        "            self.__load_file()\n",
        "            self.__init_tokenizer()\n",
        "            self.sequences = self.tokenizer.texts_to_sequences(self.sentences) # text to tokenizer indexes\n",
        "            self.sequences = pad_sequences(self.sequences, maxlen=self.__sentence_len, dtype='float32', padding='post') # padding \n",
        "            \n",
        "\n",
        "    def get(self):\n",
        "        self.__init_sequences()\n",
        "        return self.sequences"
      ],
      "execution_count": 17,
      "outputs": []
    },
    {
      "cell_type": "markdown",
      "metadata": {
        "id": "G3t0VXj-j99h"
      },
      "source": [
        "Define all parameters and paths."
      ]
    },
    {
      "cell_type": "code",
      "metadata": {
        "id": "adWjSLnSJPOA"
      },
      "source": [
        "SOURCE_FILE = \"drive/MyDrive/Colab Notebooks/IMDB Dataset.csv\" # test data file path (here IMDB reviews)\n",
        "AE_MODEL_PATH=\"drive/MyDrive/Colab Notebooks/AEmodel_lstm_2500_cce\" # autoencoder path\n",
        "PLOT_PATH=\"drive/MyDrive/Colab Notebooks/plots/{}.png\" # plots path\n",
        "HISTORY_PATH=\"drive/MyDrive/Colab Notebooks/history/{}.csv\" # learning history path\n",
        "EMBEDDING_PATH=\"model.txt\" # path to prepared word embedding\n",
        "EMBEDDING_MATRIX_PATH=\"embedding_matrix.npy\" # path to embedding matrix\n",
        "\n",
        "MAX_WORD_NUM = 2500 # max number of most frequent words to save\n",
        "MAX_SEQUENCE_LEN = 20 # max sentence length\n",
        "ENCODED_VECTOR_LEN = 300 # enoded sentence length\n",
        "EMBEDDING_SIZE = 300 # embedding vector length"
      ],
      "execution_count": 18,
      "outputs": []
    },
    {
      "cell_type": "markdown",
      "metadata": {
        "id": "heLX0RZJki3b"
      },
      "source": [
        "Load our data."
      ]
    },
    {
      "cell_type": "code",
      "metadata": {
        "colab": {
          "base_uri": "https://localhost:8080/"
        },
        "id": "KG2O2g4-kgB9",
        "outputId": "41d6e935-9d8e-4d4d-d7f1-090bb8195bd6"
      },
      "source": [
        "dataLoader = DataLoader(SOURCE_FILE, sentence_len=MAX_SEQUENCE_LEN, num_words=MAX_WORD_NUM)\n",
        "data = dataLoader.get()\n",
        "\n",
        "np.random.seed(2137)\n",
        "np.random.shuffle(data) \n",
        "\n",
        "data.shape"
      ],
      "execution_count": 19,
      "outputs": [
        {
          "output_type": "execute_result",
          "data": {
            "text/plain": [
              "(50000, 20)"
            ]
          },
          "metadata": {},
          "execution_count": 19
        }
      ]
    },
    {
      "cell_type": "markdown",
      "metadata": {
        "id": "acNTOu_Wk0Qa"
      },
      "source": [
        "Now, we need to create embedding matrix (saved in EMBEDDING_MATRIX_PATH). To do this already trained word embedding model is necessary. Embedding matrix will keep vectors for words from vocabulary/tokenizer.\n",
        "\n",
        "\n",
        "\n",
        "Word embedding model is meant to represent complex relationships between words (i.e. 'female', 'girl', 'woman' - similar concept, but completly different spelling) by placing each word in some N dimensional space.\n",
        "\n",
        "Here I use 300 dimensional model only for english.\n"
      ]
    },
    {
      "cell_type": "code",
      "metadata": {
        "id": "GqEig4XTY6dh"
      },
      "source": [
        "# read word embedding model\n",
        "# each line consist of word and X normalized values\n",
        "embeddings_index = {}\n",
        "f = open(EMBEDDING_PATH, 'r')\n",
        "for line in f:\n",
        "    values = line.split()\n",
        "    word = values[0]\n",
        "    try:\n",
        "        coefs = np.asarray(values[1:], dtype='float32')\n",
        "    except ValueError:\n",
        "        continue\n",
        "    embeddings_index[word] = coefs\n",
        "f.close()\n",
        "\n",
        "# build embedding matrix\n",
        "num_words = min(MAX_WORD_NUM, len(dataLoader.tokenizer.word_index))\n",
        "embedding_matrix = np.zeros((num_words, EMBEDDING_SIZE))\n",
        "for word, i in dataLoader.tokenizer.word_index.items():\n",
        "    if i >= MAX_WORD_NUM:\n",
        "        continue\n",
        "    embedding_vector = embeddings_index.get(word)\n",
        "    if embedding_vector is not None:\n",
        "        embedding_matrix[i] = embedding_vector.astype('float32')   \n",
        "    else:\n",
        "        embedding_matrix[i] = np.random.normal(-0.25, 0.25, EMBEDDING_SIZE)\n",
        "\n",
        "np.save(EMBEDDING_MATRIX_PATH, embedding_matrix) # save matrix\n",
        "embedding_matrix.shape"
      ],
      "execution_count": null,
      "outputs": []
    },
    {
      "cell_type": "markdown",
      "metadata": {
        "id": "vkKBvcdnnw7W"
      },
      "source": [
        "In case of hardware limitations You might want to use this simple data generator.\n",
        "\n",
        "Autoencoder(explained below) produces data in one-hot encoding, that's why we need to convert y_train.\n",
        "\n",
        "Standard encoding:<br>\n",
        "[0, 3]\n",
        "\n",
        "one-hot:<br>\n",
        "[<br>\n",
        "     &ensp;  [1, 0, 0, 0],<br>\n",
        "    &ensp;     [0, 0, 0, 1]<br>\n",
        "]\n",
        "\n"
      ]
    },
    {
      "cell_type": "code",
      "metadata": {
        "id": "H7u80HMfOtz8"
      },
      "source": [
        "from tensorflow.keras.utils import Sequence\n",
        "from tensorflow.keras.utils import to_categorical\n",
        "\n",
        "# if you need to convert sequence to word embedding form\n",
        "embedding_matrix = np.load(EMBEDDING_MATRIX_PATH) \n",
        "def get_embedding(seq):\n",
        "    return np.array([embedding_matrix[int(w)] for w in seq])\n",
        "\n",
        "class Mygenerator(Sequence):\n",
        "    def __init__(self, data, batch_size):\n",
        "        self.data = data # in/out data\n",
        "        self.batch_size = batch_size\n",
        "    \n",
        "    def on_epoch_end(self): \n",
        "        # shuffling each epoch\n",
        "        np.random.shuffle(self.data) \n",
        "\n",
        "    def __len__(self):\n",
        "        return int(np.ceil(len(self.data) / float(self.batch_size))) # number of batches\n",
        "\n",
        "    def __getitem__(self, idx):\n",
        "        batch_x = self.data[idx * self.batch_size:(idx + 1) * self.batch_size] # batch\n",
        "        x = batch_x\n",
        "        y = np.array([to_categorical(seq, num_classes=MAX_WORD_NUM) for seq in batch_x]) # y data in one-hot\n",
        "        return x, y"
      ],
      "execution_count": 20,
      "outputs": []
    },
    {
      "cell_type": "markdown",
      "metadata": {
        "id": "H5wSmDjWsnbn"
      },
      "source": [
        "**AUTOENCODER**\n",
        "\n",
        "Autoencoder is a pair of two networks - encoder and decoder - connected with 'bottleneck'. Encoder is meant to represent each sequence in compressed form(i.e. 20 seq with 300D embedding requires 6000 values, this encoder will compress it to 300), while decoder decompresses it.\n",
        "\n",
        "This autoencoder takes whole sequence and outputs whole sequence at once!\n",
        "\n",
        "<br>\n",
        "Encoder: <br>\n",
        "&ensp; input - sequences of indexes from tokenizer<br>\n",
        "&ensp; output - compressed vector \n",
        "\n",
        "<br>\n",
        "Decoder: <br>\n",
        "&ensp; input - compressed vector<br>\n",
        "&ensp; output - sequences of indexes in one-hot encoding\n",
        "\n"
      ]
    },
    {
      "cell_type": "code",
      "metadata": {
        "colab": {
          "base_uri": "https://localhost:8080/"
        },
        "id": "Oy_6mpABJI1C",
        "outputId": "33cd0d13-1da5-438d-de91-0518ad1f21d5"
      },
      "source": [
        "import keras.backend as K\n",
        "from keras.layers import *\n",
        "from keras.models import *\n",
        "from keras.callbacks import ModelCheckpoint\n",
        "\n",
        "# ENCODER\n",
        "# 1D input of indexes from tokenizer\n",
        "inputs = Input(shape=(MAX_SEQUENCE_LEN,), dtype='int32')\n",
        "\n",
        "# this layer converts indexes to embedding form using prepared embedding_matrix\n",
        "e = Embedding(MAX_WORD_NUM, EMBEDDING_SIZE, weights=[embedding_matrix], input_length=MAX_SEQUENCE_LEN, trainable=False)(inputs)\n",
        "\n",
        "# stacked LSTM layers\n",
        "# depending on your parametrs you might want to stack more LSTMs\n",
        "encoded = Bidirectional(LSTM(ENCODED_VECTOR_LEN, return_sequences=True, name=\"encoder_bi_lstm\"), name=\"encoder_bi\")(e)\n",
        "# encoder output in form of compressed 1D vector\n",
        "encoded = LSTM(ENCODED_VECTOR_LEN, name=\"encoder\")(encoded)\n",
        "\n",
        "\n",
        "# DECODER\n",
        "# decoder input repeats compressed vector to decode whole sequence\n",
        "decode_input = RepeatVector(MAX_SEQUENCE_LEN, name=\"decoder_input\")(encoded)\n",
        "\n",
        "# stacked LSTM layers\n",
        "decode_input = LSTM(EMBEDDING_SIZE, return_sequences=True, name=\"decoder_lstm\")(decode_input)\n",
        "decoded = Bidirectional(LSTM(EMBEDDING_SIZE, return_sequences=True, name=\"decoder_bi_lstm\"), name=\"decoder_bi\")(decode_input)\n",
        "\n",
        "# one-hot encoding mapping\n",
        "# TimeDistributed allows to apply Dense to each word in sequence\n",
        "decoded = TimeDistributed(Dense(MAX_WORD_NUM, activation='softmax'), name=\"decoder\")(decoded)\n",
        "\n",
        "autoencoder = Model(inputs, decoded) \n",
        "\n",
        "# categorical crossentropy is great to use with one-hot encoding\n",
        "autoencoder.compile(optimizer='adam', loss='categorical_crossentropy', metrics=['accuracy'])  \n",
        "autoencoder.summary() \n",
        "\n",
        "autoencoder.save(AE_MODEL_PATH) # save untrained model"
      ],
      "execution_count": null,
      "outputs": [
        {
          "name": "stdout",
          "output_type": "stream",
          "text": [
            "Model: \"model\"\n",
            "_________________________________________________________________\n",
            " Layer (type)                Output Shape              Param #   \n",
            "=================================================================\n",
            " input_1 (InputLayer)        [(None, 20)]              0         \n",
            "                                                                 \n",
            " embedding (Embedding)       (None, 20, 300)           750000    \n",
            "                                                                 \n",
            " encoder_bi (Bidirectional)  (None, 20, 600)           1442400   \n",
            "                                                                 \n",
            " encoder (LSTM)              (None, 300)               1081200   \n",
            "                                                                 \n",
            " decoder_input (RepeatVector  (None, 20, 300)          0         \n",
            " )                                                               \n",
            "                                                                 \n",
            " decoder_lstm (LSTM)         (None, 20, 300)           721200    \n",
            "                                                                 \n",
            " decoder_bi (Bidirectional)  (None, 20, 600)           1442400   \n",
            "                                                                 \n",
            " decoder (TimeDistributed)   (None, 20, 2500)          1502500   \n",
            "                                                                 \n",
            "=================================================================\n",
            "Total params: 6,939,700\n",
            "Trainable params: 6,189,700\n",
            "Non-trainable params: 750,000\n",
            "_________________________________________________________________\n"
          ]
        },
        {
          "name": "stderr",
          "output_type": "stream",
          "text": [
            "WARNING:absl:Found untraced functions such as lstm_cell_3_layer_call_fn, lstm_cell_3_layer_call_and_return_conditional_losses, lstm_cell_4_layer_call_fn, lstm_cell_4_layer_call_and_return_conditional_losses, lstm_cell_1_layer_call_fn while saving (showing 5 of 30). These functions will not be directly callable after loading.\n"
          ]
        },
        {
          "name": "stdout",
          "output_type": "stream",
          "text": [
            "INFO:tensorflow:Assets written to: drive/MyDrive/Colab Notebooks/AEmodel_lstm_2500_cce/assets\n"
          ]
        },
        {
          "name": "stderr",
          "output_type": "stream",
          "text": [
            "INFO:tensorflow:Assets written to: drive/MyDrive/Colab Notebooks/AEmodel_lstm_2500_cce/assets\n",
            "WARNING:absl:<keras.layers.recurrent.LSTMCell object at 0x7f04fcdb1950> has the same name 'LSTMCell' as a built-in Keras object. Consider renaming <class 'keras.layers.recurrent.LSTMCell'> to avoid naming conflicts when loading with `tf.keras.models.load_model`. If renaming is not possible, pass the object in the `custom_objects` parameter of the load function.\n",
            "WARNING:absl:<keras.layers.recurrent.LSTMCell object at 0x7f04fbca1fd0> has the same name 'LSTMCell' as a built-in Keras object. Consider renaming <class 'keras.layers.recurrent.LSTMCell'> to avoid naming conflicts when loading with `tf.keras.models.load_model`. If renaming is not possible, pass the object in the `custom_objects` parameter of the load function.\n",
            "WARNING:absl:<keras.layers.recurrent.LSTMCell object at 0x7f04fbefb550> has the same name 'LSTMCell' as a built-in Keras object. Consider renaming <class 'keras.layers.recurrent.LSTMCell'> to avoid naming conflicts when loading with `tf.keras.models.load_model`. If renaming is not possible, pass the object in the `custom_objects` parameter of the load function.\n",
            "WARNING:absl:<keras.layers.recurrent.LSTMCell object at 0x7f04fbf00dd0> has the same name 'LSTMCell' as a built-in Keras object. Consider renaming <class 'keras.layers.recurrent.LSTMCell'> to avoid naming conflicts when loading with `tf.keras.models.load_model`. If renaming is not possible, pass the object in the `custom_objects` parameter of the load function.\n",
            "WARNING:absl:<keras.layers.recurrent.LSTMCell object at 0x7f04fbc7abd0> has the same name 'LSTMCell' as a built-in Keras object. Consider renaming <class 'keras.layers.recurrent.LSTMCell'> to avoid naming conflicts when loading with `tf.keras.models.load_model`. If renaming is not possible, pass the object in the `custom_objects` parameter of the load function.\n",
            "WARNING:absl:<keras.layers.recurrent.LSTMCell object at 0x7f04fbcb7850> has the same name 'LSTMCell' as a built-in Keras object. Consider renaming <class 'keras.layers.recurrent.LSTMCell'> to avoid naming conflicts when loading with `tf.keras.models.load_model`. If renaming is not possible, pass the object in the `custom_objects` parameter of the load function.\n"
          ]
        }
      ]
    },
    {
      "cell_type": "code",
      "metadata": {
        "colab": {
          "background_save": true,
          "base_uri": "https://localhost:8080/"
        },
        "id": "3F-eGgJ7Yaqu",
        "outputId": "ef5603c9-e1b0-478c-95ef-3377afa99ea1"
      },
      "source": [
        "from keras.models import load_model\n",
        "from keras.callbacks import ModelCheckpoint, CSVLogger\n",
        "\n",
        "# split data\n",
        "# if you just want to create autoencoder there's no need for validation set\n",
        "# here I take small batch for validation to see how well autoencoder responds to unseen data, which will be produced by GAN\n",
        "split_ind = int(len(data) * 0.96) \n",
        "data_train = data[:split_ind,:]\n",
        "data_val = data[split_ind:,:]\n",
        "print(data_val.shape)\n",
        "\n",
        "autoencoder = load_model(AE_MODEL_PATH) # load model\n",
        "autoencoder.summary()\n",
        "\n",
        "csv_logger = CSVLogger(HISTORY_PATH.format(\"AE\"), append=True) # log history to file\n",
        "checkpoint = ModelCheckpoint(filepath=AE_MODEL_PATH, save_best_only=True) # save best model for unseen data\n",
        "\n",
        "# 64 might be optimal\n",
        "batch_size = 32\n",
        "\n",
        "# 90% on training set after around 10 epochs\n",
        "# 50-70 epochs is enough for current parametrs to maximize result\n",
        "# depending on vocab size, sentence length etc. I achieved\n",
        "# >99% on training set, 92-95 % on unseen data from same set\n",
        "history = autoencoder.fit(x=Mygenerator(data_train, batch_size), epochs=50, validation_data=Mygenerator(data_val, batch_size), callbacks=[checkpoint, csv_logger])"
      ],
      "execution_count": null,
      "outputs": [
        {
          "name": "stdout",
          "output_type": "stream",
          "text": [
            "(2000, 20)\n",
            "Model: \"model\"\n",
            "_________________________________________________________________\n",
            " Layer (type)                Output Shape              Param #   \n",
            "=================================================================\n",
            " input_1 (InputLayer)        [(None, 20)]              0         \n",
            "                                                                 \n",
            " embedding (Embedding)       (None, 20, 300)           750000    \n",
            "                                                                 \n",
            " encoder_bi (Bidirectional)  (None, 20, 600)           1442400   \n",
            "                                                                 \n",
            " encoder (LSTM)              (None, 300)               1081200   \n",
            "                                                                 \n",
            " decoder_input (RepeatVector  (None, 20, 300)          0         \n",
            " )                                                               \n",
            "                                                                 \n",
            " decoder_lstm (LSTM)         (None, 20, 300)           721200    \n",
            "                                                                 \n",
            " decoder_bi (Bidirectional)  (None, 20, 600)           1442400   \n",
            "                                                                 \n",
            " decoder (TimeDistributed)   (None, 20, 2500)          1502500   \n",
            "                                                                 \n",
            "=================================================================\n",
            "Total params: 6,939,700\n",
            "Trainable params: 6,189,700\n",
            "Non-trainable params: 750,000\n",
            "_________________________________________________________________\n",
            "Epoch 1/50\n",
            "1500/1500 [==============================] - ETA: 0s - loss: 3.8088 - accuracy: 0.3495"
          ]
        },
        {
          "name": "stderr",
          "output_type": "stream",
          "text": [
            "WARNING:absl:Found untraced functions such as lstm_cell_27_layer_call_fn, lstm_cell_27_layer_call_and_return_conditional_losses, lstm_cell_28_layer_call_fn, lstm_cell_28_layer_call_and_return_conditional_losses, lstm_cell_25_layer_call_fn while saving (showing 5 of 30). These functions will not be directly callable after loading.\n"
          ]
        },
        {
          "name": "stdout",
          "output_type": "stream",
          "text": [
            "INFO:tensorflow:Assets written to: drive/MyDrive/Colab Notebooks/AEmodel_lstm_2500_cce/assets\n"
          ]
        },
        {
          "name": "stderr",
          "output_type": "stream",
          "text": [
            "INFO:tensorflow:Assets written to: drive/MyDrive/Colab Notebooks/AEmodel_lstm_2500_cce/assets\n",
            "WARNING:absl:<keras.layers.recurrent.LSTMCell object at 0x7f047d3d2f10> has the same name 'LSTMCell' as a built-in Keras object. Consider renaming <class 'keras.layers.recurrent.LSTMCell'> to avoid naming conflicts when loading with `tf.keras.models.load_model`. If renaming is not possible, pass the object in the `custom_objects` parameter of the load function.\n",
            "WARNING:absl:<keras.layers.recurrent.LSTMCell object at 0x7f047d3be850> has the same name 'LSTMCell' as a built-in Keras object. Consider renaming <class 'keras.layers.recurrent.LSTMCell'> to avoid naming conflicts when loading with `tf.keras.models.load_model`. If renaming is not possible, pass the object in the `custom_objects` parameter of the load function.\n",
            "WARNING:absl:<keras.layers.recurrent.LSTMCell object at 0x7f047fdd03d0> has the same name 'LSTMCell' as a built-in Keras object. Consider renaming <class 'keras.layers.recurrent.LSTMCell'> to avoid naming conflicts when loading with `tf.keras.models.load_model`. If renaming is not possible, pass the object in the `custom_objects` parameter of the load function.\n",
            "WARNING:absl:<keras.layers.recurrent.LSTMCell object at 0x7f047cfc5710> has the same name 'LSTMCell' as a built-in Keras object. Consider renaming <class 'keras.layers.recurrent.LSTMCell'> to avoid naming conflicts when loading with `tf.keras.models.load_model`. If renaming is not possible, pass the object in the `custom_objects` parameter of the load function.\n",
            "WARNING:absl:<keras.layers.recurrent.LSTMCell object at 0x7f047d4fb450> has the same name 'LSTMCell' as a built-in Keras object. Consider renaming <class 'keras.layers.recurrent.LSTMCell'> to avoid naming conflicts when loading with `tf.keras.models.load_model`. If renaming is not possible, pass the object in the `custom_objects` parameter of the load function.\n",
            "WARNING:absl:<keras.layers.recurrent.LSTMCell object at 0x7f0481ffc910> has the same name 'LSTMCell' as a built-in Keras object. Consider renaming <class 'keras.layers.recurrent.LSTMCell'> to avoid naming conflicts when loading with `tf.keras.models.load_model`. If renaming is not possible, pass the object in the `custom_objects` parameter of the load function.\n"
          ]
        },
        {
          "name": "stdout",
          "output_type": "stream",
          "text": [
            "1500/1500 [==============================] - 158s 98ms/step - loss: 3.8088 - accuracy: 0.3495 - val_loss: 3.1207 - val_accuracy: 0.4471\n",
            "Epoch 2/50\n",
            "1500/1500 [==============================] - ETA: 0s - loss: 2.6698 - accuracy: 0.5033"
          ]
        },
        {
          "name": "stderr",
          "output_type": "stream",
          "text": [
            "WARNING:absl:Found untraced functions such as lstm_cell_27_layer_call_fn, lstm_cell_27_layer_call_and_return_conditional_losses, lstm_cell_28_layer_call_fn, lstm_cell_28_layer_call_and_return_conditional_losses, lstm_cell_25_layer_call_fn while saving (showing 5 of 30). These functions will not be directly callable after loading.\n"
          ]
        },
        {
          "name": "stdout",
          "output_type": "stream",
          "text": [
            "INFO:tensorflow:Assets written to: drive/MyDrive/Colab Notebooks/AEmodel_lstm_2500_cce/assets\n"
          ]
        },
        {
          "name": "stderr",
          "output_type": "stream",
          "text": [
            "INFO:tensorflow:Assets written to: drive/MyDrive/Colab Notebooks/AEmodel_lstm_2500_cce/assets\n",
            "WARNING:absl:<keras.layers.recurrent.LSTMCell object at 0x7f047d3d2f10> has the same name 'LSTMCell' as a built-in Keras object. Consider renaming <class 'keras.layers.recurrent.LSTMCell'> to avoid naming conflicts when loading with `tf.keras.models.load_model`. If renaming is not possible, pass the object in the `custom_objects` parameter of the load function.\n",
            "WARNING:absl:<keras.layers.recurrent.LSTMCell object at 0x7f047d3be850> has the same name 'LSTMCell' as a built-in Keras object. Consider renaming <class 'keras.layers.recurrent.LSTMCell'> to avoid naming conflicts when loading with `tf.keras.models.load_model`. If renaming is not possible, pass the object in the `custom_objects` parameter of the load function.\n",
            "WARNING:absl:<keras.layers.recurrent.LSTMCell object at 0x7f047fdd03d0> has the same name 'LSTMCell' as a built-in Keras object. Consider renaming <class 'keras.layers.recurrent.LSTMCell'> to avoid naming conflicts when loading with `tf.keras.models.load_model`. If renaming is not possible, pass the object in the `custom_objects` parameter of the load function.\n",
            "WARNING:absl:<keras.layers.recurrent.LSTMCell object at 0x7f047cfc5710> has the same name 'LSTMCell' as a built-in Keras object. Consider renaming <class 'keras.layers.recurrent.LSTMCell'> to avoid naming conflicts when loading with `tf.keras.models.load_model`. If renaming is not possible, pass the object in the `custom_objects` parameter of the load function.\n",
            "WARNING:absl:<keras.layers.recurrent.LSTMCell object at 0x7f047d4fb450> has the same name 'LSTMCell' as a built-in Keras object. Consider renaming <class 'keras.layers.recurrent.LSTMCell'> to avoid naming conflicts when loading with `tf.keras.models.load_model`. If renaming is not possible, pass the object in the `custom_objects` parameter of the load function.\n",
            "WARNING:absl:<keras.layers.recurrent.LSTMCell object at 0x7f0481ffc910> has the same name 'LSTMCell' as a built-in Keras object. Consider renaming <class 'keras.layers.recurrent.LSTMCell'> to avoid naming conflicts when loading with `tf.keras.models.load_model`. If renaming is not possible, pass the object in the `custom_objects` parameter of the load function.\n"
          ]
        },
        {
          "name": "stdout",
          "output_type": "stream",
          "text": [
            "1500/1500 [==============================] - 145s 97ms/step - loss: 2.6698 - accuracy: 0.5033 - val_loss: 2.3077 - val_accuracy: 0.5639\n",
            "Epoch 3/50\n",
            "1500/1500 [==============================] - ETA: 0s - loss: 2.0324 - accuracy: 0.5950"
          ]
        },
        {
          "name": "stderr",
          "output_type": "stream",
          "text": [
            "WARNING:absl:Found untraced functions such as lstm_cell_27_layer_call_fn, lstm_cell_27_layer_call_and_return_conditional_losses, lstm_cell_28_layer_call_fn, lstm_cell_28_layer_call_and_return_conditional_losses, lstm_cell_25_layer_call_fn while saving (showing 5 of 30). These functions will not be directly callable after loading.\n"
          ]
        },
        {
          "name": "stdout",
          "output_type": "stream",
          "text": [
            "INFO:tensorflow:Assets written to: drive/MyDrive/Colab Notebooks/AEmodel_lstm_2500_cce/assets\n"
          ]
        },
        {
          "name": "stderr",
          "output_type": "stream",
          "text": [
            "INFO:tensorflow:Assets written to: drive/MyDrive/Colab Notebooks/AEmodel_lstm_2500_cce/assets\n",
            "WARNING:absl:<keras.layers.recurrent.LSTMCell object at 0x7f047d3d2f10> has the same name 'LSTMCell' as a built-in Keras object. Consider renaming <class 'keras.layers.recurrent.LSTMCell'> to avoid naming conflicts when loading with `tf.keras.models.load_model`. If renaming is not possible, pass the object in the `custom_objects` parameter of the load function.\n",
            "WARNING:absl:<keras.layers.recurrent.LSTMCell object at 0x7f047d3be850> has the same name 'LSTMCell' as a built-in Keras object. Consider renaming <class 'keras.layers.recurrent.LSTMCell'> to avoid naming conflicts when loading with `tf.keras.models.load_model`. If renaming is not possible, pass the object in the `custom_objects` parameter of the load function.\n",
            "WARNING:absl:<keras.layers.recurrent.LSTMCell object at 0x7f047fdd03d0> has the same name 'LSTMCell' as a built-in Keras object. Consider renaming <class 'keras.layers.recurrent.LSTMCell'> to avoid naming conflicts when loading with `tf.keras.models.load_model`. If renaming is not possible, pass the object in the `custom_objects` parameter of the load function.\n",
            "WARNING:absl:<keras.layers.recurrent.LSTMCell object at 0x7f047cfc5710> has the same name 'LSTMCell' as a built-in Keras object. Consider renaming <class 'keras.layers.recurrent.LSTMCell'> to avoid naming conflicts when loading with `tf.keras.models.load_model`. If renaming is not possible, pass the object in the `custom_objects` parameter of the load function.\n",
            "WARNING:absl:<keras.layers.recurrent.LSTMCell object at 0x7f047d4fb450> has the same name 'LSTMCell' as a built-in Keras object. Consider renaming <class 'keras.layers.recurrent.LSTMCell'> to avoid naming conflicts when loading with `tf.keras.models.load_model`. If renaming is not possible, pass the object in the `custom_objects` parameter of the load function.\n",
            "WARNING:absl:<keras.layers.recurrent.LSTMCell object at 0x7f0481ffc910> has the same name 'LSTMCell' as a built-in Keras object. Consider renaming <class 'keras.layers.recurrent.LSTMCell'> to avoid naming conflicts when loading with `tf.keras.models.load_model`. If renaming is not possible, pass the object in the `custom_objects` parameter of the load function.\n"
          ]
        },
        {
          "name": "stdout",
          "output_type": "stream",
          "text": [
            "1500/1500 [==============================] - 146s 98ms/step - loss: 2.0324 - accuracy: 0.5950 - val_loss: 1.8732 - val_accuracy: 0.6261\n",
            "Epoch 4/50\n",
            "1500/1500 [==============================] - ETA: 0s - loss: 1.5791 - accuracy: 0.6651"
          ]
        },
        {
          "name": "stderr",
          "output_type": "stream",
          "text": [
            "WARNING:absl:Found untraced functions such as lstm_cell_27_layer_call_fn, lstm_cell_27_layer_call_and_return_conditional_losses, lstm_cell_28_layer_call_fn, lstm_cell_28_layer_call_and_return_conditional_losses, lstm_cell_25_layer_call_fn while saving (showing 5 of 30). These functions will not be directly callable after loading.\n"
          ]
        },
        {
          "name": "stdout",
          "output_type": "stream",
          "text": [
            "INFO:tensorflow:Assets written to: drive/MyDrive/Colab Notebooks/AEmodel_lstm_2500_cce/assets\n"
          ]
        },
        {
          "name": "stderr",
          "output_type": "stream",
          "text": [
            "INFO:tensorflow:Assets written to: drive/MyDrive/Colab Notebooks/AEmodel_lstm_2500_cce/assets\n",
            "WARNING:absl:<keras.layers.recurrent.LSTMCell object at 0x7f047d3d2f10> has the same name 'LSTMCell' as a built-in Keras object. Consider renaming <class 'keras.layers.recurrent.LSTMCell'> to avoid naming conflicts when loading with `tf.keras.models.load_model`. If renaming is not possible, pass the object in the `custom_objects` parameter of the load function.\n",
            "WARNING:absl:<keras.layers.recurrent.LSTMCell object at 0x7f047d3be850> has the same name 'LSTMCell' as a built-in Keras object. Consider renaming <class 'keras.layers.recurrent.LSTMCell'> to avoid naming conflicts when loading with `tf.keras.models.load_model`. If renaming is not possible, pass the object in the `custom_objects` parameter of the load function.\n",
            "WARNING:absl:<keras.layers.recurrent.LSTMCell object at 0x7f047fdd03d0> has the same name 'LSTMCell' as a built-in Keras object. Consider renaming <class 'keras.layers.recurrent.LSTMCell'> to avoid naming conflicts when loading with `tf.keras.models.load_model`. If renaming is not possible, pass the object in the `custom_objects` parameter of the load function.\n",
            "WARNING:absl:<keras.layers.recurrent.LSTMCell object at 0x7f047cfc5710> has the same name 'LSTMCell' as a built-in Keras object. Consider renaming <class 'keras.layers.recurrent.LSTMCell'> to avoid naming conflicts when loading with `tf.keras.models.load_model`. If renaming is not possible, pass the object in the `custom_objects` parameter of the load function.\n",
            "WARNING:absl:<keras.layers.recurrent.LSTMCell object at 0x7f047d4fb450> has the same name 'LSTMCell' as a built-in Keras object. Consider renaming <class 'keras.layers.recurrent.LSTMCell'> to avoid naming conflicts when loading with `tf.keras.models.load_model`. If renaming is not possible, pass the object in the `custom_objects` parameter of the load function.\n",
            "WARNING:absl:<keras.layers.recurrent.LSTMCell object at 0x7f0481ffc910> has the same name 'LSTMCell' as a built-in Keras object. Consider renaming <class 'keras.layers.recurrent.LSTMCell'> to avoid naming conflicts when loading with `tf.keras.models.load_model`. If renaming is not possible, pass the object in the `custom_objects` parameter of the load function.\n"
          ]
        },
        {
          "name": "stdout",
          "output_type": "stream",
          "text": [
            "1500/1500 [==============================] - 146s 98ms/step - loss: 1.5791 - accuracy: 0.6651 - val_loss: 1.4999 - val_accuracy: 0.6867\n",
            "Epoch 5/50\n",
            "1500/1500 [==============================] - ETA: 0s - loss: 1.2252 - accuracy: 0.7249"
          ]
        },
        {
          "name": "stderr",
          "output_type": "stream",
          "text": [
            "WARNING:absl:Found untraced functions such as lstm_cell_27_layer_call_fn, lstm_cell_27_layer_call_and_return_conditional_losses, lstm_cell_28_layer_call_fn, lstm_cell_28_layer_call_and_return_conditional_losses, lstm_cell_25_layer_call_fn while saving (showing 5 of 30). These functions will not be directly callable after loading.\n"
          ]
        },
        {
          "name": "stdout",
          "output_type": "stream",
          "text": [
            "INFO:tensorflow:Assets written to: drive/MyDrive/Colab Notebooks/AEmodel_lstm_2500_cce/assets\n"
          ]
        },
        {
          "name": "stderr",
          "output_type": "stream",
          "text": [
            "INFO:tensorflow:Assets written to: drive/MyDrive/Colab Notebooks/AEmodel_lstm_2500_cce/assets\n",
            "WARNING:absl:<keras.layers.recurrent.LSTMCell object at 0x7f047d3d2f10> has the same name 'LSTMCell' as a built-in Keras object. Consider renaming <class 'keras.layers.recurrent.LSTMCell'> to avoid naming conflicts when loading with `tf.keras.models.load_model`. If renaming is not possible, pass the object in the `custom_objects` parameter of the load function.\n",
            "WARNING:absl:<keras.layers.recurrent.LSTMCell object at 0x7f047d3be850> has the same name 'LSTMCell' as a built-in Keras object. Consider renaming <class 'keras.layers.recurrent.LSTMCell'> to avoid naming conflicts when loading with `tf.keras.models.load_model`. If renaming is not possible, pass the object in the `custom_objects` parameter of the load function.\n",
            "WARNING:absl:<keras.layers.recurrent.LSTMCell object at 0x7f047fdd03d0> has the same name 'LSTMCell' as a built-in Keras object. Consider renaming <class 'keras.layers.recurrent.LSTMCell'> to avoid naming conflicts when loading with `tf.keras.models.load_model`. If renaming is not possible, pass the object in the `custom_objects` parameter of the load function.\n",
            "WARNING:absl:<keras.layers.recurrent.LSTMCell object at 0x7f047cfc5710> has the same name 'LSTMCell' as a built-in Keras object. Consider renaming <class 'keras.layers.recurrent.LSTMCell'> to avoid naming conflicts when loading with `tf.keras.models.load_model`. If renaming is not possible, pass the object in the `custom_objects` parameter of the load function.\n",
            "WARNING:absl:<keras.layers.recurrent.LSTMCell object at 0x7f047d4fb450> has the same name 'LSTMCell' as a built-in Keras object. Consider renaming <class 'keras.layers.recurrent.LSTMCell'> to avoid naming conflicts when loading with `tf.keras.models.load_model`. If renaming is not possible, pass the object in the `custom_objects` parameter of the load function.\n",
            "WARNING:absl:<keras.layers.recurrent.LSTMCell object at 0x7f0481ffc910> has the same name 'LSTMCell' as a built-in Keras object. Consider renaming <class 'keras.layers.recurrent.LSTMCell'> to avoid naming conflicts when loading with `tf.keras.models.load_model`. If renaming is not possible, pass the object in the `custom_objects` parameter of the load function.\n"
          ]
        },
        {
          "name": "stdout",
          "output_type": "stream",
          "text": [
            "1500/1500 [==============================] - 148s 98ms/step - loss: 1.2252 - accuracy: 0.7249 - val_loss: 1.2451 - val_accuracy: 0.7267\n",
            "Epoch 6/50\n",
            "1500/1500 [==============================] - ETA: 0s - loss: 0.9488 - accuracy: 0.7758"
          ]
        },
        {
          "name": "stderr",
          "output_type": "stream",
          "text": [
            "WARNING:absl:Found untraced functions such as lstm_cell_27_layer_call_fn, lstm_cell_27_layer_call_and_return_conditional_losses, lstm_cell_28_layer_call_fn, lstm_cell_28_layer_call_and_return_conditional_losses, lstm_cell_25_layer_call_fn while saving (showing 5 of 30). These functions will not be directly callable after loading.\n"
          ]
        },
        {
          "name": "stdout",
          "output_type": "stream",
          "text": [
            "INFO:tensorflow:Assets written to: drive/MyDrive/Colab Notebooks/AEmodel_lstm_2500_cce/assets\n"
          ]
        },
        {
          "name": "stderr",
          "output_type": "stream",
          "text": [
            "INFO:tensorflow:Assets written to: drive/MyDrive/Colab Notebooks/AEmodel_lstm_2500_cce/assets\n",
            "WARNING:absl:<keras.layers.recurrent.LSTMCell object at 0x7f047d3d2f10> has the same name 'LSTMCell' as a built-in Keras object. Consider renaming <class 'keras.layers.recurrent.LSTMCell'> to avoid naming conflicts when loading with `tf.keras.models.load_model`. If renaming is not possible, pass the object in the `custom_objects` parameter of the load function.\n",
            "WARNING:absl:<keras.layers.recurrent.LSTMCell object at 0x7f047d3be850> has the same name 'LSTMCell' as a built-in Keras object. Consider renaming <class 'keras.layers.recurrent.LSTMCell'> to avoid naming conflicts when loading with `tf.keras.models.load_model`. If renaming is not possible, pass the object in the `custom_objects` parameter of the load function.\n",
            "WARNING:absl:<keras.layers.recurrent.LSTMCell object at 0x7f047fdd03d0> has the same name 'LSTMCell' as a built-in Keras object. Consider renaming <class 'keras.layers.recurrent.LSTMCell'> to avoid naming conflicts when loading with `tf.keras.models.load_model`. If renaming is not possible, pass the object in the `custom_objects` parameter of the load function.\n",
            "WARNING:absl:<keras.layers.recurrent.LSTMCell object at 0x7f047cfc5710> has the same name 'LSTMCell' as a built-in Keras object. Consider renaming <class 'keras.layers.recurrent.LSTMCell'> to avoid naming conflicts when loading with `tf.keras.models.load_model`. If renaming is not possible, pass the object in the `custom_objects` parameter of the load function.\n",
            "WARNING:absl:<keras.layers.recurrent.LSTMCell object at 0x7f047d4fb450> has the same name 'LSTMCell' as a built-in Keras object. Consider renaming <class 'keras.layers.recurrent.LSTMCell'> to avoid naming conflicts when loading with `tf.keras.models.load_model`. If renaming is not possible, pass the object in the `custom_objects` parameter of the load function.\n",
            "WARNING:absl:<keras.layers.recurrent.LSTMCell object at 0x7f0481ffc910> has the same name 'LSTMCell' as a built-in Keras object. Consider renaming <class 'keras.layers.recurrent.LSTMCell'> to avoid naming conflicts when loading with `tf.keras.models.load_model`. If renaming is not possible, pass the object in the `custom_objects` parameter of the load function.\n"
          ]
        },
        {
          "name": "stdout",
          "output_type": "stream",
          "text": [
            "1500/1500 [==============================] - 146s 97ms/step - loss: 0.9488 - accuracy: 0.7758 - val_loss: 1.0050 - val_accuracy: 0.7711\n",
            "Epoch 7/50\n",
            "1500/1500 [==============================] - ETA: 0s - loss: 0.7409 - accuracy: 0.8173"
          ]
        },
        {
          "name": "stderr",
          "output_type": "stream",
          "text": [
            "WARNING:absl:Found untraced functions such as lstm_cell_27_layer_call_fn, lstm_cell_27_layer_call_and_return_conditional_losses, lstm_cell_28_layer_call_fn, lstm_cell_28_layer_call_and_return_conditional_losses, lstm_cell_25_layer_call_fn while saving (showing 5 of 30). These functions will not be directly callable after loading.\n"
          ]
        },
        {
          "name": "stdout",
          "output_type": "stream",
          "text": [
            "INFO:tensorflow:Assets written to: drive/MyDrive/Colab Notebooks/AEmodel_lstm_2500_cce/assets\n"
          ]
        },
        {
          "name": "stderr",
          "output_type": "stream",
          "text": [
            "INFO:tensorflow:Assets written to: drive/MyDrive/Colab Notebooks/AEmodel_lstm_2500_cce/assets\n",
            "WARNING:absl:<keras.layers.recurrent.LSTMCell object at 0x7f047d3d2f10> has the same name 'LSTMCell' as a built-in Keras object. Consider renaming <class 'keras.layers.recurrent.LSTMCell'> to avoid naming conflicts when loading with `tf.keras.models.load_model`. If renaming is not possible, pass the object in the `custom_objects` parameter of the load function.\n",
            "WARNING:absl:<keras.layers.recurrent.LSTMCell object at 0x7f047d3be850> has the same name 'LSTMCell' as a built-in Keras object. Consider renaming <class 'keras.layers.recurrent.LSTMCell'> to avoid naming conflicts when loading with `tf.keras.models.load_model`. If renaming is not possible, pass the object in the `custom_objects` parameter of the load function.\n",
            "WARNING:absl:<keras.layers.recurrent.LSTMCell object at 0x7f047fdd03d0> has the same name 'LSTMCell' as a built-in Keras object. Consider renaming <class 'keras.layers.recurrent.LSTMCell'> to avoid naming conflicts when loading with `tf.keras.models.load_model`. If renaming is not possible, pass the object in the `custom_objects` parameter of the load function.\n",
            "WARNING:absl:<keras.layers.recurrent.LSTMCell object at 0x7f047cfc5710> has the same name 'LSTMCell' as a built-in Keras object. Consider renaming <class 'keras.layers.recurrent.LSTMCell'> to avoid naming conflicts when loading with `tf.keras.models.load_model`. If renaming is not possible, pass the object in the `custom_objects` parameter of the load function.\n",
            "WARNING:absl:<keras.layers.recurrent.LSTMCell object at 0x7f047d4fb450> has the same name 'LSTMCell' as a built-in Keras object. Consider renaming <class 'keras.layers.recurrent.LSTMCell'> to avoid naming conflicts when loading with `tf.keras.models.load_model`. If renaming is not possible, pass the object in the `custom_objects` parameter of the load function.\n",
            "WARNING:absl:<keras.layers.recurrent.LSTMCell object at 0x7f0481ffc910> has the same name 'LSTMCell' as a built-in Keras object. Consider renaming <class 'keras.layers.recurrent.LSTMCell'> to avoid naming conflicts when loading with `tf.keras.models.load_model`. If renaming is not possible, pass the object in the `custom_objects` parameter of the load function.\n"
          ]
        },
        {
          "name": "stdout",
          "output_type": "stream",
          "text": [
            "1500/1500 [==============================] - 147s 98ms/step - loss: 0.7409 - accuracy: 0.8173 - val_loss: 0.8395 - val_accuracy: 0.8034\n",
            "Epoch 8/50\n",
            "1500/1500 [==============================] - ETA: 0s - loss: 0.5655 - accuracy: 0.8562"
          ]
        },
        {
          "name": "stderr",
          "output_type": "stream",
          "text": [
            "WARNING:absl:Found untraced functions such as lstm_cell_27_layer_call_fn, lstm_cell_27_layer_call_and_return_conditional_losses, lstm_cell_28_layer_call_fn, lstm_cell_28_layer_call_and_return_conditional_losses, lstm_cell_25_layer_call_fn while saving (showing 5 of 30). These functions will not be directly callable after loading.\n"
          ]
        },
        {
          "name": "stdout",
          "output_type": "stream",
          "text": [
            "INFO:tensorflow:Assets written to: drive/MyDrive/Colab Notebooks/AEmodel_lstm_2500_cce/assets\n"
          ]
        },
        {
          "name": "stderr",
          "output_type": "stream",
          "text": [
            "INFO:tensorflow:Assets written to: drive/MyDrive/Colab Notebooks/AEmodel_lstm_2500_cce/assets\n",
            "WARNING:absl:<keras.layers.recurrent.LSTMCell object at 0x7f047d3d2f10> has the same name 'LSTMCell' as a built-in Keras object. Consider renaming <class 'keras.layers.recurrent.LSTMCell'> to avoid naming conflicts when loading with `tf.keras.models.load_model`. If renaming is not possible, pass the object in the `custom_objects` parameter of the load function.\n",
            "WARNING:absl:<keras.layers.recurrent.LSTMCell object at 0x7f047d3be850> has the same name 'LSTMCell' as a built-in Keras object. Consider renaming <class 'keras.layers.recurrent.LSTMCell'> to avoid naming conflicts when loading with `tf.keras.models.load_model`. If renaming is not possible, pass the object in the `custom_objects` parameter of the load function.\n",
            "WARNING:absl:<keras.layers.recurrent.LSTMCell object at 0x7f047fdd03d0> has the same name 'LSTMCell' as a built-in Keras object. Consider renaming <class 'keras.layers.recurrent.LSTMCell'> to avoid naming conflicts when loading with `tf.keras.models.load_model`. If renaming is not possible, pass the object in the `custom_objects` parameter of the load function.\n",
            "WARNING:absl:<keras.layers.recurrent.LSTMCell object at 0x7f047cfc5710> has the same name 'LSTMCell' as a built-in Keras object. Consider renaming <class 'keras.layers.recurrent.LSTMCell'> to avoid naming conflicts when loading with `tf.keras.models.load_model`. If renaming is not possible, pass the object in the `custom_objects` parameter of the load function.\n",
            "WARNING:absl:<keras.layers.recurrent.LSTMCell object at 0x7f047d4fb450> has the same name 'LSTMCell' as a built-in Keras object. Consider renaming <class 'keras.layers.recurrent.LSTMCell'> to avoid naming conflicts when loading with `tf.keras.models.load_model`. If renaming is not possible, pass the object in the `custom_objects` parameter of the load function.\n",
            "WARNING:absl:<keras.layers.recurrent.LSTMCell object at 0x7f0481ffc910> has the same name 'LSTMCell' as a built-in Keras object. Consider renaming <class 'keras.layers.recurrent.LSTMCell'> to avoid naming conflicts when loading with `tf.keras.models.load_model`. If renaming is not possible, pass the object in the `custom_objects` parameter of the load function.\n"
          ]
        },
        {
          "name": "stdout",
          "output_type": "stream",
          "text": [
            "1500/1500 [==============================] - 146s 98ms/step - loss: 0.5655 - accuracy: 0.8562 - val_loss: 0.7096 - val_accuracy: 0.8279\n",
            "Epoch 9/50\n",
            "1500/1500 [==============================] - ETA: 0s - loss: 0.4314 - accuracy: 0.8880"
          ]
        },
        {
          "name": "stderr",
          "output_type": "stream",
          "text": [
            "WARNING:absl:Found untraced functions such as lstm_cell_27_layer_call_fn, lstm_cell_27_layer_call_and_return_conditional_losses, lstm_cell_28_layer_call_fn, lstm_cell_28_layer_call_and_return_conditional_losses, lstm_cell_25_layer_call_fn while saving (showing 5 of 30). These functions will not be directly callable after loading.\n"
          ]
        },
        {
          "name": "stdout",
          "output_type": "stream",
          "text": [
            "INFO:tensorflow:Assets written to: drive/MyDrive/Colab Notebooks/AEmodel_lstm_2500_cce/assets\n"
          ]
        },
        {
          "name": "stderr",
          "output_type": "stream",
          "text": [
            "INFO:tensorflow:Assets written to: drive/MyDrive/Colab Notebooks/AEmodel_lstm_2500_cce/assets\n",
            "WARNING:absl:<keras.layers.recurrent.LSTMCell object at 0x7f047d3d2f10> has the same name 'LSTMCell' as a built-in Keras object. Consider renaming <class 'keras.layers.recurrent.LSTMCell'> to avoid naming conflicts when loading with `tf.keras.models.load_model`. If renaming is not possible, pass the object in the `custom_objects` parameter of the load function.\n",
            "WARNING:absl:<keras.layers.recurrent.LSTMCell object at 0x7f047d3be850> has the same name 'LSTMCell' as a built-in Keras object. Consider renaming <class 'keras.layers.recurrent.LSTMCell'> to avoid naming conflicts when loading with `tf.keras.models.load_model`. If renaming is not possible, pass the object in the `custom_objects` parameter of the load function.\n",
            "WARNING:absl:<keras.layers.recurrent.LSTMCell object at 0x7f047fdd03d0> has the same name 'LSTMCell' as a built-in Keras object. Consider renaming <class 'keras.layers.recurrent.LSTMCell'> to avoid naming conflicts when loading with `tf.keras.models.load_model`. If renaming is not possible, pass the object in the `custom_objects` parameter of the load function.\n",
            "WARNING:absl:<keras.layers.recurrent.LSTMCell object at 0x7f047cfc5710> has the same name 'LSTMCell' as a built-in Keras object. Consider renaming <class 'keras.layers.recurrent.LSTMCell'> to avoid naming conflicts when loading with `tf.keras.models.load_model`. If renaming is not possible, pass the object in the `custom_objects` parameter of the load function.\n",
            "WARNING:absl:<keras.layers.recurrent.LSTMCell object at 0x7f047d4fb450> has the same name 'LSTMCell' as a built-in Keras object. Consider renaming <class 'keras.layers.recurrent.LSTMCell'> to avoid naming conflicts when loading with `tf.keras.models.load_model`. If renaming is not possible, pass the object in the `custom_objects` parameter of the load function.\n",
            "WARNING:absl:<keras.layers.recurrent.LSTMCell object at 0x7f0481ffc910> has the same name 'LSTMCell' as a built-in Keras object. Consider renaming <class 'keras.layers.recurrent.LSTMCell'> to avoid naming conflicts when loading with `tf.keras.models.load_model`. If renaming is not possible, pass the object in the `custom_objects` parameter of the load function.\n"
          ]
        },
        {
          "name": "stdout",
          "output_type": "stream",
          "text": [
            "1500/1500 [==============================] - 146s 97ms/step - loss: 0.4314 - accuracy: 0.8880 - val_loss: 0.5924 - val_accuracy: 0.8524\n",
            "Epoch 10/50\n",
            "1500/1500 [==============================] - ETA: 0s - loss: 0.3363 - accuracy: 0.9111"
          ]
        },
        {
          "name": "stderr",
          "output_type": "stream",
          "text": [
            "WARNING:absl:Found untraced functions such as lstm_cell_27_layer_call_fn, lstm_cell_27_layer_call_and_return_conditional_losses, lstm_cell_28_layer_call_fn, lstm_cell_28_layer_call_and_return_conditional_losses, lstm_cell_25_layer_call_fn while saving (showing 5 of 30). These functions will not be directly callable after loading.\n"
          ]
        },
        {
          "name": "stdout",
          "output_type": "stream",
          "text": [
            "INFO:tensorflow:Assets written to: drive/MyDrive/Colab Notebooks/AEmodel_lstm_2500_cce/assets\n"
          ]
        },
        {
          "name": "stderr",
          "output_type": "stream",
          "text": [
            "INFO:tensorflow:Assets written to: drive/MyDrive/Colab Notebooks/AEmodel_lstm_2500_cce/assets\n",
            "WARNING:absl:<keras.layers.recurrent.LSTMCell object at 0x7f047d3d2f10> has the same name 'LSTMCell' as a built-in Keras object. Consider renaming <class 'keras.layers.recurrent.LSTMCell'> to avoid naming conflicts when loading with `tf.keras.models.load_model`. If renaming is not possible, pass the object in the `custom_objects` parameter of the load function.\n",
            "WARNING:absl:<keras.layers.recurrent.LSTMCell object at 0x7f047d3be850> has the same name 'LSTMCell' as a built-in Keras object. Consider renaming <class 'keras.layers.recurrent.LSTMCell'> to avoid naming conflicts when loading with `tf.keras.models.load_model`. If renaming is not possible, pass the object in the `custom_objects` parameter of the load function.\n",
            "WARNING:absl:<keras.layers.recurrent.LSTMCell object at 0x7f047fdd03d0> has the same name 'LSTMCell' as a built-in Keras object. Consider renaming <class 'keras.layers.recurrent.LSTMCell'> to avoid naming conflicts when loading with `tf.keras.models.load_model`. If renaming is not possible, pass the object in the `custom_objects` parameter of the load function.\n",
            "WARNING:absl:<keras.layers.recurrent.LSTMCell object at 0x7f047cfc5710> has the same name 'LSTMCell' as a built-in Keras object. Consider renaming <class 'keras.layers.recurrent.LSTMCell'> to avoid naming conflicts when loading with `tf.keras.models.load_model`. If renaming is not possible, pass the object in the `custom_objects` parameter of the load function.\n",
            "WARNING:absl:<keras.layers.recurrent.LSTMCell object at 0x7f047d4fb450> has the same name 'LSTMCell' as a built-in Keras object. Consider renaming <class 'keras.layers.recurrent.LSTMCell'> to avoid naming conflicts when loading with `tf.keras.models.load_model`. If renaming is not possible, pass the object in the `custom_objects` parameter of the load function.\n",
            "WARNING:absl:<keras.layers.recurrent.LSTMCell object at 0x7f0481ffc910> has the same name 'LSTMCell' as a built-in Keras object. Consider renaming <class 'keras.layers.recurrent.LSTMCell'> to avoid naming conflicts when loading with `tf.keras.models.load_model`. If renaming is not possible, pass the object in the `custom_objects` parameter of the load function.\n"
          ]
        },
        {
          "name": "stdout",
          "output_type": "stream",
          "text": [
            "1500/1500 [==============================] - 146s 97ms/step - loss: 0.3363 - accuracy: 0.9111 - val_loss: 0.5248 - val_accuracy: 0.8682\n",
            "Epoch 11/50\n",
            "1500/1500 [==============================] - ETA: 0s - loss: 0.2646 - accuracy: 0.9295"
          ]
        },
        {
          "name": "stderr",
          "output_type": "stream",
          "text": [
            "WARNING:absl:Found untraced functions such as lstm_cell_27_layer_call_fn, lstm_cell_27_layer_call_and_return_conditional_losses, lstm_cell_28_layer_call_fn, lstm_cell_28_layer_call_and_return_conditional_losses, lstm_cell_25_layer_call_fn while saving (showing 5 of 30). These functions will not be directly callable after loading.\n"
          ]
        },
        {
          "name": "stdout",
          "output_type": "stream",
          "text": [
            "INFO:tensorflow:Assets written to: drive/MyDrive/Colab Notebooks/AEmodel_lstm_2500_cce/assets\n"
          ]
        },
        {
          "name": "stderr",
          "output_type": "stream",
          "text": [
            "INFO:tensorflow:Assets written to: drive/MyDrive/Colab Notebooks/AEmodel_lstm_2500_cce/assets\n",
            "WARNING:absl:<keras.layers.recurrent.LSTMCell object at 0x7f047d3d2f10> has the same name 'LSTMCell' as a built-in Keras object. Consider renaming <class 'keras.layers.recurrent.LSTMCell'> to avoid naming conflicts when loading with `tf.keras.models.load_model`. If renaming is not possible, pass the object in the `custom_objects` parameter of the load function.\n",
            "WARNING:absl:<keras.layers.recurrent.LSTMCell object at 0x7f047d3be850> has the same name 'LSTMCell' as a built-in Keras object. Consider renaming <class 'keras.layers.recurrent.LSTMCell'> to avoid naming conflicts when loading with `tf.keras.models.load_model`. If renaming is not possible, pass the object in the `custom_objects` parameter of the load function.\n",
            "WARNING:absl:<keras.layers.recurrent.LSTMCell object at 0x7f047fdd03d0> has the same name 'LSTMCell' as a built-in Keras object. Consider renaming <class 'keras.layers.recurrent.LSTMCell'> to avoid naming conflicts when loading with `tf.keras.models.load_model`. If renaming is not possible, pass the object in the `custom_objects` parameter of the load function.\n",
            "WARNING:absl:<keras.layers.recurrent.LSTMCell object at 0x7f047cfc5710> has the same name 'LSTMCell' as a built-in Keras object. Consider renaming <class 'keras.layers.recurrent.LSTMCell'> to avoid naming conflicts when loading with `tf.keras.models.load_model`. If renaming is not possible, pass the object in the `custom_objects` parameter of the load function.\n",
            "WARNING:absl:<keras.layers.recurrent.LSTMCell object at 0x7f047d4fb450> has the same name 'LSTMCell' as a built-in Keras object. Consider renaming <class 'keras.layers.recurrent.LSTMCell'> to avoid naming conflicts when loading with `tf.keras.models.load_model`. If renaming is not possible, pass the object in the `custom_objects` parameter of the load function.\n",
            "WARNING:absl:<keras.layers.recurrent.LSTMCell object at 0x7f0481ffc910> has the same name 'LSTMCell' as a built-in Keras object. Consider renaming <class 'keras.layers.recurrent.LSTMCell'> to avoid naming conflicts when loading with `tf.keras.models.load_model`. If renaming is not possible, pass the object in the `custom_objects` parameter of the load function.\n"
          ]
        },
        {
          "name": "stdout",
          "output_type": "stream",
          "text": [
            "1500/1500 [==============================] - 146s 97ms/step - loss: 0.2646 - accuracy: 0.9295 - val_loss: 0.4887 - val_accuracy: 0.8741\n",
            "Epoch 12/50\n",
            "1500/1500 [==============================] - ETA: 0s - loss: 0.2133 - accuracy: 0.9427"
          ]
        },
        {
          "name": "stderr",
          "output_type": "stream",
          "text": [
            "WARNING:absl:Found untraced functions such as lstm_cell_27_layer_call_fn, lstm_cell_27_layer_call_and_return_conditional_losses, lstm_cell_28_layer_call_fn, lstm_cell_28_layer_call_and_return_conditional_losses, lstm_cell_25_layer_call_fn while saving (showing 5 of 30). These functions will not be directly callable after loading.\n"
          ]
        },
        {
          "name": "stdout",
          "output_type": "stream",
          "text": [
            "INFO:tensorflow:Assets written to: drive/MyDrive/Colab Notebooks/AEmodel_lstm_2500_cce/assets\n"
          ]
        },
        {
          "name": "stderr",
          "output_type": "stream",
          "text": [
            "INFO:tensorflow:Assets written to: drive/MyDrive/Colab Notebooks/AEmodel_lstm_2500_cce/assets\n",
            "WARNING:absl:<keras.layers.recurrent.LSTMCell object at 0x7f047d3d2f10> has the same name 'LSTMCell' as a built-in Keras object. Consider renaming <class 'keras.layers.recurrent.LSTMCell'> to avoid naming conflicts when loading with `tf.keras.models.load_model`. If renaming is not possible, pass the object in the `custom_objects` parameter of the load function.\n",
            "WARNING:absl:<keras.layers.recurrent.LSTMCell object at 0x7f047d3be850> has the same name 'LSTMCell' as a built-in Keras object. Consider renaming <class 'keras.layers.recurrent.LSTMCell'> to avoid naming conflicts when loading with `tf.keras.models.load_model`. If renaming is not possible, pass the object in the `custom_objects` parameter of the load function.\n",
            "WARNING:absl:<keras.layers.recurrent.LSTMCell object at 0x7f047fdd03d0> has the same name 'LSTMCell' as a built-in Keras object. Consider renaming <class 'keras.layers.recurrent.LSTMCell'> to avoid naming conflicts when loading with `tf.keras.models.load_model`. If renaming is not possible, pass the object in the `custom_objects` parameter of the load function.\n",
            "WARNING:absl:<keras.layers.recurrent.LSTMCell object at 0x7f047cfc5710> has the same name 'LSTMCell' as a built-in Keras object. Consider renaming <class 'keras.layers.recurrent.LSTMCell'> to avoid naming conflicts when loading with `tf.keras.models.load_model`. If renaming is not possible, pass the object in the `custom_objects` parameter of the load function.\n",
            "WARNING:absl:<keras.layers.recurrent.LSTMCell object at 0x7f047d4fb450> has the same name 'LSTMCell' as a built-in Keras object. Consider renaming <class 'keras.layers.recurrent.LSTMCell'> to avoid naming conflicts when loading with `tf.keras.models.load_model`. If renaming is not possible, pass the object in the `custom_objects` parameter of the load function.\n",
            "WARNING:absl:<keras.layers.recurrent.LSTMCell object at 0x7f0481ffc910> has the same name 'LSTMCell' as a built-in Keras object. Consider renaming <class 'keras.layers.recurrent.LSTMCell'> to avoid naming conflicts when loading with `tf.keras.models.load_model`. If renaming is not possible, pass the object in the `custom_objects` parameter of the load function.\n"
          ]
        },
        {
          "name": "stdout",
          "output_type": "stream",
          "text": [
            "1500/1500 [==============================] - 146s 97ms/step - loss: 0.2133 - accuracy: 0.9427 - val_loss: 0.4461 - val_accuracy: 0.8837\n",
            "Epoch 13/50\n",
            "1500/1500 [==============================] - ETA: 0s - loss: 0.1790 - accuracy: 0.9518"
          ]
        },
        {
          "name": "stderr",
          "output_type": "stream",
          "text": [
            "WARNING:absl:Found untraced functions such as lstm_cell_27_layer_call_fn, lstm_cell_27_layer_call_and_return_conditional_losses, lstm_cell_28_layer_call_fn, lstm_cell_28_layer_call_and_return_conditional_losses, lstm_cell_25_layer_call_fn while saving (showing 5 of 30). These functions will not be directly callable after loading.\n"
          ]
        },
        {
          "name": "stdout",
          "output_type": "stream",
          "text": [
            "INFO:tensorflow:Assets written to: drive/MyDrive/Colab Notebooks/AEmodel_lstm_2500_cce/assets\n"
          ]
        },
        {
          "name": "stderr",
          "output_type": "stream",
          "text": [
            "INFO:tensorflow:Assets written to: drive/MyDrive/Colab Notebooks/AEmodel_lstm_2500_cce/assets\n",
            "WARNING:absl:<keras.layers.recurrent.LSTMCell object at 0x7f047d3d2f10> has the same name 'LSTMCell' as a built-in Keras object. Consider renaming <class 'keras.layers.recurrent.LSTMCell'> to avoid naming conflicts when loading with `tf.keras.models.load_model`. If renaming is not possible, pass the object in the `custom_objects` parameter of the load function.\n",
            "WARNING:absl:<keras.layers.recurrent.LSTMCell object at 0x7f047d3be850> has the same name 'LSTMCell' as a built-in Keras object. Consider renaming <class 'keras.layers.recurrent.LSTMCell'> to avoid naming conflicts when loading with `tf.keras.models.load_model`. If renaming is not possible, pass the object in the `custom_objects` parameter of the load function.\n",
            "WARNING:absl:<keras.layers.recurrent.LSTMCell object at 0x7f047fdd03d0> has the same name 'LSTMCell' as a built-in Keras object. Consider renaming <class 'keras.layers.recurrent.LSTMCell'> to avoid naming conflicts when loading with `tf.keras.models.load_model`. If renaming is not possible, pass the object in the `custom_objects` parameter of the load function.\n",
            "WARNING:absl:<keras.layers.recurrent.LSTMCell object at 0x7f047cfc5710> has the same name 'LSTMCell' as a built-in Keras object. Consider renaming <class 'keras.layers.recurrent.LSTMCell'> to avoid naming conflicts when loading with `tf.keras.models.load_model`. If renaming is not possible, pass the object in the `custom_objects` parameter of the load function.\n",
            "WARNING:absl:<keras.layers.recurrent.LSTMCell object at 0x7f047d4fb450> has the same name 'LSTMCell' as a built-in Keras object. Consider renaming <class 'keras.layers.recurrent.LSTMCell'> to avoid naming conflicts when loading with `tf.keras.models.load_model`. If renaming is not possible, pass the object in the `custom_objects` parameter of the load function.\n",
            "WARNING:absl:<keras.layers.recurrent.LSTMCell object at 0x7f0481ffc910> has the same name 'LSTMCell' as a built-in Keras object. Consider renaming <class 'keras.layers.recurrent.LSTMCell'> to avoid naming conflicts when loading with `tf.keras.models.load_model`. If renaming is not possible, pass the object in the `custom_objects` parameter of the load function.\n"
          ]
        },
        {
          "name": "stdout",
          "output_type": "stream",
          "text": [
            "1500/1500 [==============================] - 145s 97ms/step - loss: 0.1790 - accuracy: 0.9518 - val_loss: 0.4130 - val_accuracy: 0.8907\n",
            "Epoch 14/50\n",
            "1500/1500 [==============================] - ETA: 0s - loss: 0.1461 - accuracy: 0.9608"
          ]
        },
        {
          "name": "stderr",
          "output_type": "stream",
          "text": [
            "WARNING:absl:Found untraced functions such as lstm_cell_27_layer_call_fn, lstm_cell_27_layer_call_and_return_conditional_losses, lstm_cell_28_layer_call_fn, lstm_cell_28_layer_call_and_return_conditional_losses, lstm_cell_25_layer_call_fn while saving (showing 5 of 30). These functions will not be directly callable after loading.\n"
          ]
        },
        {
          "name": "stdout",
          "output_type": "stream",
          "text": [
            "INFO:tensorflow:Assets written to: drive/MyDrive/Colab Notebooks/AEmodel_lstm_2500_cce/assets\n"
          ]
        },
        {
          "name": "stderr",
          "output_type": "stream",
          "text": [
            "INFO:tensorflow:Assets written to: drive/MyDrive/Colab Notebooks/AEmodel_lstm_2500_cce/assets\n",
            "WARNING:absl:<keras.layers.recurrent.LSTMCell object at 0x7f047d3d2f10> has the same name 'LSTMCell' as a built-in Keras object. Consider renaming <class 'keras.layers.recurrent.LSTMCell'> to avoid naming conflicts when loading with `tf.keras.models.load_model`. If renaming is not possible, pass the object in the `custom_objects` parameter of the load function.\n",
            "WARNING:absl:<keras.layers.recurrent.LSTMCell object at 0x7f047d3be850> has the same name 'LSTMCell' as a built-in Keras object. Consider renaming <class 'keras.layers.recurrent.LSTMCell'> to avoid naming conflicts when loading with `tf.keras.models.load_model`. If renaming is not possible, pass the object in the `custom_objects` parameter of the load function.\n",
            "WARNING:absl:<keras.layers.recurrent.LSTMCell object at 0x7f047fdd03d0> has the same name 'LSTMCell' as a built-in Keras object. Consider renaming <class 'keras.layers.recurrent.LSTMCell'> to avoid naming conflicts when loading with `tf.keras.models.load_model`. If renaming is not possible, pass the object in the `custom_objects` parameter of the load function.\n",
            "WARNING:absl:<keras.layers.recurrent.LSTMCell object at 0x7f047cfc5710> has the same name 'LSTMCell' as a built-in Keras object. Consider renaming <class 'keras.layers.recurrent.LSTMCell'> to avoid naming conflicts when loading with `tf.keras.models.load_model`. If renaming is not possible, pass the object in the `custom_objects` parameter of the load function.\n",
            "WARNING:absl:<keras.layers.recurrent.LSTMCell object at 0x7f047d4fb450> has the same name 'LSTMCell' as a built-in Keras object. Consider renaming <class 'keras.layers.recurrent.LSTMCell'> to avoid naming conflicts when loading with `tf.keras.models.load_model`. If renaming is not possible, pass the object in the `custom_objects` parameter of the load function.\n",
            "WARNING:absl:<keras.layers.recurrent.LSTMCell object at 0x7f0481ffc910> has the same name 'LSTMCell' as a built-in Keras object. Consider renaming <class 'keras.layers.recurrent.LSTMCell'> to avoid naming conflicts when loading with `tf.keras.models.load_model`. If renaming is not possible, pass the object in the `custom_objects` parameter of the load function.\n"
          ]
        },
        {
          "name": "stdout",
          "output_type": "stream",
          "text": [
            "1500/1500 [==============================] - 146s 97ms/step - loss: 0.1461 - accuracy: 0.9608 - val_loss: 0.4015 - val_accuracy: 0.8956\n",
            "Epoch 15/50\n",
            "1500/1500 [==============================] - ETA: 0s - loss: 0.1256 - accuracy: 0.9661"
          ]
        },
        {
          "name": "stderr",
          "output_type": "stream",
          "text": [
            "WARNING:absl:Found untraced functions such as lstm_cell_27_layer_call_fn, lstm_cell_27_layer_call_and_return_conditional_losses, lstm_cell_28_layer_call_fn, lstm_cell_28_layer_call_and_return_conditional_losses, lstm_cell_25_layer_call_fn while saving (showing 5 of 30). These functions will not be directly callable after loading.\n"
          ]
        },
        {
          "name": "stdout",
          "output_type": "stream",
          "text": [
            "INFO:tensorflow:Assets written to: drive/MyDrive/Colab Notebooks/AEmodel_lstm_2500_cce/assets\n"
          ]
        },
        {
          "name": "stderr",
          "output_type": "stream",
          "text": [
            "INFO:tensorflow:Assets written to: drive/MyDrive/Colab Notebooks/AEmodel_lstm_2500_cce/assets\n",
            "WARNING:absl:<keras.layers.recurrent.LSTMCell object at 0x7f047d3d2f10> has the same name 'LSTMCell' as a built-in Keras object. Consider renaming <class 'keras.layers.recurrent.LSTMCell'> to avoid naming conflicts when loading with `tf.keras.models.load_model`. If renaming is not possible, pass the object in the `custom_objects` parameter of the load function.\n",
            "WARNING:absl:<keras.layers.recurrent.LSTMCell object at 0x7f047d3be850> has the same name 'LSTMCell' as a built-in Keras object. Consider renaming <class 'keras.layers.recurrent.LSTMCell'> to avoid naming conflicts when loading with `tf.keras.models.load_model`. If renaming is not possible, pass the object in the `custom_objects` parameter of the load function.\n",
            "WARNING:absl:<keras.layers.recurrent.LSTMCell object at 0x7f047fdd03d0> has the same name 'LSTMCell' as a built-in Keras object. Consider renaming <class 'keras.layers.recurrent.LSTMCell'> to avoid naming conflicts when loading with `tf.keras.models.load_model`. If renaming is not possible, pass the object in the `custom_objects` parameter of the load function.\n",
            "WARNING:absl:<keras.layers.recurrent.LSTMCell object at 0x7f047cfc5710> has the same name 'LSTMCell' as a built-in Keras object. Consider renaming <class 'keras.layers.recurrent.LSTMCell'> to avoid naming conflicts when loading with `tf.keras.models.load_model`. If renaming is not possible, pass the object in the `custom_objects` parameter of the load function.\n",
            "WARNING:absl:<keras.layers.recurrent.LSTMCell object at 0x7f047d4fb450> has the same name 'LSTMCell' as a built-in Keras object. Consider renaming <class 'keras.layers.recurrent.LSTMCell'> to avoid naming conflicts when loading with `tf.keras.models.load_model`. If renaming is not possible, pass the object in the `custom_objects` parameter of the load function.\n",
            "WARNING:absl:<keras.layers.recurrent.LSTMCell object at 0x7f0481ffc910> has the same name 'LSTMCell' as a built-in Keras object. Consider renaming <class 'keras.layers.recurrent.LSTMCell'> to avoid naming conflicts when loading with `tf.keras.models.load_model`. If renaming is not possible, pass the object in the `custom_objects` parameter of the load function.\n"
          ]
        },
        {
          "name": "stdout",
          "output_type": "stream",
          "text": [
            "1500/1500 [==============================] - 146s 97ms/step - loss: 0.1256 - accuracy: 0.9661 - val_loss: 0.3811 - val_accuracy: 0.9013\n",
            "Epoch 16/50\n",
            "1500/1500 [==============================] - 106s 70ms/step - loss: 0.1047 - accuracy: 0.9720 - val_loss: 0.3854 - val_accuracy: 0.9003\n",
            "Epoch 17/50\n",
            "1500/1500 [==============================] - ETA: 0s - loss: 0.0940 - accuracy: 0.9745"
          ]
        },
        {
          "name": "stderr",
          "output_type": "stream",
          "text": [
            "WARNING:absl:Found untraced functions such as lstm_cell_27_layer_call_fn, lstm_cell_27_layer_call_and_return_conditional_losses, lstm_cell_28_layer_call_fn, lstm_cell_28_layer_call_and_return_conditional_losses, lstm_cell_25_layer_call_fn while saving (showing 5 of 30). These functions will not be directly callable after loading.\n"
          ]
        },
        {
          "name": "stdout",
          "output_type": "stream",
          "text": [
            "INFO:tensorflow:Assets written to: drive/MyDrive/Colab Notebooks/AEmodel_lstm_2500_cce/assets\n"
          ]
        },
        {
          "name": "stderr",
          "output_type": "stream",
          "text": [
            "INFO:tensorflow:Assets written to: drive/MyDrive/Colab Notebooks/AEmodel_lstm_2500_cce/assets\n",
            "WARNING:absl:<keras.layers.recurrent.LSTMCell object at 0x7f047d3d2f10> has the same name 'LSTMCell' as a built-in Keras object. Consider renaming <class 'keras.layers.recurrent.LSTMCell'> to avoid naming conflicts when loading with `tf.keras.models.load_model`. If renaming is not possible, pass the object in the `custom_objects` parameter of the load function.\n",
            "WARNING:absl:<keras.layers.recurrent.LSTMCell object at 0x7f047d3be850> has the same name 'LSTMCell' as a built-in Keras object. Consider renaming <class 'keras.layers.recurrent.LSTMCell'> to avoid naming conflicts when loading with `tf.keras.models.load_model`. If renaming is not possible, pass the object in the `custom_objects` parameter of the load function.\n",
            "WARNING:absl:<keras.layers.recurrent.LSTMCell object at 0x7f047fdd03d0> has the same name 'LSTMCell' as a built-in Keras object. Consider renaming <class 'keras.layers.recurrent.LSTMCell'> to avoid naming conflicts when loading with `tf.keras.models.load_model`. If renaming is not possible, pass the object in the `custom_objects` parameter of the load function.\n",
            "WARNING:absl:<keras.layers.recurrent.LSTMCell object at 0x7f047cfc5710> has the same name 'LSTMCell' as a built-in Keras object. Consider renaming <class 'keras.layers.recurrent.LSTMCell'> to avoid naming conflicts when loading with `tf.keras.models.load_model`. If renaming is not possible, pass the object in the `custom_objects` parameter of the load function.\n",
            "WARNING:absl:<keras.layers.recurrent.LSTMCell object at 0x7f047d4fb450> has the same name 'LSTMCell' as a built-in Keras object. Consider renaming <class 'keras.layers.recurrent.LSTMCell'> to avoid naming conflicts when loading with `tf.keras.models.load_model`. If renaming is not possible, pass the object in the `custom_objects` parameter of the load function.\n",
            "WARNING:absl:<keras.layers.recurrent.LSTMCell object at 0x7f0481ffc910> has the same name 'LSTMCell' as a built-in Keras object. Consider renaming <class 'keras.layers.recurrent.LSTMCell'> to avoid naming conflicts when loading with `tf.keras.models.load_model`. If renaming is not possible, pass the object in the `custom_objects` parameter of the load function.\n"
          ]
        },
        {
          "name": "stdout",
          "output_type": "stream",
          "text": [
            "1500/1500 [==============================] - 148s 99ms/step - loss: 0.0940 - accuracy: 0.9745 - val_loss: 0.3330 - val_accuracy: 0.9136\n",
            "Epoch 18/50\n",
            "1500/1500 [==============================] - ETA: 0s - loss: 0.0824 - accuracy: 0.9777"
          ]
        },
        {
          "name": "stderr",
          "output_type": "stream",
          "text": [
            "WARNING:absl:Found untraced functions such as lstm_cell_27_layer_call_fn, lstm_cell_27_layer_call_and_return_conditional_losses, lstm_cell_28_layer_call_fn, lstm_cell_28_layer_call_and_return_conditional_losses, lstm_cell_25_layer_call_fn while saving (showing 5 of 30). These functions will not be directly callable after loading.\n"
          ]
        },
        {
          "name": "stdout",
          "output_type": "stream",
          "text": [
            "INFO:tensorflow:Assets written to: drive/MyDrive/Colab Notebooks/AEmodel_lstm_2500_cce/assets\n"
          ]
        },
        {
          "name": "stderr",
          "output_type": "stream",
          "text": [
            "INFO:tensorflow:Assets written to: drive/MyDrive/Colab Notebooks/AEmodel_lstm_2500_cce/assets\n",
            "WARNING:absl:<keras.layers.recurrent.LSTMCell object at 0x7f047d3d2f10> has the same name 'LSTMCell' as a built-in Keras object. Consider renaming <class 'keras.layers.recurrent.LSTMCell'> to avoid naming conflicts when loading with `tf.keras.models.load_model`. If renaming is not possible, pass the object in the `custom_objects` parameter of the load function.\n",
            "WARNING:absl:<keras.layers.recurrent.LSTMCell object at 0x7f047d3be850> has the same name 'LSTMCell' as a built-in Keras object. Consider renaming <class 'keras.layers.recurrent.LSTMCell'> to avoid naming conflicts when loading with `tf.keras.models.load_model`. If renaming is not possible, pass the object in the `custom_objects` parameter of the load function.\n",
            "WARNING:absl:<keras.layers.recurrent.LSTMCell object at 0x7f047fdd03d0> has the same name 'LSTMCell' as a built-in Keras object. Consider renaming <class 'keras.layers.recurrent.LSTMCell'> to avoid naming conflicts when loading with `tf.keras.models.load_model`. If renaming is not possible, pass the object in the `custom_objects` parameter of the load function.\n",
            "WARNING:absl:<keras.layers.recurrent.LSTMCell object at 0x7f047cfc5710> has the same name 'LSTMCell' as a built-in Keras object. Consider renaming <class 'keras.layers.recurrent.LSTMCell'> to avoid naming conflicts when loading with `tf.keras.models.load_model`. If renaming is not possible, pass the object in the `custom_objects` parameter of the load function.\n",
            "WARNING:absl:<keras.layers.recurrent.LSTMCell object at 0x7f047d4fb450> has the same name 'LSTMCell' as a built-in Keras object. Consider renaming <class 'keras.layers.recurrent.LSTMCell'> to avoid naming conflicts when loading with `tf.keras.models.load_model`. If renaming is not possible, pass the object in the `custom_objects` parameter of the load function.\n",
            "WARNING:absl:<keras.layers.recurrent.LSTMCell object at 0x7f0481ffc910> has the same name 'LSTMCell' as a built-in Keras object. Consider renaming <class 'keras.layers.recurrent.LSTMCell'> to avoid naming conflicts when loading with `tf.keras.models.load_model`. If renaming is not possible, pass the object in the `custom_objects` parameter of the load function.\n"
          ]
        },
        {
          "name": "stdout",
          "output_type": "stream",
          "text": [
            "1500/1500 [==============================] - 149s 99ms/step - loss: 0.0824 - accuracy: 0.9777 - val_loss: 0.3171 - val_accuracy: 0.9179\n",
            "Epoch 19/50\n",
            "1500/1500 [==============================] - 107s 71ms/step - loss: 0.0763 - accuracy: 0.9790 - val_loss: 0.3296 - val_accuracy: 0.9156\n",
            "Epoch 20/50\n",
            "1500/1500 [==============================] - 107s 71ms/step - loss: 0.0706 - accuracy: 0.9805 - val_loss: 0.3237 - val_accuracy: 0.9169\n",
            "Epoch 21/50\n",
            "1500/1500 [==============================] - 106s 71ms/step - loss: 0.0621 - accuracy: 0.9829 - val_loss: 0.3230 - val_accuracy: 0.9177\n",
            "Epoch 22/50\n",
            "1500/1500 [==============================] - ETA: 0s - loss: 0.0574 - accuracy: 0.9841"
          ]
        },
        {
          "name": "stderr",
          "output_type": "stream",
          "text": [
            "WARNING:absl:Found untraced functions such as lstm_cell_27_layer_call_fn, lstm_cell_27_layer_call_and_return_conditional_losses, lstm_cell_28_layer_call_fn, lstm_cell_28_layer_call_and_return_conditional_losses, lstm_cell_25_layer_call_fn while saving (showing 5 of 30). These functions will not be directly callable after loading.\n"
          ]
        },
        {
          "name": "stdout",
          "output_type": "stream",
          "text": [
            "INFO:tensorflow:Assets written to: drive/MyDrive/Colab Notebooks/AEmodel_lstm_2500_cce/assets\n"
          ]
        },
        {
          "name": "stderr",
          "output_type": "stream",
          "text": [
            "INFO:tensorflow:Assets written to: drive/MyDrive/Colab Notebooks/AEmodel_lstm_2500_cce/assets\n",
            "WARNING:absl:<keras.layers.recurrent.LSTMCell object at 0x7f047d3d2f10> has the same name 'LSTMCell' as a built-in Keras object. Consider renaming <class 'keras.layers.recurrent.LSTMCell'> to avoid naming conflicts when loading with `tf.keras.models.load_model`. If renaming is not possible, pass the object in the `custom_objects` parameter of the load function.\n",
            "WARNING:absl:<keras.layers.recurrent.LSTMCell object at 0x7f047d3be850> has the same name 'LSTMCell' as a built-in Keras object. Consider renaming <class 'keras.layers.recurrent.LSTMCell'> to avoid naming conflicts when loading with `tf.keras.models.load_model`. If renaming is not possible, pass the object in the `custom_objects` parameter of the load function.\n",
            "WARNING:absl:<keras.layers.recurrent.LSTMCell object at 0x7f047fdd03d0> has the same name 'LSTMCell' as a built-in Keras object. Consider renaming <class 'keras.layers.recurrent.LSTMCell'> to avoid naming conflicts when loading with `tf.keras.models.load_model`. If renaming is not possible, pass the object in the `custom_objects` parameter of the load function.\n",
            "WARNING:absl:<keras.layers.recurrent.LSTMCell object at 0x7f047cfc5710> has the same name 'LSTMCell' as a built-in Keras object. Consider renaming <class 'keras.layers.recurrent.LSTMCell'> to avoid naming conflicts when loading with `tf.keras.models.load_model`. If renaming is not possible, pass the object in the `custom_objects` parameter of the load function.\n",
            "WARNING:absl:<keras.layers.recurrent.LSTMCell object at 0x7f047d4fb450> has the same name 'LSTMCell' as a built-in Keras object. Consider renaming <class 'keras.layers.recurrent.LSTMCell'> to avoid naming conflicts when loading with `tf.keras.models.load_model`. If renaming is not possible, pass the object in the `custom_objects` parameter of the load function.\n",
            "WARNING:absl:<keras.layers.recurrent.LSTMCell object at 0x7f0481ffc910> has the same name 'LSTMCell' as a built-in Keras object. Consider renaming <class 'keras.layers.recurrent.LSTMCell'> to avoid naming conflicts when loading with `tf.keras.models.load_model`. If renaming is not possible, pass the object in the `custom_objects` parameter of the load function.\n"
          ]
        },
        {
          "name": "stdout",
          "output_type": "stream",
          "text": [
            "1500/1500 [==============================] - 147s 98ms/step - loss: 0.0574 - accuracy: 0.9841 - val_loss: 0.3170 - val_accuracy: 0.9194\n",
            "Epoch 23/50\n",
            "1500/1500 [==============================] - ETA: 0s - loss: 0.0544 - accuracy: 0.9847"
          ]
        },
        {
          "name": "stderr",
          "output_type": "stream",
          "text": [
            "WARNING:absl:Found untraced functions such as lstm_cell_27_layer_call_fn, lstm_cell_27_layer_call_and_return_conditional_losses, lstm_cell_28_layer_call_fn, lstm_cell_28_layer_call_and_return_conditional_losses, lstm_cell_25_layer_call_fn while saving (showing 5 of 30). These functions will not be directly callable after loading.\n"
          ]
        },
        {
          "name": "stdout",
          "output_type": "stream",
          "text": [
            "INFO:tensorflow:Assets written to: drive/MyDrive/Colab Notebooks/AEmodel_lstm_2500_cce/assets\n"
          ]
        },
        {
          "name": "stderr",
          "output_type": "stream",
          "text": [
            "INFO:tensorflow:Assets written to: drive/MyDrive/Colab Notebooks/AEmodel_lstm_2500_cce/assets\n",
            "WARNING:absl:<keras.layers.recurrent.LSTMCell object at 0x7f047d3d2f10> has the same name 'LSTMCell' as a built-in Keras object. Consider renaming <class 'keras.layers.recurrent.LSTMCell'> to avoid naming conflicts when loading with `tf.keras.models.load_model`. If renaming is not possible, pass the object in the `custom_objects` parameter of the load function.\n",
            "WARNING:absl:<keras.layers.recurrent.LSTMCell object at 0x7f047d3be850> has the same name 'LSTMCell' as a built-in Keras object. Consider renaming <class 'keras.layers.recurrent.LSTMCell'> to avoid naming conflicts when loading with `tf.keras.models.load_model`. If renaming is not possible, pass the object in the `custom_objects` parameter of the load function.\n",
            "WARNING:absl:<keras.layers.recurrent.LSTMCell object at 0x7f047fdd03d0> has the same name 'LSTMCell' as a built-in Keras object. Consider renaming <class 'keras.layers.recurrent.LSTMCell'> to avoid naming conflicts when loading with `tf.keras.models.load_model`. If renaming is not possible, pass the object in the `custom_objects` parameter of the load function.\n",
            "WARNING:absl:<keras.layers.recurrent.LSTMCell object at 0x7f047cfc5710> has the same name 'LSTMCell' as a built-in Keras object. Consider renaming <class 'keras.layers.recurrent.LSTMCell'> to avoid naming conflicts when loading with `tf.keras.models.load_model`. If renaming is not possible, pass the object in the `custom_objects` parameter of the load function.\n",
            "WARNING:absl:<keras.layers.recurrent.LSTMCell object at 0x7f047d4fb450> has the same name 'LSTMCell' as a built-in Keras object. Consider renaming <class 'keras.layers.recurrent.LSTMCell'> to avoid naming conflicts when loading with `tf.keras.models.load_model`. If renaming is not possible, pass the object in the `custom_objects` parameter of the load function.\n",
            "WARNING:absl:<keras.layers.recurrent.LSTMCell object at 0x7f0481ffc910> has the same name 'LSTMCell' as a built-in Keras object. Consider renaming <class 'keras.layers.recurrent.LSTMCell'> to avoid naming conflicts when loading with `tf.keras.models.load_model`. If renaming is not possible, pass the object in the `custom_objects` parameter of the load function.\n"
          ]
        },
        {
          "name": "stdout",
          "output_type": "stream",
          "text": [
            "1500/1500 [==============================] - 147s 98ms/step - loss: 0.0544 - accuracy: 0.9847 - val_loss: 0.3165 - val_accuracy: 0.9193\n",
            "Epoch 24/50\n",
            "1500/1500 [==============================] - ETA: 0s - loss: 0.0517 - accuracy: 0.9854"
          ]
        },
        {
          "name": "stderr",
          "output_type": "stream",
          "text": [
            "WARNING:absl:Found untraced functions such as lstm_cell_27_layer_call_fn, lstm_cell_27_layer_call_and_return_conditional_losses, lstm_cell_28_layer_call_fn, lstm_cell_28_layer_call_and_return_conditional_losses, lstm_cell_25_layer_call_fn while saving (showing 5 of 30). These functions will not be directly callable after loading.\n"
          ]
        },
        {
          "name": "stdout",
          "output_type": "stream",
          "text": [
            "INFO:tensorflow:Assets written to: drive/MyDrive/Colab Notebooks/AEmodel_lstm_2500_cce/assets\n"
          ]
        },
        {
          "name": "stderr",
          "output_type": "stream",
          "text": [
            "INFO:tensorflow:Assets written to: drive/MyDrive/Colab Notebooks/AEmodel_lstm_2500_cce/assets\n",
            "WARNING:absl:<keras.layers.recurrent.LSTMCell object at 0x7f047d3d2f10> has the same name 'LSTMCell' as a built-in Keras object. Consider renaming <class 'keras.layers.recurrent.LSTMCell'> to avoid naming conflicts when loading with `tf.keras.models.load_model`. If renaming is not possible, pass the object in the `custom_objects` parameter of the load function.\n",
            "WARNING:absl:<keras.layers.recurrent.LSTMCell object at 0x7f047d3be850> has the same name 'LSTMCell' as a built-in Keras object. Consider renaming <class 'keras.layers.recurrent.LSTMCell'> to avoid naming conflicts when loading with `tf.keras.models.load_model`. If renaming is not possible, pass the object in the `custom_objects` parameter of the load function.\n",
            "WARNING:absl:<keras.layers.recurrent.LSTMCell object at 0x7f047fdd03d0> has the same name 'LSTMCell' as a built-in Keras object. Consider renaming <class 'keras.layers.recurrent.LSTMCell'> to avoid naming conflicts when loading with `tf.keras.models.load_model`. If renaming is not possible, pass the object in the `custom_objects` parameter of the load function.\n",
            "WARNING:absl:<keras.layers.recurrent.LSTMCell object at 0x7f047cfc5710> has the same name 'LSTMCell' as a built-in Keras object. Consider renaming <class 'keras.layers.recurrent.LSTMCell'> to avoid naming conflicts when loading with `tf.keras.models.load_model`. If renaming is not possible, pass the object in the `custom_objects` parameter of the load function.\n",
            "WARNING:absl:<keras.layers.recurrent.LSTMCell object at 0x7f047d4fb450> has the same name 'LSTMCell' as a built-in Keras object. Consider renaming <class 'keras.layers.recurrent.LSTMCell'> to avoid naming conflicts when loading with `tf.keras.models.load_model`. If renaming is not possible, pass the object in the `custom_objects` parameter of the load function.\n",
            "WARNING:absl:<keras.layers.recurrent.LSTMCell object at 0x7f0481ffc910> has the same name 'LSTMCell' as a built-in Keras object. Consider renaming <class 'keras.layers.recurrent.LSTMCell'> to avoid naming conflicts when loading with `tf.keras.models.load_model`. If renaming is not possible, pass the object in the `custom_objects` parameter of the load function.\n"
          ]
        },
        {
          "name": "stdout",
          "output_type": "stream",
          "text": [
            "1500/1500 [==============================] - 147s 98ms/step - loss: 0.0517 - accuracy: 0.9854 - val_loss: 0.3140 - val_accuracy: 0.9221\n",
            "Epoch 25/50\n",
            "1500/1500 [==============================] - ETA: 0s - loss: 0.0476 - accuracy: 0.9866"
          ]
        },
        {
          "name": "stderr",
          "output_type": "stream",
          "text": [
            "WARNING:absl:Found untraced functions such as lstm_cell_27_layer_call_fn, lstm_cell_27_layer_call_and_return_conditional_losses, lstm_cell_28_layer_call_fn, lstm_cell_28_layer_call_and_return_conditional_losses, lstm_cell_25_layer_call_fn while saving (showing 5 of 30). These functions will not be directly callable after loading.\n"
          ]
        },
        {
          "name": "stdout",
          "output_type": "stream",
          "text": [
            "INFO:tensorflow:Assets written to: drive/MyDrive/Colab Notebooks/AEmodel_lstm_2500_cce/assets\n"
          ]
        },
        {
          "name": "stderr",
          "output_type": "stream",
          "text": [
            "INFO:tensorflow:Assets written to: drive/MyDrive/Colab Notebooks/AEmodel_lstm_2500_cce/assets\n",
            "WARNING:absl:<keras.layers.recurrent.LSTMCell object at 0x7f047d3d2f10> has the same name 'LSTMCell' as a built-in Keras object. Consider renaming <class 'keras.layers.recurrent.LSTMCell'> to avoid naming conflicts when loading with `tf.keras.models.load_model`. If renaming is not possible, pass the object in the `custom_objects` parameter of the load function.\n",
            "WARNING:absl:<keras.layers.recurrent.LSTMCell object at 0x7f047d3be850> has the same name 'LSTMCell' as a built-in Keras object. Consider renaming <class 'keras.layers.recurrent.LSTMCell'> to avoid naming conflicts when loading with `tf.keras.models.load_model`. If renaming is not possible, pass the object in the `custom_objects` parameter of the load function.\n",
            "WARNING:absl:<keras.layers.recurrent.LSTMCell object at 0x7f047fdd03d0> has the same name 'LSTMCell' as a built-in Keras object. Consider renaming <class 'keras.layers.recurrent.LSTMCell'> to avoid naming conflicts when loading with `tf.keras.models.load_model`. If renaming is not possible, pass the object in the `custom_objects` parameter of the load function.\n",
            "WARNING:absl:<keras.layers.recurrent.LSTMCell object at 0x7f047cfc5710> has the same name 'LSTMCell' as a built-in Keras object. Consider renaming <class 'keras.layers.recurrent.LSTMCell'> to avoid naming conflicts when loading with `tf.keras.models.load_model`. If renaming is not possible, pass the object in the `custom_objects` parameter of the load function.\n",
            "WARNING:absl:<keras.layers.recurrent.LSTMCell object at 0x7f047d4fb450> has the same name 'LSTMCell' as a built-in Keras object. Consider renaming <class 'keras.layers.recurrent.LSTMCell'> to avoid naming conflicts when loading with `tf.keras.models.load_model`. If renaming is not possible, pass the object in the `custom_objects` parameter of the load function.\n",
            "WARNING:absl:<keras.layers.recurrent.LSTMCell object at 0x7f0481ffc910> has the same name 'LSTMCell' as a built-in Keras object. Consider renaming <class 'keras.layers.recurrent.LSTMCell'> to avoid naming conflicts when loading with `tf.keras.models.load_model`. If renaming is not possible, pass the object in the `custom_objects` parameter of the load function.\n"
          ]
        },
        {
          "name": "stdout",
          "output_type": "stream",
          "text": [
            "1500/1500 [==============================] - 148s 98ms/step - loss: 0.0476 - accuracy: 0.9866 - val_loss: 0.2913 - val_accuracy: 0.9274\n",
            "Epoch 26/50\n",
            "1500/1500 [==============================] - 106s 71ms/step - loss: 0.0451 - accuracy: 0.9872 - val_loss: 0.2959 - val_accuracy: 0.9265\n",
            "Epoch 27/50\n",
            "1500/1500 [==============================] - ETA: 0s - loss: 0.0444 - accuracy: 0.9871"
          ]
        },
        {
          "name": "stderr",
          "output_type": "stream",
          "text": [
            "WARNING:absl:Found untraced functions such as lstm_cell_27_layer_call_fn, lstm_cell_27_layer_call_and_return_conditional_losses, lstm_cell_28_layer_call_fn, lstm_cell_28_layer_call_and_return_conditional_losses, lstm_cell_25_layer_call_fn while saving (showing 5 of 30). These functions will not be directly callable after loading.\n"
          ]
        },
        {
          "name": "stdout",
          "output_type": "stream",
          "text": [
            "INFO:tensorflow:Assets written to: drive/MyDrive/Colab Notebooks/AEmodel_lstm_2500_cce/assets\n"
          ]
        },
        {
          "name": "stderr",
          "output_type": "stream",
          "text": [
            "INFO:tensorflow:Assets written to: drive/MyDrive/Colab Notebooks/AEmodel_lstm_2500_cce/assets\n",
            "WARNING:absl:<keras.layers.recurrent.LSTMCell object at 0x7f047d3d2f10> has the same name 'LSTMCell' as a built-in Keras object. Consider renaming <class 'keras.layers.recurrent.LSTMCell'> to avoid naming conflicts when loading with `tf.keras.models.load_model`. If renaming is not possible, pass the object in the `custom_objects` parameter of the load function.\n",
            "WARNING:absl:<keras.layers.recurrent.LSTMCell object at 0x7f047d3be850> has the same name 'LSTMCell' as a built-in Keras object. Consider renaming <class 'keras.layers.recurrent.LSTMCell'> to avoid naming conflicts when loading with `tf.keras.models.load_model`. If renaming is not possible, pass the object in the `custom_objects` parameter of the load function.\n",
            "WARNING:absl:<keras.layers.recurrent.LSTMCell object at 0x7f047fdd03d0> has the same name 'LSTMCell' as a built-in Keras object. Consider renaming <class 'keras.layers.recurrent.LSTMCell'> to avoid naming conflicts when loading with `tf.keras.models.load_model`. If renaming is not possible, pass the object in the `custom_objects` parameter of the load function.\n",
            "WARNING:absl:<keras.layers.recurrent.LSTMCell object at 0x7f047cfc5710> has the same name 'LSTMCell' as a built-in Keras object. Consider renaming <class 'keras.layers.recurrent.LSTMCell'> to avoid naming conflicts when loading with `tf.keras.models.load_model`. If renaming is not possible, pass the object in the `custom_objects` parameter of the load function.\n",
            "WARNING:absl:<keras.layers.recurrent.LSTMCell object at 0x7f047d4fb450> has the same name 'LSTMCell' as a built-in Keras object. Consider renaming <class 'keras.layers.recurrent.LSTMCell'> to avoid naming conflicts when loading with `tf.keras.models.load_model`. If renaming is not possible, pass the object in the `custom_objects` parameter of the load function.\n",
            "WARNING:absl:<keras.layers.recurrent.LSTMCell object at 0x7f0481ffc910> has the same name 'LSTMCell' as a built-in Keras object. Consider renaming <class 'keras.layers.recurrent.LSTMCell'> to avoid naming conflicts when loading with `tf.keras.models.load_model`. If renaming is not possible, pass the object in the `custom_objects` parameter of the load function.\n"
          ]
        },
        {
          "name": "stdout",
          "output_type": "stream",
          "text": [
            "1500/1500 [==============================] - 148s 99ms/step - loss: 0.0444 - accuracy: 0.9871 - val_loss: 0.2847 - val_accuracy: 0.9299\n",
            "Epoch 28/50\n",
            "1500/1500 [==============================] - 107s 71ms/step - loss: 0.0417 - accuracy: 0.9880 - val_loss: 0.2994 - val_accuracy: 0.9269\n",
            "Epoch 29/50\n",
            "1500/1500 [==============================] - 106s 71ms/step - loss: 0.0399 - accuracy: 0.9884 - val_loss: 0.2983 - val_accuracy: 0.9281\n",
            "Epoch 30/50\n",
            "1500/1500 [==============================] - ETA: 0s - loss: 0.0386 - accuracy: 0.9888"
          ]
        },
        {
          "name": "stderr",
          "output_type": "stream",
          "text": [
            "WARNING:absl:Found untraced functions such as lstm_cell_27_layer_call_fn, lstm_cell_27_layer_call_and_return_conditional_losses, lstm_cell_28_layer_call_fn, lstm_cell_28_layer_call_and_return_conditional_losses, lstm_cell_25_layer_call_fn while saving (showing 5 of 30). These functions will not be directly callable after loading.\n"
          ]
        },
        {
          "name": "stdout",
          "output_type": "stream",
          "text": [
            "INFO:tensorflow:Assets written to: drive/MyDrive/Colab Notebooks/AEmodel_lstm_2500_cce/assets\n"
          ]
        },
        {
          "name": "stderr",
          "output_type": "stream",
          "text": [
            "INFO:tensorflow:Assets written to: drive/MyDrive/Colab Notebooks/AEmodel_lstm_2500_cce/assets\n",
            "WARNING:absl:<keras.layers.recurrent.LSTMCell object at 0x7f047d3d2f10> has the same name 'LSTMCell' as a built-in Keras object. Consider renaming <class 'keras.layers.recurrent.LSTMCell'> to avoid naming conflicts when loading with `tf.keras.models.load_model`. If renaming is not possible, pass the object in the `custom_objects` parameter of the load function.\n",
            "WARNING:absl:<keras.layers.recurrent.LSTMCell object at 0x7f047d3be850> has the same name 'LSTMCell' as a built-in Keras object. Consider renaming <class 'keras.layers.recurrent.LSTMCell'> to avoid naming conflicts when loading with `tf.keras.models.load_model`. If renaming is not possible, pass the object in the `custom_objects` parameter of the load function.\n",
            "WARNING:absl:<keras.layers.recurrent.LSTMCell object at 0x7f047fdd03d0> has the same name 'LSTMCell' as a built-in Keras object. Consider renaming <class 'keras.layers.recurrent.LSTMCell'> to avoid naming conflicts when loading with `tf.keras.models.load_model`. If renaming is not possible, pass the object in the `custom_objects` parameter of the load function.\n",
            "WARNING:absl:<keras.layers.recurrent.LSTMCell object at 0x7f047cfc5710> has the same name 'LSTMCell' as a built-in Keras object. Consider renaming <class 'keras.layers.recurrent.LSTMCell'> to avoid naming conflicts when loading with `tf.keras.models.load_model`. If renaming is not possible, pass the object in the `custom_objects` parameter of the load function.\n",
            "WARNING:absl:<keras.layers.recurrent.LSTMCell object at 0x7f047d4fb450> has the same name 'LSTMCell' as a built-in Keras object. Consider renaming <class 'keras.layers.recurrent.LSTMCell'> to avoid naming conflicts when loading with `tf.keras.models.load_model`. If renaming is not possible, pass the object in the `custom_objects` parameter of the load function.\n",
            "WARNING:absl:<keras.layers.recurrent.LSTMCell object at 0x7f0481ffc910> has the same name 'LSTMCell' as a built-in Keras object. Consider renaming <class 'keras.layers.recurrent.LSTMCell'> to avoid naming conflicts when loading with `tf.keras.models.load_model`. If renaming is not possible, pass the object in the `custom_objects` parameter of the load function.\n"
          ]
        },
        {
          "name": "stdout",
          "output_type": "stream",
          "text": [
            "1500/1500 [==============================] - 145s 97ms/step - loss: 0.0386 - accuracy: 0.9888 - val_loss: 0.2843 - val_accuracy: 0.9308\n",
            "Epoch 31/50\n",
            "1500/1500 [==============================] - 106s 70ms/step - loss: 0.0354 - accuracy: 0.9897 - val_loss: 0.2910 - val_accuracy: 0.9293\n",
            "Epoch 32/50\n",
            "1500/1500 [==============================] - 105s 70ms/step - loss: 0.0347 - accuracy: 0.9898 - val_loss: 0.2907 - val_accuracy: 0.9293\n",
            "Epoch 33/50\n",
            "1500/1500 [==============================] - 106s 71ms/step - loss: 0.0352 - accuracy: 0.9894 - val_loss: 0.2911 - val_accuracy: 0.9296\n",
            "Epoch 34/50\n",
            "1500/1500 [==============================] - ETA: 0s - loss: 0.0337 - accuracy: 0.9901"
          ]
        },
        {
          "name": "stderr",
          "output_type": "stream",
          "text": [
            "WARNING:absl:Found untraced functions such as lstm_cell_27_layer_call_fn, lstm_cell_27_layer_call_and_return_conditional_losses, lstm_cell_28_layer_call_fn, lstm_cell_28_layer_call_and_return_conditional_losses, lstm_cell_25_layer_call_fn while saving (showing 5 of 30). These functions will not be directly callable after loading.\n"
          ]
        },
        {
          "name": "stdout",
          "output_type": "stream",
          "text": [
            "INFO:tensorflow:Assets written to: drive/MyDrive/Colab Notebooks/AEmodel_lstm_2500_cce/assets\n"
          ]
        },
        {
          "name": "stderr",
          "output_type": "stream",
          "text": [
            "INFO:tensorflow:Assets written to: drive/MyDrive/Colab Notebooks/AEmodel_lstm_2500_cce/assets\n",
            "WARNING:absl:<keras.layers.recurrent.LSTMCell object at 0x7f047d3d2f10> has the same name 'LSTMCell' as a built-in Keras object. Consider renaming <class 'keras.layers.recurrent.LSTMCell'> to avoid naming conflicts when loading with `tf.keras.models.load_model`. If renaming is not possible, pass the object in the `custom_objects` parameter of the load function.\n",
            "WARNING:absl:<keras.layers.recurrent.LSTMCell object at 0x7f047d3be850> has the same name 'LSTMCell' as a built-in Keras object. Consider renaming <class 'keras.layers.recurrent.LSTMCell'> to avoid naming conflicts when loading with `tf.keras.models.load_model`. If renaming is not possible, pass the object in the `custom_objects` parameter of the load function.\n",
            "WARNING:absl:<keras.layers.recurrent.LSTMCell object at 0x7f047fdd03d0> has the same name 'LSTMCell' as a built-in Keras object. Consider renaming <class 'keras.layers.recurrent.LSTMCell'> to avoid naming conflicts when loading with `tf.keras.models.load_model`. If renaming is not possible, pass the object in the `custom_objects` parameter of the load function.\n",
            "WARNING:absl:<keras.layers.recurrent.LSTMCell object at 0x7f047cfc5710> has the same name 'LSTMCell' as a built-in Keras object. Consider renaming <class 'keras.layers.recurrent.LSTMCell'> to avoid naming conflicts when loading with `tf.keras.models.load_model`. If renaming is not possible, pass the object in the `custom_objects` parameter of the load function.\n",
            "WARNING:absl:<keras.layers.recurrent.LSTMCell object at 0x7f047d4fb450> has the same name 'LSTMCell' as a built-in Keras object. Consider renaming <class 'keras.layers.recurrent.LSTMCell'> to avoid naming conflicts when loading with `tf.keras.models.load_model`. If renaming is not possible, pass the object in the `custom_objects` parameter of the load function.\n",
            "WARNING:absl:<keras.layers.recurrent.LSTMCell object at 0x7f0481ffc910> has the same name 'LSTMCell' as a built-in Keras object. Consider renaming <class 'keras.layers.recurrent.LSTMCell'> to avoid naming conflicts when loading with `tf.keras.models.load_model`. If renaming is not possible, pass the object in the `custom_objects` parameter of the load function.\n"
          ]
        },
        {
          "name": "stdout",
          "output_type": "stream",
          "text": [
            "1500/1500 [==============================] - 146s 97ms/step - loss: 0.0337 - accuracy: 0.9901 - val_loss: 0.2601 - val_accuracy: 0.9377\n",
            "Epoch 35/50\n",
            "1500/1500 [==============================] - 107s 71ms/step - loss: 0.0316 - accuracy: 0.9907 - val_loss: 0.2717 - val_accuracy: 0.9356\n",
            "Epoch 36/50\n",
            "1500/1500 [==============================] - 107s 71ms/step - loss: 0.0321 - accuracy: 0.9903 - val_loss: 0.2846 - val_accuracy: 0.9330\n",
            "Epoch 37/50\n",
            "1500/1500 [==============================] - 107s 71ms/step - loss: 0.0283 - accuracy: 0.9917 - val_loss: 0.2922 - val_accuracy: 0.9318\n",
            "Epoch 38/50\n",
            "1500/1500 [==============================] - 107s 71ms/step - loss: 0.0302 - accuracy: 0.9910 - val_loss: 0.3119 - val_accuracy: 0.9261\n",
            "Epoch 39/50\n",
            "1500/1500 [==============================] - 107s 71ms/step - loss: 0.0275 - accuracy: 0.9917 - val_loss: 0.2828 - val_accuracy: 0.9327\n",
            "Epoch 40/50\n",
            "1500/1500 [==============================] - 107s 72ms/step - loss: 0.0274 - accuracy: 0.9918 - val_loss: 0.2737 - val_accuracy: 0.9347\n",
            "Epoch 41/50\n",
            "1500/1500 [==============================] - 107s 71ms/step - loss: 0.0260 - accuracy: 0.9921 - val_loss: 0.2742 - val_accuracy: 0.9353\n",
            "Epoch 42/50\n",
            "1500/1500 [==============================] - 107s 71ms/step - loss: 0.0268 - accuracy: 0.9919 - val_loss: 0.2873 - val_accuracy: 0.9333\n",
            "Epoch 43/50\n",
            "1500/1500 [==============================] - 107s 71ms/step - loss: 0.0255 - accuracy: 0.9923 - val_loss: 0.2841 - val_accuracy: 0.9337\n",
            "Epoch 44/50\n",
            "1500/1500 [==============================] - 107s 71ms/step - loss: 0.0245 - accuracy: 0.9926 - val_loss: 0.2895 - val_accuracy: 0.9327\n",
            "Epoch 45/50\n",
            "1500/1500 [==============================] - 107s 71ms/step - loss: 0.0245 - accuracy: 0.9925 - val_loss: 0.2810 - val_accuracy: 0.9360\n",
            "Epoch 46/50\n",
            "1500/1500 [==============================] - 107s 71ms/step - loss: 0.0245 - accuracy: 0.9924 - val_loss: 0.2932 - val_accuracy: 0.9330\n",
            "Epoch 47/50\n",
            "1500/1500 [==============================] - 106s 71ms/step - loss: 0.0236 - accuracy: 0.9927 - val_loss: 0.2710 - val_accuracy: 0.9371\n",
            "Epoch 48/50\n",
            "1500/1500 [==============================] - 107s 71ms/step - loss: 0.0226 - accuracy: 0.9931 - val_loss: 0.2979 - val_accuracy: 0.9320\n",
            "Epoch 49/50\n",
            "1500/1500 [==============================] - 106s 71ms/step - loss: 0.0215 - accuracy: 0.9934 - val_loss: 0.2932 - val_accuracy: 0.9344\n",
            "Epoch 50/50\n",
            "1500/1500 [==============================] - 106s 71ms/step - loss: 0.0216 - accuracy: 0.9933 - val_loss: 0.3031 - val_accuracy: 0.9316\n"
          ]
        }
      ]
    },
    {
      "cell_type": "code",
      "metadata": {
        "colab": {
          "background_save": true
        },
        "id": "B38ussjDYhkF",
        "outputId": "e875c9c3-4cee-4d77-bebf-5024f1cd00b7"
      },
      "source": [
        "from matplotlib import pyplot as plt\n",
        "\n",
        "# plot loss and accuracy\n",
        "plt.plot(history.history['accuracy'])\n",
        "plt.plot(history.history['val_accuracy'])\n",
        "plt.title('model accuracy')\n",
        "plt.ylabel('accuracy')\n",
        "plt.xlabel('epoch')\n",
        "plt.legend(['train', 'val'], loc='upper left')\n",
        "plt.savefig(PLOT_PATH.format('AE_accuracy'))\n",
        "plt.show()\n",
        "\n",
        "\n",
        "plt.plot(history.history['loss'])\n",
        "plt.plot(history.history['val_loss'])\n",
        "plt.title('model loss')\n",
        "plt.ylabel('loss')\n",
        "plt.xlabel('epoch')\n",
        "plt.legend(['train', 'val'], loc='upper left')\n",
        "plt.savefig(PLOT_PATH.format('AE_loss'))\n",
        "plt.show()"
      ],
      "execution_count": null,
      "outputs": [
        {
          "data": {
            "image/png": "[encoded data removed]",
            "text/plain": [
              "<Figure size 432x288 with 1 Axes>"
            ]
          },
          "metadata": {},
          "output_type": "display_data"
        },
        {
          "data": {
            "image/png": "[encoded data removed]",
            "text/plain": [
              "<Figure size 432x288 with 1 Axes>"
            ]
          },
          "metadata": {},
          "output_type": "display_data"
        }
      ]
    },
    {
      "cell_type": "markdown",
      "metadata": {
        "id": "I2SWYFZ3xYiX"
      },
      "source": [
        "**Autoencoder test**"
      ]
    },
    {
      "cell_type": "code",
      "metadata": {
        "id": "NDIOZHGuft8D"
      },
      "source": [
        "from keras import *\n",
        "import keras.backend as K\n",
        "from keras.layers import *\n",
        "from keras.models import load_model\n",
        "\n",
        "# load model\n",
        "def load_autoencoder(path):\n",
        "      model = load_model(path)\n",
        "\n",
        "      # split into encoder and decoder\n",
        "      encoder = Model(model.input, model.get_layer('encoder').output)\n",
        "      decoder = Model(model.get_layer('decoder_input').input, model.get_layer('decoder').output)\n",
        "\n",
        "      # add Argmax layer to decoder to convert results to real one-hot encoding\n",
        "      one_hot_to_index = Lambda(lambda x: K.cast(K.argmax(x), dtype='float32'))(decoder.output)\n",
        "      decoder = Model(decoder.input, one_hot_to_index)\n",
        "      return (encoder, decoder, model)\n",
        "\n",
        "(enc, dec, model) = load_autoencoder(AE_MODEL_PATH)"
      ],
      "execution_count": 21,
      "outputs": []
    },
    {
      "cell_type": "markdown",
      "metadata": {
        "id": "PG2BWybRN2dl"
      },
      "source": [
        "As You can see below, autoencoder works really well.<br>\n",
        "There are many OOV tokens which implies too small vocabulary size."
      ]
    },
    {
      "cell_type": "code",
      "metadata": {
        "id": "mQJHBIUxfzbT",
        "colab": {
          "base_uri": "https://localhost:8080/"
        },
        "outputId": "0a3e35ac-5559-4ea7-f876-2a67cb53566c"
      },
      "source": [
        "from tensorflow.keras.utils import to_categorical\n",
        "\n",
        "# prints input and predicted sentence\n",
        "def print_test(seq):\n",
        "    seq = seq.reshape(1, 20)\n",
        "    predicted = model.predict(seq)\n",
        "    predicted = np.argmax(predicted, axis=2) # convert one-hot to standard encoding\n",
        "    \n",
        "    print(\"IN SENTENCE         {}\".format(' '.join(dataLoader.tokenizer.sequences_to_texts(seq))))\n",
        "    print(\"PREDICTED SENTENCE  {}\".format(' '.join(dataLoader.tokenizer.sequences_to_texts(predicted))))\n",
        "    print(\"----------------------------\")\n",
        "\n",
        "print_test(data[0])\n",
        "print_test(data[15])\n",
        "print_test(data[20])\n",
        "print_test(data[100])\n",
        "print_test(data[40000])\n",
        "print_test(data[40070])\n",
        "print_test(data[40051])"
      ],
      "execution_count": 25,
      "outputs": [
        {
          "output_type": "stream",
          "name": "stdout",
          "text": [
            "IN SENTENCE         effort barely <OOV> over the line . also stars anthony <OOV> e <OOV> . . saturday <OOV> 5 <OOV> video\n",
            "PREDICTED SENTENCE  effort barely <OOV> over the line . also stars anthony <OOV> e <OOV> . . saturday <OOV> 5 <OOV> video\n",
            "----------------------------\n",
            "IN SENTENCE         some wonderful musical <OOV> . if you enjoyed thank your lucky stars and hollywood <OOV> you'll like this one .\n",
            "PREDICTED SENTENCE  some wonderful musical <OOV> . if you enjoyed thank your lucky stars and hollywood <OOV> you'll like this one .\n",
            "----------------------------\n",
            "IN SENTENCE         for <OOV> don't bother . this movie only <OOV> in at <OOV> minutes but it feels like an <OOV> .\n",
            "PREDICTED SENTENCE  for <OOV> don't bother . this movie only <OOV> in at <OOV> minutes but it feels like an <OOV> .\n",
            "----------------------------\n",
            "IN SENTENCE         major problem the whole group faced . everyone seems to get their life back but was it the right choice\n",
            "PREDICTED SENTENCE  major problem the whole group faced . everyone seems to get their life back but was it the right choice\n",
            "----------------------------\n",
            "IN SENTENCE         <OOV> a little on that . the movie was just decent not worth <OOV> 9 <OOV> for though sorry .\n",
            "PREDICTED SENTENCE  <OOV> a little on that . the movie was just decent not worth <OOV> 9 <OOV> for though sorry .\n",
            "----------------------------\n",
            "IN SENTENCE         wait a minute this seems kind of familiar . <OOV> to say i didn't watch <OOV> war that night .\n",
            "PREDICTED SENTENCE  wait a minute this seems kind of familiar . <OOV> to say i didn't watch <OOV> war that night .\n",
            "----------------------------\n",
            "IN SENTENCE         i feel and anyone could make the movie like this i don't believe so . thanks <OOV> thanks <OOV> .\n",
            "PREDICTED SENTENCE  i feel and anyone could make the movie like this i don't believe so . thanks <OOV> thanks <OOV> .\n",
            "----------------------------\n"
          ]
        }
      ]
    }
  ]
}