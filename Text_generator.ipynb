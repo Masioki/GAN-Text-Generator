{
  "nbformat": 4,
  "nbformat_minor": 0,
  "metadata": {
    "accelerator": "GPU",
    "colab": {
      "name": "Text generator.ipynb",
      "provenance": [],
      "collapsed_sections": [],
      "include_colab_link": true
    },
    "kernelspec": {
      "display_name": "Python 3",
      "name": "python3"
    },
    "language_info": {
      "name": "python"
    }
  },
  "cells": [
    {
      "cell_type": "markdown",
      "metadata": {
        "id": "view-in-github",
        "colab_type": "text"
      },
      "source": [
        "<a href=\"https://colab.research.google.com/github/Masioki/GAN-Text-Generator/blob/main/Text_generator.ipynb\" target=\"_parent\"><img src=\"https://colab.research.google.com/assets/colab-badge.svg\" alt=\"Open In Colab\"/></a>"
      ]
    },
    {
      "cell_type": "markdown",
      "metadata": {
        "id": "wkMuANZMTCy8"
      },
      "source": [
        "**GAN based random text generator**\n",
        "\n",
        "GAN is well known for it's non-discrete data generation abilities.<br>\n",
        "In this notebook I'll adapt and train GAN for text generation(based on [LaText GAN](https://arxiv.org/pdf/1810.06640.pdf)). "
      ]
    },
    {
      "cell_type": "markdown",
      "metadata": {
        "id": "fFVYyRiViSt3"
      },
      "source": [
        "First, let's create data loader with tokenizer."
      ]
    },
    {
      "cell_type": "code",
      "metadata": {
        "id": "HdrcxxmKIz_g"
      },
      "source": [
        "import re\n",
        "from tensorflow.keras.utils import to_categorical\n",
        "import numpy as np\n",
        "import pandas as pd\n",
        "from keras.preprocessing.sequence import pad_sequences\n",
        "from keras.preprocessing.text import Tokenizer\n",
        "\n",
        "\n",
        "class DataLoader:\n",
        "\n",
        "    def __init__(self, src_csv=\"\", src_column='', sentence_len=100, num_words=10000):\n",
        "        self.__src_csv = src_csv  # source csv file with test data\n",
        "        self.__src_column = src_column # column name in source file\n",
        "        self.__sentence_len = sentence_len  # max sentence length\n",
        "        self.__num_words = num_words  # number of most frequent words to keep\n",
        "        self.__tokenizer = None # tokenizer\n",
        "        self.sentences = []  # text data\n",
        "        self.sequences = np.array([])  # indexed data from tokenizer\n",
        "\n",
        "    def __load_file(self):\n",
        "        df = pd.read_csv(self.__src_csv, keep_default_na=False) \n",
        "        self.sentences = [re.sub(r\"<.*?>\", \" \", x) for x in df['review']]  # remove html tags\n",
        "        self.sentences = [s.replace('.', ' .') for s in self.sentences] # let's keep period\n",
        "        self.sentences = [ ' '.join(s.split(' ')[:int(self.__sentence_len * 1.2)])  for s in self.sentences]\n",
        "        # rest of data cleaning is done by tokenizer\n",
        "\n",
        "    def __init_tokenizer(self):\n",
        "        # Tokenization\n",
        "        # splitted by space\n",
        "        # filters = default - period sign\n",
        "        # unknown word set to <OOV>\n",
        "        # lower case\n",
        "        # saves only __num_words most frequent words\n",
        "        self.tokenizer = Tokenizer(num_words=self.__num_words, lower=True, split=' ', oov_token='<OOV>', filters='!\"#$%&()*+,-/:;<=>?@[\\\\]^_`{|}~\\t\\n')\n",
        "        self.tokenizer.fit_on_texts(self.sentences) # fit on text data\n",
        "        \n",
        "    def __init_sequences(self):\n",
        "        if self.sequences.size < 1:\n",
        "            self.__load_file()\n",
        "            self.__init_tokenizer()\n",
        "            self.sequences = self.tokenizer.texts_to_sequences(self.sentences) # text to tokenizer indexes\n",
        "            self.sequences = pad_sequences(self.sequences, maxlen=self.__sentence_len, dtype='float32', padding='post') # padding \n",
        "            \n",
        "\n",
        "    def get(self):\n",
        "        self.__init_sequences()\n",
        "        return self.sequences"
      ],
      "execution_count": 16,
      "outputs": []
    },
    {
      "cell_type": "markdown",
      "metadata": {
        "id": "G3t0VXj-j99h"
      },
      "source": [
        "Define all parameters and paths."
      ]
    },
    {
      "cell_type": "code",
      "metadata": {
        "id": "adWjSLnSJPOA"
      },
      "source": [
        "SOURCE_FILE = \"drive/MyDrive/Colab Notebooks/IMDB Dataset.csv\" # test data file path (here IMDB reviews)\n",
        "AE_MODEL_PATH=\"drive/MyDrive/Colab Notebooks/AEmodel_lstm_4500_cce_dd_2\" # autoencoder path\n",
        "PLOT_PATH=\"drive/MyDrive/Colab Notebooks/plots/{}2.png\" # plots path\n",
        "HISTORY_PATH=\"drive/MyDrive/Colab Notebooks/history/{}2.csv\" # learning history path\n",
        "EMBEDDING_PATH=\"drive/MyDrive/Colab Notebooks/model.txt\" # path to prepared word embedding\n",
        "EMBEDDING_MATRIX_PATH=\"embedding_matrix.npy\" # path to embedding matrix\n",
        "\n",
        "MAX_WORD_NUM = 4500 # max number of most frequent words to save\n",
        "MAX_SEQUENCE_LEN = 20 # max sentence length\n",
        "ENCODED_VECTOR_LEN = 300 # enoded sentence length\n",
        "EMBEDDING_SIZE = 300 # embedding vector length"
      ],
      "execution_count": 3,
      "outputs": []
    },
    {
      "cell_type": "markdown",
      "metadata": {
        "id": "heLX0RZJki3b"
      },
      "source": [
        "Load our data."
      ]
    },
    {
      "cell_type": "code",
      "metadata": {
        "colab": {
          "base_uri": "https://localhost:8080/"
        },
        "id": "KG2O2g4-kgB9",
        "outputId": "704c5d77-ac0a-4704-df08-781152bd7cb6"
      },
      "source": [
        "dataLoader = DataLoader(SOURCE_FILE, sentence_len=MAX_SEQUENCE_LEN, num_words=MAX_WORD_NUM)\n",
        "data = dataLoader.get()\n",
        "\n",
        "np.random.seed(2137)\n",
        "np.random.shuffle(data) \n",
        "\n",
        "data.shape"
      ],
      "execution_count": 17,
      "outputs": [
        {
          "output_type": "execute_result",
          "data": {
            "text/plain": [
              "(50000, 20)"
            ]
          },
          "metadata": {},
          "execution_count": 17
        }
      ]
    },
    {
      "cell_type": "markdown",
      "metadata": {
        "id": "acNTOu_Wk0Qa"
      },
      "source": [
        "Now, we need to create embedding matrix (saved in EMBEDDING_MATRIX_PATH). To do this already trained word embedding model is necessary. Embedding matrix will keep vectors for words from vocabulary/tokenizer.\n",
        "\n",
        "\n",
        "\n",
        "Word embedding model is meant to represent complex relationships between words (i.e. 'female', 'girl', 'woman' - similar concept, but completly different spelling) by placing each word in some N dimensional space.\n",
        "\n",
        "Here I use 300 dimensional model only for english.\n"
      ]
    },
    {
      "cell_type": "code",
      "metadata": {
        "colab": {
          "base_uri": "https://localhost:8080/"
        },
        "id": "GqEig4XTY6dh",
        "outputId": "4b41dab1-9802-459d-d311-79d48c7c9889"
      },
      "source": [
        "# read word embedding model\n",
        "# each line consist of word and X normalized values\n",
        "embeddings_index = {}\n",
        "f = open(EMBEDDING_PATH, 'r')\n",
        "for line in f:\n",
        "    values = line.split()\n",
        "    word = values[0]\n",
        "    try:\n",
        "        coefs = np.asarray(values[1:], dtype='float32')\n",
        "    except ValueError:\n",
        "        continue\n",
        "    embeddings_index[word] = coefs\n",
        "f.close()\n",
        "\n",
        "# build embedding matrix\n",
        "num_words = min(MAX_WORD_NUM, len(dataLoader.tokenizer.word_index))\n",
        "embedding_matrix = np.zeros((num_words, EMBEDDING_SIZE))\n",
        "for word, i in dataLoader.tokenizer.word_index.items():\n",
        "    if i >= MAX_WORD_NUM:\n",
        "        continue\n",
        "    embedding_vector = embeddings_index.get(word)\n",
        "    if embedding_vector is not None:\n",
        "        embedding_matrix[i] = embedding_vector.astype('float32')   \n",
        "    else:\n",
        "        embedding_matrix[i] = np.random.normal(-0.25, 0.25, EMBEDDING_SIZE)\n",
        "\n",
        "np.save(EMBEDDING_MATRIX_PATH, embedding_matrix) # save matrix\n",
        "embedding_matrix.shape"
      ],
      "execution_count": 5,
      "outputs": [
        {
          "output_type": "execute_result",
          "data": {
            "text/plain": [
              "(4500, 300)"
            ]
          },
          "metadata": {},
          "execution_count": 5
        }
      ]
    },
    {
      "cell_type": "markdown",
      "metadata": {
        "id": "vkKBvcdnnw7W"
      },
      "source": [
        "In case of hardware limitations You might want to use this simple data generator.\n",
        "\n",
        "Autoencoder(explained below) produces data in one-hot encoding, that's why we need to convert y_train.\n",
        "\n",
        "Standard encoding:<br>\n",
        "[0, 3]\n",
        "\n",
        "one-hot:<br>\n",
        "[<br>\n",
        "     &ensp;  [1, 0, 0, 0],<br>\n",
        "    &ensp;     [0, 0, 0, 1]<br>\n",
        "]\n",
        "\n"
      ]
    },
    {
      "cell_type": "code",
      "metadata": {
        "id": "H7u80HMfOtz8"
      },
      "source": [
        "from tensorflow.keras.utils import Sequence\n",
        "from tensorflow.keras.utils import to_categorical\n",
        "\n",
        "# if you need to convert sequence to word embedding form\n",
        "embedding_matrix = np.load(EMBEDDING_MATRIX_PATH) \n",
        "def get_embedding(seq):\n",
        "    return np.array([embedding_matrix[int(w)] for w in seq])\n",
        "\n",
        "class Mygenerator(Sequence):\n",
        "    def __init__(self, data, batch_size):\n",
        "        self.data = data # in/out data\n",
        "        self.batch_size = batch_size\n",
        "    \n",
        "    def on_epoch_end(self): \n",
        "        # shuffling each epoch\n",
        "        np.random.shuffle(self.data) \n",
        "\n",
        "    def __len__(self):\n",
        "        return int(np.ceil(len(self.data) / float(self.batch_size))) # number of batches\n",
        "\n",
        "    def __getitem__(self, idx):\n",
        "        batch_x = self.data[idx * self.batch_size:(idx + 1) * self.batch_size] # batch\n",
        "        x = batch_x\n",
        "        y = np.array([to_categorical(seq, num_classes=MAX_WORD_NUM) for seq in batch_x]) # y data in one-hot\n",
        "        return x, y"
      ],
      "execution_count": 6,
      "outputs": []
    },
    {
      "cell_type": "markdown",
      "metadata": {
        "id": "H5wSmDjWsnbn"
      },
      "source": [
        "**AUTOENCODER**\n",
        "\n",
        "Autoencoder is a pair of two networks - encoder and decoder - connected with 'bottleneck'. Encoder is meant to represent each sequence in compressed form(i.e. 20 seq with 300D embedding requires 6000 values, this encoder will compress it to 300), while decoder decompresses it.\n",
        "\n",
        "This autoencoder takes whole sequence and outputs whole sequence at once!\n",
        "\n",
        "<br>\n",
        "Encoder: <br>\n",
        "&ensp; input - sequences of indexes from tokenizer<br>\n",
        "&ensp; output - compressed vector \n",
        "\n",
        "<br>\n",
        "Decoder: <br>\n",
        "&ensp; input - compressed vector<br>\n",
        "&ensp; output - sequences of indexes in one-hot encoding\n",
        "\n"
      ]
    },
    {
      "cell_type": "code",
      "metadata": {
        "colab": {
          "base_uri": "https://localhost:8080/"
        },
        "id": "Oy_6mpABJI1C",
        "outputId": "18135552-a679-4bf4-e1f1-b941c3f52e4f"
      },
      "source": [
        "import keras.backend as K\n",
        "from keras.layers import *\n",
        "from keras.models import *\n",
        "from keras.callbacks import ModelCheckpoint\n",
        "\n",
        "# ENCODER\n",
        "# 1D input of indexes from tokenizer\n",
        "inputs = Input(shape=(MAX_SEQUENCE_LEN,), dtype='int32')\n",
        "\n",
        "# this layer converts indexes to embedding form using prepared embedding_matrix\n",
        "e = Embedding(MAX_WORD_NUM, EMBEDDING_SIZE, weights=[embedding_matrix], input_length=MAX_SEQUENCE_LEN, trainable=False)(inputs)\n",
        "\n",
        "# stacked LSTM layers\n",
        "# depending on your parametrs you might want to stack more LSTMs\n",
        "encoded = Bidirectional(LSTM(ENCODED_VECTOR_LEN, return_sequences=True, name=\"encoder_bi_lstm\"), name=\"encoder_bi\")(e)\n",
        "# encoder output in form of compressed 1D vector\n",
        "encoded = LSTM(ENCODED_VECTOR_LEN, name=\"encoder\")(encoded)\n",
        "\n",
        "\n",
        "# DECODER\n",
        "# decoder input repeats compressed vector to decode whole sequence\n",
        "decode_input = RepeatVector(MAX_SEQUENCE_LEN, name=\"decoder_input\")(encoded)\n",
        "\n",
        "# stacked LSTM layers\n",
        "decode_input = LSTM(EMBEDDING_SIZE, return_sequences=True, name=\"decoder_lstm\")(decode_input)\n",
        "decoded = Bidirectional(LSTM(EMBEDDING_SIZE, return_sequences=True, name=\"decoder_bi_lstm\"), name=\"decoder_bi\")(decode_input)\n",
        "\n",
        "# TimeDistributed allows to apply Dense to each word in sequence\n",
        "# tests showed that another dense layer is necessary for good validation set accuracy on big vocabulary (92% without on 3250, around 97% with on 4500)\n",
        "decoded = TimeDistributed(Dense(MAX_WORD_NUM / 2), name=\"decoder_dense_half\")(decoded)\n",
        "\n",
        "# one-hot encoding mapping\n",
        "decoded = TimeDistributed(Dense(MAX_WORD_NUM, activation='softmax'), name=\"decoder\")(decoded)\n",
        "\n",
        "autoencoder = Model(inputs, decoded) \n",
        "\n",
        "# categorical crossentropy is great to use with one-hot encoding\n",
        "autoencoder.compile(optimizer='adam', loss='categorical_crossentropy', metrics=['accuracy'])  \n",
        "autoencoder.summary() \n",
        "\n",
        "autoencoder.save(AE_MODEL_PATH) # save untrained model"
      ],
      "execution_count": 7,
      "outputs": [
        {
          "output_type": "stream",
          "name": "stdout",
          "text": [
            "Model: \"model\"\n",
            "_________________________________________________________________\n",
            " Layer (type)                Output Shape              Param #   \n",
            "=================================================================\n",
            " input_1 (InputLayer)        [(None, 20)]              0         \n",
            "                                                                 \n",
            " embedding (Embedding)       (None, 20, 300)           1350000   \n",
            "                                                                 \n",
            " encoder_bi (Bidirectional)  (None, 20, 600)           1442400   \n",
            "                                                                 \n",
            " encoder (LSTM)              (None, 300)               1081200   \n",
            "                                                                 \n",
            " decoder_input (RepeatVector  (None, 20, 300)          0         \n",
            " )                                                               \n",
            "                                                                 \n",
            " decoder_lstm (LSTM)         (None, 20, 300)           721200    \n",
            "                                                                 \n",
            " decoder_bi (Bidirectional)  (None, 20, 600)           1442400   \n",
            "                                                                 \n",
            " decoder_dense_half (TimeDis  (None, 20, 2250)         1352250   \n",
            " tributed)                                                       \n",
            "                                                                 \n",
            " decoder (TimeDistributed)   (None, 20, 4500)          10129500  \n",
            "                                                                 \n",
            "=================================================================\n",
            "Total params: 17,518,950\n",
            "Trainable params: 16,168,950\n",
            "Non-trainable params: 1,350,000\n",
            "_________________________________________________________________\n"
          ]
        },
        {
          "output_type": "stream",
          "name": "stderr",
          "text": [
            "WARNING:absl:Found untraced functions such as lstm_cell_3_layer_call_fn, lstm_cell_3_layer_call_and_return_conditional_losses, lstm_cell_4_layer_call_fn, lstm_cell_4_layer_call_and_return_conditional_losses, lstm_cell_1_layer_call_fn while saving (showing 5 of 30). These functions will not be directly callable after loading.\n"
          ]
        },
        {
          "output_type": "stream",
          "name": "stdout",
          "text": [
            "INFO:tensorflow:Assets written to: drive/MyDrive/Colab Notebooks/AEmodel_lstm_4500_cce_dd_2/assets\n"
          ]
        },
        {
          "output_type": "stream",
          "name": "stderr",
          "text": [
            "INFO:tensorflow:Assets written to: drive/MyDrive/Colab Notebooks/AEmodel_lstm_4500_cce_dd_2/assets\n",
            "WARNING:absl:<keras.layers.recurrent.LSTMCell object at 0x7f5f905fb610> has the same name 'LSTMCell' as a built-in Keras object. Consider renaming <class 'keras.layers.recurrent.LSTMCell'> to avoid naming conflicts when loading with `tf.keras.models.load_model`. If renaming is not possible, pass the object in the `custom_objects` parameter of the load function.\n",
            "WARNING:absl:<keras.layers.recurrent.LSTMCell object at 0x7f5f17cf12d0> has the same name 'LSTMCell' as a built-in Keras object. Consider renaming <class 'keras.layers.recurrent.LSTMCell'> to avoid naming conflicts when loading with `tf.keras.models.load_model`. If renaming is not possible, pass the object in the `custom_objects` parameter of the load function.\n",
            "WARNING:absl:<keras.layers.recurrent.LSTMCell object at 0x7f5f905e7f90> has the same name 'LSTMCell' as a built-in Keras object. Consider renaming <class 'keras.layers.recurrent.LSTMCell'> to avoid naming conflicts when loading with `tf.keras.models.load_model`. If renaming is not possible, pass the object in the `custom_objects` parameter of the load function.\n",
            "WARNING:absl:<keras.layers.recurrent.LSTMCell object at 0x7f5f905f5710> has the same name 'LSTMCell' as a built-in Keras object. Consider renaming <class 'keras.layers.recurrent.LSTMCell'> to avoid naming conflicts when loading with `tf.keras.models.load_model`. If renaming is not possible, pass the object in the `custom_objects` parameter of the load function.\n",
            "WARNING:absl:<keras.layers.recurrent.LSTMCell object at 0x7f5f17c18f50> has the same name 'LSTMCell' as a built-in Keras object. Consider renaming <class 'keras.layers.recurrent.LSTMCell'> to avoid naming conflicts when loading with `tf.keras.models.load_model`. If renaming is not possible, pass the object in the `custom_objects` parameter of the load function.\n",
            "WARNING:absl:<keras.layers.recurrent.LSTMCell object at 0x7f5f17c0fe50> has the same name 'LSTMCell' as a built-in Keras object. Consider renaming <class 'keras.layers.recurrent.LSTMCell'> to avoid naming conflicts when loading with `tf.keras.models.load_model`. If renaming is not possible, pass the object in the `custom_objects` parameter of the load function.\n"
          ]
        }
      ]
    },
    {
      "cell_type": "code",
      "metadata": {
        "colab": {
          "base_uri": "https://localhost:8080/"
        },
        "id": "3F-eGgJ7Yaqu",
        "outputId": "de1a9f3a-629b-4e06-954d-784577d0a6f4"
      },
      "source": [
        "from keras.models import load_model\n",
        "from keras.callbacks import ModelCheckpoint, CSVLogger\n",
        "\n",
        "# split data\n",
        "# if you just want to create autoencoder there's no need for validation set\n",
        "# here I take small batch for validation to see how well autoencoder responds to unseen data, which will be produced by GAN\n",
        "split_ind = int(len(data) * 0.95) \n",
        "data_train = data[:split_ind,:]\n",
        "data_val = data[split_ind:,:]\n",
        "print(data_val.shape)\n",
        "\n",
        "autoencoder = load_model(AE_MODEL_PATH) # load model\n",
        "autoencoder.summary()\n",
        "\n",
        "csv_logger = CSVLogger(HISTORY_PATH.format(\"AE\"), append=True) # log history to file\n",
        "checkpoint = ModelCheckpoint(filepath=AE_MODEL_PATH, save_best_only=True) # save best model for unseen data\n",
        "\n",
        "# 64 might be optimal\n",
        "batch_size = 32\n",
        "\n",
        "# 70 epochs is enough to maximize results\n",
        "# depending on vocab size, sentence length etc. I achieved\n",
        "# >99% on training set, 97 % on unseen data from same set\n",
        "history = autoencoder.fit(x=Mygenerator(data_train, batch_size), epochs=70, validation_data=Mygenerator(data_val, batch_size), callbacks=[checkpoint, csv_logger])"
      ],
      "execution_count": 8,
      "outputs": [
        {
          "output_type": "stream",
          "name": "stdout",
          "text": [
            "(2500, 20)\n",
            "Model: \"model\"\n",
            "_________________________________________________________________\n",
            " Layer (type)                Output Shape              Param #   \n",
            "=================================================================\n",
            " input_1 (InputLayer)        [(None, 20)]              0         \n",
            "                                                                 \n",
            " embedding (Embedding)       (None, 20, 300)           1350000   \n",
            "                                                                 \n",
            " encoder_bi (Bidirectional)  (None, 20, 600)           1442400   \n",
            "                                                                 \n",
            " encoder (LSTM)              (None, 300)               1081200   \n",
            "                                                                 \n",
            " decoder_input (RepeatVector  (None, 20, 300)          0         \n",
            " )                                                               \n",
            "                                                                 \n",
            " decoder_lstm (LSTM)         (None, 20, 300)           721200    \n",
            "                                                                 \n",
            " decoder_bi (Bidirectional)  (None, 20, 600)           1442400   \n",
            "                                                                 \n",
            " decoder_dense_half (TimeDis  (None, 20, 2250)         1352250   \n",
            " tributed)                                                       \n",
            "                                                                 \n",
            " decoder (TimeDistributed)   (None, 20, 4500)          10129500  \n",
            "                                                                 \n",
            "=================================================================\n",
            "Total params: 17,518,950\n",
            "Trainable params: 16,168,950\n",
            "Non-trainable params: 1,350,000\n",
            "_________________________________________________________________\n",
            "Epoch 1/70\n",
            "1485/1485 [==============================] - ETA: 0s - loss: 5.3072 - accuracy: 0.1554"
          ]
        },
        {
          "output_type": "stream",
          "name": "stderr",
          "text": [
            "WARNING:absl:Found untraced functions such as lstm_cell_11_layer_call_fn, lstm_cell_11_layer_call_and_return_conditional_losses, lstm_cell_12_layer_call_fn, lstm_cell_12_layer_call_and_return_conditional_losses, lstm_cell_9_layer_call_fn while saving (showing 5 of 30). These functions will not be directly callable after loading.\n"
          ]
        },
        {
          "output_type": "stream",
          "name": "stdout",
          "text": [
            "INFO:tensorflow:Assets written to: drive/MyDrive/Colab Notebooks/AEmodel_lstm_4500_cce_dd_2/assets\n"
          ]
        },
        {
          "output_type": "stream",
          "name": "stderr",
          "text": [
            "INFO:tensorflow:Assets written to: drive/MyDrive/Colab Notebooks/AEmodel_lstm_4500_cce_dd_2/assets\n",
            "WARNING:absl:<keras.layers.recurrent.LSTMCell object at 0x7f5f13510490> has the same name 'LSTMCell' as a built-in Keras object. Consider renaming <class 'keras.layers.recurrent.LSTMCell'> to avoid naming conflicts when loading with `tf.keras.models.load_model`. If renaming is not possible, pass the object in the `custom_objects` parameter of the load function.\n",
            "WARNING:absl:<keras.layers.recurrent.LSTMCell object at 0x7f5f13580dd0> has the same name 'LSTMCell' as a built-in Keras object. Consider renaming <class 'keras.layers.recurrent.LSTMCell'> to avoid naming conflicts when loading with `tf.keras.models.load_model`. If renaming is not possible, pass the object in the `custom_objects` parameter of the load function.\n",
            "WARNING:absl:<keras.layers.recurrent.LSTMCell object at 0x7f5f16cd79d0> has the same name 'LSTMCell' as a built-in Keras object. Consider renaming <class 'keras.layers.recurrent.LSTMCell'> to avoid naming conflicts when loading with `tf.keras.models.load_model`. If renaming is not possible, pass the object in the `custom_objects` parameter of the load function.\n",
            "WARNING:absl:<keras.layers.recurrent.LSTMCell object at 0x7f5f16d3be50> has the same name 'LSTMCell' as a built-in Keras object. Consider renaming <class 'keras.layers.recurrent.LSTMCell'> to avoid naming conflicts when loading with `tf.keras.models.load_model`. If renaming is not possible, pass the object in the `custom_objects` parameter of the load function.\n",
            "WARNING:absl:<keras.layers.recurrent.LSTMCell object at 0x7f5f174f9390> has the same name 'LSTMCell' as a built-in Keras object. Consider renaming <class 'keras.layers.recurrent.LSTMCell'> to avoid naming conflicts when loading with `tf.keras.models.load_model`. If renaming is not possible, pass the object in the `custom_objects` parameter of the load function.\n",
            "WARNING:absl:<keras.layers.recurrent.LSTMCell object at 0x7f5f173e8910> has the same name 'LSTMCell' as a built-in Keras object. Consider renaming <class 'keras.layers.recurrent.LSTMCell'> to avoid naming conflicts when loading with `tf.keras.models.load_model`. If renaming is not possible, pass the object in the `custom_objects` parameter of the load function.\n"
          ]
        },
        {
          "output_type": "stream",
          "name": "stdout",
          "text": [
            "1485/1485 [==============================] - 195s 123ms/step - loss: 5.3072 - accuracy: 0.1554 - val_loss: 4.1618 - val_accuracy: 0.2825\n",
            "Epoch 2/70\n",
            "1485/1485 [==============================] - ETA: 0s - loss: 2.9409 - accuracy: 0.4467"
          ]
        },
        {
          "output_type": "stream",
          "name": "stderr",
          "text": [
            "WARNING:absl:Found untraced functions such as lstm_cell_11_layer_call_fn, lstm_cell_11_layer_call_and_return_conditional_losses, lstm_cell_12_layer_call_fn, lstm_cell_12_layer_call_and_return_conditional_losses, lstm_cell_9_layer_call_fn while saving (showing 5 of 30). These functions will not be directly callable after loading.\n"
          ]
        },
        {
          "output_type": "stream",
          "name": "stdout",
          "text": [
            "INFO:tensorflow:Assets written to: drive/MyDrive/Colab Notebooks/AEmodel_lstm_4500_cce_dd_2/assets\n"
          ]
        },
        {
          "output_type": "stream",
          "name": "stderr",
          "text": [
            "INFO:tensorflow:Assets written to: drive/MyDrive/Colab Notebooks/AEmodel_lstm_4500_cce_dd_2/assets\n",
            "WARNING:absl:<keras.layers.recurrent.LSTMCell object at 0x7f5f13510490> has the same name 'LSTMCell' as a built-in Keras object. Consider renaming <class 'keras.layers.recurrent.LSTMCell'> to avoid naming conflicts when loading with `tf.keras.models.load_model`. If renaming is not possible, pass the object in the `custom_objects` parameter of the load function.\n",
            "WARNING:absl:<keras.layers.recurrent.LSTMCell object at 0x7f5f13580dd0> has the same name 'LSTMCell' as a built-in Keras object. Consider renaming <class 'keras.layers.recurrent.LSTMCell'> to avoid naming conflicts when loading with `tf.keras.models.load_model`. If renaming is not possible, pass the object in the `custom_objects` parameter of the load function.\n",
            "WARNING:absl:<keras.layers.recurrent.LSTMCell object at 0x7f5f16cd79d0> has the same name 'LSTMCell' as a built-in Keras object. Consider renaming <class 'keras.layers.recurrent.LSTMCell'> to avoid naming conflicts when loading with `tf.keras.models.load_model`. If renaming is not possible, pass the object in the `custom_objects` parameter of the load function.\n",
            "WARNING:absl:<keras.layers.recurrent.LSTMCell object at 0x7f5f16d3be50> has the same name 'LSTMCell' as a built-in Keras object. Consider renaming <class 'keras.layers.recurrent.LSTMCell'> to avoid naming conflicts when loading with `tf.keras.models.load_model`. If renaming is not possible, pass the object in the `custom_objects` parameter of the load function.\n",
            "WARNING:absl:<keras.layers.recurrent.LSTMCell object at 0x7f5f174f9390> has the same name 'LSTMCell' as a built-in Keras object. Consider renaming <class 'keras.layers.recurrent.LSTMCell'> to avoid naming conflicts when loading with `tf.keras.models.load_model`. If renaming is not possible, pass the object in the `custom_objects` parameter of the load function.\n",
            "WARNING:absl:<keras.layers.recurrent.LSTMCell object at 0x7f5f173e8910> has the same name 'LSTMCell' as a built-in Keras object. Consider renaming <class 'keras.layers.recurrent.LSTMCell'> to avoid naming conflicts when loading with `tf.keras.models.load_model`. If renaming is not possible, pass the object in the `custom_objects` parameter of the load function.\n"
          ]
        },
        {
          "output_type": "stream",
          "name": "stdout",
          "text": [
            "\b\b\b\b\b\b\b\b\b\b\b\b\b\b\b\b\b\b\b\b\b\b\b\b\b\b\b\b\b\b\b\b\b\b\b\b\b\b\b\b\b\b\b\b\b\b\b\b\b\b\b\b\b\b\b\b\b\b\b\b\b\b\b\b\b\b\b\b\b\b\b\b\b\b\b\b\b\b\b\b\b\b\b\b\b\b\r1485/1485 [==============================] - 179s 121ms/step - loss: 2.9409 - accuracy: 0.4467 - val_loss: 2.0863 - val_accuracy: 0.5621\n",
            "Epoch 3/70\n",
            "1485/1485 [==============================] - ETA: 0s - loss: 1.3883 - accuracy: 0.6791"
          ]
        },
        {
          "output_type": "stream",
          "name": "stderr",
          "text": [
            "WARNING:absl:Found untraced functions such as lstm_cell_11_layer_call_fn, lstm_cell_11_layer_call_and_return_conditional_losses, lstm_cell_12_layer_call_fn, lstm_cell_12_layer_call_and_return_conditional_losses, lstm_cell_9_layer_call_fn while saving (showing 5 of 30). These functions will not be directly callable after loading.\n"
          ]
        },
        {
          "output_type": "stream",
          "name": "stdout",
          "text": [
            "INFO:tensorflow:Assets written to: drive/MyDrive/Colab Notebooks/AEmodel_lstm_4500_cce_dd_2/assets\n"
          ]
        },
        {
          "output_type": "stream",
          "name": "stderr",
          "text": [
            "INFO:tensorflow:Assets written to: drive/MyDrive/Colab Notebooks/AEmodel_lstm_4500_cce_dd_2/assets\n",
            "WARNING:absl:<keras.layers.recurrent.LSTMCell object at 0x7f5f13510490> has the same name 'LSTMCell' as a built-in Keras object. Consider renaming <class 'keras.layers.recurrent.LSTMCell'> to avoid naming conflicts when loading with `tf.keras.models.load_model`. If renaming is not possible, pass the object in the `custom_objects` parameter of the load function.\n",
            "WARNING:absl:<keras.layers.recurrent.LSTMCell object at 0x7f5f13580dd0> has the same name 'LSTMCell' as a built-in Keras object. Consider renaming <class 'keras.layers.recurrent.LSTMCell'> to avoid naming conflicts when loading with `tf.keras.models.load_model`. If renaming is not possible, pass the object in the `custom_objects` parameter of the load function.\n",
            "WARNING:absl:<keras.layers.recurrent.LSTMCell object at 0x7f5f16cd79d0> has the same name 'LSTMCell' as a built-in Keras object. Consider renaming <class 'keras.layers.recurrent.LSTMCell'> to avoid naming conflicts when loading with `tf.keras.models.load_model`. If renaming is not possible, pass the object in the `custom_objects` parameter of the load function.\n",
            "WARNING:absl:<keras.layers.recurrent.LSTMCell object at 0x7f5f16d3be50> has the same name 'LSTMCell' as a built-in Keras object. Consider renaming <class 'keras.layers.recurrent.LSTMCell'> to avoid naming conflicts when loading with `tf.keras.models.load_model`. If renaming is not possible, pass the object in the `custom_objects` parameter of the load function.\n",
            "WARNING:absl:<keras.layers.recurrent.LSTMCell object at 0x7f5f174f9390> has the same name 'LSTMCell' as a built-in Keras object. Consider renaming <class 'keras.layers.recurrent.LSTMCell'> to avoid naming conflicts when loading with `tf.keras.models.load_model`. If renaming is not possible, pass the object in the `custom_objects` parameter of the load function.\n",
            "WARNING:absl:<keras.layers.recurrent.LSTMCell object at 0x7f5f173e8910> has the same name 'LSTMCell' as a built-in Keras object. Consider renaming <class 'keras.layers.recurrent.LSTMCell'> to avoid naming conflicts when loading with `tf.keras.models.load_model`. If renaming is not possible, pass the object in the `custom_objects` parameter of the load function.\n"
          ]
        },
        {
          "output_type": "stream",
          "name": "stdout",
          "text": [
            "\b\b\b\b\b\b\b\b\b\b\b\b\b\b\b\b\b\b\b\b\b\b\b\b\b\b\b\b\b\b\b\b\b\b\b\b\b\b\b\b\b\b\b\b\b\b\b\b\b\b\b\b\b\b\b\b\b\b\b\b\b\b\b\b\b\b\b\b\b\b\b\b\b\b\b\b\b\b\b\b\b\b\b\b\b\b\r1485/1485 [==============================] - 179s 121ms/step - loss: 1.3883 - accuracy: 0.6791 - val_loss: 1.0080 - val_accuracy: 0.7500\n",
            "Epoch 4/70\n",
            "1485/1485 [==============================] - ETA: 0s - loss: 0.6887 - accuracy: 0.8162"
          ]
        },
        {
          "output_type": "stream",
          "name": "stderr",
          "text": [
            "WARNING:absl:Found untraced functions such as lstm_cell_11_layer_call_fn, lstm_cell_11_layer_call_and_return_conditional_losses, lstm_cell_12_layer_call_fn, lstm_cell_12_layer_call_and_return_conditional_losses, lstm_cell_9_layer_call_fn while saving (showing 5 of 30). These functions will not be directly callable after loading.\n"
          ]
        },
        {
          "output_type": "stream",
          "name": "stdout",
          "text": [
            "INFO:tensorflow:Assets written to: drive/MyDrive/Colab Notebooks/AEmodel_lstm_4500_cce_dd_2/assets\n"
          ]
        },
        {
          "output_type": "stream",
          "name": "stderr",
          "text": [
            "INFO:tensorflow:Assets written to: drive/MyDrive/Colab Notebooks/AEmodel_lstm_4500_cce_dd_2/assets\n",
            "WARNING:absl:<keras.layers.recurrent.LSTMCell object at 0x7f5f13510490> has the same name 'LSTMCell' as a built-in Keras object. Consider renaming <class 'keras.layers.recurrent.LSTMCell'> to avoid naming conflicts when loading with `tf.keras.models.load_model`. If renaming is not possible, pass the object in the `custom_objects` parameter of the load function.\n",
            "WARNING:absl:<keras.layers.recurrent.LSTMCell object at 0x7f5f13580dd0> has the same name 'LSTMCell' as a built-in Keras object. Consider renaming <class 'keras.layers.recurrent.LSTMCell'> to avoid naming conflicts when loading with `tf.keras.models.load_model`. If renaming is not possible, pass the object in the `custom_objects` parameter of the load function.\n",
            "WARNING:absl:<keras.layers.recurrent.LSTMCell object at 0x7f5f16cd79d0> has the same name 'LSTMCell' as a built-in Keras object. Consider renaming <class 'keras.layers.recurrent.LSTMCell'> to avoid naming conflicts when loading with `tf.keras.models.load_model`. If renaming is not possible, pass the object in the `custom_objects` parameter of the load function.\n",
            "WARNING:absl:<keras.layers.recurrent.LSTMCell object at 0x7f5f16d3be50> has the same name 'LSTMCell' as a built-in Keras object. Consider renaming <class 'keras.layers.recurrent.LSTMCell'> to avoid naming conflicts when loading with `tf.keras.models.load_model`. If renaming is not possible, pass the object in the `custom_objects` parameter of the load function.\n",
            "WARNING:absl:<keras.layers.recurrent.LSTMCell object at 0x7f5f174f9390> has the same name 'LSTMCell' as a built-in Keras object. Consider renaming <class 'keras.layers.recurrent.LSTMCell'> to avoid naming conflicts when loading with `tf.keras.models.load_model`. If renaming is not possible, pass the object in the `custom_objects` parameter of the load function.\n",
            "WARNING:absl:<keras.layers.recurrent.LSTMCell object at 0x7f5f173e8910> has the same name 'LSTMCell' as a built-in Keras object. Consider renaming <class 'keras.layers.recurrent.LSTMCell'> to avoid naming conflicts when loading with `tf.keras.models.load_model`. If renaming is not possible, pass the object in the `custom_objects` parameter of the load function.\n"
          ]
        },
        {
          "output_type": "stream",
          "name": "stdout",
          "text": [
            "\b\b\b\b\b\b\b\b\b\b\b\b\b\b\b\b\b\b\b\b\b\b\b\b\b\b\b\b\b\b\b\b\b\b\b\b\b\b\b\b\b\b\b\b\b\b\b\b\b\b\b\b\b\b\b\b\b\b\b\b\b\b\b\b\b\b\b\b\b\b\b\b\b\b\b\b\b\b\b\b\b\b\b\b\b\b\r1485/1485 [==============================] - 182s 122ms/step - loss: 0.6887 - accuracy: 0.8162 - val_loss: 0.6243 - val_accuracy: 0.8347\n",
            "Epoch 5/70\n",
            "1485/1485 [==============================] - ETA: 0s - loss: 0.4099 - accuracy: 0.8828"
          ]
        },
        {
          "output_type": "stream",
          "name": "stderr",
          "text": [
            "WARNING:absl:Found untraced functions such as lstm_cell_11_layer_call_fn, lstm_cell_11_layer_call_and_return_conditional_losses, lstm_cell_12_layer_call_fn, lstm_cell_12_layer_call_and_return_conditional_losses, lstm_cell_9_layer_call_fn while saving (showing 5 of 30). These functions will not be directly callable after loading.\n"
          ]
        },
        {
          "output_type": "stream",
          "name": "stdout",
          "text": [
            "INFO:tensorflow:Assets written to: drive/MyDrive/Colab Notebooks/AEmodel_lstm_4500_cce_dd_2/assets\n"
          ]
        },
        {
          "output_type": "stream",
          "name": "stderr",
          "text": [
            "INFO:tensorflow:Assets written to: drive/MyDrive/Colab Notebooks/AEmodel_lstm_4500_cce_dd_2/assets\n",
            "WARNING:absl:<keras.layers.recurrent.LSTMCell object at 0x7f5f13510490> has the same name 'LSTMCell' as a built-in Keras object. Consider renaming <class 'keras.layers.recurrent.LSTMCell'> to avoid naming conflicts when loading with `tf.keras.models.load_model`. If renaming is not possible, pass the object in the `custom_objects` parameter of the load function.\n",
            "WARNING:absl:<keras.layers.recurrent.LSTMCell object at 0x7f5f13580dd0> has the same name 'LSTMCell' as a built-in Keras object. Consider renaming <class 'keras.layers.recurrent.LSTMCell'> to avoid naming conflicts when loading with `tf.keras.models.load_model`. If renaming is not possible, pass the object in the `custom_objects` parameter of the load function.\n",
            "WARNING:absl:<keras.layers.recurrent.LSTMCell object at 0x7f5f16cd79d0> has the same name 'LSTMCell' as a built-in Keras object. Consider renaming <class 'keras.layers.recurrent.LSTMCell'> to avoid naming conflicts when loading with `tf.keras.models.load_model`. If renaming is not possible, pass the object in the `custom_objects` parameter of the load function.\n",
            "WARNING:absl:<keras.layers.recurrent.LSTMCell object at 0x7f5f16d3be50> has the same name 'LSTMCell' as a built-in Keras object. Consider renaming <class 'keras.layers.recurrent.LSTMCell'> to avoid naming conflicts when loading with `tf.keras.models.load_model`. If renaming is not possible, pass the object in the `custom_objects` parameter of the load function.\n",
            "WARNING:absl:<keras.layers.recurrent.LSTMCell object at 0x7f5f174f9390> has the same name 'LSTMCell' as a built-in Keras object. Consider renaming <class 'keras.layers.recurrent.LSTMCell'> to avoid naming conflicts when loading with `tf.keras.models.load_model`. If renaming is not possible, pass the object in the `custom_objects` parameter of the load function.\n",
            "WARNING:absl:<keras.layers.recurrent.LSTMCell object at 0x7f5f173e8910> has the same name 'LSTMCell' as a built-in Keras object. Consider renaming <class 'keras.layers.recurrent.LSTMCell'> to avoid naming conflicts when loading with `tf.keras.models.load_model`. If renaming is not possible, pass the object in the `custom_objects` parameter of the load function.\n"
          ]
        },
        {
          "output_type": "stream",
          "name": "stdout",
          "text": [
            "1485/1485 [==============================] - 182s 123ms/step - loss: 0.4099 - accuracy: 0.8828 - val_loss: 0.4906 - val_accuracy: 0.8675\n",
            "Epoch 6/70\n",
            "1485/1485 [==============================] - ETA: 0s - loss: 0.2820 - accuracy: 0.9158"
          ]
        },
        {
          "output_type": "stream",
          "name": "stderr",
          "text": [
            "WARNING:absl:Found untraced functions such as lstm_cell_11_layer_call_fn, lstm_cell_11_layer_call_and_return_conditional_losses, lstm_cell_12_layer_call_fn, lstm_cell_12_layer_call_and_return_conditional_losses, lstm_cell_9_layer_call_fn while saving (showing 5 of 30). These functions will not be directly callable after loading.\n"
          ]
        },
        {
          "output_type": "stream",
          "name": "stdout",
          "text": [
            "INFO:tensorflow:Assets written to: drive/MyDrive/Colab Notebooks/AEmodel_lstm_4500_cce_dd_2/assets\n"
          ]
        },
        {
          "output_type": "stream",
          "name": "stderr",
          "text": [
            "INFO:tensorflow:Assets written to: drive/MyDrive/Colab Notebooks/AEmodel_lstm_4500_cce_dd_2/assets\n",
            "WARNING:absl:<keras.layers.recurrent.LSTMCell object at 0x7f5f13510490> has the same name 'LSTMCell' as a built-in Keras object. Consider renaming <class 'keras.layers.recurrent.LSTMCell'> to avoid naming conflicts when loading with `tf.keras.models.load_model`. If renaming is not possible, pass the object in the `custom_objects` parameter of the load function.\n",
            "WARNING:absl:<keras.layers.recurrent.LSTMCell object at 0x7f5f13580dd0> has the same name 'LSTMCell' as a built-in Keras object. Consider renaming <class 'keras.layers.recurrent.LSTMCell'> to avoid naming conflicts when loading with `tf.keras.models.load_model`. If renaming is not possible, pass the object in the `custom_objects` parameter of the load function.\n",
            "WARNING:absl:<keras.layers.recurrent.LSTMCell object at 0x7f5f16cd79d0> has the same name 'LSTMCell' as a built-in Keras object. Consider renaming <class 'keras.layers.recurrent.LSTMCell'> to avoid naming conflicts when loading with `tf.keras.models.load_model`. If renaming is not possible, pass the object in the `custom_objects` parameter of the load function.\n",
            "WARNING:absl:<keras.layers.recurrent.LSTMCell object at 0x7f5f16d3be50> has the same name 'LSTMCell' as a built-in Keras object. Consider renaming <class 'keras.layers.recurrent.LSTMCell'> to avoid naming conflicts when loading with `tf.keras.models.load_model`. If renaming is not possible, pass the object in the `custom_objects` parameter of the load function.\n",
            "WARNING:absl:<keras.layers.recurrent.LSTMCell object at 0x7f5f174f9390> has the same name 'LSTMCell' as a built-in Keras object. Consider renaming <class 'keras.layers.recurrent.LSTMCell'> to avoid naming conflicts when loading with `tf.keras.models.load_model`. If renaming is not possible, pass the object in the `custom_objects` parameter of the load function.\n",
            "WARNING:absl:<keras.layers.recurrent.LSTMCell object at 0x7f5f173e8910> has the same name 'LSTMCell' as a built-in Keras object. Consider renaming <class 'keras.layers.recurrent.LSTMCell'> to avoid naming conflicts when loading with `tf.keras.models.load_model`. If renaming is not possible, pass the object in the `custom_objects` parameter of the load function.\n"
          ]
        },
        {
          "output_type": "stream",
          "name": "stdout",
          "text": [
            "\b\b\b\b\b\b\b\b\b\b\b\b\b\b\b\b\b\b\b\b\b\b\b\b\b\b\b\b\b\b\b\b\b\b\b\b\b\b\b\b\b\b\b\b\b\b\b\b\b\b\b\b\b\b\b\b\b\b\b\b\b\b\b\b\b\b\b\b\b\b\b\b\b\b\b\b\b\b\b\b\b\b\b\b\b\b\r1485/1485 [==============================] - 181s 122ms/step - loss: 0.2820 - accuracy: 0.9158 - val_loss: 0.4109 - val_accuracy: 0.8911\n",
            "Epoch 7/70\n",
            "1485/1485 [==============================] - ETA: 0s - loss: 0.2215 - accuracy: 0.9321"
          ]
        },
        {
          "output_type": "stream",
          "name": "stderr",
          "text": [
            "WARNING:absl:Found untraced functions such as lstm_cell_11_layer_call_fn, lstm_cell_11_layer_call_and_return_conditional_losses, lstm_cell_12_layer_call_fn, lstm_cell_12_layer_call_and_return_conditional_losses, lstm_cell_9_layer_call_fn while saving (showing 5 of 30). These functions will not be directly callable after loading.\n"
          ]
        },
        {
          "output_type": "stream",
          "name": "stdout",
          "text": [
            "INFO:tensorflow:Assets written to: drive/MyDrive/Colab Notebooks/AEmodel_lstm_4500_cce_dd_2/assets\n"
          ]
        },
        {
          "output_type": "stream",
          "name": "stderr",
          "text": [
            "INFO:tensorflow:Assets written to: drive/MyDrive/Colab Notebooks/AEmodel_lstm_4500_cce_dd_2/assets\n",
            "WARNING:absl:<keras.layers.recurrent.LSTMCell object at 0x7f5f13510490> has the same name 'LSTMCell' as a built-in Keras object. Consider renaming <class 'keras.layers.recurrent.LSTMCell'> to avoid naming conflicts when loading with `tf.keras.models.load_model`. If renaming is not possible, pass the object in the `custom_objects` parameter of the load function.\n",
            "WARNING:absl:<keras.layers.recurrent.LSTMCell object at 0x7f5f13580dd0> has the same name 'LSTMCell' as a built-in Keras object. Consider renaming <class 'keras.layers.recurrent.LSTMCell'> to avoid naming conflicts when loading with `tf.keras.models.load_model`. If renaming is not possible, pass the object in the `custom_objects` parameter of the load function.\n",
            "WARNING:absl:<keras.layers.recurrent.LSTMCell object at 0x7f5f16cd79d0> has the same name 'LSTMCell' as a built-in Keras object. Consider renaming <class 'keras.layers.recurrent.LSTMCell'> to avoid naming conflicts when loading with `tf.keras.models.load_model`. If renaming is not possible, pass the object in the `custom_objects` parameter of the load function.\n",
            "WARNING:absl:<keras.layers.recurrent.LSTMCell object at 0x7f5f16d3be50> has the same name 'LSTMCell' as a built-in Keras object. Consider renaming <class 'keras.layers.recurrent.LSTMCell'> to avoid naming conflicts when loading with `tf.keras.models.load_model`. If renaming is not possible, pass the object in the `custom_objects` parameter of the load function.\n",
            "WARNING:absl:<keras.layers.recurrent.LSTMCell object at 0x7f5f174f9390> has the same name 'LSTMCell' as a built-in Keras object. Consider renaming <class 'keras.layers.recurrent.LSTMCell'> to avoid naming conflicts when loading with `tf.keras.models.load_model`. If renaming is not possible, pass the object in the `custom_objects` parameter of the load function.\n",
            "WARNING:absl:<keras.layers.recurrent.LSTMCell object at 0x7f5f173e8910> has the same name 'LSTMCell' as a built-in Keras object. Consider renaming <class 'keras.layers.recurrent.LSTMCell'> to avoid naming conflicts when loading with `tf.keras.models.load_model`. If renaming is not possible, pass the object in the `custom_objects` parameter of the load function.\n"
          ]
        },
        {
          "output_type": "stream",
          "name": "stdout",
          "text": [
            "\b\b\b\b\b\b\b\b\b\b\b\b\b\b\b\b\b\b\b\b\b\b\b\b\b\b\b\b\b\b\b\b\b\b\b\b\b\b\b\b\b\b\b\b\b\b\b\b\b\b\b\b\b\b\b\b\b\b\b\b\b\b\b\b\b\b\b\b\b\b\b\b\b\b\b\b\b\b\b\b\b\b\b\b\b\b\r1485/1485 [==============================] - 180s 121ms/step - loss: 0.2215 - accuracy: 0.9321 - val_loss: 0.3549 - val_accuracy: 0.9051\n",
            "Epoch 8/70\n",
            "1485/1485 [==============================] - ETA: 0s - loss: 0.1788 - accuracy: 0.9442"
          ]
        },
        {
          "output_type": "stream",
          "name": "stderr",
          "text": [
            "WARNING:absl:Found untraced functions such as lstm_cell_11_layer_call_fn, lstm_cell_11_layer_call_and_return_conditional_losses, lstm_cell_12_layer_call_fn, lstm_cell_12_layer_call_and_return_conditional_losses, lstm_cell_9_layer_call_fn while saving (showing 5 of 30). These functions will not be directly callable after loading.\n"
          ]
        },
        {
          "output_type": "stream",
          "name": "stdout",
          "text": [
            "INFO:tensorflow:Assets written to: drive/MyDrive/Colab Notebooks/AEmodel_lstm_4500_cce_dd_2/assets\n"
          ]
        },
        {
          "output_type": "stream",
          "name": "stderr",
          "text": [
            "INFO:tensorflow:Assets written to: drive/MyDrive/Colab Notebooks/AEmodel_lstm_4500_cce_dd_2/assets\n",
            "WARNING:absl:<keras.layers.recurrent.LSTMCell object at 0x7f5f13510490> has the same name 'LSTMCell' as a built-in Keras object. Consider renaming <class 'keras.layers.recurrent.LSTMCell'> to avoid naming conflicts when loading with `tf.keras.models.load_model`. If renaming is not possible, pass the object in the `custom_objects` parameter of the load function.\n",
            "WARNING:absl:<keras.layers.recurrent.LSTMCell object at 0x7f5f13580dd0> has the same name 'LSTMCell' as a built-in Keras object. Consider renaming <class 'keras.layers.recurrent.LSTMCell'> to avoid naming conflicts when loading with `tf.keras.models.load_model`. If renaming is not possible, pass the object in the `custom_objects` parameter of the load function.\n",
            "WARNING:absl:<keras.layers.recurrent.LSTMCell object at 0x7f5f16cd79d0> has the same name 'LSTMCell' as a built-in Keras object. Consider renaming <class 'keras.layers.recurrent.LSTMCell'> to avoid naming conflicts when loading with `tf.keras.models.load_model`. If renaming is not possible, pass the object in the `custom_objects` parameter of the load function.\n",
            "WARNING:absl:<keras.layers.recurrent.LSTMCell object at 0x7f5f16d3be50> has the same name 'LSTMCell' as a built-in Keras object. Consider renaming <class 'keras.layers.recurrent.LSTMCell'> to avoid naming conflicts when loading with `tf.keras.models.load_model`. If renaming is not possible, pass the object in the `custom_objects` parameter of the load function.\n",
            "WARNING:absl:<keras.layers.recurrent.LSTMCell object at 0x7f5f174f9390> has the same name 'LSTMCell' as a built-in Keras object. Consider renaming <class 'keras.layers.recurrent.LSTMCell'> to avoid naming conflicts when loading with `tf.keras.models.load_model`. If renaming is not possible, pass the object in the `custom_objects` parameter of the load function.\n",
            "WARNING:absl:<keras.layers.recurrent.LSTMCell object at 0x7f5f173e8910> has the same name 'LSTMCell' as a built-in Keras object. Consider renaming <class 'keras.layers.recurrent.LSTMCell'> to avoid naming conflicts when loading with `tf.keras.models.load_model`. If renaming is not possible, pass the object in the `custom_objects` parameter of the load function.\n"
          ]
        },
        {
          "output_type": "stream",
          "name": "stdout",
          "text": [
            "1485/1485 [==============================] - 180s 121ms/step - loss: 0.1788 - accuracy: 0.9442 - val_loss: 0.3223 - val_accuracy: 0.9161\n",
            "Epoch 9/70\n",
            "1485/1485 [==============================] - ETA: 0s - loss: 0.1502 - accuracy: 0.9530"
          ]
        },
        {
          "output_type": "stream",
          "name": "stderr",
          "text": [
            "WARNING:absl:Found untraced functions such as lstm_cell_11_layer_call_fn, lstm_cell_11_layer_call_and_return_conditional_losses, lstm_cell_12_layer_call_fn, lstm_cell_12_layer_call_and_return_conditional_losses, lstm_cell_9_layer_call_fn while saving (showing 5 of 30). These functions will not be directly callable after loading.\n"
          ]
        },
        {
          "output_type": "stream",
          "name": "stdout",
          "text": [
            "INFO:tensorflow:Assets written to: drive/MyDrive/Colab Notebooks/AEmodel_lstm_4500_cce_dd_2/assets\n"
          ]
        },
        {
          "output_type": "stream",
          "name": "stderr",
          "text": [
            "INFO:tensorflow:Assets written to: drive/MyDrive/Colab Notebooks/AEmodel_lstm_4500_cce_dd_2/assets\n",
            "WARNING:absl:<keras.layers.recurrent.LSTMCell object at 0x7f5f13510490> has the same name 'LSTMCell' as a built-in Keras object. Consider renaming <class 'keras.layers.recurrent.LSTMCell'> to avoid naming conflicts when loading with `tf.keras.models.load_model`. If renaming is not possible, pass the object in the `custom_objects` parameter of the load function.\n",
            "WARNING:absl:<keras.layers.recurrent.LSTMCell object at 0x7f5f13580dd0> has the same name 'LSTMCell' as a built-in Keras object. Consider renaming <class 'keras.layers.recurrent.LSTMCell'> to avoid naming conflicts when loading with `tf.keras.models.load_model`. If renaming is not possible, pass the object in the `custom_objects` parameter of the load function.\n",
            "WARNING:absl:<keras.layers.recurrent.LSTMCell object at 0x7f5f16cd79d0> has the same name 'LSTMCell' as a built-in Keras object. Consider renaming <class 'keras.layers.recurrent.LSTMCell'> to avoid naming conflicts when loading with `tf.keras.models.load_model`. If renaming is not possible, pass the object in the `custom_objects` parameter of the load function.\n",
            "WARNING:absl:<keras.layers.recurrent.LSTMCell object at 0x7f5f16d3be50> has the same name 'LSTMCell' as a built-in Keras object. Consider renaming <class 'keras.layers.recurrent.LSTMCell'> to avoid naming conflicts when loading with `tf.keras.models.load_model`. If renaming is not possible, pass the object in the `custom_objects` parameter of the load function.\n",
            "WARNING:absl:<keras.layers.recurrent.LSTMCell object at 0x7f5f174f9390> has the same name 'LSTMCell' as a built-in Keras object. Consider renaming <class 'keras.layers.recurrent.LSTMCell'> to avoid naming conflicts when loading with `tf.keras.models.load_model`. If renaming is not possible, pass the object in the `custom_objects` parameter of the load function.\n",
            "WARNING:absl:<keras.layers.recurrent.LSTMCell object at 0x7f5f173e8910> has the same name 'LSTMCell' as a built-in Keras object. Consider renaming <class 'keras.layers.recurrent.LSTMCell'> to avoid naming conflicts when loading with `tf.keras.models.load_model`. If renaming is not possible, pass the object in the `custom_objects` parameter of the load function.\n"
          ]
        },
        {
          "output_type": "stream",
          "name": "stdout",
          "text": [
            "\b\b\b\b\b\b\b\b\b\b\b\b\b\b\b\b\b\b\b\b\b\b\b\b\b\b\b\b\b\b\b\b\b\b\b\b\b\b\b\b\b\b\b\b\b\b\b\b\b\b\b\b\b\b\b\b\b\b\b\b\b\b\b\b\b\b\b\b\b\b\b\b\b\b\b\b\b\b\b\b\b\b\b\b\b\b\r1485/1485 [==============================] - 179s 121ms/step - loss: 0.1502 - accuracy: 0.9530 - val_loss: 0.2901 - val_accuracy: 0.9249\n",
            "Epoch 10/70\n",
            "1485/1485 [==============================] - 138s 93ms/step - loss: 0.1307 - accuracy: 0.9586 - val_loss: 0.3128 - val_accuracy: 0.9200\n",
            "Epoch 11/70\n",
            "1485/1485 [==============================] - ETA: 0s - loss: 0.1135 - accuracy: 0.9640"
          ]
        },
        {
          "output_type": "stream",
          "name": "stderr",
          "text": [
            "WARNING:absl:Found untraced functions such as lstm_cell_11_layer_call_fn, lstm_cell_11_layer_call_and_return_conditional_losses, lstm_cell_12_layer_call_fn, lstm_cell_12_layer_call_and_return_conditional_losses, lstm_cell_9_layer_call_fn while saving (showing 5 of 30). These functions will not be directly callable after loading.\n"
          ]
        },
        {
          "output_type": "stream",
          "name": "stdout",
          "text": [
            "INFO:tensorflow:Assets written to: drive/MyDrive/Colab Notebooks/AEmodel_lstm_4500_cce_dd_2/assets\n"
          ]
        },
        {
          "output_type": "stream",
          "name": "stderr",
          "text": [
            "INFO:tensorflow:Assets written to: drive/MyDrive/Colab Notebooks/AEmodel_lstm_4500_cce_dd_2/assets\n",
            "WARNING:absl:<keras.layers.recurrent.LSTMCell object at 0x7f5f13510490> has the same name 'LSTMCell' as a built-in Keras object. Consider renaming <class 'keras.layers.recurrent.LSTMCell'> to avoid naming conflicts when loading with `tf.keras.models.load_model`. If renaming is not possible, pass the object in the `custom_objects` parameter of the load function.\n",
            "WARNING:absl:<keras.layers.recurrent.LSTMCell object at 0x7f5f13580dd0> has the same name 'LSTMCell' as a built-in Keras object. Consider renaming <class 'keras.layers.recurrent.LSTMCell'> to avoid naming conflicts when loading with `tf.keras.models.load_model`. If renaming is not possible, pass the object in the `custom_objects` parameter of the load function.\n",
            "WARNING:absl:<keras.layers.recurrent.LSTMCell object at 0x7f5f16cd79d0> has the same name 'LSTMCell' as a built-in Keras object. Consider renaming <class 'keras.layers.recurrent.LSTMCell'> to avoid naming conflicts when loading with `tf.keras.models.load_model`. If renaming is not possible, pass the object in the `custom_objects` parameter of the load function.\n",
            "WARNING:absl:<keras.layers.recurrent.LSTMCell object at 0x7f5f16d3be50> has the same name 'LSTMCell' as a built-in Keras object. Consider renaming <class 'keras.layers.recurrent.LSTMCell'> to avoid naming conflicts when loading with `tf.keras.models.load_model`. If renaming is not possible, pass the object in the `custom_objects` parameter of the load function.\n",
            "WARNING:absl:<keras.layers.recurrent.LSTMCell object at 0x7f5f174f9390> has the same name 'LSTMCell' as a built-in Keras object. Consider renaming <class 'keras.layers.recurrent.LSTMCell'> to avoid naming conflicts when loading with `tf.keras.models.load_model`. If renaming is not possible, pass the object in the `custom_objects` parameter of the load function.\n",
            "WARNING:absl:<keras.layers.recurrent.LSTMCell object at 0x7f5f173e8910> has the same name 'LSTMCell' as a built-in Keras object. Consider renaming <class 'keras.layers.recurrent.LSTMCell'> to avoid naming conflicts when loading with `tf.keras.models.load_model`. If renaming is not possible, pass the object in the `custom_objects` parameter of the load function.\n"
          ]
        },
        {
          "output_type": "stream",
          "name": "stdout",
          "text": [
            "\b\b\b\b\b\b\b\b\b\b\b\b\b\b\b\b\b\b\b\b\b\b\b\b\b\b\b\b\b\b\b\b\b\b\b\b\b\b\b\b\b\b\b\b\b\b\b\b\b\b\b\b\b\b\b\b\b\b\b\b\b\b\b\b\b\b\b\b\b\b\b\b\b\b\b\b\b\b\b\b\b\b\b\b\b\b\r1485/1485 [==============================] - 180s 121ms/step - loss: 0.1135 - accuracy: 0.9640 - val_loss: 0.2868 - val_accuracy: 0.9299\n",
            "Epoch 12/70\n",
            "1485/1485 [==============================] - ETA: 0s - loss: 0.1037 - accuracy: 0.9670"
          ]
        },
        {
          "output_type": "stream",
          "name": "stderr",
          "text": [
            "WARNING:absl:Found untraced functions such as lstm_cell_11_layer_call_fn, lstm_cell_11_layer_call_and_return_conditional_losses, lstm_cell_12_layer_call_fn, lstm_cell_12_layer_call_and_return_conditional_losses, lstm_cell_9_layer_call_fn while saving (showing 5 of 30). These functions will not be directly callable after loading.\n"
          ]
        },
        {
          "output_type": "stream",
          "name": "stdout",
          "text": [
            "INFO:tensorflow:Assets written to: drive/MyDrive/Colab Notebooks/AEmodel_lstm_4500_cce_dd_2/assets\n"
          ]
        },
        {
          "output_type": "stream",
          "name": "stderr",
          "text": [
            "INFO:tensorflow:Assets written to: drive/MyDrive/Colab Notebooks/AEmodel_lstm_4500_cce_dd_2/assets\n",
            "WARNING:absl:<keras.layers.recurrent.LSTMCell object at 0x7f5f13510490> has the same name 'LSTMCell' as a built-in Keras object. Consider renaming <class 'keras.layers.recurrent.LSTMCell'> to avoid naming conflicts when loading with `tf.keras.models.load_model`. If renaming is not possible, pass the object in the `custom_objects` parameter of the load function.\n",
            "WARNING:absl:<keras.layers.recurrent.LSTMCell object at 0x7f5f13580dd0> has the same name 'LSTMCell' as a built-in Keras object. Consider renaming <class 'keras.layers.recurrent.LSTMCell'> to avoid naming conflicts when loading with `tf.keras.models.load_model`. If renaming is not possible, pass the object in the `custom_objects` parameter of the load function.\n",
            "WARNING:absl:<keras.layers.recurrent.LSTMCell object at 0x7f5f16cd79d0> has the same name 'LSTMCell' as a built-in Keras object. Consider renaming <class 'keras.layers.recurrent.LSTMCell'> to avoid naming conflicts when loading with `tf.keras.models.load_model`. If renaming is not possible, pass the object in the `custom_objects` parameter of the load function.\n",
            "WARNING:absl:<keras.layers.recurrent.LSTMCell object at 0x7f5f16d3be50> has the same name 'LSTMCell' as a built-in Keras object. Consider renaming <class 'keras.layers.recurrent.LSTMCell'> to avoid naming conflicts when loading with `tf.keras.models.load_model`. If renaming is not possible, pass the object in the `custom_objects` parameter of the load function.\n",
            "WARNING:absl:<keras.layers.recurrent.LSTMCell object at 0x7f5f174f9390> has the same name 'LSTMCell' as a built-in Keras object. Consider renaming <class 'keras.layers.recurrent.LSTMCell'> to avoid naming conflicts when loading with `tf.keras.models.load_model`. If renaming is not possible, pass the object in the `custom_objects` parameter of the load function.\n",
            "WARNING:absl:<keras.layers.recurrent.LSTMCell object at 0x7f5f173e8910> has the same name 'LSTMCell' as a built-in Keras object. Consider renaming <class 'keras.layers.recurrent.LSTMCell'> to avoid naming conflicts when loading with `tf.keras.models.load_model`. If renaming is not possible, pass the object in the `custom_objects` parameter of the load function.\n"
          ]
        },
        {
          "output_type": "stream",
          "name": "stdout",
          "text": [
            "\b\b\b\b\b\b\b\b\b\b\b\b\b\b\b\b\b\b\b\b\b\b\b\b\b\b\b\b\b\b\b\b\b\b\b\b\b\b\b\b\b\b\b\b\b\b\b\b\b\b\b\b\b\b\b\b\b\b\b\b\b\b\b\b\b\b\b\b\b\b\b\b\b\b\b\b\b\b\b\b\b\b\b\b\b\b\r1485/1485 [==============================] - 179s 121ms/step - loss: 0.1037 - accuracy: 0.9670 - val_loss: 0.2738 - val_accuracy: 0.9320\n",
            "Epoch 13/70\n",
            "1485/1485 [==============================] - 138s 93ms/step - loss: 0.0913 - accuracy: 0.9709 - val_loss: 0.2980 - val_accuracy: 0.9274\n",
            "Epoch 14/70\n",
            "1485/1485 [==============================] - 137s 92ms/step - loss: 0.0845 - accuracy: 0.9731 - val_loss: 0.2776 - val_accuracy: 0.9334\n",
            "Epoch 15/70\n",
            "1485/1485 [==============================] - ETA: 0s - loss: 0.0775 - accuracy: 0.9754"
          ]
        },
        {
          "output_type": "stream",
          "name": "stderr",
          "text": [
            "WARNING:absl:Found untraced functions such as lstm_cell_11_layer_call_fn, lstm_cell_11_layer_call_and_return_conditional_losses, lstm_cell_12_layer_call_fn, lstm_cell_12_layer_call_and_return_conditional_losses, lstm_cell_9_layer_call_fn while saving (showing 5 of 30). These functions will not be directly callable after loading.\n"
          ]
        },
        {
          "output_type": "stream",
          "name": "stdout",
          "text": [
            "INFO:tensorflow:Assets written to: drive/MyDrive/Colab Notebooks/AEmodel_lstm_4500_cce_dd_2/assets\n"
          ]
        },
        {
          "output_type": "stream",
          "name": "stderr",
          "text": [
            "INFO:tensorflow:Assets written to: drive/MyDrive/Colab Notebooks/AEmodel_lstm_4500_cce_dd_2/assets\n",
            "WARNING:absl:<keras.layers.recurrent.LSTMCell object at 0x7f5f13510490> has the same name 'LSTMCell' as a built-in Keras object. Consider renaming <class 'keras.layers.recurrent.LSTMCell'> to avoid naming conflicts when loading with `tf.keras.models.load_model`. If renaming is not possible, pass the object in the `custom_objects` parameter of the load function.\n",
            "WARNING:absl:<keras.layers.recurrent.LSTMCell object at 0x7f5f13580dd0> has the same name 'LSTMCell' as a built-in Keras object. Consider renaming <class 'keras.layers.recurrent.LSTMCell'> to avoid naming conflicts when loading with `tf.keras.models.load_model`. If renaming is not possible, pass the object in the `custom_objects` parameter of the load function.\n",
            "WARNING:absl:<keras.layers.recurrent.LSTMCell object at 0x7f5f16cd79d0> has the same name 'LSTMCell' as a built-in Keras object. Consider renaming <class 'keras.layers.recurrent.LSTMCell'> to avoid naming conflicts when loading with `tf.keras.models.load_model`. If renaming is not possible, pass the object in the `custom_objects` parameter of the load function.\n",
            "WARNING:absl:<keras.layers.recurrent.LSTMCell object at 0x7f5f16d3be50> has the same name 'LSTMCell' as a built-in Keras object. Consider renaming <class 'keras.layers.recurrent.LSTMCell'> to avoid naming conflicts when loading with `tf.keras.models.load_model`. If renaming is not possible, pass the object in the `custom_objects` parameter of the load function.\n",
            "WARNING:absl:<keras.layers.recurrent.LSTMCell object at 0x7f5f174f9390> has the same name 'LSTMCell' as a built-in Keras object. Consider renaming <class 'keras.layers.recurrent.LSTMCell'> to avoid naming conflicts when loading with `tf.keras.models.load_model`. If renaming is not possible, pass the object in the `custom_objects` parameter of the load function.\n",
            "WARNING:absl:<keras.layers.recurrent.LSTMCell object at 0x7f5f173e8910> has the same name 'LSTMCell' as a built-in Keras object. Consider renaming <class 'keras.layers.recurrent.LSTMCell'> to avoid naming conflicts when loading with `tf.keras.models.load_model`. If renaming is not possible, pass the object in the `custom_objects` parameter of the load function.\n"
          ]
        },
        {
          "output_type": "stream",
          "name": "stdout",
          "text": [
            "\b\b\b\b\b\b\b\b\b\b\b\b\b\b\b\b\b\b\b\b\b\b\b\b\b\b\b\b\b\b\b\b\b\b\b\b\b\b\b\b\b\b\b\b\b\b\b\b\b\b\b\b\b\b\b\b\b\b\b\b\b\b\b\b\b\b\b\b\b\b\b\b\b\b\b\b\b\b\b\b\b\b\b\b\b\b\r1485/1485 [==============================] - 182s 123ms/step - loss: 0.0775 - accuracy: 0.9754 - val_loss: 0.2668 - val_accuracy: 0.9378\n",
            "Epoch 16/70\n",
            "1485/1485 [==============================] - ETA: 0s - loss: 0.0714 - accuracy: 0.9773"
          ]
        },
        {
          "output_type": "stream",
          "name": "stderr",
          "text": [
            "WARNING:absl:Found untraced functions such as lstm_cell_11_layer_call_fn, lstm_cell_11_layer_call_and_return_conditional_losses, lstm_cell_12_layer_call_fn, lstm_cell_12_layer_call_and_return_conditional_losses, lstm_cell_9_layer_call_fn while saving (showing 5 of 30). These functions will not be directly callable after loading.\n"
          ]
        },
        {
          "output_type": "stream",
          "name": "stdout",
          "text": [
            "INFO:tensorflow:Assets written to: drive/MyDrive/Colab Notebooks/AEmodel_lstm_4500_cce_dd_2/assets\n"
          ]
        },
        {
          "output_type": "stream",
          "name": "stderr",
          "text": [
            "INFO:tensorflow:Assets written to: drive/MyDrive/Colab Notebooks/AEmodel_lstm_4500_cce_dd_2/assets\n",
            "WARNING:absl:<keras.layers.recurrent.LSTMCell object at 0x7f5f13510490> has the same name 'LSTMCell' as a built-in Keras object. Consider renaming <class 'keras.layers.recurrent.LSTMCell'> to avoid naming conflicts when loading with `tf.keras.models.load_model`. If renaming is not possible, pass the object in the `custom_objects` parameter of the load function.\n",
            "WARNING:absl:<keras.layers.recurrent.LSTMCell object at 0x7f5f13580dd0> has the same name 'LSTMCell' as a built-in Keras object. Consider renaming <class 'keras.layers.recurrent.LSTMCell'> to avoid naming conflicts when loading with `tf.keras.models.load_model`. If renaming is not possible, pass the object in the `custom_objects` parameter of the load function.\n",
            "WARNING:absl:<keras.layers.recurrent.LSTMCell object at 0x7f5f16cd79d0> has the same name 'LSTMCell' as a built-in Keras object. Consider renaming <class 'keras.layers.recurrent.LSTMCell'> to avoid naming conflicts when loading with `tf.keras.models.load_model`. If renaming is not possible, pass the object in the `custom_objects` parameter of the load function.\n",
            "WARNING:absl:<keras.layers.recurrent.LSTMCell object at 0x7f5f16d3be50> has the same name 'LSTMCell' as a built-in Keras object. Consider renaming <class 'keras.layers.recurrent.LSTMCell'> to avoid naming conflicts when loading with `tf.keras.models.load_model`. If renaming is not possible, pass the object in the `custom_objects` parameter of the load function.\n",
            "WARNING:absl:<keras.layers.recurrent.LSTMCell object at 0x7f5f174f9390> has the same name 'LSTMCell' as a built-in Keras object. Consider renaming <class 'keras.layers.recurrent.LSTMCell'> to avoid naming conflicts when loading with `tf.keras.models.load_model`. If renaming is not possible, pass the object in the `custom_objects` parameter of the load function.\n",
            "WARNING:absl:<keras.layers.recurrent.LSTMCell object at 0x7f5f173e8910> has the same name 'LSTMCell' as a built-in Keras object. Consider renaming <class 'keras.layers.recurrent.LSTMCell'> to avoid naming conflicts when loading with `tf.keras.models.load_model`. If renaming is not possible, pass the object in the `custom_objects` parameter of the load function.\n"
          ]
        },
        {
          "output_type": "stream",
          "name": "stdout",
          "text": [
            "\b\b\b\b\b\b\b\b\b\b\b\b\b\b\b\b\b\b\b\b\b\b\b\b\b\b\b\b\b\b\b\b\b\b\b\b\b\b\b\b\b\b\b\b\b\b\b\b\b\b\b\b\b\b\b\b\b\b\b\b\b\b\b\b\b\b\b\b\b\b\b\b\b\b\b\b\b\b\b\b\b\b\b\b\b\b\r1485/1485 [==============================] - 180s 121ms/step - loss: 0.0714 - accuracy: 0.9773 - val_loss: 0.2666 - val_accuracy: 0.9366\n",
            "Epoch 17/70\n",
            "1485/1485 [==============================] - ETA: 0s - loss: 0.0660 - accuracy: 0.9790"
          ]
        },
        {
          "output_type": "stream",
          "name": "stderr",
          "text": [
            "WARNING:absl:Found untraced functions such as lstm_cell_11_layer_call_fn, lstm_cell_11_layer_call_and_return_conditional_losses, lstm_cell_12_layer_call_fn, lstm_cell_12_layer_call_and_return_conditional_losses, lstm_cell_9_layer_call_fn while saving (showing 5 of 30). These functions will not be directly callable after loading.\n"
          ]
        },
        {
          "output_type": "stream",
          "name": "stdout",
          "text": [
            "INFO:tensorflow:Assets written to: drive/MyDrive/Colab Notebooks/AEmodel_lstm_4500_cce_dd_2/assets\n"
          ]
        },
        {
          "output_type": "stream",
          "name": "stderr",
          "text": [
            "INFO:tensorflow:Assets written to: drive/MyDrive/Colab Notebooks/AEmodel_lstm_4500_cce_dd_2/assets\n",
            "WARNING:absl:<keras.layers.recurrent.LSTMCell object at 0x7f5f13510490> has the same name 'LSTMCell' as a built-in Keras object. Consider renaming <class 'keras.layers.recurrent.LSTMCell'> to avoid naming conflicts when loading with `tf.keras.models.load_model`. If renaming is not possible, pass the object in the `custom_objects` parameter of the load function.\n",
            "WARNING:absl:<keras.layers.recurrent.LSTMCell object at 0x7f5f13580dd0> has the same name 'LSTMCell' as a built-in Keras object. Consider renaming <class 'keras.layers.recurrent.LSTMCell'> to avoid naming conflicts when loading with `tf.keras.models.load_model`. If renaming is not possible, pass the object in the `custom_objects` parameter of the load function.\n",
            "WARNING:absl:<keras.layers.recurrent.LSTMCell object at 0x7f5f16cd79d0> has the same name 'LSTMCell' as a built-in Keras object. Consider renaming <class 'keras.layers.recurrent.LSTMCell'> to avoid naming conflicts when loading with `tf.keras.models.load_model`. If renaming is not possible, pass the object in the `custom_objects` parameter of the load function.\n",
            "WARNING:absl:<keras.layers.recurrent.LSTMCell object at 0x7f5f16d3be50> has the same name 'LSTMCell' as a built-in Keras object. Consider renaming <class 'keras.layers.recurrent.LSTMCell'> to avoid naming conflicts when loading with `tf.keras.models.load_model`. If renaming is not possible, pass the object in the `custom_objects` parameter of the load function.\n",
            "WARNING:absl:<keras.layers.recurrent.LSTMCell object at 0x7f5f174f9390> has the same name 'LSTMCell' as a built-in Keras object. Consider renaming <class 'keras.layers.recurrent.LSTMCell'> to avoid naming conflicts when loading with `tf.keras.models.load_model`. If renaming is not possible, pass the object in the `custom_objects` parameter of the load function.\n",
            "WARNING:absl:<keras.layers.recurrent.LSTMCell object at 0x7f5f173e8910> has the same name 'LSTMCell' as a built-in Keras object. Consider renaming <class 'keras.layers.recurrent.LSTMCell'> to avoid naming conflicts when loading with `tf.keras.models.load_model`. If renaming is not possible, pass the object in the `custom_objects` parameter of the load function.\n"
          ]
        },
        {
          "output_type": "stream",
          "name": "stdout",
          "text": [
            "\b\b\b\b\b\b\b\b\b\b\b\b\b\b\b\b\b\b\b\b\b\b\b\b\b\b\b\b\b\b\b\b\b\b\b\b\b\b\b\b\b\b\b\b\b\b\b\b\b\b\b\b\b\b\b\b\b\b\b\b\b\b\b\b\b\b\b\b\b\b\b\b\b\b\b\b\b\b\b\b\b\b\b\b\b\b\r1485/1485 [==============================] - 181s 122ms/step - loss: 0.0660 - accuracy: 0.9790 - val_loss: 0.2330 - val_accuracy: 0.9453\n",
            "Epoch 18/70\n",
            "1485/1485 [==============================] - 138s 93ms/step - loss: 0.0632 - accuracy: 0.9799 - val_loss: 0.2503 - val_accuracy: 0.9426\n",
            "Epoch 19/70\n",
            "1485/1485 [==============================] - ETA: 0s - loss: 0.0581 - accuracy: 0.9814"
          ]
        },
        {
          "output_type": "stream",
          "name": "stderr",
          "text": [
            "WARNING:absl:Found untraced functions such as lstm_cell_11_layer_call_fn, lstm_cell_11_layer_call_and_return_conditional_losses, lstm_cell_12_layer_call_fn, lstm_cell_12_layer_call_and_return_conditional_losses, lstm_cell_9_layer_call_fn while saving (showing 5 of 30). These functions will not be directly callable after loading.\n"
          ]
        },
        {
          "output_type": "stream",
          "name": "stdout",
          "text": [
            "INFO:tensorflow:Assets written to: drive/MyDrive/Colab Notebooks/AEmodel_lstm_4500_cce_dd_2/assets\n"
          ]
        },
        {
          "output_type": "stream",
          "name": "stderr",
          "text": [
            "INFO:tensorflow:Assets written to: drive/MyDrive/Colab Notebooks/AEmodel_lstm_4500_cce_dd_2/assets\n",
            "WARNING:absl:<keras.layers.recurrent.LSTMCell object at 0x7f5f13510490> has the same name 'LSTMCell' as a built-in Keras object. Consider renaming <class 'keras.layers.recurrent.LSTMCell'> to avoid naming conflicts when loading with `tf.keras.models.load_model`. If renaming is not possible, pass the object in the `custom_objects` parameter of the load function.\n",
            "WARNING:absl:<keras.layers.recurrent.LSTMCell object at 0x7f5f13580dd0> has the same name 'LSTMCell' as a built-in Keras object. Consider renaming <class 'keras.layers.recurrent.LSTMCell'> to avoid naming conflicts when loading with `tf.keras.models.load_model`. If renaming is not possible, pass the object in the `custom_objects` parameter of the load function.\n",
            "WARNING:absl:<keras.layers.recurrent.LSTMCell object at 0x7f5f16cd79d0> has the same name 'LSTMCell' as a built-in Keras object. Consider renaming <class 'keras.layers.recurrent.LSTMCell'> to avoid naming conflicts when loading with `tf.keras.models.load_model`. If renaming is not possible, pass the object in the `custom_objects` parameter of the load function.\n",
            "WARNING:absl:<keras.layers.recurrent.LSTMCell object at 0x7f5f16d3be50> has the same name 'LSTMCell' as a built-in Keras object. Consider renaming <class 'keras.layers.recurrent.LSTMCell'> to avoid naming conflicts when loading with `tf.keras.models.load_model`. If renaming is not possible, pass the object in the `custom_objects` parameter of the load function.\n",
            "WARNING:absl:<keras.layers.recurrent.LSTMCell object at 0x7f5f174f9390> has the same name 'LSTMCell' as a built-in Keras object. Consider renaming <class 'keras.layers.recurrent.LSTMCell'> to avoid naming conflicts when loading with `tf.keras.models.load_model`. If renaming is not possible, pass the object in the `custom_objects` parameter of the load function.\n",
            "WARNING:absl:<keras.layers.recurrent.LSTMCell object at 0x7f5f173e8910> has the same name 'LSTMCell' as a built-in Keras object. Consider renaming <class 'keras.layers.recurrent.LSTMCell'> to avoid naming conflicts when loading with `tf.keras.models.load_model`. If renaming is not possible, pass the object in the `custom_objects` parameter of the load function.\n"
          ]
        },
        {
          "output_type": "stream",
          "name": "stdout",
          "text": [
            "\b\b\b\b\b\b\b\b\b\b\b\b\b\b\b\b\b\b\b\b\b\b\b\b\b\b\b\b\b\b\b\b\b\b\b\b\b\b\b\b\b\b\b\b\b\b\b\b\b\b\b\b\b\b\b\b\b\b\b\b\b\b\b\b\b\b\b\b\b\b\b\b\b\b\b\b\b\b\b\b\b\b\b\b\b\b\r1485/1485 [==============================] - 181s 122ms/step - loss: 0.0581 - accuracy: 0.9814 - val_loss: 0.2128 - val_accuracy: 0.9501\n",
            "Epoch 20/70\n",
            "1485/1485 [==============================] - 138s 93ms/step - loss: 0.0536 - accuracy: 0.9831 - val_loss: 0.2568 - val_accuracy: 0.9418\n",
            "Epoch 21/70\n",
            "1485/1485 [==============================] - 138s 93ms/step - loss: 0.0530 - accuracy: 0.9831 - val_loss: 0.2254 - val_accuracy: 0.9498\n",
            "Epoch 22/70\n",
            "1485/1485 [==============================] - 138s 93ms/step - loss: 0.0492 - accuracy: 0.9843 - val_loss: 0.2369 - val_accuracy: 0.9470\n",
            "Epoch 23/70\n",
            "1485/1485 [==============================] - ETA: 0s - loss: 0.0463 - accuracy: 0.9853"
          ]
        },
        {
          "output_type": "stream",
          "name": "stderr",
          "text": [
            "WARNING:absl:Found untraced functions such as lstm_cell_11_layer_call_fn, lstm_cell_11_layer_call_and_return_conditional_losses, lstm_cell_12_layer_call_fn, lstm_cell_12_layer_call_and_return_conditional_losses, lstm_cell_9_layer_call_fn while saving (showing 5 of 30). These functions will not be directly callable after loading.\n"
          ]
        },
        {
          "output_type": "stream",
          "name": "stdout",
          "text": [
            "INFO:tensorflow:Assets written to: drive/MyDrive/Colab Notebooks/AEmodel_lstm_4500_cce_dd_2/assets\n"
          ]
        },
        {
          "output_type": "stream",
          "name": "stderr",
          "text": [
            "INFO:tensorflow:Assets written to: drive/MyDrive/Colab Notebooks/AEmodel_lstm_4500_cce_dd_2/assets\n",
            "WARNING:absl:<keras.layers.recurrent.LSTMCell object at 0x7f5f13510490> has the same name 'LSTMCell' as a built-in Keras object. Consider renaming <class 'keras.layers.recurrent.LSTMCell'> to avoid naming conflicts when loading with `tf.keras.models.load_model`. If renaming is not possible, pass the object in the `custom_objects` parameter of the load function.\n",
            "WARNING:absl:<keras.layers.recurrent.LSTMCell object at 0x7f5f13580dd0> has the same name 'LSTMCell' as a built-in Keras object. Consider renaming <class 'keras.layers.recurrent.LSTMCell'> to avoid naming conflicts when loading with `tf.keras.models.load_model`. If renaming is not possible, pass the object in the `custom_objects` parameter of the load function.\n",
            "WARNING:absl:<keras.layers.recurrent.LSTMCell object at 0x7f5f16cd79d0> has the same name 'LSTMCell' as a built-in Keras object. Consider renaming <class 'keras.layers.recurrent.LSTMCell'> to avoid naming conflicts when loading with `tf.keras.models.load_model`. If renaming is not possible, pass the object in the `custom_objects` parameter of the load function.\n",
            "WARNING:absl:<keras.layers.recurrent.LSTMCell object at 0x7f5f16d3be50> has the same name 'LSTMCell' as a built-in Keras object. Consider renaming <class 'keras.layers.recurrent.LSTMCell'> to avoid naming conflicts when loading with `tf.keras.models.load_model`. If renaming is not possible, pass the object in the `custom_objects` parameter of the load function.\n",
            "WARNING:absl:<keras.layers.recurrent.LSTMCell object at 0x7f5f174f9390> has the same name 'LSTMCell' as a built-in Keras object. Consider renaming <class 'keras.layers.recurrent.LSTMCell'> to avoid naming conflicts when loading with `tf.keras.models.load_model`. If renaming is not possible, pass the object in the `custom_objects` parameter of the load function.\n",
            "WARNING:absl:<keras.layers.recurrent.LSTMCell object at 0x7f5f173e8910> has the same name 'LSTMCell' as a built-in Keras object. Consider renaming <class 'keras.layers.recurrent.LSTMCell'> to avoid naming conflicts when loading with `tf.keras.models.load_model`. If renaming is not possible, pass the object in the `custom_objects` parameter of the load function.\n"
          ]
        },
        {
          "output_type": "stream",
          "name": "stdout",
          "text": [
            "\b\b\b\b\b\b\b\b\b\b\b\b\b\b\b\b\b\b\b\b\b\b\b\b\b\b\b\b\b\b\b\b\b\b\b\b\b\b\b\b\b\b\b\b\b\b\b\b\b\b\b\b\b\b\b\b\b\b\b\b\b\b\b\b\b\b\b\b\b\b\b\b\b\b\b\b\b\b\b\b\b\b\b\b\b\b\r1485/1485 [==============================] - 178s 120ms/step - loss: 0.0463 - accuracy: 0.9853 - val_loss: 0.2050 - val_accuracy: 0.9531\n",
            "Epoch 24/70\n",
            "1485/1485 [==============================] - 138s 93ms/step - loss: 0.0438 - accuracy: 0.9860 - val_loss: 0.2153 - val_accuracy: 0.9526\n",
            "Epoch 25/70\n",
            "1485/1485 [==============================] - 138s 93ms/step - loss: 0.0427 - accuracy: 0.9864 - val_loss: 0.2209 - val_accuracy: 0.9501\n",
            "Epoch 26/70\n",
            "1485/1485 [==============================] - 138s 93ms/step - loss: 0.0412 - accuracy: 0.9869 - val_loss: 0.2180 - val_accuracy: 0.9517\n",
            "Epoch 27/70\n",
            "1485/1485 [==============================] - ETA: 0s - loss: 0.0391 - accuracy: 0.9877"
          ]
        },
        {
          "output_type": "stream",
          "name": "stderr",
          "text": [
            "WARNING:absl:Found untraced functions such as lstm_cell_11_layer_call_fn, lstm_cell_11_layer_call_and_return_conditional_losses, lstm_cell_12_layer_call_fn, lstm_cell_12_layer_call_and_return_conditional_losses, lstm_cell_9_layer_call_fn while saving (showing 5 of 30). These functions will not be directly callable after loading.\n"
          ]
        },
        {
          "output_type": "stream",
          "name": "stdout",
          "text": [
            "INFO:tensorflow:Assets written to: drive/MyDrive/Colab Notebooks/AEmodel_lstm_4500_cce_dd_2/assets\n"
          ]
        },
        {
          "output_type": "stream",
          "name": "stderr",
          "text": [
            "INFO:tensorflow:Assets written to: drive/MyDrive/Colab Notebooks/AEmodel_lstm_4500_cce_dd_2/assets\n",
            "WARNING:absl:<keras.layers.recurrent.LSTMCell object at 0x7f5f13510490> has the same name 'LSTMCell' as a built-in Keras object. Consider renaming <class 'keras.layers.recurrent.LSTMCell'> to avoid naming conflicts when loading with `tf.keras.models.load_model`. If renaming is not possible, pass the object in the `custom_objects` parameter of the load function.\n",
            "WARNING:absl:<keras.layers.recurrent.LSTMCell object at 0x7f5f13580dd0> has the same name 'LSTMCell' as a built-in Keras object. Consider renaming <class 'keras.layers.recurrent.LSTMCell'> to avoid naming conflicts when loading with `tf.keras.models.load_model`. If renaming is not possible, pass the object in the `custom_objects` parameter of the load function.\n",
            "WARNING:absl:<keras.layers.recurrent.LSTMCell object at 0x7f5f16cd79d0> has the same name 'LSTMCell' as a built-in Keras object. Consider renaming <class 'keras.layers.recurrent.LSTMCell'> to avoid naming conflicts when loading with `tf.keras.models.load_model`. If renaming is not possible, pass the object in the `custom_objects` parameter of the load function.\n",
            "WARNING:absl:<keras.layers.recurrent.LSTMCell object at 0x7f5f16d3be50> has the same name 'LSTMCell' as a built-in Keras object. Consider renaming <class 'keras.layers.recurrent.LSTMCell'> to avoid naming conflicts when loading with `tf.keras.models.load_model`. If renaming is not possible, pass the object in the `custom_objects` parameter of the load function.\n",
            "WARNING:absl:<keras.layers.recurrent.LSTMCell object at 0x7f5f174f9390> has the same name 'LSTMCell' as a built-in Keras object. Consider renaming <class 'keras.layers.recurrent.LSTMCell'> to avoid naming conflicts when loading with `tf.keras.models.load_model`. If renaming is not possible, pass the object in the `custom_objects` parameter of the load function.\n",
            "WARNING:absl:<keras.layers.recurrent.LSTMCell object at 0x7f5f173e8910> has the same name 'LSTMCell' as a built-in Keras object. Consider renaming <class 'keras.layers.recurrent.LSTMCell'> to avoid naming conflicts when loading with `tf.keras.models.load_model`. If renaming is not possible, pass the object in the `custom_objects` parameter of the load function.\n"
          ]
        },
        {
          "output_type": "stream",
          "name": "stdout",
          "text": [
            "\b\b\b\b\b\b\b\b\b\b\b\b\b\b\b\b\b\b\b\b\b\b\b\b\b\b\b\b\b\b\b\b\b\b\b\b\b\b\b\b\b\b\b\b\b\b\b\b\b\b\b\b\b\b\b\b\b\b\b\b\b\b\b\b\b\b\b\b\b\b\b\b\b\b\b\b\b\b\b\b\b\b\b\b\b\b\r1485/1485 [==============================] - 182s 122ms/step - loss: 0.0391 - accuracy: 0.9877 - val_loss: 0.2020 - val_accuracy: 0.9554\n",
            "Epoch 28/70\n",
            "1485/1485 [==============================] - 138s 93ms/step - loss: 0.0372 - accuracy: 0.9881 - val_loss: 0.2084 - val_accuracy: 0.9550\n",
            "Epoch 29/70\n",
            "1485/1485 [==============================] - 138s 93ms/step - loss: 0.0351 - accuracy: 0.9889 - val_loss: 0.2023 - val_accuracy: 0.9553\n",
            "Epoch 30/70\n",
            "1485/1485 [==============================] - 138s 93ms/step - loss: 0.0352 - accuracy: 0.9889 - val_loss: 0.2055 - val_accuracy: 0.9551\n",
            "Epoch 31/70\n",
            "1485/1485 [==============================] - ETA: 0s - loss: 0.0337 - accuracy: 0.9894"
          ]
        },
        {
          "output_type": "stream",
          "name": "stderr",
          "text": [
            "WARNING:absl:Found untraced functions such as lstm_cell_11_layer_call_fn, lstm_cell_11_layer_call_and_return_conditional_losses, lstm_cell_12_layer_call_fn, lstm_cell_12_layer_call_and_return_conditional_losses, lstm_cell_9_layer_call_fn while saving (showing 5 of 30). These functions will not be directly callable after loading.\n"
          ]
        },
        {
          "output_type": "stream",
          "name": "stdout",
          "text": [
            "INFO:tensorflow:Assets written to: drive/MyDrive/Colab Notebooks/AEmodel_lstm_4500_cce_dd_2/assets\n"
          ]
        },
        {
          "output_type": "stream",
          "name": "stderr",
          "text": [
            "INFO:tensorflow:Assets written to: drive/MyDrive/Colab Notebooks/AEmodel_lstm_4500_cce_dd_2/assets\n",
            "WARNING:absl:<keras.layers.recurrent.LSTMCell object at 0x7f5f13510490> has the same name 'LSTMCell' as a built-in Keras object. Consider renaming <class 'keras.layers.recurrent.LSTMCell'> to avoid naming conflicts when loading with `tf.keras.models.load_model`. If renaming is not possible, pass the object in the `custom_objects` parameter of the load function.\n",
            "WARNING:absl:<keras.layers.recurrent.LSTMCell object at 0x7f5f13580dd0> has the same name 'LSTMCell' as a built-in Keras object. Consider renaming <class 'keras.layers.recurrent.LSTMCell'> to avoid naming conflicts when loading with `tf.keras.models.load_model`. If renaming is not possible, pass the object in the `custom_objects` parameter of the load function.\n",
            "WARNING:absl:<keras.layers.recurrent.LSTMCell object at 0x7f5f16cd79d0> has the same name 'LSTMCell' as a built-in Keras object. Consider renaming <class 'keras.layers.recurrent.LSTMCell'> to avoid naming conflicts when loading with `tf.keras.models.load_model`. If renaming is not possible, pass the object in the `custom_objects` parameter of the load function.\n",
            "WARNING:absl:<keras.layers.recurrent.LSTMCell object at 0x7f5f16d3be50> has the same name 'LSTMCell' as a built-in Keras object. Consider renaming <class 'keras.layers.recurrent.LSTMCell'> to avoid naming conflicts when loading with `tf.keras.models.load_model`. If renaming is not possible, pass the object in the `custom_objects` parameter of the load function.\n",
            "WARNING:absl:<keras.layers.recurrent.LSTMCell object at 0x7f5f174f9390> has the same name 'LSTMCell' as a built-in Keras object. Consider renaming <class 'keras.layers.recurrent.LSTMCell'> to avoid naming conflicts when loading with `tf.keras.models.load_model`. If renaming is not possible, pass the object in the `custom_objects` parameter of the load function.\n",
            "WARNING:absl:<keras.layers.recurrent.LSTMCell object at 0x7f5f173e8910> has the same name 'LSTMCell' as a built-in Keras object. Consider renaming <class 'keras.layers.recurrent.LSTMCell'> to avoid naming conflicts when loading with `tf.keras.models.load_model`. If renaming is not possible, pass the object in the `custom_objects` parameter of the load function.\n"
          ]
        },
        {
          "output_type": "stream",
          "name": "stdout",
          "text": [
            "\b\b\b\b\b\b\b\b\b\b\b\b\b\b\b\b\b\b\b\b\b\b\b\b\b\b\b\b\b\b\b\b\b\b\b\b\b\b\b\b\b\b\b\b\b\b\b\b\b\b\b\b\b\b\b\b\b\b\b\b\b\b\b\b\b\b\b\b\b\b\b\b\b\b\b\b\b\b\b\b\b\b\b\b\b\b\r1485/1485 [==============================] - 179s 121ms/step - loss: 0.0337 - accuracy: 0.9894 - val_loss: 0.1984 - val_accuracy: 0.9573\n",
            "Epoch 32/70\n",
            "1485/1485 [==============================] - ETA: 0s - loss: 0.0330 - accuracy: 0.9895"
          ]
        },
        {
          "output_type": "stream",
          "name": "stderr",
          "text": [
            "WARNING:absl:Found untraced functions such as lstm_cell_11_layer_call_fn, lstm_cell_11_layer_call_and_return_conditional_losses, lstm_cell_12_layer_call_fn, lstm_cell_12_layer_call_and_return_conditional_losses, lstm_cell_9_layer_call_fn while saving (showing 5 of 30). These functions will not be directly callable after loading.\n"
          ]
        },
        {
          "output_type": "stream",
          "name": "stdout",
          "text": [
            "INFO:tensorflow:Assets written to: drive/MyDrive/Colab Notebooks/AEmodel_lstm_4500_cce_dd_2/assets\n"
          ]
        },
        {
          "output_type": "stream",
          "name": "stderr",
          "text": [
            "INFO:tensorflow:Assets written to: drive/MyDrive/Colab Notebooks/AEmodel_lstm_4500_cce_dd_2/assets\n",
            "WARNING:absl:<keras.layers.recurrent.LSTMCell object at 0x7f5f13510490> has the same name 'LSTMCell' as a built-in Keras object. Consider renaming <class 'keras.layers.recurrent.LSTMCell'> to avoid naming conflicts when loading with `tf.keras.models.load_model`. If renaming is not possible, pass the object in the `custom_objects` parameter of the load function.\n",
            "WARNING:absl:<keras.layers.recurrent.LSTMCell object at 0x7f5f13580dd0> has the same name 'LSTMCell' as a built-in Keras object. Consider renaming <class 'keras.layers.recurrent.LSTMCell'> to avoid naming conflicts when loading with `tf.keras.models.load_model`. If renaming is not possible, pass the object in the `custom_objects` parameter of the load function.\n",
            "WARNING:absl:<keras.layers.recurrent.LSTMCell object at 0x7f5f16cd79d0> has the same name 'LSTMCell' as a built-in Keras object. Consider renaming <class 'keras.layers.recurrent.LSTMCell'> to avoid naming conflicts when loading with `tf.keras.models.load_model`. If renaming is not possible, pass the object in the `custom_objects` parameter of the load function.\n",
            "WARNING:absl:<keras.layers.recurrent.LSTMCell object at 0x7f5f16d3be50> has the same name 'LSTMCell' as a built-in Keras object. Consider renaming <class 'keras.layers.recurrent.LSTMCell'> to avoid naming conflicts when loading with `tf.keras.models.load_model`. If renaming is not possible, pass the object in the `custom_objects` parameter of the load function.\n",
            "WARNING:absl:<keras.layers.recurrent.LSTMCell object at 0x7f5f174f9390> has the same name 'LSTMCell' as a built-in Keras object. Consider renaming <class 'keras.layers.recurrent.LSTMCell'> to avoid naming conflicts when loading with `tf.keras.models.load_model`. If renaming is not possible, pass the object in the `custom_objects` parameter of the load function.\n",
            "WARNING:absl:<keras.layers.recurrent.LSTMCell object at 0x7f5f173e8910> has the same name 'LSTMCell' as a built-in Keras object. Consider renaming <class 'keras.layers.recurrent.LSTMCell'> to avoid naming conflicts when loading with `tf.keras.models.load_model`. If renaming is not possible, pass the object in the `custom_objects` parameter of the load function.\n"
          ]
        },
        {
          "output_type": "stream",
          "name": "stdout",
          "text": [
            "\b\b\b\b\b\b\b\b\b\b\b\b\b\b\b\b\b\b\b\b\b\b\b\b\b\b\b\b\b\b\b\b\b\b\b\b\b\b\b\b\b\b\b\b\b\b\b\b\b\b\b\b\b\b\b\b\b\b\b\b\b\b\b\b\b\b\b\b\b\b\b\b\b\b\b\b\b\b\b\b\b\b\b\b\b\b\r1485/1485 [==============================] - 181s 122ms/step - loss: 0.0330 - accuracy: 0.9895 - val_loss: 0.1921 - val_accuracy: 0.9579\n",
            "Epoch 33/70\n",
            "1485/1485 [==============================] - 138s 93ms/step - loss: 0.0307 - accuracy: 0.9902 - val_loss: 0.1936 - val_accuracy: 0.9584\n",
            "Epoch 34/70\n",
            "1485/1485 [==============================] - 138s 93ms/step - loss: 0.0306 - accuracy: 0.9903 - val_loss: 0.1969 - val_accuracy: 0.9585\n",
            "Epoch 35/70\n",
            "1485/1485 [==============================] - 138s 93ms/step - loss: 0.0298 - accuracy: 0.9906 - val_loss: 0.1968 - val_accuracy: 0.9577\n",
            "Epoch 36/70\n",
            "1485/1485 [==============================] - 138s 93ms/step - loss: 0.0275 - accuracy: 0.9913 - val_loss: 0.1996 - val_accuracy: 0.9582\n",
            "Epoch 37/70\n",
            "1485/1485 [==============================] - ETA: 0s - loss: 0.0287 - accuracy: 0.9910"
          ]
        },
        {
          "output_type": "stream",
          "name": "stderr",
          "text": [
            "WARNING:absl:Found untraced functions such as lstm_cell_11_layer_call_fn, lstm_cell_11_layer_call_and_return_conditional_losses, lstm_cell_12_layer_call_fn, lstm_cell_12_layer_call_and_return_conditional_losses, lstm_cell_9_layer_call_fn while saving (showing 5 of 30). These functions will not be directly callable after loading.\n"
          ]
        },
        {
          "output_type": "stream",
          "name": "stdout",
          "text": [
            "INFO:tensorflow:Assets written to: drive/MyDrive/Colab Notebooks/AEmodel_lstm_4500_cce_dd_2/assets\n"
          ]
        },
        {
          "output_type": "stream",
          "name": "stderr",
          "text": [
            "INFO:tensorflow:Assets written to: drive/MyDrive/Colab Notebooks/AEmodel_lstm_4500_cce_dd_2/assets\n",
            "WARNING:absl:<keras.layers.recurrent.LSTMCell object at 0x7f5f13510490> has the same name 'LSTMCell' as a built-in Keras object. Consider renaming <class 'keras.layers.recurrent.LSTMCell'> to avoid naming conflicts when loading with `tf.keras.models.load_model`. If renaming is not possible, pass the object in the `custom_objects` parameter of the load function.\n",
            "WARNING:absl:<keras.layers.recurrent.LSTMCell object at 0x7f5f13580dd0> has the same name 'LSTMCell' as a built-in Keras object. Consider renaming <class 'keras.layers.recurrent.LSTMCell'> to avoid naming conflicts when loading with `tf.keras.models.load_model`. If renaming is not possible, pass the object in the `custom_objects` parameter of the load function.\n",
            "WARNING:absl:<keras.layers.recurrent.LSTMCell object at 0x7f5f16cd79d0> has the same name 'LSTMCell' as a built-in Keras object. Consider renaming <class 'keras.layers.recurrent.LSTMCell'> to avoid naming conflicts when loading with `tf.keras.models.load_model`. If renaming is not possible, pass the object in the `custom_objects` parameter of the load function.\n",
            "WARNING:absl:<keras.layers.recurrent.LSTMCell object at 0x7f5f16d3be50> has the same name 'LSTMCell' as a built-in Keras object. Consider renaming <class 'keras.layers.recurrent.LSTMCell'> to avoid naming conflicts when loading with `tf.keras.models.load_model`. If renaming is not possible, pass the object in the `custom_objects` parameter of the load function.\n",
            "WARNING:absl:<keras.layers.recurrent.LSTMCell object at 0x7f5f174f9390> has the same name 'LSTMCell' as a built-in Keras object. Consider renaming <class 'keras.layers.recurrent.LSTMCell'> to avoid naming conflicts when loading with `tf.keras.models.load_model`. If renaming is not possible, pass the object in the `custom_objects` parameter of the load function.\n",
            "WARNING:absl:<keras.layers.recurrent.LSTMCell object at 0x7f5f173e8910> has the same name 'LSTMCell' as a built-in Keras object. Consider renaming <class 'keras.layers.recurrent.LSTMCell'> to avoid naming conflicts when loading with `tf.keras.models.load_model`. If renaming is not possible, pass the object in the `custom_objects` parameter of the load function.\n"
          ]
        },
        {
          "output_type": "stream",
          "name": "stdout",
          "text": [
            "\b\b\b\b\b\b\b\b\b\b\b\b\b\b\b\b\b\b\b\b\b\b\b\b\b\b\b\b\b\b\b\b\b\b\b\b\b\b\b\b\b\b\b\b\b\b\b\b\b\b\b\b\b\b\b\b\b\b\b\b\b\b\b\b\b\b\b\b\b\b\b\b\b\b\b\b\b\b\b\b\b\b\b\b\b\b\r1485/1485 [==============================] - 182s 123ms/step - loss: 0.0287 - accuracy: 0.9910 - val_loss: 0.1858 - val_accuracy: 0.9610\n",
            "Epoch 38/70\n",
            "1485/1485 [==============================] - ETA: 0s - loss: 0.0275 - accuracy: 0.9914"
          ]
        },
        {
          "output_type": "stream",
          "name": "stderr",
          "text": [
            "WARNING:absl:Found untraced functions such as lstm_cell_11_layer_call_fn, lstm_cell_11_layer_call_and_return_conditional_losses, lstm_cell_12_layer_call_fn, lstm_cell_12_layer_call_and_return_conditional_losses, lstm_cell_9_layer_call_fn while saving (showing 5 of 30). These functions will not be directly callable after loading.\n"
          ]
        },
        {
          "output_type": "stream",
          "name": "stdout",
          "text": [
            "INFO:tensorflow:Assets written to: drive/MyDrive/Colab Notebooks/AEmodel_lstm_4500_cce_dd_2/assets\n"
          ]
        },
        {
          "output_type": "stream",
          "name": "stderr",
          "text": [
            "INFO:tensorflow:Assets written to: drive/MyDrive/Colab Notebooks/AEmodel_lstm_4500_cce_dd_2/assets\n",
            "WARNING:absl:<keras.layers.recurrent.LSTMCell object at 0x7f5f13510490> has the same name 'LSTMCell' as a built-in Keras object. Consider renaming <class 'keras.layers.recurrent.LSTMCell'> to avoid naming conflicts when loading with `tf.keras.models.load_model`. If renaming is not possible, pass the object in the `custom_objects` parameter of the load function.\n",
            "WARNING:absl:<keras.layers.recurrent.LSTMCell object at 0x7f5f13580dd0> has the same name 'LSTMCell' as a built-in Keras object. Consider renaming <class 'keras.layers.recurrent.LSTMCell'> to avoid naming conflicts when loading with `tf.keras.models.load_model`. If renaming is not possible, pass the object in the `custom_objects` parameter of the load function.\n",
            "WARNING:absl:<keras.layers.recurrent.LSTMCell object at 0x7f5f16cd79d0> has the same name 'LSTMCell' as a built-in Keras object. Consider renaming <class 'keras.layers.recurrent.LSTMCell'> to avoid naming conflicts when loading with `tf.keras.models.load_model`. If renaming is not possible, pass the object in the `custom_objects` parameter of the load function.\n",
            "WARNING:absl:<keras.layers.recurrent.LSTMCell object at 0x7f5f16d3be50> has the same name 'LSTMCell' as a built-in Keras object. Consider renaming <class 'keras.layers.recurrent.LSTMCell'> to avoid naming conflicts when loading with `tf.keras.models.load_model`. If renaming is not possible, pass the object in the `custom_objects` parameter of the load function.\n",
            "WARNING:absl:<keras.layers.recurrent.LSTMCell object at 0x7f5f174f9390> has the same name 'LSTMCell' as a built-in Keras object. Consider renaming <class 'keras.layers.recurrent.LSTMCell'> to avoid naming conflicts when loading with `tf.keras.models.load_model`. If renaming is not possible, pass the object in the `custom_objects` parameter of the load function.\n",
            "WARNING:absl:<keras.layers.recurrent.LSTMCell object at 0x7f5f173e8910> has the same name 'LSTMCell' as a built-in Keras object. Consider renaming <class 'keras.layers.recurrent.LSTMCell'> to avoid naming conflicts when loading with `tf.keras.models.load_model`. If renaming is not possible, pass the object in the `custom_objects` parameter of the load function.\n"
          ]
        },
        {
          "output_type": "stream",
          "name": "stdout",
          "text": [
            "\b\b\b\b\b\b\b\b\b\b\b\b\b\b\b\b\b\b\b\b\b\b\b\b\b\b\b\b\b\b\b\b\b\b\b\b\b\b\b\b\b\b\b\b\b\b\b\b\b\b\b\b\b\b\b\b\b\b\b\b\b\b\b\b\b\b\b\b\b\b\b\b\b\b\b\b\b\b\b\b\b\b\b\b\b\b\r1485/1485 [==============================] - 181s 122ms/step - loss: 0.0275 - accuracy: 0.9914 - val_loss: 0.1744 - val_accuracy: 0.9615\n",
            "Epoch 39/70\n",
            "1485/1485 [==============================] - 138s 93ms/step - loss: 0.0248 - accuracy: 0.9922 - val_loss: 0.1794 - val_accuracy: 0.9622\n",
            "Epoch 40/70\n",
            "1485/1485 [==============================] - 139s 93ms/step - loss: 0.0258 - accuracy: 0.9919 - val_loss: 0.2010 - val_accuracy: 0.9587\n",
            "Epoch 41/70\n",
            "1485/1485 [==============================] - 138s 93ms/step - loss: 0.0250 - accuracy: 0.9921 - val_loss: 0.1948 - val_accuracy: 0.9592\n",
            "Epoch 42/70\n",
            "1485/1485 [==============================] - 138s 93ms/step - loss: 0.0249 - accuracy: 0.9922 - val_loss: 0.1817 - val_accuracy: 0.9637\n",
            "Epoch 43/70\n",
            "1485/1485 [==============================] - 138s 93ms/step - loss: 0.0239 - accuracy: 0.9924 - val_loss: 0.1900 - val_accuracy: 0.9602\n",
            "Epoch 44/70\n",
            "1485/1485 [==============================] - ETA: 0s - loss: 0.0230 - accuracy: 0.9928"
          ]
        },
        {
          "output_type": "stream",
          "name": "stderr",
          "text": [
            "WARNING:absl:Found untraced functions such as lstm_cell_11_layer_call_fn, lstm_cell_11_layer_call_and_return_conditional_losses, lstm_cell_12_layer_call_fn, lstm_cell_12_layer_call_and_return_conditional_losses, lstm_cell_9_layer_call_fn while saving (showing 5 of 30). These functions will not be directly callable after loading.\n"
          ]
        },
        {
          "output_type": "stream",
          "name": "stdout",
          "text": [
            "INFO:tensorflow:Assets written to: drive/MyDrive/Colab Notebooks/AEmodel_lstm_4500_cce_dd_2/assets\n"
          ]
        },
        {
          "output_type": "stream",
          "name": "stderr",
          "text": [
            "INFO:tensorflow:Assets written to: drive/MyDrive/Colab Notebooks/AEmodel_lstm_4500_cce_dd_2/assets\n",
            "WARNING:absl:<keras.layers.recurrent.LSTMCell object at 0x7f5f13510490> has the same name 'LSTMCell' as a built-in Keras object. Consider renaming <class 'keras.layers.recurrent.LSTMCell'> to avoid naming conflicts when loading with `tf.keras.models.load_model`. If renaming is not possible, pass the object in the `custom_objects` parameter of the load function.\n",
            "WARNING:absl:<keras.layers.recurrent.LSTMCell object at 0x7f5f13580dd0> has the same name 'LSTMCell' as a built-in Keras object. Consider renaming <class 'keras.layers.recurrent.LSTMCell'> to avoid naming conflicts when loading with `tf.keras.models.load_model`. If renaming is not possible, pass the object in the `custom_objects` parameter of the load function.\n",
            "WARNING:absl:<keras.layers.recurrent.LSTMCell object at 0x7f5f16cd79d0> has the same name 'LSTMCell' as a built-in Keras object. Consider renaming <class 'keras.layers.recurrent.LSTMCell'> to avoid naming conflicts when loading with `tf.keras.models.load_model`. If renaming is not possible, pass the object in the `custom_objects` parameter of the load function.\n",
            "WARNING:absl:<keras.layers.recurrent.LSTMCell object at 0x7f5f16d3be50> has the same name 'LSTMCell' as a built-in Keras object. Consider renaming <class 'keras.layers.recurrent.LSTMCell'> to avoid naming conflicts when loading with `tf.keras.models.load_model`. If renaming is not possible, pass the object in the `custom_objects` parameter of the load function.\n",
            "WARNING:absl:<keras.layers.recurrent.LSTMCell object at 0x7f5f174f9390> has the same name 'LSTMCell' as a built-in Keras object. Consider renaming <class 'keras.layers.recurrent.LSTMCell'> to avoid naming conflicts when loading with `tf.keras.models.load_model`. If renaming is not possible, pass the object in the `custom_objects` parameter of the load function.\n",
            "WARNING:absl:<keras.layers.recurrent.LSTMCell object at 0x7f5f173e8910> has the same name 'LSTMCell' as a built-in Keras object. Consider renaming <class 'keras.layers.recurrent.LSTMCell'> to avoid naming conflicts when loading with `tf.keras.models.load_model`. If renaming is not possible, pass the object in the `custom_objects` parameter of the load function.\n"
          ]
        },
        {
          "output_type": "stream",
          "name": "stdout",
          "text": [
            "\b\b\b\b\b\b\b\b\b\b\b\b\b\b\b\b\b\b\b\b\b\b\b\b\b\b\b\b\b\b\b\b\b\b\b\b\b\b\b\b\b\b\b\b\b\b\b\b\b\b\b\b\b\b\b\b\b\b\b\b\b\b\b\b\b\b\b\b\b\b\b\b\b\b\b\b\b\b\b\b\b\b\b\b\b\b\r1485/1485 [==============================] - 181s 122ms/step - loss: 0.0230 - accuracy: 0.9928 - val_loss: 0.1718 - val_accuracy: 0.9638\n",
            "Epoch 45/70\n",
            "1485/1485 [==============================] - 138s 93ms/step - loss: 0.0225 - accuracy: 0.9930 - val_loss: 0.1786 - val_accuracy: 0.9621\n",
            "Epoch 46/70\n",
            "1485/1485 [==============================] - 141s 95ms/step - loss: 0.0215 - accuracy: 0.9932 - val_loss: 0.1804 - val_accuracy: 0.9627\n",
            "Epoch 47/70\n",
            "1485/1485 [==============================] - 138s 93ms/step - loss: 0.0221 - accuracy: 0.9929 - val_loss: 0.1757 - val_accuracy: 0.9645\n",
            "Epoch 48/70\n",
            "1485/1485 [==============================] - ETA: 0s - loss: 0.0212 - accuracy: 0.9933"
          ]
        },
        {
          "output_type": "stream",
          "name": "stderr",
          "text": [
            "WARNING:absl:Found untraced functions such as lstm_cell_11_layer_call_fn, lstm_cell_11_layer_call_and_return_conditional_losses, lstm_cell_12_layer_call_fn, lstm_cell_12_layer_call_and_return_conditional_losses, lstm_cell_9_layer_call_fn while saving (showing 5 of 30). These functions will not be directly callable after loading.\n"
          ]
        },
        {
          "output_type": "stream",
          "name": "stdout",
          "text": [
            "INFO:tensorflow:Assets written to: drive/MyDrive/Colab Notebooks/AEmodel_lstm_4500_cce_dd_2/assets\n"
          ]
        },
        {
          "output_type": "stream",
          "name": "stderr",
          "text": [
            "INFO:tensorflow:Assets written to: drive/MyDrive/Colab Notebooks/AEmodel_lstm_4500_cce_dd_2/assets\n",
            "WARNING:absl:<keras.layers.recurrent.LSTMCell object at 0x7f5f13510490> has the same name 'LSTMCell' as a built-in Keras object. Consider renaming <class 'keras.layers.recurrent.LSTMCell'> to avoid naming conflicts when loading with `tf.keras.models.load_model`. If renaming is not possible, pass the object in the `custom_objects` parameter of the load function.\n",
            "WARNING:absl:<keras.layers.recurrent.LSTMCell object at 0x7f5f13580dd0> has the same name 'LSTMCell' as a built-in Keras object. Consider renaming <class 'keras.layers.recurrent.LSTMCell'> to avoid naming conflicts when loading with `tf.keras.models.load_model`. If renaming is not possible, pass the object in the `custom_objects` parameter of the load function.\n",
            "WARNING:absl:<keras.layers.recurrent.LSTMCell object at 0x7f5f16cd79d0> has the same name 'LSTMCell' as a built-in Keras object. Consider renaming <class 'keras.layers.recurrent.LSTMCell'> to avoid naming conflicts when loading with `tf.keras.models.load_model`. If renaming is not possible, pass the object in the `custom_objects` parameter of the load function.\n",
            "WARNING:absl:<keras.layers.recurrent.LSTMCell object at 0x7f5f16d3be50> has the same name 'LSTMCell' as a built-in Keras object. Consider renaming <class 'keras.layers.recurrent.LSTMCell'> to avoid naming conflicts when loading with `tf.keras.models.load_model`. If renaming is not possible, pass the object in the `custom_objects` parameter of the load function.\n",
            "WARNING:absl:<keras.layers.recurrent.LSTMCell object at 0x7f5f174f9390> has the same name 'LSTMCell' as a built-in Keras object. Consider renaming <class 'keras.layers.recurrent.LSTMCell'> to avoid naming conflicts when loading with `tf.keras.models.load_model`. If renaming is not possible, pass the object in the `custom_objects` parameter of the load function.\n",
            "WARNING:absl:<keras.layers.recurrent.LSTMCell object at 0x7f5f173e8910> has the same name 'LSTMCell' as a built-in Keras object. Consider renaming <class 'keras.layers.recurrent.LSTMCell'> to avoid naming conflicts when loading with `tf.keras.models.load_model`. If renaming is not possible, pass the object in the `custom_objects` parameter of the load function.\n"
          ]
        },
        {
          "output_type": "stream",
          "name": "stdout",
          "text": [
            "\b\b\b\b\b\b\b\b\b\b\b\b\b\b\b\b\b\b\b\b\b\b\b\b\b\b\b\b\b\b\b\b\b\b\b\b\b\b\b\b\b\b\b\b\b\b\b\b\b\b\b\b\b\b\b\b\b\b\b\b\b\b\b\b\b\b\b\b\b\b\b\b\b\b\b\b\b\b\b\b\b\b\b\b\b\b\r1485/1485 [==============================] - 180s 122ms/step - loss: 0.0212 - accuracy: 0.9933 - val_loss: 0.1702 - val_accuracy: 0.9644\n",
            "Epoch 49/70\n",
            "1485/1485 [==============================] - 138s 93ms/step - loss: 0.0205 - accuracy: 0.9936 - val_loss: 0.1720 - val_accuracy: 0.9641\n",
            "Epoch 50/70\n",
            "1485/1485 [==============================] - ETA: 0s - loss: 0.0201 - accuracy: 0.9936"
          ]
        },
        {
          "output_type": "stream",
          "name": "stderr",
          "text": [
            "WARNING:absl:Found untraced functions such as lstm_cell_11_layer_call_fn, lstm_cell_11_layer_call_and_return_conditional_losses, lstm_cell_12_layer_call_fn, lstm_cell_12_layer_call_and_return_conditional_losses, lstm_cell_9_layer_call_fn while saving (showing 5 of 30). These functions will not be directly callable after loading.\n"
          ]
        },
        {
          "output_type": "stream",
          "name": "stdout",
          "text": [
            "INFO:tensorflow:Assets written to: drive/MyDrive/Colab Notebooks/AEmodel_lstm_4500_cce_dd_2/assets\n"
          ]
        },
        {
          "output_type": "stream",
          "name": "stderr",
          "text": [
            "INFO:tensorflow:Assets written to: drive/MyDrive/Colab Notebooks/AEmodel_lstm_4500_cce_dd_2/assets\n",
            "WARNING:absl:<keras.layers.recurrent.LSTMCell object at 0x7f5f13510490> has the same name 'LSTMCell' as a built-in Keras object. Consider renaming <class 'keras.layers.recurrent.LSTMCell'> to avoid naming conflicts when loading with `tf.keras.models.load_model`. If renaming is not possible, pass the object in the `custom_objects` parameter of the load function.\n",
            "WARNING:absl:<keras.layers.recurrent.LSTMCell object at 0x7f5f13580dd0> has the same name 'LSTMCell' as a built-in Keras object. Consider renaming <class 'keras.layers.recurrent.LSTMCell'> to avoid naming conflicts when loading with `tf.keras.models.load_model`. If renaming is not possible, pass the object in the `custom_objects` parameter of the load function.\n",
            "WARNING:absl:<keras.layers.recurrent.LSTMCell object at 0x7f5f16cd79d0> has the same name 'LSTMCell' as a built-in Keras object. Consider renaming <class 'keras.layers.recurrent.LSTMCell'> to avoid naming conflicts when loading with `tf.keras.models.load_model`. If renaming is not possible, pass the object in the `custom_objects` parameter of the load function.\n",
            "WARNING:absl:<keras.layers.recurrent.LSTMCell object at 0x7f5f16d3be50> has the same name 'LSTMCell' as a built-in Keras object. Consider renaming <class 'keras.layers.recurrent.LSTMCell'> to avoid naming conflicts when loading with `tf.keras.models.load_model`. If renaming is not possible, pass the object in the `custom_objects` parameter of the load function.\n",
            "WARNING:absl:<keras.layers.recurrent.LSTMCell object at 0x7f5f174f9390> has the same name 'LSTMCell' as a built-in Keras object. Consider renaming <class 'keras.layers.recurrent.LSTMCell'> to avoid naming conflicts when loading with `tf.keras.models.load_model`. If renaming is not possible, pass the object in the `custom_objects` parameter of the load function.\n",
            "WARNING:absl:<keras.layers.recurrent.LSTMCell object at 0x7f5f173e8910> has the same name 'LSTMCell' as a built-in Keras object. Consider renaming <class 'keras.layers.recurrent.LSTMCell'> to avoid naming conflicts when loading with `tf.keras.models.load_model`. If renaming is not possible, pass the object in the `custom_objects` parameter of the load function.\n"
          ]
        },
        {
          "output_type": "stream",
          "name": "stdout",
          "text": [
            "\b\b\b\b\b\b\b\b\b\b\b\b\b\b\b\b\b\b\b\b\b\b\b\b\b\b\b\b\b\b\b\b\b\b\b\b\b\b\b\b\b\b\b\b\b\b\b\b\b\b\b\b\b\b\b\b\b\b\b\b\b\b\b\b\b\b\b\b\b\b\b\b\b\b\b\b\b\b\b\b\b\b\b\b\b\b\r1485/1485 [==============================] - 180s 121ms/step - loss: 0.0201 - accuracy: 0.9936 - val_loss: 0.1569 - val_accuracy: 0.9678\n",
            "Epoch 51/70\n",
            "1485/1485 [==============================] - 138s 93ms/step - loss: 0.0199 - accuracy: 0.9938 - val_loss: 0.1843 - val_accuracy: 0.9626\n",
            "Epoch 52/70\n",
            "1485/1485 [==============================] - 138s 93ms/step - loss: 0.0195 - accuracy: 0.9939 - val_loss: 0.1774 - val_accuracy: 0.9625\n",
            "Epoch 53/70\n",
            "1485/1485 [==============================] - 139s 93ms/step - loss: 0.0200 - accuracy: 0.9938 - val_loss: 0.1604 - val_accuracy: 0.9665\n",
            "Epoch 54/70\n",
            "1485/1485 [==============================] - 138s 93ms/step - loss: 0.0180 - accuracy: 0.9943 - val_loss: 0.1646 - val_accuracy: 0.9671\n",
            "Epoch 55/70\n",
            "1485/1485 [==============================] - 138s 93ms/step - loss: 0.0182 - accuracy: 0.9943 - val_loss: 0.1579 - val_accuracy: 0.9685\n",
            "Epoch 56/70\n",
            "1485/1485 [==============================] - ETA: 0s - loss: 0.0184 - accuracy: 0.9942"
          ]
        },
        {
          "output_type": "stream",
          "name": "stderr",
          "text": [
            "WARNING:absl:Found untraced functions such as lstm_cell_11_layer_call_fn, lstm_cell_11_layer_call_and_return_conditional_losses, lstm_cell_12_layer_call_fn, lstm_cell_12_layer_call_and_return_conditional_losses, lstm_cell_9_layer_call_fn while saving (showing 5 of 30). These functions will not be directly callable after loading.\n"
          ]
        },
        {
          "output_type": "stream",
          "name": "stdout",
          "text": [
            "INFO:tensorflow:Assets written to: drive/MyDrive/Colab Notebooks/AEmodel_lstm_4500_cce_dd_2/assets\n"
          ]
        },
        {
          "output_type": "stream",
          "name": "stderr",
          "text": [
            "INFO:tensorflow:Assets written to: drive/MyDrive/Colab Notebooks/AEmodel_lstm_4500_cce_dd_2/assets\n",
            "WARNING:absl:<keras.layers.recurrent.LSTMCell object at 0x7f5f13510490> has the same name 'LSTMCell' as a built-in Keras object. Consider renaming <class 'keras.layers.recurrent.LSTMCell'> to avoid naming conflicts when loading with `tf.keras.models.load_model`. If renaming is not possible, pass the object in the `custom_objects` parameter of the load function.\n",
            "WARNING:absl:<keras.layers.recurrent.LSTMCell object at 0x7f5f13580dd0> has the same name 'LSTMCell' as a built-in Keras object. Consider renaming <class 'keras.layers.recurrent.LSTMCell'> to avoid naming conflicts when loading with `tf.keras.models.load_model`. If renaming is not possible, pass the object in the `custom_objects` parameter of the load function.\n",
            "WARNING:absl:<keras.layers.recurrent.LSTMCell object at 0x7f5f16cd79d0> has the same name 'LSTMCell' as a built-in Keras object. Consider renaming <class 'keras.layers.recurrent.LSTMCell'> to avoid naming conflicts when loading with `tf.keras.models.load_model`. If renaming is not possible, pass the object in the `custom_objects` parameter of the load function.\n",
            "WARNING:absl:<keras.layers.recurrent.LSTMCell object at 0x7f5f16d3be50> has the same name 'LSTMCell' as a built-in Keras object. Consider renaming <class 'keras.layers.recurrent.LSTMCell'> to avoid naming conflicts when loading with `tf.keras.models.load_model`. If renaming is not possible, pass the object in the `custom_objects` parameter of the load function.\n",
            "WARNING:absl:<keras.layers.recurrent.LSTMCell object at 0x7f5f174f9390> has the same name 'LSTMCell' as a built-in Keras object. Consider renaming <class 'keras.layers.recurrent.LSTMCell'> to avoid naming conflicts when loading with `tf.keras.models.load_model`. If renaming is not possible, pass the object in the `custom_objects` parameter of the load function.\n",
            "WARNING:absl:<keras.layers.recurrent.LSTMCell object at 0x7f5f173e8910> has the same name 'LSTMCell' as a built-in Keras object. Consider renaming <class 'keras.layers.recurrent.LSTMCell'> to avoid naming conflicts when loading with `tf.keras.models.load_model`. If renaming is not possible, pass the object in the `custom_objects` parameter of the load function.\n"
          ]
        },
        {
          "output_type": "stream",
          "name": "stdout",
          "text": [
            "\b\b\b\b\b\b\b\b\b\b\b\b\b\b\b\b\b\b\b\b\b\b\b\b\b\b\b\b\b\b\b\b\b\b\b\b\b\b\b\b\b\b\b\b\b\b\b\b\b\b\b\b\b\b\b\b\b\b\b\b\b\b\b\b\b\b\b\b\b\b\b\b\b\b\b\b\b\b\b\b\b\b\b\b\b\b\r1485/1485 [==============================] - 181s 122ms/step - loss: 0.0184 - accuracy: 0.9942 - val_loss: 0.1537 - val_accuracy: 0.9687\n",
            "Epoch 57/70\n",
            "1485/1485 [==============================] - 138s 93ms/step - loss: 0.0171 - accuracy: 0.9946 - val_loss: 0.1631 - val_accuracy: 0.9678\n",
            "Epoch 58/70\n",
            "1485/1485 [==============================] - 139s 93ms/step - loss: 0.0172 - accuracy: 0.9946 - val_loss: 0.1656 - val_accuracy: 0.9672\n",
            "Epoch 59/70\n",
            "1485/1485 [==============================] - 138s 93ms/step - loss: 0.0173 - accuracy: 0.9946 - val_loss: 0.1642 - val_accuracy: 0.9669\n",
            "Epoch 60/70\n",
            "1485/1485 [==============================] - 138s 93ms/step - loss: 0.0170 - accuracy: 0.9947 - val_loss: 0.1555 - val_accuracy: 0.9689\n",
            "Epoch 61/70\n",
            "1485/1485 [==============================] - 139s 93ms/step - loss: 0.0164 - accuracy: 0.9949 - val_loss: 0.1584 - val_accuracy: 0.9685\n",
            "Epoch 62/70\n",
            "1485/1485 [==============================] - 138s 93ms/step - loss: 0.0161 - accuracy: 0.9950 - val_loss: 0.1743 - val_accuracy: 0.9649\n",
            "Epoch 63/70\n",
            "1485/1485 [==============================] - 138s 93ms/step - loss: 0.0152 - accuracy: 0.9953 - val_loss: 0.1758 - val_accuracy: 0.9657\n",
            "Epoch 64/70\n",
            "1485/1485 [==============================] - 138s 93ms/step - loss: 0.0160 - accuracy: 0.9950 - val_loss: 0.1566 - val_accuracy: 0.9697\n",
            "Epoch 65/70\n",
            "1485/1485 [==============================] - 138s 93ms/step - loss: 0.0154 - accuracy: 0.9952 - val_loss: 0.1766 - val_accuracy: 0.9658\n",
            "Epoch 66/70\n",
            "1485/1485 [==============================] - 138s 93ms/step - loss: 0.0157 - accuracy: 0.9951 - val_loss: 0.1662 - val_accuracy: 0.9679\n",
            "Epoch 67/70\n",
            "1485/1485 [==============================] - 138s 93ms/step - loss: 0.0155 - accuracy: 0.9952 - val_loss: 0.1709 - val_accuracy: 0.9667\n",
            "Epoch 68/70\n",
            "1485/1485 [==============================] - 138s 93ms/step - loss: 0.0142 - accuracy: 0.9956 - val_loss: 0.1779 - val_accuracy: 0.9654\n",
            "Epoch 69/70\n",
            "1485/1485 [==============================] - ETA: 0s - loss: 0.0144 - accuracy: 0.9955"
          ]
        },
        {
          "output_type": "stream",
          "name": "stderr",
          "text": [
            "WARNING:absl:Found untraced functions such as lstm_cell_11_layer_call_fn, lstm_cell_11_layer_call_and_return_conditional_losses, lstm_cell_12_layer_call_fn, lstm_cell_12_layer_call_and_return_conditional_losses, lstm_cell_9_layer_call_fn while saving (showing 5 of 30). These functions will not be directly callable after loading.\n"
          ]
        },
        {
          "output_type": "stream",
          "name": "stdout",
          "text": [
            "INFO:tensorflow:Assets written to: drive/MyDrive/Colab Notebooks/AEmodel_lstm_4500_cce_dd_2/assets\n"
          ]
        },
        {
          "output_type": "stream",
          "name": "stderr",
          "text": [
            "INFO:tensorflow:Assets written to: drive/MyDrive/Colab Notebooks/AEmodel_lstm_4500_cce_dd_2/assets\n",
            "WARNING:absl:<keras.layers.recurrent.LSTMCell object at 0x7f5f13510490> has the same name 'LSTMCell' as a built-in Keras object. Consider renaming <class 'keras.layers.recurrent.LSTMCell'> to avoid naming conflicts when loading with `tf.keras.models.load_model`. If renaming is not possible, pass the object in the `custom_objects` parameter of the load function.\n",
            "WARNING:absl:<keras.layers.recurrent.LSTMCell object at 0x7f5f13580dd0> has the same name 'LSTMCell' as a built-in Keras object. Consider renaming <class 'keras.layers.recurrent.LSTMCell'> to avoid naming conflicts when loading with `tf.keras.models.load_model`. If renaming is not possible, pass the object in the `custom_objects` parameter of the load function.\n",
            "WARNING:absl:<keras.layers.recurrent.LSTMCell object at 0x7f5f16cd79d0> has the same name 'LSTMCell' as a built-in Keras object. Consider renaming <class 'keras.layers.recurrent.LSTMCell'> to avoid naming conflicts when loading with `tf.keras.models.load_model`. If renaming is not possible, pass the object in the `custom_objects` parameter of the load function.\n",
            "WARNING:absl:<keras.layers.recurrent.LSTMCell object at 0x7f5f16d3be50> has the same name 'LSTMCell' as a built-in Keras object. Consider renaming <class 'keras.layers.recurrent.LSTMCell'> to avoid naming conflicts when loading with `tf.keras.models.load_model`. If renaming is not possible, pass the object in the `custom_objects` parameter of the load function.\n",
            "WARNING:absl:<keras.layers.recurrent.LSTMCell object at 0x7f5f174f9390> has the same name 'LSTMCell' as a built-in Keras object. Consider renaming <class 'keras.layers.recurrent.LSTMCell'> to avoid naming conflicts when loading with `tf.keras.models.load_model`. If renaming is not possible, pass the object in the `custom_objects` parameter of the load function.\n",
            "WARNING:absl:<keras.layers.recurrent.LSTMCell object at 0x7f5f173e8910> has the same name 'LSTMCell' as a built-in Keras object. Consider renaming <class 'keras.layers.recurrent.LSTMCell'> to avoid naming conflicts when loading with `tf.keras.models.load_model`. If renaming is not possible, pass the object in the `custom_objects` parameter of the load function.\n"
          ]
        },
        {
          "output_type": "stream",
          "name": "stdout",
          "text": [
            "\b\b\b\b\b\b\b\b\b\b\b\b\b\b\b\b\b\b\b\b\b\b\b\b\b\b\b\b\b\b\b\b\b\b\b\b\b\b\b\b\b\b\b\b\b\b\b\b\b\b\b\b\b\b\b\b\b\b\b\b\b\b\b\b\b\b\b\b\b\b\b\b\b\b\b\b\b\b\b\b\b\b\b\b\b\b\r1485/1485 [==============================] - 178s 120ms/step - loss: 0.0144 - accuracy: 0.9955 - val_loss: 0.1531 - val_accuracy: 0.9694\n",
            "Epoch 70/70\n",
            "1485/1485 [==============================] - 138s 93ms/step - loss: 0.0157 - accuracy: 0.9953 - val_loss: 0.1690 - val_accuracy: 0.9676\n"
          ]
        }
      ]
    },
    {
      "cell_type": "code",
      "metadata": {
        "colab": {
          "base_uri": "https://localhost:8080/",
          "height": 573
        },
        "id": "B38ussjDYhkF",
        "outputId": "d4f315cf-9c97-4af4-e9fc-8336a91ead24"
      },
      "source": [
        "from matplotlib import pyplot as plt\n",
        "\n",
        "# plot loss and accuracy and save them\n",
        "def plot_training(loss, val_loss, acc, val_acc):\n",
        "  plt.plot(acc) \n",
        "  plt.plot(val_acc)\n",
        "  plt.title('model accuracy')\n",
        "  plt.ylabel('accuracy')\n",
        "  plt.xlabel('epoch')\n",
        "  plt.legend(['train', 'val'], loc='upper left')\n",
        "  plt.savefig(PLOT_PATH.format('AE_accuracy'))\n",
        "  plt.show()\n",
        "\n",
        "  plt.plot(loss)\n",
        "  plt.plot(val_loss)\n",
        "  plt.title('model loss')\n",
        "  plt.ylabel('loss')\n",
        "  plt.xlabel('epoch')\n",
        "  plt.legend(['train', 'val'], loc='upper left')\n",
        "  plt.savefig(PLOT_PATH.format('AE_loss'))\n",
        "  plt.show()\n",
        "\n",
        "df = pd.read_csv(HISTORY_PATH.format(\"AE\"), keep_default_na=False) \n",
        "plot_training(df.iloc[:,2], df.iloc[:,4], df.iloc[:,1], df.iloc[:,3])"
      ],
      "execution_count": 9,
      "outputs": [
        {
          "output_type": "display_data",
          "data": {
            "image/png": "[encoded data removed]",
            "text/plain": [
              "<Figure size 432x288 with 1 Axes>"
            ]
          },
          "metadata": {
            "needs_background": "light"
          }
        },
        {
          "output_type": "display_data",
          "data": {
            "image/png": "[encoded data removed]",
            "text/plain": [
              "<Figure size 432x288 with 1 Axes>"
            ]
          },
          "metadata": {
            "needs_background": "light"
          }
        }
      ]
    },
    {
      "cell_type": "markdown",
      "metadata": {
        "id": "6kdz8gqkaUmG"
      },
      "source": [
        "As we can see, training data accuracy is fine, but validation accuracy is relatively low (97%).\n",
        "<br><br>\n",
        "\n",
        "In GAN training we are mostly interested in generator generating values similar to training set so, if its working well, decoding accuracy of generated samples might be closer to training set accuracy (>99%)\n",
        "<br>\n",
        "For purposes of this excercise this is enough."
      ]
    },
    {
      "cell_type": "markdown",
      "metadata": {
        "id": "I2SWYFZ3xYiX"
      },
      "source": [
        "**Autoencoder test**"
      ]
    },
    {
      "cell_type": "code",
      "metadata": {
        "id": "NDIOZHGuft8D"
      },
      "source": [
        "from keras import *\n",
        "import keras.backend as K\n",
        "from keras.layers import *\n",
        "from keras.models import load_model\n",
        "\n",
        "# load model\n",
        "def load_autoencoder(path):\n",
        "      model = load_model(path)\n",
        "\n",
        "      # split into encoder and decoder\n",
        "      encoder = Model(model.input, model.get_layer('encoder').output)\n",
        "      decoder = Model(model.get_layer('decoder_input').input, model.get_layer('decoder').output)\n",
        "\n",
        "      # add Argmax layer to decoder to convert results to real one-hot encoding\n",
        "      one_hot_to_index = Lambda(lambda x: K.cast(K.argmax(x), dtype='float32'))(decoder.output)\n",
        "      decoder = Model(decoder.input, one_hot_to_index)\n",
        "      return (encoder, decoder, model)\n",
        "\n",
        "(enc, dec, model) = load_autoencoder(AE_MODEL_PATH)"
      ],
      "execution_count": 10,
      "outputs": []
    },
    {
      "cell_type": "markdown",
      "metadata": {
        "id": "PG2BWybRN2dl"
      },
      "source": [
        "As You can see below, autoencoder works pretty well.<br>\n",
        "There are some OOV tokens which implies too small vocabulary size.\n",
        "<br>\n",
        "Increasing vocabulary impacts learning abilities so we might need to deepen AE architecture.\n"
      ]
    },
    {
      "cell_type": "code",
      "metadata": {
        "id": "mQJHBIUxfzbT",
        "colab": {
          "base_uri": "https://localhost:8080/"
        },
        "outputId": "76c15cf0-76f9-4955-fbfd-4ad781161b16"
      },
      "source": [
        "from tensorflow.keras.utils import to_categorical\n",
        "\n",
        "# prints input and predicted sentence\n",
        "def print_test(seq):\n",
        "    seq = seq.reshape(1, 20)\n",
        "    predicted = model.predict(seq)\n",
        "    predicted = np.argmax(predicted, axis=2) # convert one-hot to standard encoding\n",
        "    \n",
        "    print(\"IN SENTENCE         {}\".format(' '.join(dataLoader.tokenizer.sequences_to_texts(seq))))\n",
        "    print(\"PREDICTED SENTENCE  {}\".format(' '.join(dataLoader.tokenizer.sequences_to_texts(predicted))))\n",
        "    print(\"----------------------------\")\n",
        "\n",
        "print_test(data[2])\n",
        "print_test(data[11])\n",
        "print_test(data[15])\n",
        "print_test(data[29])\n",
        "print_test(data[25])\n",
        "print_test(data[40075])\n",
        "print_test(data[40055])\n",
        "print_test(data[49996]) # validation set\n",
        "print_test(data[49986])"
      ],
      "execution_count": 14,
      "outputs": [
        {
          "output_type": "stream",
          "name": "stdout",
          "text": [
            "IN SENTENCE         the movie i had a feeling like its a movie about another <OOV> from friday the 13th . and it\n",
            "PREDICTED SENTENCE  the movie i had a feeling like its a movie about another <OOV> from friday the 13th . and it\n",
            "----------------------------\n",
            "IN SENTENCE         joe <OOV> short that i've seen and so far the funniest one . in this one joe takes voice lessons\n",
            "PREDICTED SENTENCE  joe <OOV> short that i've seen and so far the funniest one . in this one joe takes voice lessons\n",
            "----------------------------\n",
            "IN SENTENCE         it really matter have you ever read a movie review <OOV> entirely of questions could this be it why did\n",
            "PREDICTED SENTENCE  it really matter have you ever read a movie review <OOV> entirely of questions could this be it why did\n",
            "----------------------------\n",
            "IN SENTENCE         so many viewers didn't find all the symbolism in the movie . . . . .it's what made the movie\n",
            "PREDICTED SENTENCE  so many viewers didn't find all the symbolism in the movie . . . . .it's what made the movie\n",
            "----------------------------\n",
            "IN SENTENCE         few years back on the bbc i sat thru it . how i don't know this is way up there\n",
            "PREDICTED SENTENCE  few years back on the bbc i sat thru it . how i don't know this is way up there\n",
            "----------------------------\n",
            "IN SENTENCE         <OOV> julia roberts playing herself was clever and very funny . i think not . an actress playing herself and\n",
            "PREDICTED SENTENCE  <OOV> julia roberts playing herself was clever and very funny . i think not . an actress playing herself and\n",
            "----------------------------\n",
            "IN SENTENCE         commenting after reading the very short not bad commentary . this movie is much better than just not bad .\n",
            "PREDICTED SENTENCE  reviews after reading the very short not bad commentary . this movie is much better than just not bad .\n",
            "----------------------------\n",
            "IN SENTENCE         when i was a <OOV> in college . i've tried to watch it three times the second two because friends\n",
            "PREDICTED SENTENCE  when i was a <OOV> in college . i've tried to watch it three times the second two because friends\n",
            "----------------------------\n",
            "IN SENTENCE         depressing films with sleazy characters and a <OOV> storyline this one is for you from the bleak new york city\n",
            "PREDICTED SENTENCE  depressing films with tender characters and a <OOV> storyline this one is for you from the bleak new york city\n",
            "----------------------------\n"
          ]
        }
      ]
    }
  ]
}