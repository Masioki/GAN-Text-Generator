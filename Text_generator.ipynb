{
  "nbformat": 4,
  "nbformat_minor": 0,
  "metadata": {
    "accelerator": "GPU",
    "colab": {
      "name": "Text generator.ipynb",
      "provenance": [],
      "collapsed_sections": []
    },
    "kernelspec": {
      "display_name": "Python 3",
      "name": "python3"
    },
    "language_info": {
      "name": "python"
    }
  },
  "cells": [
    {
      "cell_type": "markdown",
      "metadata": {
        "id": "wkMuANZMTCy8"
      },
      "source": [
        "**GAN based random text generator**\n",
        "\n",
        "GAN is well known for it's non-discrete data generation abilities.<br>\n",
        "In this notebook I'll adapt and train GAN for text generation(based on [LaText GAN](https://arxiv.org/pdf/1810.06640.pdf)). "
      ]
    },
    {
      "cell_type": "markdown",
      "metadata": {
        "id": "fFVYyRiViSt3"
      },
      "source": [
        "First, let's create data loader with tokenizer."
      ]
    },
    {
      "cell_type": "code",
      "metadata": {
        "id": "HdrcxxmKIz_g"
      },
      "source": [
        "import re\n",
        "from tensorflow.keras.utils import to_categorical\n",
        "import numpy as np\n",
        "import pandas as pd\n",
        "from keras.preprocessing.sequence import pad_sequences\n",
        "from keras.preprocessing.text import Tokenizer\n",
        "\n",
        "\n",
        "class DataLoader:\n",
        "\n",
        "    def __init__(self, src_csv=\"\", src_column='', sentence_len=100, num_words=10000):\n",
        "        self.__src_csv = src_csv  # source csv file with test data\n",
        "        self.__src_column = src_column # column name in source file\n",
        "        self.__sentence_len = sentence_len  # max sentence length\n",
        "        self.__num_words = num_words  # number of most frequent words to keep\n",
        "        self.__tokenizer = None # tokenizer\n",
        "        self.sentences = []  # text data\n",
        "        self.sequences = np.array([])  # indexed data from tokenizer\n",
        "\n",
        "    def __load_file(self):\n",
        "        df = pd.read_csv(self.__src_csv, keep_default_na=False) \n",
        "        self.sentences = [re.sub(r\"<.*?>\", \" \", x) for x in df['review']]  # remove html tags\n",
        "        self.sentences = [s.replace('.', ' .') for s in self.sentences] # let's keep period\n",
        "        # rest of data cleaning is done by tokenizer\n",
        "\n",
        "    def __init_tokenizer(self):\n",
        "        # Tokenization\n",
        "        # splitted by space\n",
        "        # filters = default - period sign\n",
        "        # unknown word set to <OOV>\n",
        "        # lower case\n",
        "        # saves only __num_words most frequent words\n",
        "        self.tokenizer = Tokenizer(num_words=self.__num_words, lower=True, split=' ', oov_token='<OOV>', filters='!\"#$%&()*+,-/:;<=>?@[\\\\]^_`{|}~\\t\\n')\n",
        "        self.tokenizer.fit_on_texts(self.sentences) # fit on text data\n",
        "        \n",
        "    def __init_sequences(self):\n",
        "        if self.sequences.size < 1:\n",
        "            self.__load_file()\n",
        "            self.__init_tokenizer()\n",
        "            self.sequences = self.tokenizer.texts_to_sequences(self.sentences) # text to tokenizer indexes\n",
        "            self.sequences = pad_sequences(self.sequences, maxlen=self.__sentence_len, dtype='float32', padding='post') # padding \n",
        "            \n",
        "\n",
        "    def get(self):\n",
        "        self.__init_sequences()\n",
        "        return self.sequences"
      ],
      "execution_count": 12,
      "outputs": []
    },
    {
      "cell_type": "markdown",
      "metadata": {
        "id": "G3t0VXj-j99h"
      },
      "source": [
        "Define all parameters and paths."
      ]
    },
    {
      "cell_type": "code",
      "metadata": {
        "id": "adWjSLnSJPOA"
      },
      "source": [
        "SOURCE_FILE = \"drive/MyDrive/Colab Notebooks/IMDB Dataset.csv\" # test data file path (here IMDB reviews)\n",
        "AE_MODEL_PATH=\"drive/MyDrive/Colab Notebooks/AEmodel_lstm_3250_cce\" # autoencoder path\n",
        "PLOT_PATH=\"drive/MyDrive/Colab Notebooks/plots/{}.png\" # plots path\n",
        "HISTORY_PATH=\"drive/MyDrive/Colab Notebooks/history/{}.csv\" # learning history path\n",
        "EMBEDDING_PATH=\"drive/MyDrive/Colab Notebooks/model.txt\" # path to prepared word embedding\n",
        "EMBEDDING_MATRIX_PATH=\"embedding_matrix.npy\" # path to embedding matrix\n",
        "\n",
        "MAX_WORD_NUM = 3250 # max number of most frequent words to save\n",
        "MAX_SEQUENCE_LEN = 20 # max sentence length\n",
        "ENCODED_VECTOR_LEN = 300 # enoded sentence length\n",
        "EMBEDDING_SIZE = 300 # embedding vector length"
      ],
      "execution_count": 13,
      "outputs": []
    },
    {
      "cell_type": "markdown",
      "metadata": {
        "id": "heLX0RZJki3b"
      },
      "source": [
        "Load our data."
      ]
    },
    {
      "cell_type": "code",
      "metadata": {
        "colab": {
          "base_uri": "https://localhost:8080/"
        },
        "id": "KG2O2g4-kgB9",
        "outputId": "3daedf55-6d64-458d-a959-55b31f7592b0"
      },
      "source": [
        "dataLoader = DataLoader(SOURCE_FILE, sentence_len=MAX_SEQUENCE_LEN, num_words=MAX_WORD_NUM)\n",
        "data = dataLoader.get()\n",
        "\n",
        "np.random.seed(2137)\n",
        "np.random.shuffle(data) \n",
        "\n",
        "data.shape"
      ],
      "execution_count": 14,
      "outputs": [
        {
          "output_type": "execute_result",
          "data": {
            "text/plain": [
              "(50000, 20)"
            ]
          },
          "metadata": {},
          "execution_count": 14
        }
      ]
    },
    {
      "cell_type": "markdown",
      "metadata": {
        "id": "acNTOu_Wk0Qa"
      },
      "source": [
        "Now, we need to create embedding matrix (saved in EMBEDDING_MATRIX_PATH). To do this already trained word embedding model is necessary. Embedding matrix will keep vectors for words from vocabulary/tokenizer.\n",
        "\n",
        "\n",
        "\n",
        "Word embedding model is meant to represent complex relationships between words (i.e. 'female', 'girl', 'woman' - similar concept, but completly different spelling) by placing each word in some N dimensional space.\n",
        "\n",
        "Here I use 300 dimensional model only for english.\n"
      ]
    },
    {
      "cell_type": "code",
      "metadata": {
        "colab": {
          "base_uri": "https://localhost:8080/"
        },
        "id": "GqEig4XTY6dh",
        "outputId": "6a209e77-a9ea-4f70-a1aa-84a892aa42a6"
      },
      "source": [
        "# read word embedding model\n",
        "# each line consist of word and X normalized values\n",
        "embeddings_index = {}\n",
        "f = open(EMBEDDING_PATH, 'r')\n",
        "for line in f:\n",
        "    values = line.split()\n",
        "    word = values[0]\n",
        "    try:\n",
        "        coefs = np.asarray(values[1:], dtype='float32')\n",
        "    except ValueError:\n",
        "        continue\n",
        "    embeddings_index[word] = coefs\n",
        "f.close()\n",
        "\n",
        "# build embedding matrix\n",
        "num_words = min(MAX_WORD_NUM, len(dataLoader.tokenizer.word_index))\n",
        "embedding_matrix = np.zeros((num_words, EMBEDDING_SIZE))\n",
        "for word, i in dataLoader.tokenizer.word_index.items():\n",
        "    if i >= MAX_WORD_NUM:\n",
        "        continue\n",
        "    embedding_vector = embeddings_index.get(word)\n",
        "    if embedding_vector is not None:\n",
        "        embedding_matrix[i] = embedding_vector.astype('float32')   \n",
        "    else:\n",
        "        embedding_matrix[i] = np.random.normal(-0.25, 0.25, EMBEDDING_SIZE)\n",
        "\n",
        "np.save(EMBEDDING_MATRIX_PATH, embedding_matrix) # save matrix\n",
        "embedding_matrix.shape"
      ],
      "execution_count": 15,
      "outputs": [
        {
          "output_type": "execute_result",
          "data": {
            "text/plain": [
              "(3250, 300)"
            ]
          },
          "metadata": {},
          "execution_count": 15
        }
      ]
    },
    {
      "cell_type": "markdown",
      "metadata": {
        "id": "vkKBvcdnnw7W"
      },
      "source": [
        "In case of hardware limitations You might want to use this simple data generator.\n",
        "\n",
        "Autoencoder(explained below) produces data in one-hot encoding, that's why we need to convert y_train.\n",
        "\n",
        "Standard encoding:<br>\n",
        "[0, 3]\n",
        "\n",
        "one-hot:<br>\n",
        "[<br>\n",
        "     &ensp;  [1, 0, 0, 0],<br>\n",
        "    &ensp;     [0, 0, 0, 1]<br>\n",
        "]\n",
        "\n"
      ]
    },
    {
      "cell_type": "code",
      "metadata": {
        "id": "H7u80HMfOtz8"
      },
      "source": [
        "from tensorflow.keras.utils import Sequence\n",
        "from tensorflow.keras.utils import to_categorical\n",
        "\n",
        "# if you need to convert sequence to word embedding form\n",
        "embedding_matrix = np.load(EMBEDDING_MATRIX_PATH) \n",
        "def get_embedding(seq):\n",
        "    return np.array([embedding_matrix[int(w)] for w in seq])\n",
        "\n",
        "class Mygenerator(Sequence):\n",
        "    def __init__(self, data, batch_size):\n",
        "        self.data = data # in/out data\n",
        "        self.batch_size = batch_size\n",
        "    \n",
        "    def on_epoch_end(self): \n",
        "        # shuffling each epoch\n",
        "        np.random.shuffle(self.data) \n",
        "\n",
        "    def __len__(self):\n",
        "        return int(np.ceil(len(self.data) / float(self.batch_size))) # number of batches\n",
        "\n",
        "    def __getitem__(self, idx):\n",
        "        batch_x = self.data[idx * self.batch_size:(idx + 1) * self.batch_size] # batch\n",
        "        x = batch_x\n",
        "        y = np.array([to_categorical(seq, num_classes=MAX_WORD_NUM) for seq in batch_x]) # y data in one-hot\n",
        "        return x, y"
      ],
      "execution_count": 16,
      "outputs": []
    },
    {
      "cell_type": "markdown",
      "metadata": {
        "id": "H5wSmDjWsnbn"
      },
      "source": [
        "**AUTOENCODER**\n",
        "\n",
        "Autoencoder is a pair of two networks - encoder and decoder - connected with 'bottleneck'. Encoder is meant to represent each sequence in compressed form(i.e. 20 seq with 300D embedding requires 6000 values, this encoder will compress it to 300), while decoder decompresses it.\n",
        "\n",
        "This autoencoder takes whole sequence and outputs whole sequence at once!\n",
        "\n",
        "<br>\n",
        "Encoder: <br>\n",
        "&ensp; input - sequences of indexes from tokenizer<br>\n",
        "&ensp; output - compressed vector \n",
        "\n",
        "<br>\n",
        "Decoder: <br>\n",
        "&ensp; input - compressed vector<br>\n",
        "&ensp; output - sequences of indexes in one-hot encoding\n",
        "\n"
      ]
    },
    {
      "cell_type": "code",
      "metadata": {
        "colab": {
          "base_uri": "https://localhost:8080/"
        },
        "id": "Oy_6mpABJI1C",
        "outputId": "36cd4621-1b17-4abc-b921-0303ef7f128c"
      },
      "source": [
        "import keras.backend as K\n",
        "from keras.layers import *\n",
        "from keras.models import *\n",
        "from keras.callbacks import ModelCheckpoint\n",
        "\n",
        "# ENCODER\n",
        "# 1D input of indexes from tokenizer\n",
        "inputs = Input(shape=(MAX_SEQUENCE_LEN,), dtype='int32')\n",
        "\n",
        "# this layer converts indexes to embedding form using prepared embedding_matrix\n",
        "e = Embedding(MAX_WORD_NUM, EMBEDDING_SIZE, weights=[embedding_matrix], input_length=MAX_SEQUENCE_LEN, trainable=False)(inputs)\n",
        "\n",
        "# stacked LSTM layers\n",
        "# depending on your parametrs you might want to stack more LSTMs\n",
        "encoded = Bidirectional(LSTM(ENCODED_VECTOR_LEN, return_sequences=True, name=\"encoder_bi_lstm\"), name=\"encoder_bi\")(e)\n",
        "# encoder output in form of compressed 1D vector\n",
        "encoded = LSTM(ENCODED_VECTOR_LEN, name=\"encoder\")(encoded)\n",
        "\n",
        "\n",
        "# DECODER\n",
        "# decoder input repeats compressed vector to decode whole sequence\n",
        "decode_input = RepeatVector(MAX_SEQUENCE_LEN, name=\"decoder_input\")(encoded)\n",
        "\n",
        "# stacked LSTM layers\n",
        "decode_input = LSTM(EMBEDDING_SIZE, return_sequences=True, name=\"decoder_lstm\")(decode_input)\n",
        "decoded = Bidirectional(LSTM(EMBEDDING_SIZE, return_sequences=True, name=\"decoder_bi_lstm\"), name=\"decoder_bi\")(decode_input)\n",
        "\n",
        "# one-hot encoding mapping\n",
        "# TimeDistributed allows to apply Dense to each word in sequence\n",
        "decoded = TimeDistributed(Dense(MAX_WORD_NUM, activation='softmax'), name=\"decoder\")(decoded)\n",
        "\n",
        "autoencoder = Model(inputs, decoded) \n",
        "\n",
        "# categorical crossentropy is great to use with one-hot encoding\n",
        "autoencoder.compile(optimizer='adam', loss='categorical_crossentropy', metrics=['accuracy'])  \n",
        "autoencoder.summary() \n",
        "\n",
        "autoencoder.save(AE_MODEL_PATH) # save untrained model"
      ],
      "execution_count": 17,
      "outputs": [
        {
          "output_type": "stream",
          "name": "stdout",
          "text": [
            "Model: \"model_4\"\n",
            "_________________________________________________________________\n",
            " Layer (type)                Output Shape              Param #   \n",
            "=================================================================\n",
            " input_3 (InputLayer)        [(None, 20)]              0         \n",
            "                                                                 \n",
            " embedding_1 (Embedding)     (None, 20, 300)           975000    \n",
            "                                                                 \n",
            " encoder_bi (Bidirectional)  (None, 20, 600)           1442400   \n",
            "                                                                 \n",
            " encoder (LSTM)              (None, 300)               1081200   \n",
            "                                                                 \n",
            " decoder_input (RepeatVector  (None, 20, 300)          0         \n",
            " )                                                               \n",
            "                                                                 \n",
            " decoder_lstm (LSTM)         (None, 20, 300)           721200    \n",
            "                                                                 \n",
            " decoder_bi (Bidirectional)  (None, 20, 600)           1442400   \n",
            "                                                                 \n",
            " decoder (TimeDistributed)   (None, 20, 3250)          1953250   \n",
            "                                                                 \n",
            "=================================================================\n",
            "Total params: 7,615,450\n",
            "Trainable params: 6,640,450\n",
            "Non-trainable params: 975,000\n",
            "_________________________________________________________________\n"
          ]
        },
        {
          "output_type": "stream",
          "name": "stderr",
          "text": [
            "WARNING:absl:Found untraced functions such as lstm_cell_27_layer_call_fn, lstm_cell_27_layer_call_and_return_conditional_losses, lstm_cell_28_layer_call_fn, lstm_cell_28_layer_call_and_return_conditional_losses, lstm_cell_25_layer_call_fn while saving (showing 5 of 30). These functions will not be directly callable after loading.\n"
          ]
        },
        {
          "output_type": "stream",
          "name": "stdout",
          "text": [
            "INFO:tensorflow:Assets written to: drive/MyDrive/Colab Notebooks/AEmodel_lstm_3250_cce/assets\n"
          ]
        },
        {
          "output_type": "stream",
          "name": "stderr",
          "text": [
            "INFO:tensorflow:Assets written to: drive/MyDrive/Colab Notebooks/AEmodel_lstm_3250_cce/assets\n",
            "WARNING:absl:<keras.layers.recurrent.LSTMCell object at 0x7ff0d7328b10> has the same name 'LSTMCell' as a built-in Keras object. Consider renaming <class 'keras.layers.recurrent.LSTMCell'> to avoid naming conflicts when loading with `tf.keras.models.load_model`. If renaming is not possible, pass the object in the `custom_objects` parameter of the load function.\n",
            "WARNING:absl:<keras.layers.recurrent.LSTMCell object at 0x7ff18d9f55d0> has the same name 'LSTMCell' as a built-in Keras object. Consider renaming <class 'keras.layers.recurrent.LSTMCell'> to avoid naming conflicts when loading with `tf.keras.models.load_model`. If renaming is not possible, pass the object in the `custom_objects` parameter of the load function.\n",
            "WARNING:absl:<keras.layers.recurrent.LSTMCell object at 0x7ff0dfb8ff50> has the same name 'LSTMCell' as a built-in Keras object. Consider renaming <class 'keras.layers.recurrent.LSTMCell'> to avoid naming conflicts when loading with `tf.keras.models.load_model`. If renaming is not possible, pass the object in the `custom_objects` parameter of the load function.\n",
            "WARNING:absl:<keras.layers.recurrent.LSTMCell object at 0x7ff0df0a3610> has the same name 'LSTMCell' as a built-in Keras object. Consider renaming <class 'keras.layers.recurrent.LSTMCell'> to avoid naming conflicts when loading with `tf.keras.models.load_model`. If renaming is not possible, pass the object in the `custom_objects` parameter of the load function.\n",
            "WARNING:absl:<keras.layers.recurrent.LSTMCell object at 0x7ff18d8e9950> has the same name 'LSTMCell' as a built-in Keras object. Consider renaming <class 'keras.layers.recurrent.LSTMCell'> to avoid naming conflicts when loading with `tf.keras.models.load_model`. If renaming is not possible, pass the object in the `custom_objects` parameter of the load function.\n",
            "WARNING:absl:<keras.layers.recurrent.LSTMCell object at 0x7ff18d82f4d0> has the same name 'LSTMCell' as a built-in Keras object. Consider renaming <class 'keras.layers.recurrent.LSTMCell'> to avoid naming conflicts when loading with `tf.keras.models.load_model`. If renaming is not possible, pass the object in the `custom_objects` parameter of the load function.\n"
          ]
        }
      ]
    },
    {
      "cell_type": "code",
      "metadata": {
        "colab": {
          "base_uri": "https://localhost:8080/"
        },
        "id": "3F-eGgJ7Yaqu",
        "outputId": "1ba55ba1-c17e-4359-cc87-c45a4ce0fc61"
      },
      "source": [
        "from keras.models import load_model\n",
        "from keras.callbacks import ModelCheckpoint, CSVLogger\n",
        "\n",
        "# split data\n",
        "# if you just want to create autoencoder there's no need for validation set\n",
        "# here I take small batch for validation to see how well autoencoder responds to unseen data, which will be produced by GAN\n",
        "split_ind = int(len(data) * 0.96) \n",
        "data_train = data[:split_ind,:]\n",
        "data_val = data[split_ind:,:]\n",
        "print(data_val.shape)\n",
        "\n",
        "autoencoder = load_model(AE_MODEL_PATH) # load model\n",
        "autoencoder.summary()\n",
        "\n",
        "csv_logger = CSVLogger(HISTORY_PATH.format(\"AE\"), append=True) # log history to file\n",
        "checkpoint = ModelCheckpoint(filepath=AE_MODEL_PATH, save_best_only=True) # save best model for unseen data\n",
        "\n",
        "# 64 might be optimal\n",
        "batch_size = 32\n",
        "\n",
        "# 90% on training set after around 10 epochs\n",
        "# 50 epochs is enough for current parametrs to maximize result\n",
        "# depending on vocab size, sentence length etc. I achieved\n",
        "# >99% on training set, 92-95 % on unseen data from same set\n",
        "history = autoencoder.fit(x=Mygenerator(data_train, batch_size), epochs=50, validation_data=Mygenerator(data_val, batch_size), callbacks=[checkpoint, csv_logger])"
      ],
      "execution_count": 18,
      "outputs": [
        {
          "output_type": "stream",
          "name": "stdout",
          "text": [
            "(2000, 20)\n",
            "Model: \"model_4\"\n",
            "_________________________________________________________________\n",
            " Layer (type)                Output Shape              Param #   \n",
            "=================================================================\n",
            " input_3 (InputLayer)        [(None, 20)]              0         \n",
            "                                                                 \n",
            " embedding_1 (Embedding)     (None, 20, 300)           975000    \n",
            "                                                                 \n",
            " encoder_bi (Bidirectional)  (None, 20, 600)           1442400   \n",
            "                                                                 \n",
            " encoder (LSTM)              (None, 300)               1081200   \n",
            "                                                                 \n",
            " decoder_input (RepeatVector  (None, 20, 300)          0         \n",
            " )                                                               \n",
            "                                                                 \n",
            " decoder_lstm (LSTM)         (None, 20, 300)           721200    \n",
            "                                                                 \n",
            " decoder_bi (Bidirectional)  (None, 20, 600)           1442400   \n",
            "                                                                 \n",
            " decoder (TimeDistributed)   (None, 20, 3250)          1953250   \n",
            "                                                                 \n",
            "=================================================================\n",
            "Total params: 7,615,450\n",
            "Trainable params: 6,640,450\n",
            "Non-trainable params: 975,000\n",
            "_________________________________________________________________\n",
            "Epoch 1/50\n",
            "1500/1500 [==============================] - ETA: 0s - loss: 5.3270 - accuracy: 0.1593"
          ]
        },
        {
          "output_type": "stream",
          "name": "stderr",
          "text": [
            "WARNING:absl:Found untraced functions such as lstm_cell_35_layer_call_fn, lstm_cell_35_layer_call_and_return_conditional_losses, lstm_cell_36_layer_call_fn, lstm_cell_36_layer_call_and_return_conditional_losses, lstm_cell_33_layer_call_fn while saving (showing 5 of 30). These functions will not be directly callable after loading.\n"
          ]
        },
        {
          "output_type": "stream",
          "name": "stdout",
          "text": [
            "INFO:tensorflow:Assets written to: drive/MyDrive/Colab Notebooks/AEmodel_lstm_3250_cce/assets\n"
          ]
        },
        {
          "output_type": "stream",
          "name": "stderr",
          "text": [
            "INFO:tensorflow:Assets written to: drive/MyDrive/Colab Notebooks/AEmodel_lstm_3250_cce/assets\n",
            "WARNING:absl:<keras.layers.recurrent.LSTMCell object at 0x7ff0dd66c410> has the same name 'LSTMCell' as a built-in Keras object. Consider renaming <class 'keras.layers.recurrent.LSTMCell'> to avoid naming conflicts when loading with `tf.keras.models.load_model`. If renaming is not possible, pass the object in the `custom_objects` parameter of the load function.\n",
            "WARNING:absl:<keras.layers.recurrent.LSTMCell object at 0x7ff1804ae910> has the same name 'LSTMCell' as a built-in Keras object. Consider renaming <class 'keras.layers.recurrent.LSTMCell'> to avoid naming conflicts when loading with `tf.keras.models.load_model`. If renaming is not possible, pass the object in the `custom_objects` parameter of the load function.\n",
            "WARNING:absl:<keras.layers.recurrent.LSTMCell object at 0x7ff18decf150> has the same name 'LSTMCell' as a built-in Keras object. Consider renaming <class 'keras.layers.recurrent.LSTMCell'> to avoid naming conflicts when loading with `tf.keras.models.load_model`. If renaming is not possible, pass the object in the `custom_objects` parameter of the load function.\n",
            "WARNING:absl:<keras.layers.recurrent.LSTMCell object at 0x7ff0d6dafa10> has the same name 'LSTMCell' as a built-in Keras object. Consider renaming <class 'keras.layers.recurrent.LSTMCell'> to avoid naming conflicts when loading with `tf.keras.models.load_model`. If renaming is not possible, pass the object in the `custom_objects` parameter of the load function.\n",
            "WARNING:absl:<keras.layers.recurrent.LSTMCell object at 0x7ff0e04b5bd0> has the same name 'LSTMCell' as a built-in Keras object. Consider renaming <class 'keras.layers.recurrent.LSTMCell'> to avoid naming conflicts when loading with `tf.keras.models.load_model`. If renaming is not possible, pass the object in the `custom_objects` parameter of the load function.\n",
            "WARNING:absl:<keras.layers.recurrent.LSTMCell object at 0x7ff0e03b9450> has the same name 'LSTMCell' as a built-in Keras object. Consider renaming <class 'keras.layers.recurrent.LSTMCell'> to avoid naming conflicts when loading with `tf.keras.models.load_model`. If renaming is not possible, pass the object in the `custom_objects` parameter of the load function.\n"
          ]
        },
        {
          "output_type": "stream",
          "name": "stdout",
          "text": [
            "1500/1500 [==============================] - 167s 104ms/step - loss: 5.3270 - accuracy: 0.1593 - val_loss: 4.8189 - val_accuracy: 0.2236\n",
            "Epoch 2/50\n",
            "1500/1500 [==============================] - ETA: 0s - loss: 4.1069 - accuracy: 0.3129"
          ]
        },
        {
          "output_type": "stream",
          "name": "stderr",
          "text": [
            "WARNING:absl:Found untraced functions such as lstm_cell_35_layer_call_fn, lstm_cell_35_layer_call_and_return_conditional_losses, lstm_cell_36_layer_call_fn, lstm_cell_36_layer_call_and_return_conditional_losses, lstm_cell_33_layer_call_fn while saving (showing 5 of 30). These functions will not be directly callable after loading.\n"
          ]
        },
        {
          "output_type": "stream",
          "name": "stdout",
          "text": [
            "INFO:tensorflow:Assets written to: drive/MyDrive/Colab Notebooks/AEmodel_lstm_3250_cce/assets\n"
          ]
        },
        {
          "output_type": "stream",
          "name": "stderr",
          "text": [
            "INFO:tensorflow:Assets written to: drive/MyDrive/Colab Notebooks/AEmodel_lstm_3250_cce/assets\n",
            "WARNING:absl:<keras.layers.recurrent.LSTMCell object at 0x7ff0dd66c410> has the same name 'LSTMCell' as a built-in Keras object. Consider renaming <class 'keras.layers.recurrent.LSTMCell'> to avoid naming conflicts when loading with `tf.keras.models.load_model`. If renaming is not possible, pass the object in the `custom_objects` parameter of the load function.\n",
            "WARNING:absl:<keras.layers.recurrent.LSTMCell object at 0x7ff1804ae910> has the same name 'LSTMCell' as a built-in Keras object. Consider renaming <class 'keras.layers.recurrent.LSTMCell'> to avoid naming conflicts when loading with `tf.keras.models.load_model`. If renaming is not possible, pass the object in the `custom_objects` parameter of the load function.\n",
            "WARNING:absl:<keras.layers.recurrent.LSTMCell object at 0x7ff18decf150> has the same name 'LSTMCell' as a built-in Keras object. Consider renaming <class 'keras.layers.recurrent.LSTMCell'> to avoid naming conflicts when loading with `tf.keras.models.load_model`. If renaming is not possible, pass the object in the `custom_objects` parameter of the load function.\n",
            "WARNING:absl:<keras.layers.recurrent.LSTMCell object at 0x7ff0d6dafa10> has the same name 'LSTMCell' as a built-in Keras object. Consider renaming <class 'keras.layers.recurrent.LSTMCell'> to avoid naming conflicts when loading with `tf.keras.models.load_model`. If renaming is not possible, pass the object in the `custom_objects` parameter of the load function.\n",
            "WARNING:absl:<keras.layers.recurrent.LSTMCell object at 0x7ff0e04b5bd0> has the same name 'LSTMCell' as a built-in Keras object. Consider renaming <class 'keras.layers.recurrent.LSTMCell'> to avoid naming conflicts when loading with `tf.keras.models.load_model`. If renaming is not possible, pass the object in the `custom_objects` parameter of the load function.\n",
            "WARNING:absl:<keras.layers.recurrent.LSTMCell object at 0x7ff0e03b9450> has the same name 'LSTMCell' as a built-in Keras object. Consider renaming <class 'keras.layers.recurrent.LSTMCell'> to avoid naming conflicts when loading with `tf.keras.models.load_model`. If renaming is not possible, pass the object in the `custom_objects` parameter of the load function.\n"
          ]
        },
        {
          "output_type": "stream",
          "name": "stdout",
          "text": [
            "1500/1500 [==============================] - 150s 100ms/step - loss: 4.1069 - accuracy: 0.3129 - val_loss: 3.4546 - val_accuracy: 0.4016\n",
            "Epoch 3/50\n",
            "1500/1500 [==============================] - ETA: 0s - loss: 2.8652 - accuracy: 0.4811"
          ]
        },
        {
          "output_type": "stream",
          "name": "stderr",
          "text": [
            "WARNING:absl:Found untraced functions such as lstm_cell_35_layer_call_fn, lstm_cell_35_layer_call_and_return_conditional_losses, lstm_cell_36_layer_call_fn, lstm_cell_36_layer_call_and_return_conditional_losses, lstm_cell_33_layer_call_fn while saving (showing 5 of 30). These functions will not be directly callable after loading.\n"
          ]
        },
        {
          "output_type": "stream",
          "name": "stdout",
          "text": [
            "INFO:tensorflow:Assets written to: drive/MyDrive/Colab Notebooks/AEmodel_lstm_3250_cce/assets\n"
          ]
        },
        {
          "output_type": "stream",
          "name": "stderr",
          "text": [
            "INFO:tensorflow:Assets written to: drive/MyDrive/Colab Notebooks/AEmodel_lstm_3250_cce/assets\n",
            "WARNING:absl:<keras.layers.recurrent.LSTMCell object at 0x7ff0dd66c410> has the same name 'LSTMCell' as a built-in Keras object. Consider renaming <class 'keras.layers.recurrent.LSTMCell'> to avoid naming conflicts when loading with `tf.keras.models.load_model`. If renaming is not possible, pass the object in the `custom_objects` parameter of the load function.\n",
            "WARNING:absl:<keras.layers.recurrent.LSTMCell object at 0x7ff1804ae910> has the same name 'LSTMCell' as a built-in Keras object. Consider renaming <class 'keras.layers.recurrent.LSTMCell'> to avoid naming conflicts when loading with `tf.keras.models.load_model`. If renaming is not possible, pass the object in the `custom_objects` parameter of the load function.\n",
            "WARNING:absl:<keras.layers.recurrent.LSTMCell object at 0x7ff18decf150> has the same name 'LSTMCell' as a built-in Keras object. Consider renaming <class 'keras.layers.recurrent.LSTMCell'> to avoid naming conflicts when loading with `tf.keras.models.load_model`. If renaming is not possible, pass the object in the `custom_objects` parameter of the load function.\n",
            "WARNING:absl:<keras.layers.recurrent.LSTMCell object at 0x7ff0d6dafa10> has the same name 'LSTMCell' as a built-in Keras object. Consider renaming <class 'keras.layers.recurrent.LSTMCell'> to avoid naming conflicts when loading with `tf.keras.models.load_model`. If renaming is not possible, pass the object in the `custom_objects` parameter of the load function.\n",
            "WARNING:absl:<keras.layers.recurrent.LSTMCell object at 0x7ff0e04b5bd0> has the same name 'LSTMCell' as a built-in Keras object. Consider renaming <class 'keras.layers.recurrent.LSTMCell'> to avoid naming conflicts when loading with `tf.keras.models.load_model`. If renaming is not possible, pass the object in the `custom_objects` parameter of the load function.\n",
            "WARNING:absl:<keras.layers.recurrent.LSTMCell object at 0x7ff0e03b9450> has the same name 'LSTMCell' as a built-in Keras object. Consider renaming <class 'keras.layers.recurrent.LSTMCell'> to avoid naming conflicts when loading with `tf.keras.models.load_model`. If renaming is not possible, pass the object in the `custom_objects` parameter of the load function.\n"
          ]
        },
        {
          "output_type": "stream",
          "name": "stdout",
          "text": [
            "1500/1500 [==============================] - 150s 100ms/step - loss: 2.8652 - accuracy: 0.4811 - val_loss: 2.5002 - val_accuracy: 0.5401\n",
            "Epoch 4/50\n",
            "1500/1500 [==============================] - ETA: 0s - loss: 2.1349 - accuracy: 0.5835"
          ]
        },
        {
          "output_type": "stream",
          "name": "stderr",
          "text": [
            "WARNING:absl:Found untraced functions such as lstm_cell_35_layer_call_fn, lstm_cell_35_layer_call_and_return_conditional_losses, lstm_cell_36_layer_call_fn, lstm_cell_36_layer_call_and_return_conditional_losses, lstm_cell_33_layer_call_fn while saving (showing 5 of 30). These functions will not be directly callable after loading.\n"
          ]
        },
        {
          "output_type": "stream",
          "name": "stdout",
          "text": [
            "INFO:tensorflow:Assets written to: drive/MyDrive/Colab Notebooks/AEmodel_lstm_3250_cce/assets\n"
          ]
        },
        {
          "output_type": "stream",
          "name": "stderr",
          "text": [
            "INFO:tensorflow:Assets written to: drive/MyDrive/Colab Notebooks/AEmodel_lstm_3250_cce/assets\n",
            "WARNING:absl:<keras.layers.recurrent.LSTMCell object at 0x7ff0dd66c410> has the same name 'LSTMCell' as a built-in Keras object. Consider renaming <class 'keras.layers.recurrent.LSTMCell'> to avoid naming conflicts when loading with `tf.keras.models.load_model`. If renaming is not possible, pass the object in the `custom_objects` parameter of the load function.\n",
            "WARNING:absl:<keras.layers.recurrent.LSTMCell object at 0x7ff1804ae910> has the same name 'LSTMCell' as a built-in Keras object. Consider renaming <class 'keras.layers.recurrent.LSTMCell'> to avoid naming conflicts when loading with `tf.keras.models.load_model`. If renaming is not possible, pass the object in the `custom_objects` parameter of the load function.\n",
            "WARNING:absl:<keras.layers.recurrent.LSTMCell object at 0x7ff18decf150> has the same name 'LSTMCell' as a built-in Keras object. Consider renaming <class 'keras.layers.recurrent.LSTMCell'> to avoid naming conflicts when loading with `tf.keras.models.load_model`. If renaming is not possible, pass the object in the `custom_objects` parameter of the load function.\n",
            "WARNING:absl:<keras.layers.recurrent.LSTMCell object at 0x7ff0d6dafa10> has the same name 'LSTMCell' as a built-in Keras object. Consider renaming <class 'keras.layers.recurrent.LSTMCell'> to avoid naming conflicts when loading with `tf.keras.models.load_model`. If renaming is not possible, pass the object in the `custom_objects` parameter of the load function.\n",
            "WARNING:absl:<keras.layers.recurrent.LSTMCell object at 0x7ff0e04b5bd0> has the same name 'LSTMCell' as a built-in Keras object. Consider renaming <class 'keras.layers.recurrent.LSTMCell'> to avoid naming conflicts when loading with `tf.keras.models.load_model`. If renaming is not possible, pass the object in the `custom_objects` parameter of the load function.\n",
            "WARNING:absl:<keras.layers.recurrent.LSTMCell object at 0x7ff0e03b9450> has the same name 'LSTMCell' as a built-in Keras object. Consider renaming <class 'keras.layers.recurrent.LSTMCell'> to avoid naming conflicts when loading with `tf.keras.models.load_model`. If renaming is not possible, pass the object in the `custom_objects` parameter of the load function.\n"
          ]
        },
        {
          "output_type": "stream",
          "name": "stdout",
          "text": [
            "\b\b\b\b\b\b\b\b\b\b\b\b\b\b\b\b\b\b\b\b\b\b\b\b\b\b\b\b\b\b\b\b\b\b\b\b\b\b\b\b\b\b\b\b\b\b\b\b\b\b\b\b\b\b\b\b\b\b\b\b\b\b\b\b\b\b\b\b\b\b\b\b\b\b\b\b\b\b\b\b\b\b\b\b\b\b\r1500/1500 [==============================] - 151s 100ms/step - loss: 2.1349 - accuracy: 0.5835 - val_loss: 1.9716 - val_accuracy: 0.6166\n",
            "Epoch 5/50\n",
            "1500/1500 [==============================] - ETA: 0s - loss: 1.6382 - accuracy: 0.6582"
          ]
        },
        {
          "output_type": "stream",
          "name": "stderr",
          "text": [
            "WARNING:absl:Found untraced functions such as lstm_cell_35_layer_call_fn, lstm_cell_35_layer_call_and_return_conditional_losses, lstm_cell_36_layer_call_fn, lstm_cell_36_layer_call_and_return_conditional_losses, lstm_cell_33_layer_call_fn while saving (showing 5 of 30). These functions will not be directly callable after loading.\n"
          ]
        },
        {
          "output_type": "stream",
          "name": "stdout",
          "text": [
            "INFO:tensorflow:Assets written to: drive/MyDrive/Colab Notebooks/AEmodel_lstm_3250_cce/assets\n"
          ]
        },
        {
          "output_type": "stream",
          "name": "stderr",
          "text": [
            "INFO:tensorflow:Assets written to: drive/MyDrive/Colab Notebooks/AEmodel_lstm_3250_cce/assets\n",
            "WARNING:absl:<keras.layers.recurrent.LSTMCell object at 0x7ff0dd66c410> has the same name 'LSTMCell' as a built-in Keras object. Consider renaming <class 'keras.layers.recurrent.LSTMCell'> to avoid naming conflicts when loading with `tf.keras.models.load_model`. If renaming is not possible, pass the object in the `custom_objects` parameter of the load function.\n",
            "WARNING:absl:<keras.layers.recurrent.LSTMCell object at 0x7ff1804ae910> has the same name 'LSTMCell' as a built-in Keras object. Consider renaming <class 'keras.layers.recurrent.LSTMCell'> to avoid naming conflicts when loading with `tf.keras.models.load_model`. If renaming is not possible, pass the object in the `custom_objects` parameter of the load function.\n",
            "WARNING:absl:<keras.layers.recurrent.LSTMCell object at 0x7ff18decf150> has the same name 'LSTMCell' as a built-in Keras object. Consider renaming <class 'keras.layers.recurrent.LSTMCell'> to avoid naming conflicts when loading with `tf.keras.models.load_model`. If renaming is not possible, pass the object in the `custom_objects` parameter of the load function.\n",
            "WARNING:absl:<keras.layers.recurrent.LSTMCell object at 0x7ff0d6dafa10> has the same name 'LSTMCell' as a built-in Keras object. Consider renaming <class 'keras.layers.recurrent.LSTMCell'> to avoid naming conflicts when loading with `tf.keras.models.load_model`. If renaming is not possible, pass the object in the `custom_objects` parameter of the load function.\n",
            "WARNING:absl:<keras.layers.recurrent.LSTMCell object at 0x7ff0e04b5bd0> has the same name 'LSTMCell' as a built-in Keras object. Consider renaming <class 'keras.layers.recurrent.LSTMCell'> to avoid naming conflicts when loading with `tf.keras.models.load_model`. If renaming is not possible, pass the object in the `custom_objects` parameter of the load function.\n",
            "WARNING:absl:<keras.layers.recurrent.LSTMCell object at 0x7ff0e03b9450> has the same name 'LSTMCell' as a built-in Keras object. Consider renaming <class 'keras.layers.recurrent.LSTMCell'> to avoid naming conflicts when loading with `tf.keras.models.load_model`. If renaming is not possible, pass the object in the `custom_objects` parameter of the load function.\n"
          ]
        },
        {
          "output_type": "stream",
          "name": "stdout",
          "text": [
            "1500/1500 [==============================] - 152s 101ms/step - loss: 1.6382 - accuracy: 0.6582 - val_loss: 1.5889 - val_accuracy: 0.6707\n",
            "Epoch 6/50\n",
            "1500/1500 [==============================] - ETA: 0s - loss: 1.2698 - accuracy: 0.7187"
          ]
        },
        {
          "output_type": "stream",
          "name": "stderr",
          "text": [
            "WARNING:absl:Found untraced functions such as lstm_cell_35_layer_call_fn, lstm_cell_35_layer_call_and_return_conditional_losses, lstm_cell_36_layer_call_fn, lstm_cell_36_layer_call_and_return_conditional_losses, lstm_cell_33_layer_call_fn while saving (showing 5 of 30). These functions will not be directly callable after loading.\n"
          ]
        },
        {
          "output_type": "stream",
          "name": "stdout",
          "text": [
            "INFO:tensorflow:Assets written to: drive/MyDrive/Colab Notebooks/AEmodel_lstm_3250_cce/assets\n"
          ]
        },
        {
          "output_type": "stream",
          "name": "stderr",
          "text": [
            "INFO:tensorflow:Assets written to: drive/MyDrive/Colab Notebooks/AEmodel_lstm_3250_cce/assets\n",
            "WARNING:absl:<keras.layers.recurrent.LSTMCell object at 0x7ff0dd66c410> has the same name 'LSTMCell' as a built-in Keras object. Consider renaming <class 'keras.layers.recurrent.LSTMCell'> to avoid naming conflicts when loading with `tf.keras.models.load_model`. If renaming is not possible, pass the object in the `custom_objects` parameter of the load function.\n",
            "WARNING:absl:<keras.layers.recurrent.LSTMCell object at 0x7ff1804ae910> has the same name 'LSTMCell' as a built-in Keras object. Consider renaming <class 'keras.layers.recurrent.LSTMCell'> to avoid naming conflicts when loading with `tf.keras.models.load_model`. If renaming is not possible, pass the object in the `custom_objects` parameter of the load function.\n",
            "WARNING:absl:<keras.layers.recurrent.LSTMCell object at 0x7ff18decf150> has the same name 'LSTMCell' as a built-in Keras object. Consider renaming <class 'keras.layers.recurrent.LSTMCell'> to avoid naming conflicts when loading with `tf.keras.models.load_model`. If renaming is not possible, pass the object in the `custom_objects` parameter of the load function.\n",
            "WARNING:absl:<keras.layers.recurrent.LSTMCell object at 0x7ff0d6dafa10> has the same name 'LSTMCell' as a built-in Keras object. Consider renaming <class 'keras.layers.recurrent.LSTMCell'> to avoid naming conflicts when loading with `tf.keras.models.load_model`. If renaming is not possible, pass the object in the `custom_objects` parameter of the load function.\n",
            "WARNING:absl:<keras.layers.recurrent.LSTMCell object at 0x7ff0e04b5bd0> has the same name 'LSTMCell' as a built-in Keras object. Consider renaming <class 'keras.layers.recurrent.LSTMCell'> to avoid naming conflicts when loading with `tf.keras.models.load_model`. If renaming is not possible, pass the object in the `custom_objects` parameter of the load function.\n",
            "WARNING:absl:<keras.layers.recurrent.LSTMCell object at 0x7ff0e03b9450> has the same name 'LSTMCell' as a built-in Keras object. Consider renaming <class 'keras.layers.recurrent.LSTMCell'> to avoid naming conflicts when loading with `tf.keras.models.load_model`. If renaming is not possible, pass the object in the `custom_objects` parameter of the load function.\n"
          ]
        },
        {
          "output_type": "stream",
          "name": "stdout",
          "text": [
            "\b\b\b\b\b\b\b\b\b\b\b\b\b\b\b\b\b\b\b\b\b\b\b\b\b\b\b\b\b\b\b\b\b\b\b\b\b\b\b\b\b\b\b\b\b\b\b\b\b\b\b\b\b\b\b\b\b\b\b\b\b\b\b\b\b\b\b\b\b\b\b\b\b\b\b\b\b\b\b\b\b\b\b\b\b\b\r1500/1500 [==============================] - 151s 101ms/step - loss: 1.2698 - accuracy: 0.7187 - val_loss: 1.3061 - val_accuracy: 0.7190\n",
            "Epoch 7/50\n",
            "1500/1500 [==============================] - ETA: 0s - loss: 0.9539 - accuracy: 0.7769"
          ]
        },
        {
          "output_type": "stream",
          "name": "stderr",
          "text": [
            "WARNING:absl:Found untraced functions such as lstm_cell_35_layer_call_fn, lstm_cell_35_layer_call_and_return_conditional_losses, lstm_cell_36_layer_call_fn, lstm_cell_36_layer_call_and_return_conditional_losses, lstm_cell_33_layer_call_fn while saving (showing 5 of 30). These functions will not be directly callable after loading.\n"
          ]
        },
        {
          "output_type": "stream",
          "name": "stdout",
          "text": [
            "INFO:tensorflow:Assets written to: drive/MyDrive/Colab Notebooks/AEmodel_lstm_3250_cce/assets\n"
          ]
        },
        {
          "output_type": "stream",
          "name": "stderr",
          "text": [
            "INFO:tensorflow:Assets written to: drive/MyDrive/Colab Notebooks/AEmodel_lstm_3250_cce/assets\n",
            "WARNING:absl:<keras.layers.recurrent.LSTMCell object at 0x7ff0dd66c410> has the same name 'LSTMCell' as a built-in Keras object. Consider renaming <class 'keras.layers.recurrent.LSTMCell'> to avoid naming conflicts when loading with `tf.keras.models.load_model`. If renaming is not possible, pass the object in the `custom_objects` parameter of the load function.\n",
            "WARNING:absl:<keras.layers.recurrent.LSTMCell object at 0x7ff1804ae910> has the same name 'LSTMCell' as a built-in Keras object. Consider renaming <class 'keras.layers.recurrent.LSTMCell'> to avoid naming conflicts when loading with `tf.keras.models.load_model`. If renaming is not possible, pass the object in the `custom_objects` parameter of the load function.\n",
            "WARNING:absl:<keras.layers.recurrent.LSTMCell object at 0x7ff18decf150> has the same name 'LSTMCell' as a built-in Keras object. Consider renaming <class 'keras.layers.recurrent.LSTMCell'> to avoid naming conflicts when loading with `tf.keras.models.load_model`. If renaming is not possible, pass the object in the `custom_objects` parameter of the load function.\n",
            "WARNING:absl:<keras.layers.recurrent.LSTMCell object at 0x7ff0d6dafa10> has the same name 'LSTMCell' as a built-in Keras object. Consider renaming <class 'keras.layers.recurrent.LSTMCell'> to avoid naming conflicts when loading with `tf.keras.models.load_model`. If renaming is not possible, pass the object in the `custom_objects` parameter of the load function.\n",
            "WARNING:absl:<keras.layers.recurrent.LSTMCell object at 0x7ff0e04b5bd0> has the same name 'LSTMCell' as a built-in Keras object. Consider renaming <class 'keras.layers.recurrent.LSTMCell'> to avoid naming conflicts when loading with `tf.keras.models.load_model`. If renaming is not possible, pass the object in the `custom_objects` parameter of the load function.\n",
            "WARNING:absl:<keras.layers.recurrent.LSTMCell object at 0x7ff0e03b9450> has the same name 'LSTMCell' as a built-in Keras object. Consider renaming <class 'keras.layers.recurrent.LSTMCell'> to avoid naming conflicts when loading with `tf.keras.models.load_model`. If renaming is not possible, pass the object in the `custom_objects` parameter of the load function.\n"
          ]
        },
        {
          "output_type": "stream",
          "name": "stdout",
          "text": [
            "1500/1500 [==============================] - 150s 100ms/step - loss: 0.9539 - accuracy: 0.7769 - val_loss: 1.0378 - val_accuracy: 0.7688\n",
            "Epoch 8/50\n",
            "1500/1500 [==============================] - ETA: 0s - loss: 0.7110 - accuracy: 0.8270"
          ]
        },
        {
          "output_type": "stream",
          "name": "stderr",
          "text": [
            "WARNING:absl:Found untraced functions such as lstm_cell_35_layer_call_fn, lstm_cell_35_layer_call_and_return_conditional_losses, lstm_cell_36_layer_call_fn, lstm_cell_36_layer_call_and_return_conditional_losses, lstm_cell_33_layer_call_fn while saving (showing 5 of 30). These functions will not be directly callable after loading.\n"
          ]
        },
        {
          "output_type": "stream",
          "name": "stdout",
          "text": [
            "INFO:tensorflow:Assets written to: drive/MyDrive/Colab Notebooks/AEmodel_lstm_3250_cce/assets\n"
          ]
        },
        {
          "output_type": "stream",
          "name": "stderr",
          "text": [
            "INFO:tensorflow:Assets written to: drive/MyDrive/Colab Notebooks/AEmodel_lstm_3250_cce/assets\n",
            "WARNING:absl:<keras.layers.recurrent.LSTMCell object at 0x7ff0dd66c410> has the same name 'LSTMCell' as a built-in Keras object. Consider renaming <class 'keras.layers.recurrent.LSTMCell'> to avoid naming conflicts when loading with `tf.keras.models.load_model`. If renaming is not possible, pass the object in the `custom_objects` parameter of the load function.\n",
            "WARNING:absl:<keras.layers.recurrent.LSTMCell object at 0x7ff1804ae910> has the same name 'LSTMCell' as a built-in Keras object. Consider renaming <class 'keras.layers.recurrent.LSTMCell'> to avoid naming conflicts when loading with `tf.keras.models.load_model`. If renaming is not possible, pass the object in the `custom_objects` parameter of the load function.\n",
            "WARNING:absl:<keras.layers.recurrent.LSTMCell object at 0x7ff18decf150> has the same name 'LSTMCell' as a built-in Keras object. Consider renaming <class 'keras.layers.recurrent.LSTMCell'> to avoid naming conflicts when loading with `tf.keras.models.load_model`. If renaming is not possible, pass the object in the `custom_objects` parameter of the load function.\n",
            "WARNING:absl:<keras.layers.recurrent.LSTMCell object at 0x7ff0d6dafa10> has the same name 'LSTMCell' as a built-in Keras object. Consider renaming <class 'keras.layers.recurrent.LSTMCell'> to avoid naming conflicts when loading with `tf.keras.models.load_model`. If renaming is not possible, pass the object in the `custom_objects` parameter of the load function.\n",
            "WARNING:absl:<keras.layers.recurrent.LSTMCell object at 0x7ff0e04b5bd0> has the same name 'LSTMCell' as a built-in Keras object. Consider renaming <class 'keras.layers.recurrent.LSTMCell'> to avoid naming conflicts when loading with `tf.keras.models.load_model`. If renaming is not possible, pass the object in the `custom_objects` parameter of the load function.\n",
            "WARNING:absl:<keras.layers.recurrent.LSTMCell object at 0x7ff0e03b9450> has the same name 'LSTMCell' as a built-in Keras object. Consider renaming <class 'keras.layers.recurrent.LSTMCell'> to avoid naming conflicts when loading with `tf.keras.models.load_model`. If renaming is not possible, pass the object in the `custom_objects` parameter of the load function.\n"
          ]
        },
        {
          "output_type": "stream",
          "name": "stdout",
          "text": [
            "1500/1500 [==============================] - 152s 102ms/step - loss: 0.7110 - accuracy: 0.8270 - val_loss: 0.8592 - val_accuracy: 0.8025\n",
            "Epoch 9/50\n",
            "1500/1500 [==============================] - ETA: 0s - loss: 0.5287 - accuracy: 0.8679"
          ]
        },
        {
          "output_type": "stream",
          "name": "stderr",
          "text": [
            "WARNING:absl:Found untraced functions such as lstm_cell_35_layer_call_fn, lstm_cell_35_layer_call_and_return_conditional_losses, lstm_cell_36_layer_call_fn, lstm_cell_36_layer_call_and_return_conditional_losses, lstm_cell_33_layer_call_fn while saving (showing 5 of 30). These functions will not be directly callable after loading.\n"
          ]
        },
        {
          "output_type": "stream",
          "name": "stdout",
          "text": [
            "INFO:tensorflow:Assets written to: drive/MyDrive/Colab Notebooks/AEmodel_lstm_3250_cce/assets\n"
          ]
        },
        {
          "output_type": "stream",
          "name": "stderr",
          "text": [
            "INFO:tensorflow:Assets written to: drive/MyDrive/Colab Notebooks/AEmodel_lstm_3250_cce/assets\n",
            "WARNING:absl:<keras.layers.recurrent.LSTMCell object at 0x7ff0dd66c410> has the same name 'LSTMCell' as a built-in Keras object. Consider renaming <class 'keras.layers.recurrent.LSTMCell'> to avoid naming conflicts when loading with `tf.keras.models.load_model`. If renaming is not possible, pass the object in the `custom_objects` parameter of the load function.\n",
            "WARNING:absl:<keras.layers.recurrent.LSTMCell object at 0x7ff1804ae910> has the same name 'LSTMCell' as a built-in Keras object. Consider renaming <class 'keras.layers.recurrent.LSTMCell'> to avoid naming conflicts when loading with `tf.keras.models.load_model`. If renaming is not possible, pass the object in the `custom_objects` parameter of the load function.\n",
            "WARNING:absl:<keras.layers.recurrent.LSTMCell object at 0x7ff18decf150> has the same name 'LSTMCell' as a built-in Keras object. Consider renaming <class 'keras.layers.recurrent.LSTMCell'> to avoid naming conflicts when loading with `tf.keras.models.load_model`. If renaming is not possible, pass the object in the `custom_objects` parameter of the load function.\n",
            "WARNING:absl:<keras.layers.recurrent.LSTMCell object at 0x7ff0d6dafa10> has the same name 'LSTMCell' as a built-in Keras object. Consider renaming <class 'keras.layers.recurrent.LSTMCell'> to avoid naming conflicts when loading with `tf.keras.models.load_model`. If renaming is not possible, pass the object in the `custom_objects` parameter of the load function.\n",
            "WARNING:absl:<keras.layers.recurrent.LSTMCell object at 0x7ff0e04b5bd0> has the same name 'LSTMCell' as a built-in Keras object. Consider renaming <class 'keras.layers.recurrent.LSTMCell'> to avoid naming conflicts when loading with `tf.keras.models.load_model`. If renaming is not possible, pass the object in the `custom_objects` parameter of the load function.\n",
            "WARNING:absl:<keras.layers.recurrent.LSTMCell object at 0x7ff0e03b9450> has the same name 'LSTMCell' as a built-in Keras object. Consider renaming <class 'keras.layers.recurrent.LSTMCell'> to avoid naming conflicts when loading with `tf.keras.models.load_model`. If renaming is not possible, pass the object in the `custom_objects` parameter of the load function.\n"
          ]
        },
        {
          "output_type": "stream",
          "name": "stdout",
          "text": [
            "\b\b\b\b\b\b\b\b\b\b\b\b\b\b\b\b\b\b\b\b\b\b\b\b\b\b\b\b\b\b\b\b\b\b\b\b\b\b\b\b\b\b\b\b\b\b\b\b\b\b\b\b\b\b\b\b\b\b\b\b\b\b\b\b\b\b\b\b\b\b\b\b\b\b\b\b\b\b\b\b\b\b\b\b\b\b\r1500/1500 [==============================] - 151s 100ms/step - loss: 0.5287 - accuracy: 0.8679 - val_loss: 0.6899 - val_accuracy: 0.8370\n",
            "Epoch 10/50\n",
            "1500/1500 [==============================] - ETA: 0s - loss: 0.3966 - accuracy: 0.8994"
          ]
        },
        {
          "output_type": "stream",
          "name": "stderr",
          "text": [
            "WARNING:absl:Found untraced functions such as lstm_cell_35_layer_call_fn, lstm_cell_35_layer_call_and_return_conditional_losses, lstm_cell_36_layer_call_fn, lstm_cell_36_layer_call_and_return_conditional_losses, lstm_cell_33_layer_call_fn while saving (showing 5 of 30). These functions will not be directly callable after loading.\n"
          ]
        },
        {
          "output_type": "stream",
          "name": "stdout",
          "text": [
            "INFO:tensorflow:Assets written to: drive/MyDrive/Colab Notebooks/AEmodel_lstm_3250_cce/assets\n"
          ]
        },
        {
          "output_type": "stream",
          "name": "stderr",
          "text": [
            "INFO:tensorflow:Assets written to: drive/MyDrive/Colab Notebooks/AEmodel_lstm_3250_cce/assets\n",
            "WARNING:absl:<keras.layers.recurrent.LSTMCell object at 0x7ff0dd66c410> has the same name 'LSTMCell' as a built-in Keras object. Consider renaming <class 'keras.layers.recurrent.LSTMCell'> to avoid naming conflicts when loading with `tf.keras.models.load_model`. If renaming is not possible, pass the object in the `custom_objects` parameter of the load function.\n",
            "WARNING:absl:<keras.layers.recurrent.LSTMCell object at 0x7ff1804ae910> has the same name 'LSTMCell' as a built-in Keras object. Consider renaming <class 'keras.layers.recurrent.LSTMCell'> to avoid naming conflicts when loading with `tf.keras.models.load_model`. If renaming is not possible, pass the object in the `custom_objects` parameter of the load function.\n",
            "WARNING:absl:<keras.layers.recurrent.LSTMCell object at 0x7ff18decf150> has the same name 'LSTMCell' as a built-in Keras object. Consider renaming <class 'keras.layers.recurrent.LSTMCell'> to avoid naming conflicts when loading with `tf.keras.models.load_model`. If renaming is not possible, pass the object in the `custom_objects` parameter of the load function.\n",
            "WARNING:absl:<keras.layers.recurrent.LSTMCell object at 0x7ff0d6dafa10> has the same name 'LSTMCell' as a built-in Keras object. Consider renaming <class 'keras.layers.recurrent.LSTMCell'> to avoid naming conflicts when loading with `tf.keras.models.load_model`. If renaming is not possible, pass the object in the `custom_objects` parameter of the load function.\n",
            "WARNING:absl:<keras.layers.recurrent.LSTMCell object at 0x7ff0e04b5bd0> has the same name 'LSTMCell' as a built-in Keras object. Consider renaming <class 'keras.layers.recurrent.LSTMCell'> to avoid naming conflicts when loading with `tf.keras.models.load_model`. If renaming is not possible, pass the object in the `custom_objects` parameter of the load function.\n",
            "WARNING:absl:<keras.layers.recurrent.LSTMCell object at 0x7ff0e03b9450> has the same name 'LSTMCell' as a built-in Keras object. Consider renaming <class 'keras.layers.recurrent.LSTMCell'> to avoid naming conflicts when loading with `tf.keras.models.load_model`. If renaming is not possible, pass the object in the `custom_objects` parameter of the load function.\n"
          ]
        },
        {
          "output_type": "stream",
          "name": "stdout",
          "text": [
            "\b\b\b\b\b\b\b\b\b\b\b\b\b\b\b\b\b\b\b\b\b\b\b\b\b\b\b\b\b\b\b\b\b\b\b\b\b\b\b\b\b\b\b\b\b\b\b\b\b\b\b\b\b\b\b\b\b\b\b\b\b\b\b\b\b\b\b\b\b\b\b\b\b\b\b\b\b\b\b\b\b\b\b\b\b\b\r1500/1500 [==============================] - 151s 101ms/step - loss: 0.3966 - accuracy: 0.8994 - val_loss: 0.5856 - val_accuracy: 0.8607\n",
            "Epoch 11/50\n",
            "1500/1500 [==============================] - ETA: 0s - loss: 0.3078 - accuracy: 0.9210"
          ]
        },
        {
          "output_type": "stream",
          "name": "stderr",
          "text": [
            "WARNING:absl:Found untraced functions such as lstm_cell_35_layer_call_fn, lstm_cell_35_layer_call_and_return_conditional_losses, lstm_cell_36_layer_call_fn, lstm_cell_36_layer_call_and_return_conditional_losses, lstm_cell_33_layer_call_fn while saving (showing 5 of 30). These functions will not be directly callable after loading.\n"
          ]
        },
        {
          "output_type": "stream",
          "name": "stdout",
          "text": [
            "INFO:tensorflow:Assets written to: drive/MyDrive/Colab Notebooks/AEmodel_lstm_3250_cce/assets\n"
          ]
        },
        {
          "output_type": "stream",
          "name": "stderr",
          "text": [
            "INFO:tensorflow:Assets written to: drive/MyDrive/Colab Notebooks/AEmodel_lstm_3250_cce/assets\n",
            "WARNING:absl:<keras.layers.recurrent.LSTMCell object at 0x7ff0dd66c410> has the same name 'LSTMCell' as a built-in Keras object. Consider renaming <class 'keras.layers.recurrent.LSTMCell'> to avoid naming conflicts when loading with `tf.keras.models.load_model`. If renaming is not possible, pass the object in the `custom_objects` parameter of the load function.\n",
            "WARNING:absl:<keras.layers.recurrent.LSTMCell object at 0x7ff1804ae910> has the same name 'LSTMCell' as a built-in Keras object. Consider renaming <class 'keras.layers.recurrent.LSTMCell'> to avoid naming conflicts when loading with `tf.keras.models.load_model`. If renaming is not possible, pass the object in the `custom_objects` parameter of the load function.\n",
            "WARNING:absl:<keras.layers.recurrent.LSTMCell object at 0x7ff18decf150> has the same name 'LSTMCell' as a built-in Keras object. Consider renaming <class 'keras.layers.recurrent.LSTMCell'> to avoid naming conflicts when loading with `tf.keras.models.load_model`. If renaming is not possible, pass the object in the `custom_objects` parameter of the load function.\n",
            "WARNING:absl:<keras.layers.recurrent.LSTMCell object at 0x7ff0d6dafa10> has the same name 'LSTMCell' as a built-in Keras object. Consider renaming <class 'keras.layers.recurrent.LSTMCell'> to avoid naming conflicts when loading with `tf.keras.models.load_model`. If renaming is not possible, pass the object in the `custom_objects` parameter of the load function.\n",
            "WARNING:absl:<keras.layers.recurrent.LSTMCell object at 0x7ff0e04b5bd0> has the same name 'LSTMCell' as a built-in Keras object. Consider renaming <class 'keras.layers.recurrent.LSTMCell'> to avoid naming conflicts when loading with `tf.keras.models.load_model`. If renaming is not possible, pass the object in the `custom_objects` parameter of the load function.\n",
            "WARNING:absl:<keras.layers.recurrent.LSTMCell object at 0x7ff0e03b9450> has the same name 'LSTMCell' as a built-in Keras object. Consider renaming <class 'keras.layers.recurrent.LSTMCell'> to avoid naming conflicts when loading with `tf.keras.models.load_model`. If renaming is not possible, pass the object in the `custom_objects` parameter of the load function.\n"
          ]
        },
        {
          "output_type": "stream",
          "name": "stdout",
          "text": [
            "1500/1500 [==============================] - 152s 102ms/step - loss: 0.3078 - accuracy: 0.9210 - val_loss: 0.5403 - val_accuracy: 0.8668\n",
            "Epoch 12/50\n",
            "1500/1500 [==============================] - ETA: 0s - loss: 0.2403 - accuracy: 0.9382"
          ]
        },
        {
          "output_type": "stream",
          "name": "stderr",
          "text": [
            "WARNING:absl:Found untraced functions such as lstm_cell_35_layer_call_fn, lstm_cell_35_layer_call_and_return_conditional_losses, lstm_cell_36_layer_call_fn, lstm_cell_36_layer_call_and_return_conditional_losses, lstm_cell_33_layer_call_fn while saving (showing 5 of 30). These functions will not be directly callable after loading.\n"
          ]
        },
        {
          "output_type": "stream",
          "name": "stdout",
          "text": [
            "INFO:tensorflow:Assets written to: drive/MyDrive/Colab Notebooks/AEmodel_lstm_3250_cce/assets\n"
          ]
        },
        {
          "output_type": "stream",
          "name": "stderr",
          "text": [
            "INFO:tensorflow:Assets written to: drive/MyDrive/Colab Notebooks/AEmodel_lstm_3250_cce/assets\n",
            "WARNING:absl:<keras.layers.recurrent.LSTMCell object at 0x7ff0dd66c410> has the same name 'LSTMCell' as a built-in Keras object. Consider renaming <class 'keras.layers.recurrent.LSTMCell'> to avoid naming conflicts when loading with `tf.keras.models.load_model`. If renaming is not possible, pass the object in the `custom_objects` parameter of the load function.\n",
            "WARNING:absl:<keras.layers.recurrent.LSTMCell object at 0x7ff1804ae910> has the same name 'LSTMCell' as a built-in Keras object. Consider renaming <class 'keras.layers.recurrent.LSTMCell'> to avoid naming conflicts when loading with `tf.keras.models.load_model`. If renaming is not possible, pass the object in the `custom_objects` parameter of the load function.\n",
            "WARNING:absl:<keras.layers.recurrent.LSTMCell object at 0x7ff18decf150> has the same name 'LSTMCell' as a built-in Keras object. Consider renaming <class 'keras.layers.recurrent.LSTMCell'> to avoid naming conflicts when loading with `tf.keras.models.load_model`. If renaming is not possible, pass the object in the `custom_objects` parameter of the load function.\n",
            "WARNING:absl:<keras.layers.recurrent.LSTMCell object at 0x7ff0d6dafa10> has the same name 'LSTMCell' as a built-in Keras object. Consider renaming <class 'keras.layers.recurrent.LSTMCell'> to avoid naming conflicts when loading with `tf.keras.models.load_model`. If renaming is not possible, pass the object in the `custom_objects` parameter of the load function.\n",
            "WARNING:absl:<keras.layers.recurrent.LSTMCell object at 0x7ff0e04b5bd0> has the same name 'LSTMCell' as a built-in Keras object. Consider renaming <class 'keras.layers.recurrent.LSTMCell'> to avoid naming conflicts when loading with `tf.keras.models.load_model`. If renaming is not possible, pass the object in the `custom_objects` parameter of the load function.\n",
            "WARNING:absl:<keras.layers.recurrent.LSTMCell object at 0x7ff0e03b9450> has the same name 'LSTMCell' as a built-in Keras object. Consider renaming <class 'keras.layers.recurrent.LSTMCell'> to avoid naming conflicts when loading with `tf.keras.models.load_model`. If renaming is not possible, pass the object in the `custom_objects` parameter of the load function.\n"
          ]
        },
        {
          "output_type": "stream",
          "name": "stdout",
          "text": [
            "1500/1500 [==============================] - 150s 100ms/step - loss: 0.2403 - accuracy: 0.9382 - val_loss: 0.4877 - val_accuracy: 0.8806\n",
            "Epoch 13/50\n",
            "1500/1500 [==============================] - ETA: 0s - loss: 0.1939 - accuracy: 0.9504"
          ]
        },
        {
          "output_type": "stream",
          "name": "stderr",
          "text": [
            "WARNING:absl:Found untraced functions such as lstm_cell_35_layer_call_fn, lstm_cell_35_layer_call_and_return_conditional_losses, lstm_cell_36_layer_call_fn, lstm_cell_36_layer_call_and_return_conditional_losses, lstm_cell_33_layer_call_fn while saving (showing 5 of 30). These functions will not be directly callable after loading.\n"
          ]
        },
        {
          "output_type": "stream",
          "name": "stdout",
          "text": [
            "INFO:tensorflow:Assets written to: drive/MyDrive/Colab Notebooks/AEmodel_lstm_3250_cce/assets\n"
          ]
        },
        {
          "output_type": "stream",
          "name": "stderr",
          "text": [
            "INFO:tensorflow:Assets written to: drive/MyDrive/Colab Notebooks/AEmodel_lstm_3250_cce/assets\n",
            "WARNING:absl:<keras.layers.recurrent.LSTMCell object at 0x7ff0dd66c410> has the same name 'LSTMCell' as a built-in Keras object. Consider renaming <class 'keras.layers.recurrent.LSTMCell'> to avoid naming conflicts when loading with `tf.keras.models.load_model`. If renaming is not possible, pass the object in the `custom_objects` parameter of the load function.\n",
            "WARNING:absl:<keras.layers.recurrent.LSTMCell object at 0x7ff1804ae910> has the same name 'LSTMCell' as a built-in Keras object. Consider renaming <class 'keras.layers.recurrent.LSTMCell'> to avoid naming conflicts when loading with `tf.keras.models.load_model`. If renaming is not possible, pass the object in the `custom_objects` parameter of the load function.\n",
            "WARNING:absl:<keras.layers.recurrent.LSTMCell object at 0x7ff18decf150> has the same name 'LSTMCell' as a built-in Keras object. Consider renaming <class 'keras.layers.recurrent.LSTMCell'> to avoid naming conflicts when loading with `tf.keras.models.load_model`. If renaming is not possible, pass the object in the `custom_objects` parameter of the load function.\n",
            "WARNING:absl:<keras.layers.recurrent.LSTMCell object at 0x7ff0d6dafa10> has the same name 'LSTMCell' as a built-in Keras object. Consider renaming <class 'keras.layers.recurrent.LSTMCell'> to avoid naming conflicts when loading with `tf.keras.models.load_model`. If renaming is not possible, pass the object in the `custom_objects` parameter of the load function.\n",
            "WARNING:absl:<keras.layers.recurrent.LSTMCell object at 0x7ff0e04b5bd0> has the same name 'LSTMCell' as a built-in Keras object. Consider renaming <class 'keras.layers.recurrent.LSTMCell'> to avoid naming conflicts when loading with `tf.keras.models.load_model`. If renaming is not possible, pass the object in the `custom_objects` parameter of the load function.\n",
            "WARNING:absl:<keras.layers.recurrent.LSTMCell object at 0x7ff0e03b9450> has the same name 'LSTMCell' as a built-in Keras object. Consider renaming <class 'keras.layers.recurrent.LSTMCell'> to avoid naming conflicts when loading with `tf.keras.models.load_model`. If renaming is not possible, pass the object in the `custom_objects` parameter of the load function.\n"
          ]
        },
        {
          "output_type": "stream",
          "name": "stdout",
          "text": [
            "\b\b\b\b\b\b\b\b\b\b\b\b\b\b\b\b\b\b\b\b\b\b\b\b\b\b\b\b\b\b\b\b\b\b\b\b\b\b\b\b\b\b\b\b\b\b\b\b\b\b\b\b\b\b\b\b\b\b\b\b\b\b\b\b\b\b\b\b\b\b\b\b\b\b\b\b\b\b\b\b\b\b\b\b\b\b\r1500/1500 [==============================] - 152s 101ms/step - loss: 0.1939 - accuracy: 0.9504 - val_loss: 0.4516 - val_accuracy: 0.8876\n",
            "Epoch 14/50\n",
            "1500/1500 [==============================] - ETA: 0s - loss: 0.1623 - accuracy: 0.9581"
          ]
        },
        {
          "output_type": "stream",
          "name": "stderr",
          "text": [
            "WARNING:absl:Found untraced functions such as lstm_cell_35_layer_call_fn, lstm_cell_35_layer_call_and_return_conditional_losses, lstm_cell_36_layer_call_fn, lstm_cell_36_layer_call_and_return_conditional_losses, lstm_cell_33_layer_call_fn while saving (showing 5 of 30). These functions will not be directly callable after loading.\n"
          ]
        },
        {
          "output_type": "stream",
          "name": "stdout",
          "text": [
            "INFO:tensorflow:Assets written to: drive/MyDrive/Colab Notebooks/AEmodel_lstm_3250_cce/assets\n"
          ]
        },
        {
          "output_type": "stream",
          "name": "stderr",
          "text": [
            "INFO:tensorflow:Assets written to: drive/MyDrive/Colab Notebooks/AEmodel_lstm_3250_cce/assets\n",
            "WARNING:absl:<keras.layers.recurrent.LSTMCell object at 0x7ff0dd66c410> has the same name 'LSTMCell' as a built-in Keras object. Consider renaming <class 'keras.layers.recurrent.LSTMCell'> to avoid naming conflicts when loading with `tf.keras.models.load_model`. If renaming is not possible, pass the object in the `custom_objects` parameter of the load function.\n",
            "WARNING:absl:<keras.layers.recurrent.LSTMCell object at 0x7ff1804ae910> has the same name 'LSTMCell' as a built-in Keras object. Consider renaming <class 'keras.layers.recurrent.LSTMCell'> to avoid naming conflicts when loading with `tf.keras.models.load_model`. If renaming is not possible, pass the object in the `custom_objects` parameter of the load function.\n",
            "WARNING:absl:<keras.layers.recurrent.LSTMCell object at 0x7ff18decf150> has the same name 'LSTMCell' as a built-in Keras object. Consider renaming <class 'keras.layers.recurrent.LSTMCell'> to avoid naming conflicts when loading with `tf.keras.models.load_model`. If renaming is not possible, pass the object in the `custom_objects` parameter of the load function.\n",
            "WARNING:absl:<keras.layers.recurrent.LSTMCell object at 0x7ff0d6dafa10> has the same name 'LSTMCell' as a built-in Keras object. Consider renaming <class 'keras.layers.recurrent.LSTMCell'> to avoid naming conflicts when loading with `tf.keras.models.load_model`. If renaming is not possible, pass the object in the `custom_objects` parameter of the load function.\n",
            "WARNING:absl:<keras.layers.recurrent.LSTMCell object at 0x7ff0e04b5bd0> has the same name 'LSTMCell' as a built-in Keras object. Consider renaming <class 'keras.layers.recurrent.LSTMCell'> to avoid naming conflicts when loading with `tf.keras.models.load_model`. If renaming is not possible, pass the object in the `custom_objects` parameter of the load function.\n",
            "WARNING:absl:<keras.layers.recurrent.LSTMCell object at 0x7ff0e03b9450> has the same name 'LSTMCell' as a built-in Keras object. Consider renaming <class 'keras.layers.recurrent.LSTMCell'> to avoid naming conflicts when loading with `tf.keras.models.load_model`. If renaming is not possible, pass the object in the `custom_objects` parameter of the load function.\n"
          ]
        },
        {
          "output_type": "stream",
          "name": "stdout",
          "text": [
            "\b\b\b\b\b\b\b\b\b\b\b\b\b\b\b\b\b\b\b\b\b\b\b\b\b\b\b\b\b\b\b\b\b\b\b\b\b\b\b\b\b\b\b\b\b\b\b\b\b\b\b\b\b\b\b\b\b\b\b\b\b\b\b\b\b\b\b\b\b\b\b\b\b\b\b\b\b\b\b\b\b\b\b\b\b\b\r1500/1500 [==============================] - 153s 102ms/step - loss: 0.1623 - accuracy: 0.9581 - val_loss: 0.4506 - val_accuracy: 0.8897\n",
            "Epoch 15/50\n",
            "1500/1500 [==============================] - ETA: 0s - loss: 0.1334 - accuracy: 0.9658"
          ]
        },
        {
          "output_type": "stream",
          "name": "stderr",
          "text": [
            "WARNING:absl:Found untraced functions such as lstm_cell_35_layer_call_fn, lstm_cell_35_layer_call_and_return_conditional_losses, lstm_cell_36_layer_call_fn, lstm_cell_36_layer_call_and_return_conditional_losses, lstm_cell_33_layer_call_fn while saving (showing 5 of 30). These functions will not be directly callable after loading.\n"
          ]
        },
        {
          "output_type": "stream",
          "name": "stdout",
          "text": [
            "INFO:tensorflow:Assets written to: drive/MyDrive/Colab Notebooks/AEmodel_lstm_3250_cce/assets\n"
          ]
        },
        {
          "output_type": "stream",
          "name": "stderr",
          "text": [
            "INFO:tensorflow:Assets written to: drive/MyDrive/Colab Notebooks/AEmodel_lstm_3250_cce/assets\n",
            "WARNING:absl:<keras.layers.recurrent.LSTMCell object at 0x7ff0dd66c410> has the same name 'LSTMCell' as a built-in Keras object. Consider renaming <class 'keras.layers.recurrent.LSTMCell'> to avoid naming conflicts when loading with `tf.keras.models.load_model`. If renaming is not possible, pass the object in the `custom_objects` parameter of the load function.\n",
            "WARNING:absl:<keras.layers.recurrent.LSTMCell object at 0x7ff1804ae910> has the same name 'LSTMCell' as a built-in Keras object. Consider renaming <class 'keras.layers.recurrent.LSTMCell'> to avoid naming conflicts when loading with `tf.keras.models.load_model`. If renaming is not possible, pass the object in the `custom_objects` parameter of the load function.\n",
            "WARNING:absl:<keras.layers.recurrent.LSTMCell object at 0x7ff18decf150> has the same name 'LSTMCell' as a built-in Keras object. Consider renaming <class 'keras.layers.recurrent.LSTMCell'> to avoid naming conflicts when loading with `tf.keras.models.load_model`. If renaming is not possible, pass the object in the `custom_objects` parameter of the load function.\n",
            "WARNING:absl:<keras.layers.recurrent.LSTMCell object at 0x7ff0d6dafa10> has the same name 'LSTMCell' as a built-in Keras object. Consider renaming <class 'keras.layers.recurrent.LSTMCell'> to avoid naming conflicts when loading with `tf.keras.models.load_model`. If renaming is not possible, pass the object in the `custom_objects` parameter of the load function.\n",
            "WARNING:absl:<keras.layers.recurrent.LSTMCell object at 0x7ff0e04b5bd0> has the same name 'LSTMCell' as a built-in Keras object. Consider renaming <class 'keras.layers.recurrent.LSTMCell'> to avoid naming conflicts when loading with `tf.keras.models.load_model`. If renaming is not possible, pass the object in the `custom_objects` parameter of the load function.\n",
            "WARNING:absl:<keras.layers.recurrent.LSTMCell object at 0x7ff0e03b9450> has the same name 'LSTMCell' as a built-in Keras object. Consider renaming <class 'keras.layers.recurrent.LSTMCell'> to avoid naming conflicts when loading with `tf.keras.models.load_model`. If renaming is not possible, pass the object in the `custom_objects` parameter of the load function.\n"
          ]
        },
        {
          "output_type": "stream",
          "name": "stdout",
          "text": [
            "\b\b\b\b\b\b\b\b\b\b\b\b\b\b\b\b\b\b\b\b\b\b\b\b\b\b\b\b\b\b\b\b\b\b\b\b\b\b\b\b\b\b\b\b\b\b\b\b\b\b\b\b\b\b\b\b\b\b\b\b\b\b\b\b\b\b\b\b\b\b\b\b\b\b\b\b\b\b\b\b\b\b\b\b\b\b\r1500/1500 [==============================] - 154s 103ms/step - loss: 0.1334 - accuracy: 0.9658 - val_loss: 0.4237 - val_accuracy: 0.8946\n",
            "Epoch 16/50\n",
            "1500/1500 [==============================] - 110s 74ms/step - loss: 0.1135 - accuracy: 0.9710 - val_loss: 0.4445 - val_accuracy: 0.8911\n",
            "Epoch 17/50\n",
            "1500/1500 [==============================] - ETA: 0s - loss: 0.1005 - accuracy: 0.9742"
          ]
        },
        {
          "output_type": "stream",
          "name": "stderr",
          "text": [
            "WARNING:absl:Found untraced functions such as lstm_cell_35_layer_call_fn, lstm_cell_35_layer_call_and_return_conditional_losses, lstm_cell_36_layer_call_fn, lstm_cell_36_layer_call_and_return_conditional_losses, lstm_cell_33_layer_call_fn while saving (showing 5 of 30). These functions will not be directly callable after loading.\n"
          ]
        },
        {
          "output_type": "stream",
          "name": "stdout",
          "text": [
            "INFO:tensorflow:Assets written to: drive/MyDrive/Colab Notebooks/AEmodel_lstm_3250_cce/assets\n"
          ]
        },
        {
          "output_type": "stream",
          "name": "stderr",
          "text": [
            "INFO:tensorflow:Assets written to: drive/MyDrive/Colab Notebooks/AEmodel_lstm_3250_cce/assets\n",
            "WARNING:absl:<keras.layers.recurrent.LSTMCell object at 0x7ff0dd66c410> has the same name 'LSTMCell' as a built-in Keras object. Consider renaming <class 'keras.layers.recurrent.LSTMCell'> to avoid naming conflicts when loading with `tf.keras.models.load_model`. If renaming is not possible, pass the object in the `custom_objects` parameter of the load function.\n",
            "WARNING:absl:<keras.layers.recurrent.LSTMCell object at 0x7ff1804ae910> has the same name 'LSTMCell' as a built-in Keras object. Consider renaming <class 'keras.layers.recurrent.LSTMCell'> to avoid naming conflicts when loading with `tf.keras.models.load_model`. If renaming is not possible, pass the object in the `custom_objects` parameter of the load function.\n",
            "WARNING:absl:<keras.layers.recurrent.LSTMCell object at 0x7ff18decf150> has the same name 'LSTMCell' as a built-in Keras object. Consider renaming <class 'keras.layers.recurrent.LSTMCell'> to avoid naming conflicts when loading with `tf.keras.models.load_model`. If renaming is not possible, pass the object in the `custom_objects` parameter of the load function.\n",
            "WARNING:absl:<keras.layers.recurrent.LSTMCell object at 0x7ff0d6dafa10> has the same name 'LSTMCell' as a built-in Keras object. Consider renaming <class 'keras.layers.recurrent.LSTMCell'> to avoid naming conflicts when loading with `tf.keras.models.load_model`. If renaming is not possible, pass the object in the `custom_objects` parameter of the load function.\n",
            "WARNING:absl:<keras.layers.recurrent.LSTMCell object at 0x7ff0e04b5bd0> has the same name 'LSTMCell' as a built-in Keras object. Consider renaming <class 'keras.layers.recurrent.LSTMCell'> to avoid naming conflicts when loading with `tf.keras.models.load_model`. If renaming is not possible, pass the object in the `custom_objects` parameter of the load function.\n",
            "WARNING:absl:<keras.layers.recurrent.LSTMCell object at 0x7ff0e03b9450> has the same name 'LSTMCell' as a built-in Keras object. Consider renaming <class 'keras.layers.recurrent.LSTMCell'> to avoid naming conflicts when loading with `tf.keras.models.load_model`. If renaming is not possible, pass the object in the `custom_objects` parameter of the load function.\n"
          ]
        },
        {
          "output_type": "stream",
          "name": "stdout",
          "text": [
            "\b\b\b\b\b\b\b\b\b\b\b\b\b\b\b\b\b\b\b\b\b\b\b\b\b\b\b\b\b\b\b\b\b\b\b\b\b\b\b\b\b\b\b\b\b\b\b\b\b\b\b\b\b\b\b\b\b\b\b\b\b\b\b\b\b\b\b\b\b\b\b\b\b\b\b\b\b\b\b\b\b\b\b\b\b\b\r1500/1500 [==============================] - 153s 102ms/step - loss: 0.1005 - accuracy: 0.9742 - val_loss: 0.3950 - val_accuracy: 0.9038\n",
            "Epoch 18/50\n",
            "1500/1500 [==============================] - 111s 74ms/step - loss: 0.0883 - accuracy: 0.9773 - val_loss: 0.4004 - val_accuracy: 0.9019\n",
            "Epoch 19/50\n",
            "1500/1500 [==============================] - ETA: 0s - loss: 0.0802 - accuracy: 0.9790"
          ]
        },
        {
          "output_type": "stream",
          "name": "stderr",
          "text": [
            "WARNING:absl:Found untraced functions such as lstm_cell_35_layer_call_fn, lstm_cell_35_layer_call_and_return_conditional_losses, lstm_cell_36_layer_call_fn, lstm_cell_36_layer_call_and_return_conditional_losses, lstm_cell_33_layer_call_fn while saving (showing 5 of 30). These functions will not be directly callable after loading.\n"
          ]
        },
        {
          "output_type": "stream",
          "name": "stdout",
          "text": [
            "INFO:tensorflow:Assets written to: drive/MyDrive/Colab Notebooks/AEmodel_lstm_3250_cce/assets\n"
          ]
        },
        {
          "output_type": "stream",
          "name": "stderr",
          "text": [
            "INFO:tensorflow:Assets written to: drive/MyDrive/Colab Notebooks/AEmodel_lstm_3250_cce/assets\n",
            "WARNING:absl:<keras.layers.recurrent.LSTMCell object at 0x7ff0dd66c410> has the same name 'LSTMCell' as a built-in Keras object. Consider renaming <class 'keras.layers.recurrent.LSTMCell'> to avoid naming conflicts when loading with `tf.keras.models.load_model`. If renaming is not possible, pass the object in the `custom_objects` parameter of the load function.\n",
            "WARNING:absl:<keras.layers.recurrent.LSTMCell object at 0x7ff1804ae910> has the same name 'LSTMCell' as a built-in Keras object. Consider renaming <class 'keras.layers.recurrent.LSTMCell'> to avoid naming conflicts when loading with `tf.keras.models.load_model`. If renaming is not possible, pass the object in the `custom_objects` parameter of the load function.\n",
            "WARNING:absl:<keras.layers.recurrent.LSTMCell object at 0x7ff18decf150> has the same name 'LSTMCell' as a built-in Keras object. Consider renaming <class 'keras.layers.recurrent.LSTMCell'> to avoid naming conflicts when loading with `tf.keras.models.load_model`. If renaming is not possible, pass the object in the `custom_objects` parameter of the load function.\n",
            "WARNING:absl:<keras.layers.recurrent.LSTMCell object at 0x7ff0d6dafa10> has the same name 'LSTMCell' as a built-in Keras object. Consider renaming <class 'keras.layers.recurrent.LSTMCell'> to avoid naming conflicts when loading with `tf.keras.models.load_model`. If renaming is not possible, pass the object in the `custom_objects` parameter of the load function.\n",
            "WARNING:absl:<keras.layers.recurrent.LSTMCell object at 0x7ff0e04b5bd0> has the same name 'LSTMCell' as a built-in Keras object. Consider renaming <class 'keras.layers.recurrent.LSTMCell'> to avoid naming conflicts when loading with `tf.keras.models.load_model`. If renaming is not possible, pass the object in the `custom_objects` parameter of the load function.\n",
            "WARNING:absl:<keras.layers.recurrent.LSTMCell object at 0x7ff0e03b9450> has the same name 'LSTMCell' as a built-in Keras object. Consider renaming <class 'keras.layers.recurrent.LSTMCell'> to avoid naming conflicts when loading with `tf.keras.models.load_model`. If renaming is not possible, pass the object in the `custom_objects` parameter of the load function.\n"
          ]
        },
        {
          "output_type": "stream",
          "name": "stdout",
          "text": [
            "\b\b\b\b\b\b\b\b\b\b\b\b\b\b\b\b\b\b\b\b\b\b\b\b\b\b\b\b\b\b\b\b\b\b\b\b\b\b\b\b\b\b\b\b\b\b\b\b\b\b\b\b\b\b\b\b\b\b\b\b\b\b\b\b\b\b\b\b\b\b\b\b\b\b\b\b\b\b\b\b\b\b\b\b\b\b\r1500/1500 [==============================] - 153s 102ms/step - loss: 0.0802 - accuracy: 0.9790 - val_loss: 0.3919 - val_accuracy: 0.9051\n",
            "Epoch 20/50\n",
            "1500/1500 [==============================] - 111s 74ms/step - loss: 0.0723 - accuracy: 0.9811 - val_loss: 0.4060 - val_accuracy: 0.9035\n",
            "Epoch 21/50\n",
            "1500/1500 [==============================] - ETA: 0s - loss: 0.0651 - accuracy: 0.9830"
          ]
        },
        {
          "output_type": "stream",
          "name": "stderr",
          "text": [
            "WARNING:absl:Found untraced functions such as lstm_cell_35_layer_call_fn, lstm_cell_35_layer_call_and_return_conditional_losses, lstm_cell_36_layer_call_fn, lstm_cell_36_layer_call_and_return_conditional_losses, lstm_cell_33_layer_call_fn while saving (showing 5 of 30). These functions will not be directly callable after loading.\n"
          ]
        },
        {
          "output_type": "stream",
          "name": "stdout",
          "text": [
            "INFO:tensorflow:Assets written to: drive/MyDrive/Colab Notebooks/AEmodel_lstm_3250_cce/assets\n"
          ]
        },
        {
          "output_type": "stream",
          "name": "stderr",
          "text": [
            "INFO:tensorflow:Assets written to: drive/MyDrive/Colab Notebooks/AEmodel_lstm_3250_cce/assets\n",
            "WARNING:absl:<keras.layers.recurrent.LSTMCell object at 0x7ff0dd66c410> has the same name 'LSTMCell' as a built-in Keras object. Consider renaming <class 'keras.layers.recurrent.LSTMCell'> to avoid naming conflicts when loading with `tf.keras.models.load_model`. If renaming is not possible, pass the object in the `custom_objects` parameter of the load function.\n",
            "WARNING:absl:<keras.layers.recurrent.LSTMCell object at 0x7ff1804ae910> has the same name 'LSTMCell' as a built-in Keras object. Consider renaming <class 'keras.layers.recurrent.LSTMCell'> to avoid naming conflicts when loading with `tf.keras.models.load_model`. If renaming is not possible, pass the object in the `custom_objects` parameter of the load function.\n",
            "WARNING:absl:<keras.layers.recurrent.LSTMCell object at 0x7ff18decf150> has the same name 'LSTMCell' as a built-in Keras object. Consider renaming <class 'keras.layers.recurrent.LSTMCell'> to avoid naming conflicts when loading with `tf.keras.models.load_model`. If renaming is not possible, pass the object in the `custom_objects` parameter of the load function.\n",
            "WARNING:absl:<keras.layers.recurrent.LSTMCell object at 0x7ff0d6dafa10> has the same name 'LSTMCell' as a built-in Keras object. Consider renaming <class 'keras.layers.recurrent.LSTMCell'> to avoid naming conflicts when loading with `tf.keras.models.load_model`. If renaming is not possible, pass the object in the `custom_objects` parameter of the load function.\n",
            "WARNING:absl:<keras.layers.recurrent.LSTMCell object at 0x7ff0e04b5bd0> has the same name 'LSTMCell' as a built-in Keras object. Consider renaming <class 'keras.layers.recurrent.LSTMCell'> to avoid naming conflicts when loading with `tf.keras.models.load_model`. If renaming is not possible, pass the object in the `custom_objects` parameter of the load function.\n",
            "WARNING:absl:<keras.layers.recurrent.LSTMCell object at 0x7ff0e03b9450> has the same name 'LSTMCell' as a built-in Keras object. Consider renaming <class 'keras.layers.recurrent.LSTMCell'> to avoid naming conflicts when loading with `tf.keras.models.load_model`. If renaming is not possible, pass the object in the `custom_objects` parameter of the load function.\n"
          ]
        },
        {
          "output_type": "stream",
          "name": "stdout",
          "text": [
            "1500/1500 [==============================] - 152s 102ms/step - loss: 0.0651 - accuracy: 0.9830 - val_loss: 0.3586 - val_accuracy: 0.9135\n",
            "Epoch 22/50\n",
            "1500/1500 [==============================] - 110s 74ms/step - loss: 0.0614 - accuracy: 0.9837 - val_loss: 0.3828 - val_accuracy: 0.9098\n",
            "Epoch 23/50\n",
            "1500/1500 [==============================] - 110s 74ms/step - loss: 0.0554 - accuracy: 0.9853 - val_loss: 0.3612 - val_accuracy: 0.9157\n",
            "Epoch 24/50\n",
            "1500/1500 [==============================] - 110s 73ms/step - loss: 0.0544 - accuracy: 0.9852 - val_loss: 0.3697 - val_accuracy: 0.9132\n",
            "Epoch 25/50\n",
            "1500/1500 [==============================] - ETA: 0s - loss: 0.0494 - accuracy: 0.9865"
          ]
        },
        {
          "output_type": "stream",
          "name": "stderr",
          "text": [
            "WARNING:absl:Found untraced functions such as lstm_cell_35_layer_call_fn, lstm_cell_35_layer_call_and_return_conditional_losses, lstm_cell_36_layer_call_fn, lstm_cell_36_layer_call_and_return_conditional_losses, lstm_cell_33_layer_call_fn while saving (showing 5 of 30). These functions will not be directly callable after loading.\n"
          ]
        },
        {
          "output_type": "stream",
          "name": "stdout",
          "text": [
            "INFO:tensorflow:Assets written to: drive/MyDrive/Colab Notebooks/AEmodel_lstm_3250_cce/assets\n"
          ]
        },
        {
          "output_type": "stream",
          "name": "stderr",
          "text": [
            "INFO:tensorflow:Assets written to: drive/MyDrive/Colab Notebooks/AEmodel_lstm_3250_cce/assets\n",
            "WARNING:absl:<keras.layers.recurrent.LSTMCell object at 0x7ff0dd66c410> has the same name 'LSTMCell' as a built-in Keras object. Consider renaming <class 'keras.layers.recurrent.LSTMCell'> to avoid naming conflicts when loading with `tf.keras.models.load_model`. If renaming is not possible, pass the object in the `custom_objects` parameter of the load function.\n",
            "WARNING:absl:<keras.layers.recurrent.LSTMCell object at 0x7ff1804ae910> has the same name 'LSTMCell' as a built-in Keras object. Consider renaming <class 'keras.layers.recurrent.LSTMCell'> to avoid naming conflicts when loading with `tf.keras.models.load_model`. If renaming is not possible, pass the object in the `custom_objects` parameter of the load function.\n",
            "WARNING:absl:<keras.layers.recurrent.LSTMCell object at 0x7ff18decf150> has the same name 'LSTMCell' as a built-in Keras object. Consider renaming <class 'keras.layers.recurrent.LSTMCell'> to avoid naming conflicts when loading with `tf.keras.models.load_model`. If renaming is not possible, pass the object in the `custom_objects` parameter of the load function.\n",
            "WARNING:absl:<keras.layers.recurrent.LSTMCell object at 0x7ff0d6dafa10> has the same name 'LSTMCell' as a built-in Keras object. Consider renaming <class 'keras.layers.recurrent.LSTMCell'> to avoid naming conflicts when loading with `tf.keras.models.load_model`. If renaming is not possible, pass the object in the `custom_objects` parameter of the load function.\n",
            "WARNING:absl:<keras.layers.recurrent.LSTMCell object at 0x7ff0e04b5bd0> has the same name 'LSTMCell' as a built-in Keras object. Consider renaming <class 'keras.layers.recurrent.LSTMCell'> to avoid naming conflicts when loading with `tf.keras.models.load_model`. If renaming is not possible, pass the object in the `custom_objects` parameter of the load function.\n",
            "WARNING:absl:<keras.layers.recurrent.LSTMCell object at 0x7ff0e03b9450> has the same name 'LSTMCell' as a built-in Keras object. Consider renaming <class 'keras.layers.recurrent.LSTMCell'> to avoid naming conflicts when loading with `tf.keras.models.load_model`. If renaming is not possible, pass the object in the `custom_objects` parameter of the load function.\n"
          ]
        },
        {
          "output_type": "stream",
          "name": "stdout",
          "text": [
            "\b\b\b\b\b\b\b\b\b\b\b\b\b\b\b\b\b\b\b\b\b\b\b\b\b\b\b\b\b\b\b\b\b\b\b\b\b\b\b\b\b\b\b\b\b\b\b\b\b\b\b\b\b\b\b\b\b\b\b\b\b\b\b\b\b\b\b\b\b\b\b\b\b\b\b\b\b\b\b\b\b\b\b\b\b\b\r1500/1500 [==============================] - 151s 101ms/step - loss: 0.0494 - accuracy: 0.9865 - val_loss: 0.3554 - val_accuracy: 0.9173\n",
            "Epoch 26/50\n",
            "1500/1500 [==============================] - 111s 74ms/step - loss: 0.0473 - accuracy: 0.9871 - val_loss: 0.3729 - val_accuracy: 0.9151\n",
            "Epoch 27/50\n",
            "1500/1500 [==============================] - ETA: 0s - loss: 0.0442 - accuracy: 0.9879"
          ]
        },
        {
          "output_type": "stream",
          "name": "stderr",
          "text": [
            "WARNING:absl:Found untraced functions such as lstm_cell_35_layer_call_fn, lstm_cell_35_layer_call_and_return_conditional_losses, lstm_cell_36_layer_call_fn, lstm_cell_36_layer_call_and_return_conditional_losses, lstm_cell_33_layer_call_fn while saving (showing 5 of 30). These functions will not be directly callable after loading.\n"
          ]
        },
        {
          "output_type": "stream",
          "name": "stdout",
          "text": [
            "INFO:tensorflow:Assets written to: drive/MyDrive/Colab Notebooks/AEmodel_lstm_3250_cce/assets\n"
          ]
        },
        {
          "output_type": "stream",
          "name": "stderr",
          "text": [
            "INFO:tensorflow:Assets written to: drive/MyDrive/Colab Notebooks/AEmodel_lstm_3250_cce/assets\n",
            "WARNING:absl:<keras.layers.recurrent.LSTMCell object at 0x7ff0dd66c410> has the same name 'LSTMCell' as a built-in Keras object. Consider renaming <class 'keras.layers.recurrent.LSTMCell'> to avoid naming conflicts when loading with `tf.keras.models.load_model`. If renaming is not possible, pass the object in the `custom_objects` parameter of the load function.\n",
            "WARNING:absl:<keras.layers.recurrent.LSTMCell object at 0x7ff1804ae910> has the same name 'LSTMCell' as a built-in Keras object. Consider renaming <class 'keras.layers.recurrent.LSTMCell'> to avoid naming conflicts when loading with `tf.keras.models.load_model`. If renaming is not possible, pass the object in the `custom_objects` parameter of the load function.\n",
            "WARNING:absl:<keras.layers.recurrent.LSTMCell object at 0x7ff18decf150> has the same name 'LSTMCell' as a built-in Keras object. Consider renaming <class 'keras.layers.recurrent.LSTMCell'> to avoid naming conflicts when loading with `tf.keras.models.load_model`. If renaming is not possible, pass the object in the `custom_objects` parameter of the load function.\n",
            "WARNING:absl:<keras.layers.recurrent.LSTMCell object at 0x7ff0d6dafa10> has the same name 'LSTMCell' as a built-in Keras object. Consider renaming <class 'keras.layers.recurrent.LSTMCell'> to avoid naming conflicts when loading with `tf.keras.models.load_model`. If renaming is not possible, pass the object in the `custom_objects` parameter of the load function.\n",
            "WARNING:absl:<keras.layers.recurrent.LSTMCell object at 0x7ff0e04b5bd0> has the same name 'LSTMCell' as a built-in Keras object. Consider renaming <class 'keras.layers.recurrent.LSTMCell'> to avoid naming conflicts when loading with `tf.keras.models.load_model`. If renaming is not possible, pass the object in the `custom_objects` parameter of the load function.\n",
            "WARNING:absl:<keras.layers.recurrent.LSTMCell object at 0x7ff0e03b9450> has the same name 'LSTMCell' as a built-in Keras object. Consider renaming <class 'keras.layers.recurrent.LSTMCell'> to avoid naming conflicts when loading with `tf.keras.models.load_model`. If renaming is not possible, pass the object in the `custom_objects` parameter of the load function.\n"
          ]
        },
        {
          "output_type": "stream",
          "name": "stdout",
          "text": [
            "1500/1500 [==============================] - 151s 101ms/step - loss: 0.0442 - accuracy: 0.9879 - val_loss: 0.3503 - val_accuracy: 0.9195\n",
            "Epoch 28/50\n",
            "1500/1500 [==============================] - 110s 73ms/step - loss: 0.0433 - accuracy: 0.9879 - val_loss: 0.3524 - val_accuracy: 0.9201\n",
            "Epoch 29/50\n",
            "1500/1500 [==============================] - 110s 73ms/step - loss: 0.0390 - accuracy: 0.9891 - val_loss: 0.3567 - val_accuracy: 0.9190\n",
            "Epoch 30/50\n",
            "1500/1500 [==============================] - 110s 74ms/step - loss: 0.0395 - accuracy: 0.9888 - val_loss: 0.3829 - val_accuracy: 0.9136\n",
            "Epoch 31/50\n",
            "1500/1500 [==============================] - ETA: 0s - loss: 0.0374 - accuracy: 0.9894"
          ]
        },
        {
          "output_type": "stream",
          "name": "stderr",
          "text": [
            "WARNING:absl:Found untraced functions such as lstm_cell_35_layer_call_fn, lstm_cell_35_layer_call_and_return_conditional_losses, lstm_cell_36_layer_call_fn, lstm_cell_36_layer_call_and_return_conditional_losses, lstm_cell_33_layer_call_fn while saving (showing 5 of 30). These functions will not be directly callable after loading.\n"
          ]
        },
        {
          "output_type": "stream",
          "name": "stdout",
          "text": [
            "INFO:tensorflow:Assets written to: drive/MyDrive/Colab Notebooks/AEmodel_lstm_3250_cce/assets\n"
          ]
        },
        {
          "output_type": "stream",
          "name": "stderr",
          "text": [
            "INFO:tensorflow:Assets written to: drive/MyDrive/Colab Notebooks/AEmodel_lstm_3250_cce/assets\n",
            "WARNING:absl:<keras.layers.recurrent.LSTMCell object at 0x7ff0dd66c410> has the same name 'LSTMCell' as a built-in Keras object. Consider renaming <class 'keras.layers.recurrent.LSTMCell'> to avoid naming conflicts when loading with `tf.keras.models.load_model`. If renaming is not possible, pass the object in the `custom_objects` parameter of the load function.\n",
            "WARNING:absl:<keras.layers.recurrent.LSTMCell object at 0x7ff1804ae910> has the same name 'LSTMCell' as a built-in Keras object. Consider renaming <class 'keras.layers.recurrent.LSTMCell'> to avoid naming conflicts when loading with `tf.keras.models.load_model`. If renaming is not possible, pass the object in the `custom_objects` parameter of the load function.\n",
            "WARNING:absl:<keras.layers.recurrent.LSTMCell object at 0x7ff18decf150> has the same name 'LSTMCell' as a built-in Keras object. Consider renaming <class 'keras.layers.recurrent.LSTMCell'> to avoid naming conflicts when loading with `tf.keras.models.load_model`. If renaming is not possible, pass the object in the `custom_objects` parameter of the load function.\n",
            "WARNING:absl:<keras.layers.recurrent.LSTMCell object at 0x7ff0d6dafa10> has the same name 'LSTMCell' as a built-in Keras object. Consider renaming <class 'keras.layers.recurrent.LSTMCell'> to avoid naming conflicts when loading with `tf.keras.models.load_model`. If renaming is not possible, pass the object in the `custom_objects` parameter of the load function.\n",
            "WARNING:absl:<keras.layers.recurrent.LSTMCell object at 0x7ff0e04b5bd0> has the same name 'LSTMCell' as a built-in Keras object. Consider renaming <class 'keras.layers.recurrent.LSTMCell'> to avoid naming conflicts when loading with `tf.keras.models.load_model`. If renaming is not possible, pass the object in the `custom_objects` parameter of the load function.\n",
            "WARNING:absl:<keras.layers.recurrent.LSTMCell object at 0x7ff0e03b9450> has the same name 'LSTMCell' as a built-in Keras object. Consider renaming <class 'keras.layers.recurrent.LSTMCell'> to avoid naming conflicts when loading with `tf.keras.models.load_model`. If renaming is not possible, pass the object in the `custom_objects` parameter of the load function.\n"
          ]
        },
        {
          "output_type": "stream",
          "name": "stdout",
          "text": [
            "\b\b\b\b\b\b\b\b\b\b\b\b\b\b\b\b\b\b\b\b\b\b\b\b\b\b\b\b\b\b\b\b\b\b\b\b\b\b\b\b\b\b\b\b\b\b\b\b\b\b\b\b\b\b\b\b\b\b\b\b\b\b\b\b\b\b\b\b\b\b\b\b\b\b\b\b\b\b\b\b\b\b\b\b\b\b\r1500/1500 [==============================] - 154s 103ms/step - loss: 0.0374 - accuracy: 0.9894 - val_loss: 0.3475 - val_accuracy: 0.9243\n",
            "Epoch 32/50\n",
            "1500/1500 [==============================] - 111s 74ms/step - loss: 0.0369 - accuracy: 0.9895 - val_loss: 0.3508 - val_accuracy: 0.9234\n",
            "Epoch 33/50\n",
            "1500/1500 [==============================] - 111s 74ms/step - loss: 0.0353 - accuracy: 0.9898 - val_loss: 0.3612 - val_accuracy: 0.9215\n",
            "Epoch 34/50\n",
            "1500/1500 [==============================] - 111s 74ms/step - loss: 0.0321 - accuracy: 0.9907 - val_loss: 0.3559 - val_accuracy: 0.9233\n",
            "Epoch 35/50\n",
            "1500/1500 [==============================] - 110s 74ms/step - loss: 0.0315 - accuracy: 0.9908 - val_loss: 0.3495 - val_accuracy: 0.9249\n",
            "Epoch 36/50\n",
            "1500/1500 [==============================] - 110s 73ms/step - loss: 0.0320 - accuracy: 0.9907 - val_loss: 0.3584 - val_accuracy: 0.9220\n",
            "Epoch 37/50\n",
            "1500/1500 [==============================] - 111s 74ms/step - loss: 0.0305 - accuracy: 0.9911 - val_loss: 0.3594 - val_accuracy: 0.9237\n",
            "Epoch 38/50\n",
            "1500/1500 [==============================] - 111s 74ms/step - loss: 0.0298 - accuracy: 0.9913 - val_loss: 0.3734 - val_accuracy: 0.9215\n",
            "Epoch 39/50\n",
            "1500/1500 [==============================] - ETA: 0s - loss: 0.0275 - accuracy: 0.9919"
          ]
        },
        {
          "output_type": "stream",
          "name": "stderr",
          "text": [
            "WARNING:absl:Found untraced functions such as lstm_cell_35_layer_call_fn, lstm_cell_35_layer_call_and_return_conditional_losses, lstm_cell_36_layer_call_fn, lstm_cell_36_layer_call_and_return_conditional_losses, lstm_cell_33_layer_call_fn while saving (showing 5 of 30). These functions will not be directly callable after loading.\n"
          ]
        },
        {
          "output_type": "stream",
          "name": "stdout",
          "text": [
            "INFO:tensorflow:Assets written to: drive/MyDrive/Colab Notebooks/AEmodel_lstm_3250_cce/assets\n"
          ]
        },
        {
          "output_type": "stream",
          "name": "stderr",
          "text": [
            "INFO:tensorflow:Assets written to: drive/MyDrive/Colab Notebooks/AEmodel_lstm_3250_cce/assets\n",
            "WARNING:absl:<keras.layers.recurrent.LSTMCell object at 0x7ff0dd66c410> has the same name 'LSTMCell' as a built-in Keras object. Consider renaming <class 'keras.layers.recurrent.LSTMCell'> to avoid naming conflicts when loading with `tf.keras.models.load_model`. If renaming is not possible, pass the object in the `custom_objects` parameter of the load function.\n",
            "WARNING:absl:<keras.layers.recurrent.LSTMCell object at 0x7ff1804ae910> has the same name 'LSTMCell' as a built-in Keras object. Consider renaming <class 'keras.layers.recurrent.LSTMCell'> to avoid naming conflicts when loading with `tf.keras.models.load_model`. If renaming is not possible, pass the object in the `custom_objects` parameter of the load function.\n",
            "WARNING:absl:<keras.layers.recurrent.LSTMCell object at 0x7ff18decf150> has the same name 'LSTMCell' as a built-in Keras object. Consider renaming <class 'keras.layers.recurrent.LSTMCell'> to avoid naming conflicts when loading with `tf.keras.models.load_model`. If renaming is not possible, pass the object in the `custom_objects` parameter of the load function.\n",
            "WARNING:absl:<keras.layers.recurrent.LSTMCell object at 0x7ff0d6dafa10> has the same name 'LSTMCell' as a built-in Keras object. Consider renaming <class 'keras.layers.recurrent.LSTMCell'> to avoid naming conflicts when loading with `tf.keras.models.load_model`. If renaming is not possible, pass the object in the `custom_objects` parameter of the load function.\n",
            "WARNING:absl:<keras.layers.recurrent.LSTMCell object at 0x7ff0e04b5bd0> has the same name 'LSTMCell' as a built-in Keras object. Consider renaming <class 'keras.layers.recurrent.LSTMCell'> to avoid naming conflicts when loading with `tf.keras.models.load_model`. If renaming is not possible, pass the object in the `custom_objects` parameter of the load function.\n",
            "WARNING:absl:<keras.layers.recurrent.LSTMCell object at 0x7ff0e03b9450> has the same name 'LSTMCell' as a built-in Keras object. Consider renaming <class 'keras.layers.recurrent.LSTMCell'> to avoid naming conflicts when loading with `tf.keras.models.load_model`. If renaming is not possible, pass the object in the `custom_objects` parameter of the load function.\n"
          ]
        },
        {
          "output_type": "stream",
          "name": "stdout",
          "text": [
            "\b\b\b\b\b\b\b\b\b\b\b\b\b\b\b\b\b\b\b\b\b\b\b\b\b\b\b\b\b\b\b\b\b\b\b\b\b\b\b\b\b\b\b\b\b\b\b\b\b\b\b\b\b\b\b\b\b\b\b\b\b\b\b\b\b\b\b\b\b\b\b\b\b\b\b\b\b\b\b\b\b\b\b\b\b\b\r1500/1500 [==============================] - 154s 103ms/step - loss: 0.0275 - accuracy: 0.9919 - val_loss: 0.3401 - val_accuracy: 0.9263\n",
            "Epoch 40/50\n",
            "1500/1500 [==============================] - 111s 74ms/step - loss: 0.0281 - accuracy: 0.9918 - val_loss: 0.3504 - val_accuracy: 0.9247\n",
            "Epoch 41/50\n",
            "1500/1500 [==============================] - 110s 74ms/step - loss: 0.0273 - accuracy: 0.9921 - val_loss: 0.3612 - val_accuracy: 0.9249\n",
            "Epoch 42/50\n",
            "1500/1500 [==============================] - 111s 74ms/step - loss: 0.0269 - accuracy: 0.9920 - val_loss: 0.3666 - val_accuracy: 0.9230\n",
            "Epoch 43/50\n",
            "1500/1500 [==============================] - 111s 74ms/step - loss: 0.0252 - accuracy: 0.9925 - val_loss: 0.3599 - val_accuracy: 0.9256\n",
            "Epoch 44/50\n",
            "1500/1500 [==============================] - 112s 75ms/step - loss: 0.0259 - accuracy: 0.9922 - val_loss: 0.3679 - val_accuracy: 0.9239\n",
            "Epoch 45/50\n",
            "1500/1500 [==============================] - 111s 74ms/step - loss: 0.0235 - accuracy: 0.9931 - val_loss: 0.3661 - val_accuracy: 0.9241\n",
            "Epoch 46/50\n",
            "1500/1500 [==============================] - 111s 74ms/step - loss: 0.0243 - accuracy: 0.9927 - val_loss: 0.3442 - val_accuracy: 0.9292\n",
            "Epoch 47/50\n",
            "1500/1500 [==============================] - 111s 74ms/step - loss: 0.0242 - accuracy: 0.9927 - val_loss: 0.3515 - val_accuracy: 0.9290\n",
            "Epoch 48/50\n",
            "1500/1500 [==============================] - 110s 73ms/step - loss: 0.0230 - accuracy: 0.9931 - val_loss: 0.3598 - val_accuracy: 0.9263\n",
            "Epoch 49/50\n",
            "1500/1500 [==============================] - 111s 74ms/step - loss: 0.0220 - accuracy: 0.9934 - val_loss: 0.4084 - val_accuracy: 0.9189\n",
            "Epoch 50/50\n",
            "1500/1500 [==============================] - 112s 74ms/step - loss: 0.0222 - accuracy: 0.9933 - val_loss: 0.3744 - val_accuracy: 0.9240\n"
          ]
        }
      ]
    },
    {
      "cell_type": "code",
      "metadata": {
        "id": "B38ussjDYhkF",
        "colab": {
          "base_uri": "https://localhost:8080/",
          "height": 573
        },
        "outputId": "abab7175-2ab0-451f-cf33-860af79aba5b"
      },
      "source": [
        "from matplotlib import pyplot as plt\n",
        "\n",
        "# plot loss and accuracy and save them\n",
        "plt.plot(history.history['accuracy']) \n",
        "plt.plot(history.history['val_accuracy'])\n",
        "plt.title('model accuracy')\n",
        "plt.ylabel('accuracy')\n",
        "plt.xlabel('epoch')\n",
        "plt.legend(['train', 'val'], loc='upper left')\n",
        "plt.savefig(PLOT_PATH.format('AE_accuracy'))\n",
        "plt.show()\n",
        "\n",
        "plt.plot(history.history['loss'])\n",
        "plt.plot(history.history['val_loss'])\n",
        "plt.title('model loss')\n",
        "plt.ylabel('loss')\n",
        "plt.xlabel('epoch')\n",
        "plt.legend(['train', 'val'], loc='upper left')\n",
        "plt.savefig(PLOT_PATH.format('AE_loss'))\n",
        "plt.show()"
      ],
      "execution_count": 19,
      "outputs": [
        {
          "output_type": "display_data",
          "data": {
            "image/png": "[encoded data removed]",
            "text/plain": [
              "<Figure size 432x288 with 1 Axes>"
            ]
          },
          "metadata": {
            "needs_background": "light"
          }
        },
        {
          "output_type": "display_data",
          "data": {
            "image/png": "[encoded data removed]",
            "text/plain": [
              "<Figure size 432x288 with 1 Axes>"
            ]
          },
          "metadata": {
            "needs_background": "light"
          }
        }
      ]
    },
    {
      "cell_type": "markdown",
      "metadata": {
        "id": "6kdz8gqkaUmG"
      },
      "source": [
        "As we can see, training data accuracy is good, but validation accuracy is relatively low.\n",
        "<br><br>\n",
        "\n",
        "Low validation accuracy (92-95%) might not be caused by LSTMs inability to encode and decode data, but by final softmax layer or significant differences in training and validation set.\n",
        "<br> In GAN training we are mostly interested in generator generating values similar to training set so, if its working well, decoding accuracy of generated samples might be closer to training set accuracy (>99%)\n",
        "<br>\n",
        "For purposes of this excercise this is enough."
      ]
    },
    {
      "cell_type": "markdown",
      "metadata": {
        "id": "I2SWYFZ3xYiX"
      },
      "source": [
        "**Autoencoder test**"
      ]
    },
    {
      "cell_type": "code",
      "metadata": {
        "id": "NDIOZHGuft8D"
      },
      "source": [
        "from keras import *\n",
        "import keras.backend as K\n",
        "from keras.layers import *\n",
        "from keras.models import load_model\n",
        "\n",
        "# load model\n",
        "def load_autoencoder(path):\n",
        "      model = load_model(path)\n",
        "\n",
        "      # split into encoder and decoder\n",
        "      encoder = Model(model.input, model.get_layer('encoder').output)\n",
        "      decoder = Model(model.get_layer('decoder_input').input, model.get_layer('decoder').output)\n",
        "\n",
        "      # add Argmax layer to decoder to convert results to real one-hot encoding\n",
        "      one_hot_to_index = Lambda(lambda x: K.cast(K.argmax(x), dtype='float32'))(decoder.output)\n",
        "      decoder = Model(decoder.input, one_hot_to_index)\n",
        "      return (encoder, decoder, model)\n",
        "\n",
        "(enc, dec, model) = load_autoencoder(AE_MODEL_PATH)"
      ],
      "execution_count": 20,
      "outputs": []
    },
    {
      "cell_type": "markdown",
      "metadata": {
        "id": "PG2BWybRN2dl"
      },
      "source": [
        "As You can see below, autoencoder works pretty well.<br>\n",
        "There are some OOV tokens which implies too small vocabulary size.\n",
        "<br>\n",
        "Increasing vocabulary impacts learning abilities so we might need to deepen AE architecture by i.e. another Dense layer or stack more LSTMs.\n"
      ]
    },
    {
      "cell_type": "code",
      "metadata": {
        "id": "mQJHBIUxfzbT",
        "colab": {
          "base_uri": "https://localhost:8080/"
        },
        "outputId": "3bba601c-7e22-4ef7-a571-338ea592b13b"
      },
      "source": [
        "from tensorflow.keras.utils import to_categorical\n",
        "\n",
        "# prints input and predicted sentence\n",
        "def print_test(seq):\n",
        "    seq = seq.reshape(1, 20)\n",
        "    predicted = model.predict(seq)\n",
        "    predicted = np.argmax(predicted, axis=2) # convert one-hot to standard encoding\n",
        "    \n",
        "    print(\"IN SENTENCE         {}\".format(' '.join(dataLoader.tokenizer.sequences_to_texts(seq))))\n",
        "    print(\"PREDICTED SENTENCE  {}\".format(' '.join(dataLoader.tokenizer.sequences_to_texts(predicted))))\n",
        "    print(\"----------------------------\")\n",
        "\n",
        "print_test(data[6])\n",
        "print_test(data[12])\n",
        "print_test(data[19])\n",
        "print_test(data[21])\n",
        "print_test(data[28])\n",
        "print_test(data[40071])\n",
        "print_test(data[40051])\n",
        "print_test(data[49998]) # validation set\n",
        "print_test(data[49988])"
      ],
      "execution_count": 34,
      "outputs": [
        {
          "output_type": "stream",
          "name": "stdout",
          "text": [
            "IN SENTENCE         maybe they just weren't asked . or perhaps i suspect they actually read the script . stick to the original\n",
            "PREDICTED SENTENCE  maybe they just weren't asked . or perhaps i suspect they actually read the script . stick to the original\n",
            "----------------------------\n",
            "IN SENTENCE         parents finally get tired of it i found 3 times in one day to be a little too much .\n",
            "PREDICTED SENTENCE  parents finally get tired of it i found 3 times in one day to be a little too much .\n",
            "----------------------------\n",
            "IN SENTENCE         the first episode only . one only can hope the second will be better but don't bet on it .\n",
            "PREDICTED SENTENCE  the first episode only . one only can hope the second will be better but don't smile on it .\n",
            "----------------------------\n",
            "IN SENTENCE         was a really horrible movie . i only paid one dollar to rent it but even that was too much\n",
            "PREDICTED SENTENCE  was a really horrible movie . i only paid one dollar to rent it but even that was too much\n",
            "----------------------------\n",
            "IN SENTENCE         brings character's voices and much more . if you're a fan of south park i highly recommend you this .\n",
            "PREDICTED SENTENCE  brings character's voices and much more . if you're a fan of south park i highly recommend you this .\n",
            "----------------------------\n",
            "IN SENTENCE         be the same oh i love that movie <OOV> to this as there is now for the princess <OOV> .\n",
            "PREDICTED SENTENCE  be the same oh i love that movie <OOV> to this as there is now for the princess <OOV> .\n",
            "----------------------------\n",
            "IN SENTENCE         a <OOV> of somewhat <OOV> actors . but trust me when i say this things went wrong very wrong .\n",
            "PREDICTED SENTENCE  a <OOV> of somewhat <OOV> actors . but trust me when i say this things went wrong very wrong .\n",
            "----------------------------\n",
            "IN SENTENCE         film where the name of <OOV> <OOV> has been <OOV> on just to sell more <OOV> and more videos .\n",
            "PREDICTED SENTENCE  film where the name of <OOV> <OOV> has been <OOV> on just to sell more <OOV> and more substance .\n",
            "----------------------------\n",
            "IN SENTENCE         its good film . i'd take a pass unless it's late at night and you're <OOV> it on cable .\n",
            "PREDICTED SENTENCE  its good film . i'd take a pass unless it's late at night and i'd <OOV> it on cable .\n",
            "----------------------------\n"
          ]
        }
      ]
    }
  ]
}